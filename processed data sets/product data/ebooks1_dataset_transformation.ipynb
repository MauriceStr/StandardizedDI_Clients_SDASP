{
 "cells": [
  {
   "cell_type": "code",
   "execution_count": 3,
   "metadata": {},
   "outputs": [],
   "source": [
    "import os\n",
    "import pandas as pd\n",
    "pd.options.display.float_format = '{:20,.2f}'.format\n",
    "pd.set_option('display.max_rows', 5000)\n",
    "pd.set_option('display.max_columns', 5000)\n",
    "pd.set_option('display.width', 1000)\n",
    "pd.set_option('display.max_colwidth', -1)"
   ]
  },
  {
   "cell_type": "markdown",
   "metadata": {},
   "source": [
    "# Ebooks 1 - 784 Datasets ID 12\n",
    "#https://sites.google.com/site/anhaidgroup/useful-stuff/data"
   ]
  },
  {
   "cell_type": "code",
   "execution_count": 6,
   "metadata": {},
   "outputs": [],
   "source": [
    "ebooks1_path = (r'/home/ubuntu/jupyter/ServerX/1_Standard Data Integration/Sample Datasets'\n",
    "                r'/Unprocessed Data/product_samples/ebooks1')\n",
    "ebooks1_fields = ['record_id', 'title', 'description','publisher', 'price']"
   ]
  },
  {
   "cell_type": "markdown",
   "metadata": {},
   "source": [
    "## Dataset 1 - Ebooks"
   ]
  },
  {
   "cell_type": "code",
   "execution_count": 127,
   "metadata": {},
   "outputs": [],
   "source": [
    "raw_ebooks = pd.read_csv(os.path.join(ebooks1_path, 'ebooks.csv'))"
   ]
  },
  {
   "cell_type": "code",
   "execution_count": 128,
   "metadata": {},
   "outputs": [
    {
     "data": {
      "text/plain": [
       "Index(['record_id', 'ISBN', 'description', 'price', 'date', 'publisher', 'review_count', 'title', 'rating_value', 'author', 'length', 'short_description'], dtype='object')"
      ]
     },
     "execution_count": 128,
     "metadata": {},
     "output_type": "execute_result"
    }
   ],
   "source": [
    "raw_ebooks.columns"
   ]
  },
  {
   "cell_type": "code",
   "execution_count": 78,
   "metadata": {},
   "outputs": [],
   "source": [
    "ebooks_data = pd.read_csv(\n",
    "    os.path.join(ebooks1_path, 'ebooks.csv'), \n",
    "    sep = ',',\n",
    "    usecols = ebooks1_fields,\n",
    "    index_col = None,\n",
    ")#[ebooks1_fields]"
   ]
  },
  {
   "cell_type": "code",
   "execution_count": 79,
   "metadata": {},
   "outputs": [],
   "source": [
    "ebooks_data.rename(\n",
    "    columns = {\n",
    "        'title' : 'name',\n",
    "        'publisher': 'producer',\n",
    "    },\n",
    "    inplace = True\n",
    ")"
   ]
  },
  {
   "cell_type": "code",
   "execution_count": 80,
   "metadata": {},
   "outputs": [
    {
     "data": {
      "text/plain": [
       "Index(['record_id', 'name', 'description', 'producer', 'price'], dtype='object')"
      ]
     },
     "execution_count": 80,
     "metadata": {},
     "output_type": "execute_result"
    }
   ],
   "source": [
    "ebooks_data.columns"
   ]
  },
  {
   "cell_type": "code",
   "execution_count": 37,
   "metadata": {
    "scrolled": true
   },
   "outputs": [
    {
     "data": {
      "text/html": [
       "<div>\n",
       "<style scoped>\n",
       "    .dataframe tbody tr th:only-of-type {\n",
       "        vertical-align: middle;\n",
       "    }\n",
       "\n",
       "    .dataframe tbody tr th {\n",
       "        vertical-align: top;\n",
       "    }\n",
       "\n",
       "    .dataframe thead th {\n",
       "        text-align: right;\n",
       "    }\n",
       "</style>\n",
       "<table border=\"1\" class=\"dataframe\">\n",
       "  <thead>\n",
       "    <tr style=\"text-align: right;\">\n",
       "      <th></th>\n",
       "      <th>record_id</th>\n",
       "      <th>name</th>\n",
       "      <th>description</th>\n",
       "      <th>producer</th>\n",
       "      <th>price</th>\n",
       "    </tr>\n",
       "  </thead>\n",
       "  <tbody>\n",
       "    <tr>\n",
       "      <th>0</th>\n",
       "      <td>1</td>\n",
       "      <td>A Healthy Guide to Sport</td>\n",
       "      <td>This book provides a comprehensive plan that helps parents guide their children toward a healthy love of sports. It will show parents, and their kids, how to get involved in triathlon and other \"lifestyle\" sports that can be pursued for a lifetime. Triathlon is a fantastic endeavor for children because it promotes involvement in three \"lifestyle\" sports. No matter what the age, children who develop some skills in swimming, biking and running will be able to pursue any sport they would like when they are older. Sport should be the most enjoyable (and educational) activity our children get to do. It should provide them with a positive feeling about themselves. It should teach them that they can improve themselves in all endeavors of life by working hard and persevering. It should teach them about the benefits of working as part of a team or training group. It should show them how much they gain in life by striving to achieve their goals. It should help them become good people. A Healthy Guide to Sport will offer parents and children a plan to help them achieve all that. ReiheIronman - Band 4\\n less</td>\n",
       "      <td>Meyer &amp; Meyer</td>\n",
       "      <td>17.29</td>\n",
       "    </tr>\n",
       "    <tr>\n",
       "      <th>1</th>\n",
       "      <td>2</td>\n",
       "      <td>Triathlon - Das ideale Wettkampfgewicht</td>\n",
       "      <td>Triathleten wollen nicht nur schnell sein, sie wollen auch schnell aussehen. Ihr schlankes und durchtrainiertes Aussehen ist eine wichtige Quelle der Motivation. Der Körper eines erfolgreichen Triathleten inspiriert nicht nur den Sportler selbst, sondern auch andere Hobbysportler.Dieses aufschlussreiche und gut recherchierte Buch ist besonders für Athleten geschrieben, die durch Training alleine nicht schlank werden oder schlank bleiben können. Sein Erfolgsrezept ist die Kombination von traditionellen Gewichtsreduktionstechniken mit täglichem Training und dem natürlichen Ehrgeiz eines Athleten. Es bietet Strategien für verschiedene Ernährungsstile an und beachtet dabei die unterschiedlichen Anforderungen von männlichen und weiblichen Sportlern. Es beachtet die Wichtigkeit eines niedrigen Körperfettanteils für Triathleten und beschreibt die Anwendung von Programmen zur Körperfettbestimmung. Die Anwendung dieser Programme hilft dem Athleten, sein Gewicht langfristig zu kontrollieren. Biographische InformationenIngrid Loos Miller ist eine von der USAT (USATriathlon) zertifizierte Trainerin und Sporternährungsberaterin. Als Teamtrainerin für das Weight Watchers® Momentum Challenge half sie Athleten und Nicht-Athleten gleichermaßen, ihr Gewicht zu reduzieren. Sie lehrt Motivations- und Konzentrationsstrategien, die nötig sind, um Ziele zu erreichen, und zeigt die Mittel und täglichen Übungen auf, die eine dauerhafte Gewichtskontrolle endlich wahr werden lassen. Sie wurde Ironwoman und steht in Triathlons regelmäßig auf dem Treppchen, doch ihr größter persönlicher Erfolg ist, dass sie ihre Gewichtsprobleme überwunden hat. Sie hat für Trail Runner Magazine geschrieben sowie das Triathlete Magazine, Marathon und Beyond and BeginnerTriathlete.com. Im Meyer &amp; Meyer Sportverlag erschien u. a. ihr  Buch: \"Ironplanner: Iron-Distance Organizer for Triathletes\". ReiheIronman Edition - Band 8\\n less</td>\n",
       "      <td>Meyer &amp; Meyer</td>\n",
       "      <td>14.30</td>\n",
       "    </tr>\n",
       "    <tr>\n",
       "      <th>2</th>\n",
       "      <td>3</td>\n",
       "      <td>Verausgabungsbereitschaft und Overconformity im Kontext von Verletzungen im Sport</td>\n",
       "      <td>Verletzungen sind im Sport allgegenwärtig. Das Buch bietet zunächst einen Überblick über die Bedeutsamkeit von Verletzungsereignissen im Sport sowie sportpsychologische Modelle zu deren Erklärung und Prävention. Es wird die Bedeutung psycho-sozialer Wechselwirkungen herausgearbeitet und in eine Forschungskonzeption übergeführt. In drei empirischen Studien wird das Konzept der Overconformity to the sport ethics unter besonderer Berücksichtigung der exzessiven Verausgabungsbereitschaft untersucht. Overconformity spiegelt ein komplexes Einstellungsmuster wider, das sich in einem Übererfüllen impliziter sozialer Normen (z.B. \"im Sport muss man immer alles geben\"), gepaart mit einem hohen sozialen Statusstreben und dem Wunsch nach sozialer (?) Anerkennung äußert. Die Befunde der empirischen Studien zeigen auf, dass die Konzepte zur exzessiven Verausgabungsbereitschaft und zur Overconformity eine wertvolle Bereicherung der psychologischen Sportverletzungsforschung darstellen. Sie tragen einen substanziellen Beitrag zur Erklärung von Verletzungsereignissen im Sport bei. Differenzielle Effekte in verschiedenen Stichproben unterstreichen die Bedeutsamkeit des sozialen Umfelds und eröffnen neue Perspektiven in der Sportverletzungsforschung. Biographische InformationenAss. Prof. Dr. Sabine Würth studierte Psychologie und im Nachbarfach Sportwissenschaften an den Universitäten Eichstätt und Konstanz. Sie promovierte an der Fakultät für Biowissenschaften, Pharmazie und Psychologie der Universität Leipzig zur Rolle der Eltern im Nachwuchsleistungssport. Von 2006 bis 2011 leitete sie die Abteilung Sportpsychologie an der Universität Wien. Seit Oktober 2011 ist sie Mitarbeiterin des Interfakultären Fachbereichs für Sport- und Bewegungswissenschaft der Universität Salzburg. Ihre Lehr- und Forschungsschwerpunkte liegen auf entwicklungs- und sozialpsychologischen Phänomenen des Sports. ReiheSpektrum Bewegungswissenschaft - Band 8\\n less</td>\n",
       "      <td>Meyer &amp; Meyer</td>\n",
       "      <td>17.17</td>\n",
       "    </tr>\n",
       "    <tr>\n",
       "      <th>3</th>\n",
       "      <td>4</td>\n",
       "      <td>Secrets of Winning Coaches Revealed</td>\n",
       "      <td>Discover the winning secrets to peak performance in the National Bestselling and 2nd Edition book, Secrets of Winning Coaches Revealed. The first in a series of books, it imparts the collective wisdom of Australia?s finest coaches using their personal stories and insights.The book is aimed at athletes, sports parents, teachers, coaches and business leaders and focuses specifically on key personal and developmental insights which aim to fast track a young athlete to individual excellence not only in their sport but in life. Some of the coaches featured include: Wayne Bennett (rugby league), Norma Plummer (netball), Lindsay Gaze (basketball), Frank Farina (soccer) Ric Charlesworth (hockey), Rod Macqueen (rugby union), Ron Barassi (AFL), Laurie Lawrence (swimming) and many more.Whether you want to create a winning environment in sport or business, you can learn from the ?master? coaches who have nurtured success attributes in athletes and managed to foster environments of success and have taken athletes to the limits of their ability.\\n less</td>\n",
       "      <td>SBPRA</td>\n",
       "      <td>2.99</td>\n",
       "    </tr>\n",
       "    <tr>\n",
       "      <th>4</th>\n",
       "      <td>5</td>\n",
       "      <td>The Complete Book of Triathlon Training</td>\n",
       "      <td>This book tells you everything you need to know about triathlon, whether you be a sporting novice or an elite athlete in another sport. It tells you how to get started - what equipment to buy, the diet you will need, how to devise a training routine and how to arrange your busy life in order to accommodate it - and then explains how to finish a race, as well as how to recover from it. This book will tell you how to be the best that you can be in triathlon - not necessarily by training harder, but by training smarter.training stress-level-points systemEvery aspect of your life has the potential to affect your mental and physical performance, and you need to take this into account when devising your training in order to avoid both over-training and under-training. The author's system for monitoring training-stress levels which he has been successfully using for many years, is unique to him but is revealed in this book. Use it and you can achieve your optimum performance. Biographische InformationenWhile his first competitive experience was finishing last in a school cross-country race, over the past 30 years Mark has crossed the finish line in over 1,000 races worldwide. Although he once came second in a marathon, his strength has always been in multi-sport events, where his wins have been numerous. He has completed a massive total of 400 triathlons, including 32 Ironman® events. He once won one triathlon in the morning and then came second in another in the afternoon.Mark has won many national triathlon medals and has represented his country as an elite triathlete and now as an age-group competitor. He started coaching in 1998 and has helped triathletes at every level - from first-timers to age-group competitors to elite athletes. He is qualified to British triathlon coaching levels one and two.Mark Kleanthous is a qualified triathlon coach. He does Swim Bike Run Coaching &amp; analysis, Individual Training Programmes &amp; Sports Nutrition advice. He can be contacted at markkleanthouscoaching@gmail.com or swimbikeruncoaching@gmail.com ReiheIronman - Band 13\\n less</td>\n",
       "      <td>Meyer &amp; Meyer</td>\n",
       "      <td>15.26</td>\n",
       "    </tr>\n",
       "  </tbody>\n",
       "</table>\n",
       "</div>"
      ],
      "text/plain": [
       "   record_id                                                                               name  \\\n",
       "0  1          A Healthy Guide to Sport                                                            \n",
       "1  2          Triathlon - Das ideale Wettkampfgewicht                                             \n",
       "2  3          Verausgabungsbereitschaft und Overconformity im Kontext von Verletzungen im Sport   \n",
       "3  4          Secrets of Winning Coaches Revealed                                                 \n",
       "4  5          The Complete Book of Triathlon Training                                             \n",
       "\n",
       "                                                                                                                                                                                                                                                                                                                                                                                                                                                                                                                                                                                                                                                                                                                                                                                                                                                                                                                                                                                                                                                                                                                                                                                                                                                                                                                                                                                                                                                                                                                                                                                                                                                                                                                                                                                                                                                                                                                                                                                                                                                                                                                                                                    description  \\\n",
       "0  This book provides a comprehensive plan that helps parents guide their children toward a healthy love of sports. It will show parents, and their kids, how to get involved in triathlon and other \"lifestyle\" sports that can be pursued for a lifetime. Triathlon is a fantastic endeavor for children because it promotes involvement in three \"lifestyle\" sports. No matter what the age, children who develop some skills in swimming, biking and running will be able to pursue any sport they would like when they are older. Sport should be the most enjoyable (and educational) activity our children get to do. It should provide them with a positive feeling about themselves. It should teach them that they can improve themselves in all endeavors of life by working hard and persevering. It should teach them about the benefits of working as part of a team or training group. It should show them how much they gain in life by striving to achieve their goals. It should help them become good people. A Healthy Guide to Sport will offer parents and children a plan to help them achieve all that. ReiheIronman - Band 4\\n less                                                                                                                                                                                                                                                                                                                                                                                                                                                                                                                                                                                                                                                                                                                                                                                                                                                                                                                                                                                                                      \n",
       "1  Triathleten wollen nicht nur schnell sein, sie wollen auch schnell aussehen. Ihr schlankes und durchtrainiertes Aussehen ist eine wichtige Quelle der Motivation. Der Körper eines erfolgreichen Triathleten inspiriert nicht nur den Sportler selbst, sondern auch andere Hobbysportler.Dieses aufschlussreiche und gut recherchierte Buch ist besonders für Athleten geschrieben, die durch Training alleine nicht schlank werden oder schlank bleiben können. Sein Erfolgsrezept ist die Kombination von traditionellen Gewichtsreduktionstechniken mit täglichem Training und dem natürlichen Ehrgeiz eines Athleten. Es bietet Strategien für verschiedene Ernährungsstile an und beachtet dabei die unterschiedlichen Anforderungen von männlichen und weiblichen Sportlern. Es beachtet die Wichtigkeit eines niedrigen Körperfettanteils für Triathleten und beschreibt die Anwendung von Programmen zur Körperfettbestimmung. Die Anwendung dieser Programme hilft dem Athleten, sein Gewicht langfristig zu kontrollieren. Biographische InformationenIngrid Loos Miller ist eine von der USAT (USATriathlon) zertifizierte Trainerin und Sporternährungsberaterin. Als Teamtrainerin für das Weight Watchers® Momentum Challenge half sie Athleten und Nicht-Athleten gleichermaßen, ihr Gewicht zu reduzieren. Sie lehrt Motivations- und Konzentrationsstrategien, die nötig sind, um Ziele zu erreichen, und zeigt die Mittel und täglichen Übungen auf, die eine dauerhafte Gewichtskontrolle endlich wahr werden lassen. Sie wurde Ironwoman und steht in Triathlons regelmäßig auf dem Treppchen, doch ihr größter persönlicher Erfolg ist, dass sie ihre Gewichtsprobleme überwunden hat. Sie hat für Trail Runner Magazine geschrieben sowie das Triathlete Magazine, Marathon und Beyond and BeginnerTriathlete.com. Im Meyer & Meyer Sportverlag erschien u. a. ihr  Buch: \"Ironplanner: Iron-Distance Organizer for Triathletes\". ReiheIronman Edition - Band 8\\n less                                                                                                                                                                                   \n",
       "2  Verletzungen sind im Sport allgegenwärtig. Das Buch bietet zunächst einen Überblick über die Bedeutsamkeit von Verletzungsereignissen im Sport sowie sportpsychologische Modelle zu deren Erklärung und Prävention. Es wird die Bedeutung psycho-sozialer Wechselwirkungen herausgearbeitet und in eine Forschungskonzeption übergeführt. In drei empirischen Studien wird das Konzept der Overconformity to the sport ethics unter besonderer Berücksichtigung der exzessiven Verausgabungsbereitschaft untersucht. Overconformity spiegelt ein komplexes Einstellungsmuster wider, das sich in einem Übererfüllen impliziter sozialer Normen (z.B. \"im Sport muss man immer alles geben\"), gepaart mit einem hohen sozialen Statusstreben und dem Wunsch nach sozialer (?) Anerkennung äußert. Die Befunde der empirischen Studien zeigen auf, dass die Konzepte zur exzessiven Verausgabungsbereitschaft und zur Overconformity eine wertvolle Bereicherung der psychologischen Sportverletzungsforschung darstellen. Sie tragen einen substanziellen Beitrag zur Erklärung von Verletzungsereignissen im Sport bei. Differenzielle Effekte in verschiedenen Stichproben unterstreichen die Bedeutsamkeit des sozialen Umfelds und eröffnen neue Perspektiven in der Sportverletzungsforschung. Biographische InformationenAss. Prof. Dr. Sabine Würth studierte Psychologie und im Nachbarfach Sportwissenschaften an den Universitäten Eichstätt und Konstanz. Sie promovierte an der Fakultät für Biowissenschaften, Pharmazie und Psychologie der Universität Leipzig zur Rolle der Eltern im Nachwuchsleistungssport. Von 2006 bis 2011 leitete sie die Abteilung Sportpsychologie an der Universität Wien. Seit Oktober 2011 ist sie Mitarbeiterin des Interfakultären Fachbereichs für Sport- und Bewegungswissenschaft der Universität Salzburg. Ihre Lehr- und Forschungsschwerpunkte liegen auf entwicklungs- und sozialpsychologischen Phänomenen des Sports. ReiheSpektrum Bewegungswissenschaft - Band 8\\n less                                                                                                                                                \n",
       "3  Discover the winning secrets to peak performance in the National Bestselling and 2nd Edition book, Secrets of Winning Coaches Revealed. The first in a series of books, it imparts the collective wisdom of Australia?s finest coaches using their personal stories and insights.The book is aimed at athletes, sports parents, teachers, coaches and business leaders and focuses specifically on key personal and developmental insights which aim to fast track a young athlete to individual excellence not only in their sport but in life. Some of the coaches featured include: Wayne Bennett (rugby league), Norma Plummer (netball), Lindsay Gaze (basketball), Frank Farina (soccer) Ric Charlesworth (hockey), Rod Macqueen (rugby union), Ron Barassi (AFL), Laurie Lawrence (swimming) and many more.Whether you want to create a winning environment in sport or business, you can learn from the ?master? coaches who have nurtured success attributes in athletes and managed to foster environments of success and have taken athletes to the limits of their ability.\\n less                                                                                                                                                                                                                                                                                                                                                                                                                                                                                                                                                                                                                                                                                                                                                                                                                                                                                                                                                                                                                                                                                 \n",
       "4  This book tells you everything you need to know about triathlon, whether you be a sporting novice or an elite athlete in another sport. It tells you how to get started - what equipment to buy, the diet you will need, how to devise a training routine and how to arrange your busy life in order to accommodate it - and then explains how to finish a race, as well as how to recover from it. This book will tell you how to be the best that you can be in triathlon - not necessarily by training harder, but by training smarter.training stress-level-points systemEvery aspect of your life has the potential to affect your mental and physical performance, and you need to take this into account when devising your training in order to avoid both over-training and under-training. The author's system for monitoring training-stress levels which he has been successfully using for many years, is unique to him but is revealed in this book. Use it and you can achieve your optimum performance. Biographische InformationenWhile his first competitive experience was finishing last in a school cross-country race, over the past 30 years Mark has crossed the finish line in over 1,000 races worldwide. Although he once came second in a marathon, his strength has always been in multi-sport events, where his wins have been numerous. He has completed a massive total of 400 triathlons, including 32 Ironman® events. He once won one triathlon in the morning and then came second in another in the afternoon.Mark has won many national triathlon medals and has represented his country as an elite triathlete and now as an age-group competitor. He started coaching in 1998 and has helped triathletes at every level - from first-timers to age-group competitors to elite athletes. He is qualified to British triathlon coaching levels one and two.Mark Kleanthous is a qualified triathlon coach. He does Swim Bike Run Coaching & analysis, Individual Training Programmes & Sports Nutrition advice. He can be contacted at markkleanthouscoaching@gmail.com or swimbikeruncoaching@gmail.com ReiheIronman - Band 13\\n less   \n",
       "\n",
       "        producer                price  \n",
       "0  Meyer & Meyer                17.29  \n",
       "1  Meyer & Meyer                14.30  \n",
       "2  Meyer & Meyer                17.17  \n",
       "3  SBPRA                         2.99  \n",
       "4  Meyer & Meyer                15.26  "
      ]
     },
     "execution_count": 37,
     "metadata": {},
     "output_type": "execute_result"
    }
   ],
   "source": [
    "ebooks_data.head()"
   ]
  },
  {
   "cell_type": "markdown",
   "metadata": {},
   "source": [
    "## Dataset 2 - iTunes"
   ]
  },
  {
   "cell_type": "code",
   "execution_count": 4,
   "metadata": {},
   "outputs": [],
   "source": [
    "import pandas as pd\n",
    "import os"
   ]
  },
  {
   "cell_type": "code",
   "execution_count": 7,
   "metadata": {},
   "outputs": [],
   "source": [
    "itunes_data = pd.read_csv(\n",
    "    os.path.join(ebooks1_path,'itunes.csv'), \n",
    "    sep = ',',\n",
    "    usecols = ebooks1_fields,\n",
    ")#[ebooks1_fields]"
   ]
  },
  {
   "cell_type": "code",
   "execution_count": 8,
   "metadata": {},
   "outputs": [
    {
     "data": {
      "text/plain": [
       "Index(['record_id', 'publisher', 'description', 'title', 'price'], dtype='object')"
      ]
     },
     "execution_count": 8,
     "metadata": {},
     "output_type": "execute_result"
    }
   ],
   "source": [
    "itunes_data.columns"
   ]
  },
  {
   "cell_type": "code",
   "execution_count": 39,
   "metadata": {},
   "outputs": [],
   "source": [
    "itunes_data.rename(\n",
    "    columns = {\n",
    "        'title' : 'name',\n",
    "        'publisher': 'producer',\n",
    "    },\n",
    "    inplace = True\n",
    ")"
   ]
  },
  {
   "cell_type": "code",
   "execution_count": 40,
   "metadata": {},
   "outputs": [
    {
     "data": {
      "text/html": [
       "<div>\n",
       "<style scoped>\n",
       "    .dataframe tbody tr th:only-of-type {\n",
       "        vertical-align: middle;\n",
       "    }\n",
       "\n",
       "    .dataframe tbody tr th {\n",
       "        vertical-align: top;\n",
       "    }\n",
       "\n",
       "    .dataframe thead th {\n",
       "        text-align: right;\n",
       "    }\n",
       "</style>\n",
       "<table border=\"1\" class=\"dataframe\">\n",
       "  <thead>\n",
       "    <tr style=\"text-align: right;\">\n",
       "      <th></th>\n",
       "      <th>record_id</th>\n",
       "      <th>name</th>\n",
       "      <th>description</th>\n",
       "      <th>producer</th>\n",
       "      <th>price</th>\n",
       "    </tr>\n",
       "  </thead>\n",
       "  <tbody>\n",
       "    <tr>\n",
       "      <th>0</th>\n",
       "      <td>1</td>\n",
       "      <td>Game of My Life Virginia Tech Hokies</td>\n",
       "      <td>Virginia Tech’s Shayne Graham trots onto the field at West Virginia on November 6, 1999, with two thoughts in his mind. One is a missed field goal that would have beaten Miami a year earlier. The other is the 44-yard field goal he is about to try against the Mountaineers, a kick he must make if the Hokies are to stay unbeaten and on track for a national championship. Head down, he focuses on his mark as the ball is snapped. He steps forward, the dream of an entire team resting with his leg. Now, hear Graham’s memory of that kick in his own words, for the first time. Game of My Life: Virginia Tech Hokies, first published in 2006, celebrates the extraordinary football and basketball moments that have shaped the college’s rich athletic heritage. Through interviews with some of the school’s most prestigious athletes, Hokies fans can relive the big games that defined the school’s winning tradition.Carroll Dale, later a fixture with the Green Bay Packers, dovearms outstretchedto haul in a crucial two-point conversion in a 1957 game against the University of Richmond. Les Henson shot from the baselinethe other baselineas the clock neared zero against Florida State in 1980. Chris Smith went well beyond the \"double-double\" standard for points and rebounds. How about 30 and 31 against Marshall in 1959? Corey Moore made life miserable for Clemson quarterback Brandon Streeter one night in 1999. Bruce Smith did the same for Duke quarterback Ben Bennett in 1983. The Hokies’ Jim Pyne, meanwhile, made sure Syracuse’s Kevin Mitchell didn’t do the same to Tech quarterback Maurice DeShazo in 1993. Carlos Dixon, Mike Imoh, Andre Davis, Dell Curry, Bryan Still, Don Strock, Bryan Randallall the Tech greats from the gridiron and hardwoodare in these pages, including coach Frank Beamer. Join thousands of Virginia Tech fans in remembering these cherished stories. For the athletes within, these truly were the games of their lives.</td>\n",
       "      <td>Sports Publishing</td>\n",
       "      <td>16.99</td>\n",
       "    </tr>\n",
       "    <tr>\n",
       "      <th>1</th>\n",
       "      <td>2</td>\n",
       "      <td>Dale Brown's Basketball Coaches Organizational Handbook (2nd Edition)</td>\n",
       "      <td>In this practical, easy-to-read and apply book, LSU's coach of 25 years shows coaches at all competitive levels how they can become more productive and effective with less time through better organizational skills. Coach Brown covers practically every aspect of the coaching profession as he allows you to learn from his mistakes and successes. Includes chapters on managers' duties and guidelines, team meetings, motivation, practice organization, scouting, road trips, media relations and recruiting. Even includes a chapter on organizing summer youth basketball camps! A must have for coaches at any level of play.</td>\n",
       "      <td>Coaches Choice</td>\n",
       "      <td>19.99</td>\n",
       "    </tr>\n",
       "    <tr>\n",
       "      <th>2</th>\n",
       "      <td>3</td>\n",
       "      <td>Ya Gotta Believe!</td>\n",
       "      <td>Are you a true Mets fan? Were you there when they won the 1986 World Series in the seventh game?  Did you stand and cheer as the Mets demolished the St. Louis Cardinals to become the National League Champions in 2000? Do you know why the original team colors were orange and blue?  How much do you really know about those lovable heroes who have brought fortune, glory, and two World Championship trophies to New York? Are you a true believer?Do you know:*Who the Hall of Fame outfielder was who played for the Mets in theirinaugural season and went on to become a broadcaster for the Philadelphia Phillies?*Which Mets outfielder ran the bases backward after hitting his100th career home run in a game in 1963?*Which rookie outfielder swiped 24 bases in 1981 and became one of the most popular players ever to play for the Mets?*When Tom Seaver's rookie year was?*Who holds the single-season Mets record for home runs?It's all here, with highlights of the team's exciting history, from the club's beginnings in 1962 to today, including postseason play. From Casey Stengal to Tom Seaver; from Doc to Mookie-- to Mike and Fonzie-questions and answers, sidebars, fascinating bios and photos gathered by lifelong Mets fan Michael Lichtenstein. Much more than just facts and trivia, Ya Gotta Believe! is something no Mets fan can do without.</td>\n",
       "      <td>St. Martin's Press</td>\n",
       "      <td>7.99</td>\n",
       "    </tr>\n",
       "    <tr>\n",
       "      <th>3</th>\n",
       "      <td>4</td>\n",
       "      <td>Canada's Other Game</td>\n",
       "      <td>The story of Canada’s other game from its invention by a Canadian to its current struggle for popularity. Basketball, the only major world sport undeniably invented by a Canadian, has ironically failed to win Canadians’ hearts more than a century after its creation. James Naismith’s brainchild is a popular recreational pastime in his homeland, but players with bigger dreams had better take their talents south of the border. Canadian hoops has languished in the seemingly eternal shadow of hockey, with its cannibalization of air time, advertising dollars, and corporate capital.Faced with limited opportunities at home, as many as 50 teenagers flock to U.S. prep schools and colleges every year to chase their dreams of college stardom and, much less likely, a shot at glory in the NBA. Against all odds, a skinny kid from Victoria named Steve Nash managed to reach the pinnacle of the sport, with a whirling-dervish style that earned him two MVP awards in the world’s greatest league.Today, a new generation of Canadians stand poised to follow in Nash’s path. But will their success spark a renaissance back home? This book chronicles basketball’s struggle to overcome its history as a poor cousin in a hockey-mad nation.</td>\n",
       "      <td>Dundurn</td>\n",
       "      <td>12.99</td>\n",
       "    </tr>\n",
       "    <tr>\n",
       "      <th>4</th>\n",
       "      <td>5</td>\n",
       "      <td>\"Double Duty\" Radcliffe: 36 Years of PItching &amp; Catching In the Negro Leagues</td>\n",
       "      <td>\"Double Duty\" Radcliffe is the biography of one of the most unique baseball stars in history.  Nicknamed \"Double Duty\" because he was an all-star pitcher and catcher, Radcliffe played from 1919-1954 in the Negro Leagues with teams such as the Chicago American Giants, Homestead Grays, Kansas City Monarchs, Birmingham Black Barons, New York Black Yankees and Memphis Red Sox.  In this book, called \"amazing\" by Sports Illustrated, Radcliffe's own words are intertwined with background information and interviews with more than 30 ex-teammates.  Radcliffe won more than 300 games on the mound, belted more than 300 homers, pitched and caught multiple no-hitters, was named league MVP at age 41, threw a complete game shutout past age 50, and played with and against every black and white player you can think of, including Satchel Paige, Josh Gibson, Jackie Robinson, Honus Wagner, Jimmie Foxx and Bob Feller!  The braggadocious Radcliffe was known almost as much for his talking as for his playing, but, his opponents said, \"he could back his words up.\"  Radcliffe was a wonderful baseball player, but may have made more contributions to the game after retirement as he lived to age 103 and helped educated the public on the Negro Leagues and its players.</td>\n",
       "      <td>Kyle McNary</td>\n",
       "      <td>6.99</td>\n",
       "    </tr>\n",
       "  </tbody>\n",
       "</table>\n",
       "</div>"
      ],
      "text/plain": [
       "   record_id                                                                           name  \\\n",
       "0  1          Game of My Life Virginia Tech Hokies                                            \n",
       "1  2          Dale Brown's Basketball Coaches Organizational Handbook (2nd Edition)           \n",
       "2  3          Ya Gotta Believe!                                                               \n",
       "3  4          Canada's Other Game                                                             \n",
       "4  5          \"Double Duty\" Radcliffe: 36 Years of PItching & Catching In the Negro Leagues   \n",
       "\n",
       "                                                                                                                                                                                                                                                                                                                                                                                                                                                                                                                                                                                                                                                                                                                                                                                                                                                                                                                                                                                                                                                                                                                                                                                                                                                                                                                                                                                                                                                                                                                                                                                                                                                                                                                                                                                                                                                                                                                                                                                                          description  \\\n",
       "0  Virginia Tech’s Shayne Graham trots onto the field at West Virginia on November 6, 1999, with two thoughts in his mind. One is a missed field goal that would have beaten Miami a year earlier. The other is the 44-yard field goal he is about to try against the Mountaineers, a kick he must make if the Hokies are to stay unbeaten and on track for a national championship. Head down, he focuses on his mark as the ball is snapped. He steps forward, the dream of an entire team resting with his leg. Now, hear Graham’s memory of that kick in his own words, for the first time. Game of My Life: Virginia Tech Hokies, first published in 2006, celebrates the extraordinary football and basketball moments that have shaped the college’s rich athletic heritage. Through interviews with some of the school’s most prestigious athletes, Hokies fans can relive the big games that defined the school’s winning tradition.Carroll Dale, later a fixture with the Green Bay Packers, dovearms outstretchedto haul in a crucial two-point conversion in a 1957 game against the University of Richmond. Les Henson shot from the baselinethe other baselineas the clock neared zero against Florida State in 1980. Chris Smith went well beyond the \"double-double\" standard for points and rebounds. How about 30 and 31 against Marshall in 1959? Corey Moore made life miserable for Clemson quarterback Brandon Streeter one night in 1999. Bruce Smith did the same for Duke quarterback Ben Bennett in 1983. The Hokies’ Jim Pyne, meanwhile, made sure Syracuse’s Kevin Mitchell didn’t do the same to Tech quarterback Maurice DeShazo in 1993. Carlos Dixon, Mike Imoh, Andre Davis, Dell Curry, Bryan Still, Don Strock, Bryan Randallall the Tech greats from the gridiron and hardwoodare in these pages, including coach Frank Beamer. Join thousands of Virginia Tech fans in remembering these cherished stories. For the athletes within, these truly were the games of their lives.   \n",
       "1  In this practical, easy-to-read and apply book, LSU's coach of 25 years shows coaches at all competitive levels how they can become more productive and effective with less time through better organizational skills. Coach Brown covers practically every aspect of the coaching profession as he allows you to learn from his mistakes and successes. Includes chapters on managers' duties and guidelines, team meetings, motivation, practice organization, scouting, road trips, media relations and recruiting. Even includes a chapter on organizing summer youth basketball camps! A must have for coaches at any level of play.                                                                                                                                                                                                                                                                                                                                                                                                                                                                                                                                                                                                                                                                                                                                                                                                                                                                                                                                                                                                                                                                                                                                                                                                                                                                                                                                                                            \n",
       "2  Are you a true Mets fan? Were you there when they won the 1986 World Series in the seventh game?  Did you stand and cheer as the Mets demolished the St. Louis Cardinals to become the National League Champions in 2000? Do you know why the original team colors were orange and blue?  How much do you really know about those lovable heroes who have brought fortune, glory, and two World Championship trophies to New York? Are you a true believer?Do you know:*Who the Hall of Fame outfielder was who played for the Mets in theirinaugural season and went on to become a broadcaster for the Philadelphia Phillies?*Which Mets outfielder ran the bases backward after hitting his100th career home run in a game in 1963?*Which rookie outfielder swiped 24 bases in 1981 and became one of the most popular players ever to play for the Mets?*When Tom Seaver's rookie year was?*Who holds the single-season Mets record for home runs?It's all here, with highlights of the team's exciting history, from the club's beginnings in 1962 to today, including postseason play. From Casey Stengal to Tom Seaver; from Doc to Mookie-- to Mike and Fonzie-questions and answers, sidebars, fascinating bios and photos gathered by lifelong Mets fan Michael Lichtenstein. Much more than just facts and trivia, Ya Gotta Believe! is something no Mets fan can do without.                                                                                                                                                                                                                                                                                                                                                                                                                                                                                                                                                                                                                             \n",
       "3  The story of Canada’s other game from its invention by a Canadian to its current struggle for popularity. Basketball, the only major world sport undeniably invented by a Canadian, has ironically failed to win Canadians’ hearts more than a century after its creation. James Naismith’s brainchild is a popular recreational pastime in his homeland, but players with bigger dreams had better take their talents south of the border. Canadian hoops has languished in the seemingly eternal shadow of hockey, with its cannibalization of air time, advertising dollars, and corporate capital.Faced with limited opportunities at home, as many as 50 teenagers flock to U.S. prep schools and colleges every year to chase their dreams of college stardom and, much less likely, a shot at glory in the NBA. Against all odds, a skinny kid from Victoria named Steve Nash managed to reach the pinnacle of the sport, with a whirling-dervish style that earned him two MVP awards in the world’s greatest league.Today, a new generation of Canadians stand poised to follow in Nash’s path. But will their success spark a renaissance back home? This book chronicles basketball’s struggle to overcome its history as a poor cousin in a hockey-mad nation.                                                                                                                                                                                                                                                                                                                                                                                                                                                                                                                                                                                                                                                                                                                                           \n",
       "4  \"Double Duty\" Radcliffe is the biography of one of the most unique baseball stars in history.  Nicknamed \"Double Duty\" because he was an all-star pitcher and catcher, Radcliffe played from 1919-1954 in the Negro Leagues with teams such as the Chicago American Giants, Homestead Grays, Kansas City Monarchs, Birmingham Black Barons, New York Black Yankees and Memphis Red Sox.  In this book, called \"amazing\" by Sports Illustrated, Radcliffe's own words are intertwined with background information and interviews with more than 30 ex-teammates.  Radcliffe won more than 300 games on the mound, belted more than 300 homers, pitched and caught multiple no-hitters, was named league MVP at age 41, threw a complete game shutout past age 50, and played with and against every black and white player you can think of, including Satchel Paige, Josh Gibson, Jackie Robinson, Honus Wagner, Jimmie Foxx and Bob Feller!  The braggadocious Radcliffe was known almost as much for his talking as for his playing, but, his opponents said, \"he could back his words up.\"  Radcliffe was a wonderful baseball player, but may have made more contributions to the game after retirement as he lived to age 103 and helped educated the public on the Negro Leagues and its players.                                                                                                                                                                                                                                                                                                                                                                                                                                                                                                                                                                                                                                                                                                              \n",
       "\n",
       "             producer                price  \n",
       "0  Sports Publishing                 16.99  \n",
       "1  Coaches Choice                    19.99  \n",
       "2  St. Martin's Press                 7.99  \n",
       "3  Dundurn                           12.99  \n",
       "4  Kyle McNary                        6.99  "
      ]
     },
     "execution_count": 40,
     "metadata": {},
     "output_type": "execute_result"
    }
   ],
   "source": [
    "itunes_data.head()"
   ]
  },
  {
   "cell_type": "markdown",
   "metadata": {},
   "source": [
    "## Candset for ebooks"
   ]
  },
  {
   "cell_type": "code",
   "execution_count": 41,
   "metadata": {},
   "outputs": [],
   "source": [
    "ebook_candset_fields = ['_id', 'ltable.record_id', 'rtable.record_id']"
   ]
  },
  {
   "cell_type": "code",
   "execution_count": 42,
   "metadata": {
    "scrolled": true
   },
   "outputs": [],
   "source": [
    "ebooks1_candset = pd.read_csv(\n",
    "    os.path.join(ebooks1_path,'candset.csv'),\n",
    "    comment = '#',\n",
    "    sep = ',',\n",
    ")"
   ]
  },
  {
   "cell_type": "code",
   "execution_count": 43,
   "metadata": {
    "scrolled": true
   },
   "outputs": [
    {
     "data": {
      "text/html": [
       "<div>\n",
       "<style scoped>\n",
       "    .dataframe tbody tr th:only-of-type {\n",
       "        vertical-align: middle;\n",
       "    }\n",
       "\n",
       "    .dataframe tbody tr th {\n",
       "        vertical-align: top;\n",
       "    }\n",
       "\n",
       "    .dataframe thead th {\n",
       "        text-align: right;\n",
       "    }\n",
       "</style>\n",
       "<table border=\"1\" class=\"dataframe\">\n",
       "  <thead>\n",
       "    <tr style=\"text-align: right;\">\n",
       "      <th></th>\n",
       "      <th>_id</th>\n",
       "      <th>ltable.record_id</th>\n",
       "      <th>rtable.record_id</th>\n",
       "      <th>ltable.author</th>\n",
       "      <th>ltable.date</th>\n",
       "      <th>ltable.length</th>\n",
       "      <th>ltable.price</th>\n",
       "      <th>ltable.publisher</th>\n",
       "      <th>ltable.title</th>\n",
       "      <th>rtable.author</th>\n",
       "      <th>rtable.date</th>\n",
       "      <th>rtable.length</th>\n",
       "      <th>rtable.price</th>\n",
       "      <th>rtable.publisher</th>\n",
       "      <th>rtable.title</th>\n",
       "    </tr>\n",
       "  </thead>\n",
       "  <tbody>\n",
       "    <tr>\n",
       "      <th>0</th>\n",
       "      <td>0</td>\n",
       "      <td>1</td>\n",
       "      <td>35</td>\n",
       "      <td>mike harris &amp; Frank Beamer</td>\n",
       "      <td>Jul 07, 2015</td>\n",
       "      <td>264.00</td>\n",
       "      <td>16.99</td>\n",
       "      <td>Sports Publishing</td>\n",
       "      <td>Game of My Life Virginia Tech Hokies</td>\n",
       "      <td>Steve Buckner, Bill Self</td>\n",
       "      <td>February 2015</td>\n",
       "      <td>272.00</td>\n",
       "      <td>24.95</td>\n",
       "      <td>Sports Publishing</td>\n",
       "      <td>Game of My Life University of Kansas Jayhawks</td>\n",
       "    </tr>\n",
       "    <tr>\n",
       "      <th>1</th>\n",
       "      <td>1</td>\n",
       "      <td>1</td>\n",
       "      <td>1222</td>\n",
       "      <td>mike harris &amp; Frank Beamer</td>\n",
       "      <td>Jul 07, 2015</td>\n",
       "      <td>264.00</td>\n",
       "      <td>16.99</td>\n",
       "      <td>Sports Publishing</td>\n",
       "      <td>Game of My Life Virginia Tech Hokies</td>\n",
       "      <td>Christopher Rivers</td>\n",
       "      <td>October 2007</td>\n",
       "      <td>151.00</td>\n",
       "      <td>40.00</td>\n",
       "      <td>Greenwood Publishing Group</td>\n",
       "      <td>My Life and Battles</td>\n",
       "    </tr>\n",
       "    <tr>\n",
       "      <th>2</th>\n",
       "      <td>2</td>\n",
       "      <td>1</td>\n",
       "      <td>3143</td>\n",
       "      <td>mike harris &amp; Frank Beamer</td>\n",
       "      <td>Jul 07, 2015</td>\n",
       "      <td>264.00</td>\n",
       "      <td>16.99</td>\n",
       "      <td>Sports Publishing</td>\n",
       "      <td>Game of My Life Virginia Tech Hokies</td>\n",
       "      <td>Jason J-Mac McElwain, Daniel Paisner</td>\n",
       "      <td>February 2008</td>\n",
       "      <td>256.00</td>\n",
       "      <td>11.99</td>\n",
       "      <td>Penguin Publishing Group</td>\n",
       "      <td>The Game of My Life</td>\n",
       "    </tr>\n",
       "    <tr>\n",
       "      <th>3</th>\n",
       "      <td>3</td>\n",
       "      <td>1</td>\n",
       "      <td>3582</td>\n",
       "      <td>mike harris &amp; Frank Beamer</td>\n",
       "      <td>Jul 07, 2015</td>\n",
       "      <td>264.00</td>\n",
       "      <td>16.99</td>\n",
       "      <td>Sports Publishing</td>\n",
       "      <td>Game of My Life Virginia Tech Hokies</td>\n",
       "      <td>Anderl Heckmair, Reinhold Messner, Tim Carruthers</td>\n",
       "      <td>January 2015</td>\n",
       "      <td>300.00</td>\n",
       "      <td>8.74</td>\n",
       "      <td>Vertebrate Publishing</td>\n",
       "      <td>My Life</td>\n",
       "    </tr>\n",
       "    <tr>\n",
       "      <th>4</th>\n",
       "      <td>4</td>\n",
       "      <td>1</td>\n",
       "      <td>7873</td>\n",
       "      <td>mike harris &amp; Frank Beamer</td>\n",
       "      <td>Jul 07, 2015</td>\n",
       "      <td>264.00</td>\n",
       "      <td>16.99</td>\n",
       "      <td>Sports Publishing</td>\n",
       "      <td>Game of My Life Virginia Tech Hokies</td>\n",
       "      <td>A.P. McCoy</td>\n",
       "      <td>NaN</td>\n",
       "      <td>0.00</td>\n",
       "      <td>0.00</td>\n",
       "      <td>Orion Publishing Group</td>\n",
       "      <td>Winner: My Racing Life</td>\n",
       "    </tr>\n",
       "  </tbody>\n",
       "</table>\n",
       "</div>"
      ],
      "text/plain": [
       "   _id  ltable.record_id  rtable.record_id               ltable.author   ltable.date        ltable.length         ltable.price   ltable.publisher                          ltable.title                                       rtable.author    rtable.date        rtable.length         rtable.price            rtable.publisher                                   rtable.title\n",
       "0  0    1                 35                mike harris & Frank Beamer  Jul 07, 2015               264.00                16.99  Sports Publishing  Game of My Life Virginia Tech Hokies   Steve Buckner, Bill Self                           February 2015               272.00                24.95  Sports Publishing           Game of My Life University of Kansas Jayhawks\n",
       "1  1    1                 1222              mike harris & Frank Beamer  Jul 07, 2015               264.00                16.99  Sports Publishing  Game of My Life Virginia Tech Hokies   Christopher Rivers                                 October 2007                151.00                40.00  Greenwood Publishing Group  My Life and Battles                          \n",
       "2  2    1                 3143              mike harris & Frank Beamer  Jul 07, 2015               264.00                16.99  Sports Publishing  Game of My Life Virginia Tech Hokies   Jason J-Mac McElwain, Daniel Paisner               February 2008               256.00                11.99  Penguin Publishing Group    The Game of My Life                          \n",
       "3  3    1                 3582              mike harris & Frank Beamer  Jul 07, 2015               264.00                16.99  Sports Publishing  Game of My Life Virginia Tech Hokies   Anderl Heckmair, Reinhold Messner, Tim Carruthers  January 2015                300.00                 8.74  Vertebrate Publishing       My Life                                      \n",
       "4  4    1                 7873              mike harris & Frank Beamer  Jul 07, 2015               264.00                16.99  Sports Publishing  Game of My Life Virginia Tech Hokies   A.P. McCoy                                         NaN                           0.00                 0.00  Orion Publishing Group      Winner: My Racing Life                       "
      ]
     },
     "execution_count": 43,
     "metadata": {},
     "output_type": "execute_result"
    }
   ],
   "source": [
    "ebooks1_candset.head()"
   ]
  },
  {
   "cell_type": "markdown",
   "metadata": {},
   "source": [
    "## Labeled data for ebooks"
   ]
  },
  {
   "cell_type": "code",
   "execution_count": 44,
   "metadata": {},
   "outputs": [],
   "source": [
    "ebooks1_labeled_data_fields = ['_id', 'ltable.record_id', 'rtable.record_id', 'gold']"
   ]
  },
  {
   "cell_type": "code",
   "execution_count": 45,
   "metadata": {},
   "outputs": [],
   "source": [
    "ebooks1_labeled_data = pd.read_csv(\n",
    "    os.path.join(ebooks1_path,'labeled_data.csv'),\n",
    "    comment = '#',\n",
    "    sep = ',',\n",
    "    usecols = ebooks1_labeled_data_fields,\n",
    ")[ebooks1_labeled_data_fields]"
   ]
  },
  {
   "cell_type": "code",
   "execution_count": 46,
   "metadata": {},
   "outputs": [],
   "source": [
    "ebooks1_labeled_data.rename(\n",
    "    columns = {\n",
    "        'ltable.record_id': 'itunes_id',\n",
    "        'rtable.record_id': 'ebooks_id',\n",
    "        'gold':             'duplicate',\n",
    "    },\n",
    "    inplace=True\n",
    ")"
   ]
  },
  {
   "cell_type": "code",
   "execution_count": 47,
   "metadata": {},
   "outputs": [
    {
     "data": {
      "text/html": [
       "<div>\n",
       "<style scoped>\n",
       "    .dataframe tbody tr th:only-of-type {\n",
       "        vertical-align: middle;\n",
       "    }\n",
       "\n",
       "    .dataframe tbody tr th {\n",
       "        vertical-align: top;\n",
       "    }\n",
       "\n",
       "    .dataframe thead th {\n",
       "        text-align: right;\n",
       "    }\n",
       "</style>\n",
       "<table border=\"1\" class=\"dataframe\">\n",
       "  <thead>\n",
       "    <tr style=\"text-align: right;\">\n",
       "      <th></th>\n",
       "      <th>_id</th>\n",
       "      <th>itunes_id</th>\n",
       "      <th>ebooks_id</th>\n",
       "      <th>duplicate</th>\n",
       "    </tr>\n",
       "  </thead>\n",
       "  <tbody>\n",
       "    <tr>\n",
       "      <th>0</th>\n",
       "      <td>44</td>\n",
       "      <td>44</td>\n",
       "      <td>9650</td>\n",
       "      <td>0</td>\n",
       "    </tr>\n",
       "    <tr>\n",
       "      <th>1</th>\n",
       "      <td>60</td>\n",
       "      <td>66</td>\n",
       "      <td>3496</td>\n",
       "      <td>0</td>\n",
       "    </tr>\n",
       "    <tr>\n",
       "      <th>2</th>\n",
       "      <td>68</td>\n",
       "      <td>66</td>\n",
       "      <td>7326</td>\n",
       "      <td>0</td>\n",
       "    </tr>\n",
       "    <tr>\n",
       "      <th>3</th>\n",
       "      <td>107</td>\n",
       "      <td>92</td>\n",
       "      <td>6590</td>\n",
       "      <td>1</td>\n",
       "    </tr>\n",
       "    <tr>\n",
       "      <th>4</th>\n",
       "      <td>115</td>\n",
       "      <td>112</td>\n",
       "      <td>5954</td>\n",
       "      <td>0</td>\n",
       "    </tr>\n",
       "  </tbody>\n",
       "</table>\n",
       "</div>"
      ],
      "text/plain": [
       "   _id  itunes_id  ebooks_id  duplicate\n",
       "0  44   44         9650       0        \n",
       "1  60   66         3496       0        \n",
       "2  68   66         7326       0        \n",
       "3  107  92         6590       1        \n",
       "4  115  112        5954       0        "
      ]
     },
     "execution_count": 47,
     "metadata": {},
     "output_type": "execute_result"
    }
   ],
   "source": [
    "ebooks1_labeled_data.head()"
   ]
  },
  {
   "cell_type": "code",
   "execution_count": 48,
   "metadata": {},
   "outputs": [
    {
     "data": {
      "text/plain": [
       "' 100 Things Rockies Fans Should Know & Do Before They Die'"
      ]
     },
     "execution_count": 48,
     "metadata": {},
     "output_type": "execute_result"
    }
   ],
   "source": [
    "itunes_data[itunes_data['record_id'] == 92]['name'].to_string(index=False)"
   ]
  },
  {
   "cell_type": "code",
   "execution_count": 49,
   "metadata": {},
   "outputs": [
    {
     "data": {
      "text/plain": [
       "' This series will help baseball lovers get the most out of being a fan. It takes years of franchise history and distills it to the absolute best and most compelling, identifying in an informative, lively, and illuminating way the personalities, events, and facts every fan should know without hesitation. Numbers, nicknames, memorable moments, singular achievements, and signature plays all highlight the list of 100.'"
      ]
     },
     "execution_count": 49,
     "metadata": {},
     "output_type": "execute_result"
    }
   ],
   "source": [
    "itunes_data[itunes_data['record_id'] == 92]['description'].to_string(index=False)"
   ]
  },
  {
   "cell_type": "code",
   "execution_count": 50,
   "metadata": {},
   "outputs": [
    {
     "data": {
      "text/plain": [
       "' 100 Things Rockies Fans Should Know & Do Before They Die'"
      ]
     },
     "execution_count": 50,
     "metadata": {},
     "output_type": "execute_result"
    }
   ],
   "source": [
    "ebooks_data[ebooks_data['record_id'] == 6590]['name'].to_string(index=False)"
   ]
  },
  {
   "cell_type": "code",
   "execution_count": 51,
   "metadata": {
    "scrolled": true
   },
   "outputs": [
    {
     "data": {
      "text/plain": [
       "' All baseball enthusiasts want to see their team win the World Series in their lifetime. But being a fan is about more than watching your team win it all. This series will help baseball lovers get the most out of being a fan. It takes years of franchise history and distills it to the absolute best and most compelling, identifying in an informative, lively, and illuminating way the personalities, events, and facts every fan should know without hesitation. Numbers, nicknames, memorable moments, singular achievements, and signature plays all highlight the list of 100. 100 Things also includes things baseball fans should see and do before they join their heroes at the Pearly Gates. This book contains numerous tips and suggestions for enjoying a team on a different, more involved, level.\\\\n\\xa0less'"
      ]
     },
     "execution_count": 51,
     "metadata": {},
     "output_type": "execute_result"
    }
   ],
   "source": [
    "ebooks_data[ebooks_data['record_id'] == 6590]['description'].to_string(index=False)"
   ]
  },
  {
   "cell_type": "markdown",
   "metadata": {},
   "source": [
    "## Candset "
   ]
  },
  {
   "cell_type": "code",
   "execution_count": 81,
   "metadata": {},
   "outputs": [],
   "source": [
    "ebooks1_candset_data = pd.read_csv(\n",
    "    os.path.join(ebooks1_path,'candset.csv'),\n",
    "    comment = '#',\n",
    "    sep = ',',\n",
    "    #usecols = ebooks1_labeled_data_fields,\n",
    ")#[ebooks1_labeled_data_fields]"
   ]
  },
  {
   "cell_type": "code",
   "execution_count": 87,
   "metadata": {
    "scrolled": true
   },
   "outputs": [
    {
     "data": {
      "text/html": [
       "<div>\n",
       "<style scoped>\n",
       "    .dataframe tbody tr th:only-of-type {\n",
       "        vertical-align: middle;\n",
       "    }\n",
       "\n",
       "    .dataframe tbody tr th {\n",
       "        vertical-align: top;\n",
       "    }\n",
       "\n",
       "    .dataframe thead th {\n",
       "        text-align: right;\n",
       "    }\n",
       "</style>\n",
       "<table border=\"1\" class=\"dataframe\">\n",
       "  <thead>\n",
       "    <tr style=\"text-align: right;\">\n",
       "      <th></th>\n",
       "      <th>_id</th>\n",
       "      <th>ltable.record_id</th>\n",
       "      <th>rtable.record_id</th>\n",
       "      <th>ltable.author</th>\n",
       "      <th>ltable.date</th>\n",
       "      <th>ltable.length</th>\n",
       "      <th>ltable.price</th>\n",
       "      <th>ltable.publisher</th>\n",
       "      <th>ltable.title</th>\n",
       "      <th>rtable.author</th>\n",
       "      <th>rtable.date</th>\n",
       "      <th>rtable.length</th>\n",
       "      <th>rtable.price</th>\n",
       "      <th>rtable.publisher</th>\n",
       "      <th>rtable.title</th>\n",
       "    </tr>\n",
       "  </thead>\n",
       "  <tbody>\n",
       "    <tr>\n",
       "      <th>107</th>\n",
       "      <td>107</td>\n",
       "      <td>36</td>\n",
       "      <td>4437</td>\n",
       "      <td>Susan Slusser</td>\n",
       "      <td>Jun 01, 2015</td>\n",
       "      <td>336.00</td>\n",
       "      <td>9.99</td>\n",
       "      <td>Triumph Books</td>\n",
       "      <td>100 Things A&amp;</td>\n",
       "      <td>NaN</td>\n",
       "      <td>NaN</td>\n",
       "      <td>nan</td>\n",
       "      <td>nan</td>\n",
       "      <td>NaN</td>\n",
       "      <td>NaN</td>\n",
       "    </tr>\n",
       "  </tbody>\n",
       "</table>\n",
       "</div>"
      ],
      "text/plain": [
       "     _id  ltable.record_id  rtable.record_id  ltable.author   ltable.date        ltable.length         ltable.price ltable.publisher   ltable.title rtable.author rtable.date        rtable.length         rtable.price rtable.publisher rtable.title\n",
       "107  107  36                4437              Susan Slusser  Jun 01, 2015               336.00                 9.99  Triumph Books    100 Things A&  NaN           NaN                         nan                  nan  NaN              NaN        "
      ]
     },
     "execution_count": 87,
     "metadata": {},
     "output_type": "execute_result"
    }
   ],
   "source": [
    "ebooks1_candset_data[ebooks1_candset_data['_id'] == 107]"
   ]
  },
  {
   "cell_type": "code",
   "execution_count": 88,
   "metadata": {},
   "outputs": [
    {
     "data": {
      "text/html": [
       "<div>\n",
       "<style scoped>\n",
       "    .dataframe tbody tr th:only-of-type {\n",
       "        vertical-align: middle;\n",
       "    }\n",
       "\n",
       "    .dataframe tbody tr th {\n",
       "        vertical-align: top;\n",
       "    }\n",
       "\n",
       "    .dataframe thead th {\n",
       "        text-align: right;\n",
       "    }\n",
       "</style>\n",
       "<table border=\"1\" class=\"dataframe\">\n",
       "  <thead>\n",
       "    <tr style=\"text-align: right;\">\n",
       "      <th></th>\n",
       "      <th>_id</th>\n",
       "      <th>itunes_id</th>\n",
       "      <th>ebooks_id</th>\n",
       "      <th>duplicate</th>\n",
       "    </tr>\n",
       "  </thead>\n",
       "  <tbody>\n",
       "  </tbody>\n",
       "</table>\n",
       "</div>"
      ],
      "text/plain": [
       "Empty DataFrame\n",
       "Columns: [_id, itunes_id, ebooks_id, duplicate]\n",
       "Index: []"
      ]
     },
     "execution_count": 88,
     "metadata": {},
     "output_type": "execute_result"
    }
   ],
   "source": [
    "ebooks1_labeled_data[ebooks1_labeled_data['itunes_id'] == 36]"
   ]
  },
  {
   "cell_type": "code",
   "execution_count": 86,
   "metadata": {},
   "outputs": [
    {
     "data": {
      "text/html": [
       "<div>\n",
       "<style scoped>\n",
       "    .dataframe tbody tr th:only-of-type {\n",
       "        vertical-align: middle;\n",
       "    }\n",
       "\n",
       "    .dataframe tbody tr th {\n",
       "        vertical-align: top;\n",
       "    }\n",
       "\n",
       "    .dataframe thead th {\n",
       "        text-align: right;\n",
       "    }\n",
       "</style>\n",
       "<table border=\"1\" class=\"dataframe\">\n",
       "  <thead>\n",
       "    <tr style=\"text-align: right;\">\n",
       "      <th></th>\n",
       "      <th>_id</th>\n",
       "      <th>itunes_id</th>\n",
       "      <th>ebooks_id</th>\n",
       "      <th>duplicate</th>\n",
       "    </tr>\n",
       "  </thead>\n",
       "  <tbody>\n",
       "    <tr>\n",
       "      <th>0</th>\n",
       "      <td>44</td>\n",
       "      <td>44</td>\n",
       "      <td>9650</td>\n",
       "      <td>0</td>\n",
       "    </tr>\n",
       "    <tr>\n",
       "      <th>1</th>\n",
       "      <td>60</td>\n",
       "      <td>66</td>\n",
       "      <td>3496</td>\n",
       "      <td>0</td>\n",
       "    </tr>\n",
       "    <tr>\n",
       "      <th>2</th>\n",
       "      <td>68</td>\n",
       "      <td>66</td>\n",
       "      <td>7326</td>\n",
       "      <td>0</td>\n",
       "    </tr>\n",
       "    <tr>\n",
       "      <th>3</th>\n",
       "      <td>107</td>\n",
       "      <td>92</td>\n",
       "      <td>6590</td>\n",
       "      <td>1</td>\n",
       "    </tr>\n",
       "    <tr>\n",
       "      <th>4</th>\n",
       "      <td>115</td>\n",
       "      <td>112</td>\n",
       "      <td>5954</td>\n",
       "      <td>0</td>\n",
       "    </tr>\n",
       "  </tbody>\n",
       "</table>\n",
       "</div>"
      ],
      "text/plain": [
       "   _id  itunes_id  ebooks_id  duplicate\n",
       "0  44   44         9650       0        \n",
       "1  60   66         3496       0        \n",
       "2  68   66         7326       0        \n",
       "3  107  92         6590       1        \n",
       "4  115  112        5954       0        "
      ]
     },
     "execution_count": 86,
     "metadata": {},
     "output_type": "execute_result"
    }
   ],
   "source": [
    "ebooks1_labeled_data.head()"
   ]
  },
  {
   "cell_type": "code",
   "execution_count": 83,
   "metadata": {},
   "outputs": [
    {
     "data": {
      "text/plain": [
       "18383"
      ]
     },
     "execution_count": 83,
     "metadata": {},
     "output_type": "execute_result"
    }
   ],
   "source": [
    "len(ebooks1_candset_data)"
   ]
  },
  {
   "cell_type": "code",
   "execution_count": 84,
   "metadata": {},
   "outputs": [
    {
     "data": {
      "text/plain": [
       "14110"
      ]
     },
     "execution_count": 84,
     "metadata": {},
     "output_type": "execute_result"
    }
   ],
   "source": [
    "len(ebooks_data)"
   ]
  },
  {
   "cell_type": "code",
   "execution_count": 85,
   "metadata": {},
   "outputs": [
    {
     "data": {
      "text/plain": [
       "6500"
      ]
     },
     "execution_count": 85,
     "metadata": {},
     "output_type": "execute_result"
    }
   ],
   "source": [
    "len(itunes_data)"
   ]
  },
  {
   "cell_type": "markdown",
   "metadata": {},
   "source": [
    "## Candset - Labeled data comparison"
   ]
  },
  {
   "cell_type": "code",
   "execution_count": 89,
   "metadata": {},
   "outputs": [],
   "source": [
    "raw_ebooks1_candset_data = pd.read_csv(\n",
    "    os.path.join(ebooks1_path,'candset.csv'),\n",
    "    comment = '#',\n",
    "    sep = ',',\n",
    "    #usecols = ebooks1_labeled_data_fields,\n",
    ")#[ebooks1_labeled_data_fields]"
   ]
  },
  {
   "cell_type": "code",
   "execution_count": 90,
   "metadata": {},
   "outputs": [],
   "source": [
    "raw_ebooks1_labeled_data = pd.read_csv(\n",
    "    os.path.join(ebooks1_path,'labeled_data.csv'),\n",
    "    comment = '#',\n",
    "    sep = ',',\n",
    "    #usecols = ebooks1_labeled_data_fields,\n",
    ")#[ebooks1_labeled_data_fields]"
   ]
  },
  {
   "cell_type": "code",
   "execution_count": 95,
   "metadata": {
    "scrolled": true
   },
   "outputs": [
    {
     "data": {
      "text/html": [
       "<div>\n",
       "<style scoped>\n",
       "    .dataframe tbody tr th:only-of-type {\n",
       "        vertical-align: middle;\n",
       "    }\n",
       "\n",
       "    .dataframe tbody tr th {\n",
       "        vertical-align: top;\n",
       "    }\n",
       "\n",
       "    .dataframe thead th {\n",
       "        text-align: right;\n",
       "    }\n",
       "</style>\n",
       "<table border=\"1\" class=\"dataframe\">\n",
       "  <thead>\n",
       "    <tr style=\"text-align: right;\">\n",
       "      <th></th>\n",
       "      <th>_id</th>\n",
       "      <th>ltable.record_id</th>\n",
       "      <th>rtable.record_id</th>\n",
       "      <th>ltable.author</th>\n",
       "      <th>ltable.date</th>\n",
       "      <th>ltable.length</th>\n",
       "      <th>ltable.price</th>\n",
       "      <th>ltable.publisher</th>\n",
       "      <th>ltable.title</th>\n",
       "      <th>rtable.author</th>\n",
       "      <th>rtable.date</th>\n",
       "      <th>rtable.length</th>\n",
       "      <th>rtable.price</th>\n",
       "      <th>rtable.publisher</th>\n",
       "      <th>rtable.title</th>\n",
       "    </tr>\n",
       "  </thead>\n",
       "  <tbody>\n",
       "    <tr>\n",
       "      <th>44</th>\n",
       "      <td>44</td>\n",
       "      <td>10</td>\n",
       "      <td>6609</td>\n",
       "      <td>Phil Pepe</td>\n",
       "      <td>Apr 07, 2015</td>\n",
       "      <td>224.00</td>\n",
       "      <td>16.99</td>\n",
       "      <td>Sports Publishing</td>\n",
       "      <td>Yankee Doodles</td>\n",
       "      <td>Ron Santo, Phil Pepe, Ernie Banks, Ryne Sandberg</td>\n",
       "      <td>April 2005</td>\n",
       "      <td>224.00</td>\n",
       "      <td>15.99</td>\n",
       "      <td>Triumph Books</td>\n",
       "      <td>Few and Chosen Cubs</td>\n",
       "    </tr>\n",
       "  </tbody>\n",
       "</table>\n",
       "</div>"
      ],
      "text/plain": [
       "    _id  ltable.record_id  rtable.record_id ltable.author   ltable.date        ltable.length         ltable.price   ltable.publisher    ltable.title                                      rtable.author rtable.date        rtable.length         rtable.price rtable.publisher         rtable.title\n",
       "44  44   10                6609              Phil Pepe     Apr 07, 2015               224.00                16.99  Sports Publishing  Yankee Doodles   Ron Santo, Phil Pepe, Ernie Banks, Ryne Sandberg  April 2005               224.00                15.99  Triumph Books    Few and Chosen Cubs"
      ]
     },
     "execution_count": 95,
     "metadata": {},
     "output_type": "execute_result"
    }
   ],
   "source": [
    "raw_ebooks1_candset_data[raw_ebooks1_candset_data['_id'] == 44]"
   ]
  },
  {
   "cell_type": "code",
   "execution_count": 96,
   "metadata": {},
   "outputs": [
    {
     "data": {
      "text/plain": [
       "18383"
      ]
     },
     "execution_count": 96,
     "metadata": {},
     "output_type": "execute_result"
    }
   ],
   "source": [
    "len(raw_ebooks1_candset_data)"
   ]
  },
  {
   "cell_type": "code",
   "execution_count": 108,
   "metadata": {},
   "outputs": [
    {
     "data": {
      "text/plain": [
       "400"
      ]
     },
     "execution_count": 108,
     "metadata": {},
     "output_type": "execute_result"
    }
   ],
   "source": [
    "len(raw_ebooks1_labeled_data)"
   ]
  },
  {
   "cell_type": "code",
   "execution_count": 107,
   "metadata": {},
   "outputs": [
    {
     "data": {
      "text/plain": [
       "131"
      ]
     },
     "execution_count": 107,
     "metadata": {},
     "output_type": "execute_result"
    }
   ],
   "source": [
    "len(raw_ebooks1_labeled_data[raw_ebooks1_labeled_data['gold'] == 1])"
   ]
  },
  {
   "cell_type": "markdown",
   "metadata": {},
   "source": [
    "131 duplicates in labeled data, warum?"
   ]
  },
  {
   "cell_type": "code",
   "execution_count": 105,
   "metadata": {
    "scrolled": true
   },
   "outputs": [
    {
     "data": {
      "text/html": [
       "<div>\n",
       "<style scoped>\n",
       "    .dataframe tbody tr th:only-of-type {\n",
       "        vertical-align: middle;\n",
       "    }\n",
       "\n",
       "    .dataframe tbody tr th {\n",
       "        vertical-align: top;\n",
       "    }\n",
       "\n",
       "    .dataframe thead th {\n",
       "        text-align: right;\n",
       "    }\n",
       "</style>\n",
       "<table border=\"1\" class=\"dataframe\">\n",
       "  <thead>\n",
       "    <tr style=\"text-align: right;\">\n",
       "      <th></th>\n",
       "      <th>_id</th>\n",
       "      <th>ltable.record_id</th>\n",
       "      <th>rtable.record_id</th>\n",
       "      <th>ltable.author</th>\n",
       "      <th>ltable.date</th>\n",
       "      <th>ltable.description</th>\n",
       "      <th>ltable.length</th>\n",
       "      <th>ltable.price</th>\n",
       "      <th>ltable.publisher</th>\n",
       "      <th>ltable.title</th>\n",
       "      <th>rtable.author</th>\n",
       "      <th>rtable.date</th>\n",
       "      <th>rtable.description</th>\n",
       "      <th>rtable.length</th>\n",
       "      <th>rtable.price</th>\n",
       "      <th>rtable.publisher</th>\n",
       "      <th>rtable.title</th>\n",
       "      <th>gold</th>\n",
       "    </tr>\n",
       "  </thead>\n",
       "  <tbody>\n",
       "  </tbody>\n",
       "</table>\n",
       "</div>"
      ],
      "text/plain": [
       "Empty DataFrame\n",
       "Columns: [_id, ltable.record_id, rtable.record_id, ltable.author, ltable.date, ltable.description, ltable.length, ltable.price, ltable.publisher, ltable.title, rtable.author, rtable.date, rtable.description, rtable.length, rtable.price, rtable.publisher, rtable.title, gold]\n",
       "Index: []"
      ]
     },
     "execution_count": 105,
     "metadata": {},
     "output_type": "execute_result"
    }
   ],
   "source": [
    "raw_ebooks1_labeled_data[raw_ebooks1_labeled_data.duplicated()]"
   ]
  },
  {
   "cell_type": "code",
   "execution_count": 102,
   "metadata": {},
   "outputs": [
    {
     "data": {
      "text/html": [
       "<div>\n",
       "<style scoped>\n",
       "    .dataframe tbody tr th:only-of-type {\n",
       "        vertical-align: middle;\n",
       "    }\n",
       "\n",
       "    .dataframe tbody tr th {\n",
       "        vertical-align: top;\n",
       "    }\n",
       "\n",
       "    .dataframe thead th {\n",
       "        text-align: right;\n",
       "    }\n",
       "</style>\n",
       "<table border=\"1\" class=\"dataframe\">\n",
       "  <thead>\n",
       "    <tr style=\"text-align: right;\">\n",
       "      <th></th>\n",
       "      <th>_id</th>\n",
       "      <th>ltable.record_id</th>\n",
       "      <th>rtable.record_id</th>\n",
       "      <th>ltable.author</th>\n",
       "      <th>ltable.date</th>\n",
       "      <th>ltable.description</th>\n",
       "      <th>ltable.length</th>\n",
       "      <th>ltable.price</th>\n",
       "      <th>ltable.publisher</th>\n",
       "      <th>ltable.title</th>\n",
       "      <th>rtable.author</th>\n",
       "      <th>rtable.date</th>\n",
       "      <th>rtable.description</th>\n",
       "      <th>rtable.length</th>\n",
       "      <th>rtable.price</th>\n",
       "      <th>rtable.publisher</th>\n",
       "      <th>rtable.title</th>\n",
       "      <th>gold</th>\n",
       "    </tr>\n",
       "  </thead>\n",
       "  <tbody>\n",
       "    <tr>\n",
       "      <th>3</th>\n",
       "      <td>107</td>\n",
       "      <td>92</td>\n",
       "      <td>6590</td>\n",
       "      <td>Adrian Dater</td>\n",
       "      <td>1-Apr-09</td>\n",
       "      <td>This series will help baseball lovers get the most out of being a fan. It takes years of franchise history and distills it to the absolute best and most compelling, identifying in an informative, lively, and illuminating way the personalities, events, and facts every fan should know without hesitation. Numbers, nicknames, memorable moments, singular achievements, and signature plays all highlight the list of 100.</td>\n",
       "      <td>256</td>\n",
       "      <td>9.99</td>\n",
       "      <td>Triumph Books</td>\n",
       "      <td>100 Things Rockies Fans Should Know &amp; Do Before They Die</td>\n",
       "      <td>Adrian Dater</td>\n",
       "      <td>Apr-09</td>\n",
       "      <td>All baseball enthusiasts want to see their team win the World Series in their lifetime. But being a fan is about more than watching your team win it all. This series will help baseball lovers get the most out of being a fan. It takes years of franchise history and distills it to the absolute best and most compelling, identifying in an informative, lively, and illuminating way the personalities, events, and facts every fan should know without hesitation. Numbers, nicknames, memorable moments, singular achievements, and signature plays all highlight the list of 100. 100 Things also includes things baseball fans should see and do before they join their heroes at the Pearly Gates. This book contains numerous tips and suggestions for enjoying a team on a different, more involved, level.\\nless</td>\n",
       "      <td>256</td>\n",
       "      <td>11.99</td>\n",
       "      <td>Triumph Books</td>\n",
       "      <td>100 Things Rockies Fans Should Know &amp; Do Before They Die</td>\n",
       "      <td>1</td>\n",
       "    </tr>\n",
       "  </tbody>\n",
       "</table>\n",
       "</div>"
      ],
      "text/plain": [
       "   _id  ltable.record_id  rtable.record_id ltable.author ltable.date                                                                                                                                                                                                                                                                                                                                                                                                                ltable.description  ltable.length         ltable.price ltable.publisher                                              ltable.title rtable.author rtable.date  \\\n",
       "3  107  92                6590              Adrian Dater  1-Apr-09    This series will help baseball lovers get the most out of being a fan. It takes years of franchise history and distills it to the absolute best and most compelling, identifying in an informative, lively, and illuminating way the personalities, events, and facts every fan should know without hesitation. Numbers, nicknames, memorable moments, singular achievements, and signature plays all highlight the list of 100.  256                           9.99  Triumph Books    100 Things Rockies Fans Should Know & Do Before They Die  Adrian Dater  Apr-09       \n",
       "\n",
       "                                                                                                                                                                                                                                                                                                                                                                                                                                                                                                                                                                                                                                                                                                                                                                                                               rtable.description  rtable.length         rtable.price rtable.publisher                                              rtable.title  gold  \n",
       "3  All baseball enthusiasts want to see their team win the World Series in their lifetime. But being a fan is about more than watching your team win it all. This series will help baseball lovers get the most out of being a fan. It takes years of franchise history and distills it to the absolute best and most compelling, identifying in an informative, lively, and illuminating way the personalities, events, and facts every fan should know without hesitation. Numbers, nicknames, memorable moments, singular achievements, and signature plays all highlight the list of 100. 100 Things also includes things baseball fans should see and do before they join their heroes at the Pearly Gates. This book contains numerous tips and suggestions for enjoying a team on a different, more involved, level.\\nless  256                          11.99  Triumph Books    100 Things Rockies Fans Should Know & Do Before They Die  1     "
      ]
     },
     "execution_count": 102,
     "metadata": {},
     "output_type": "execute_result"
    }
   ],
   "source": [
    "raw_ebooks1_labeled_data[raw_ebooks1_labeled_data['ltable.record_id'] == 92]"
   ]
  },
  {
   "cell_type": "code",
   "execution_count": 110,
   "metadata": {},
   "outputs": [
    {
     "data": {
      "text/html": [
       "<div>\n",
       "<style scoped>\n",
       "    .dataframe tbody tr th:only-of-type {\n",
       "        vertical-align: middle;\n",
       "    }\n",
       "\n",
       "    .dataframe tbody tr th {\n",
       "        vertical-align: top;\n",
       "    }\n",
       "\n",
       "    .dataframe thead th {\n",
       "        text-align: right;\n",
       "    }\n",
       "</style>\n",
       "<table border=\"1\" class=\"dataframe\">\n",
       "  <thead>\n",
       "    <tr style=\"text-align: right;\">\n",
       "      <th></th>\n",
       "      <th>record_id</th>\n",
       "      <th>name</th>\n",
       "      <th>description</th>\n",
       "      <th>producer</th>\n",
       "      <th>price</th>\n",
       "    </tr>\n",
       "  </thead>\n",
       "  <tbody>\n",
       "    <tr>\n",
       "      <th>0</th>\n",
       "      <td>1</td>\n",
       "      <td>Game of My Life Virginia Tech Hokies</td>\n",
       "      <td>Virginia Tech’s Shayne Graham trots onto the field at West Virginia on November 6, 1999, with two thoughts in his mind. One is a missed field goal that would have beaten Miami a year earlier. The other is the 44-yard field goal he is about to try against the Mountaineers, a kick he must make if the Hokies are to stay unbeaten and on track for a national championship. Head down, he focuses on his mark as the ball is snapped. He steps forward, the dream of an entire team resting with his leg. Now, hear Graham’s memory of that kick in his own words, for the first time. Game of My Life: Virginia Tech Hokies, first published in 2006, celebrates the extraordinary football and basketball moments that have shaped the college’s rich athletic heritage. Through interviews with some of the school’s most prestigious athletes, Hokies fans can relive the big games that defined the school’s winning tradition.Carroll Dale, later a fixture with the Green Bay Packers, dovearms outstretchedto haul in a crucial two-point conversion in a 1957 game against the University of Richmond. Les Henson shot from the baselinethe other baselineas the clock neared zero against Florida State in 1980. Chris Smith went well beyond the \"double-double\" standard for points and rebounds. How about 30 and 31 against Marshall in 1959? Corey Moore made life miserable for Clemson quarterback Brandon Streeter one night in 1999. Bruce Smith did the same for Duke quarterback Ben Bennett in 1983. The Hokies’ Jim Pyne, meanwhile, made sure Syracuse’s Kevin Mitchell didn’t do the same to Tech quarterback Maurice DeShazo in 1993. Carlos Dixon, Mike Imoh, Andre Davis, Dell Curry, Bryan Still, Don Strock, Bryan Randallall the Tech greats from the gridiron and hardwoodare in these pages, including coach Frank Beamer. Join thousands of Virginia Tech fans in remembering these cherished stories. For the athletes within, these truly were the games of their lives.</td>\n",
       "      <td>Sports Publishing</td>\n",
       "      <td>16.99</td>\n",
       "    </tr>\n",
       "  </tbody>\n",
       "</table>\n",
       "</div>"
      ],
      "text/plain": [
       "   record_id                                  name  \\\n",
       "0  1          Game of My Life Virginia Tech Hokies   \n",
       "\n",
       "                                                                                                                                                                                                                                                                                                                                                                                                                                                                                                                                                                                                                                                                                                                                                                                                                                                                                                                                                                                                                                                                                                                                                                                                                                                                                                                                                                                                                                                                                                                                                                                                                                                                                                                                                                                                                                                                                                                                                                                                          description  \\\n",
       "0  Virginia Tech’s Shayne Graham trots onto the field at West Virginia on November 6, 1999, with two thoughts in his mind. One is a missed field goal that would have beaten Miami a year earlier. The other is the 44-yard field goal he is about to try against the Mountaineers, a kick he must make if the Hokies are to stay unbeaten and on track for a national championship. Head down, he focuses on his mark as the ball is snapped. He steps forward, the dream of an entire team resting with his leg. Now, hear Graham’s memory of that kick in his own words, for the first time. Game of My Life: Virginia Tech Hokies, first published in 2006, celebrates the extraordinary football and basketball moments that have shaped the college’s rich athletic heritage. Through interviews with some of the school’s most prestigious athletes, Hokies fans can relive the big games that defined the school’s winning tradition.Carroll Dale, later a fixture with the Green Bay Packers, dovearms outstretchedto haul in a crucial two-point conversion in a 1957 game against the University of Richmond. Les Henson shot from the baselinethe other baselineas the clock neared zero against Florida State in 1980. Chris Smith went well beyond the \"double-double\" standard for points and rebounds. How about 30 and 31 against Marshall in 1959? Corey Moore made life miserable for Clemson quarterback Brandon Streeter one night in 1999. Bruce Smith did the same for Duke quarterback Ben Bennett in 1983. The Hokies’ Jim Pyne, meanwhile, made sure Syracuse’s Kevin Mitchell didn’t do the same to Tech quarterback Maurice DeShazo in 1993. Carlos Dixon, Mike Imoh, Andre Davis, Dell Curry, Bryan Still, Don Strock, Bryan Randallall the Tech greats from the gridiron and hardwoodare in these pages, including coach Frank Beamer. Join thousands of Virginia Tech fans in remembering these cherished stories. For the athletes within, these truly were the games of their lives.   \n",
       "\n",
       "            producer                price  \n",
       "0  Sports Publishing                16.99  "
      ]
     },
     "execution_count": 110,
     "metadata": {},
     "output_type": "execute_result"
    }
   ],
   "source": [
    "itunes_data.head(1)"
   ]
  },
  {
   "cell_type": "code",
   "execution_count": 111,
   "metadata": {},
   "outputs": [],
   "source": [
    "itunes_data['source'] = 'itunes'"
   ]
  },
  {
   "cell_type": "code",
   "execution_count": 112,
   "metadata": {},
   "outputs": [],
   "source": [
    "ebooks_data['source'] = 'ebooks'"
   ]
  },
  {
   "cell_type": "code",
   "execution_count": 113,
   "metadata": {},
   "outputs": [],
   "source": [
    "ebooks1_all = pd.concat([itunes_data, ebooks_data])"
   ]
  },
  {
   "cell_type": "code",
   "execution_count": 114,
   "metadata": {},
   "outputs": [
    {
     "data": {
      "text/plain": [
       "True"
      ]
     },
     "execution_count": 114,
     "metadata": {},
     "output_type": "execute_result"
    }
   ],
   "source": [
    "len(ebooks1_all) == len(itunes_data) + len(ebooks_data)"
   ]
  },
  {
   "cell_type": "code",
   "execution_count": 2,
   "metadata": {},
   "outputs": [],
   "source": [
    "ebooks1_all_path = (r'/home/ubuntu/jupyter/ServerX/1_Standard Data Integration/Sample Datasets'\n",
    "                    r'/Processed Data/product_samples/')"
   ]
  },
  {
   "cell_type": "code",
   "execution_count": 119,
   "metadata": {},
   "outputs": [],
   "source": [
    "ebooks1_all.rename(columns={'record_id':'Id'}, inplace=True)"
   ]
  },
  {
   "cell_type": "code",
   "execution_count": 120,
   "metadata": {},
   "outputs": [],
   "source": [
    "ebooks1_all.to_csv(ebooks1_all_path + 'ebooks1_all.csv')"
   ]
  },
  {
   "cell_type": "code",
   "execution_count": 121,
   "metadata": {},
   "outputs": [
    {
     "data": {
      "text/html": [
       "<div>\n",
       "<style scoped>\n",
       "    .dataframe tbody tr th:only-of-type {\n",
       "        vertical-align: middle;\n",
       "    }\n",
       "\n",
       "    .dataframe tbody tr th {\n",
       "        vertical-align: top;\n",
       "    }\n",
       "\n",
       "    .dataframe thead th {\n",
       "        text-align: right;\n",
       "    }\n",
       "</style>\n",
       "<table border=\"1\" class=\"dataframe\">\n",
       "  <thead>\n",
       "    <tr style=\"text-align: right;\">\n",
       "      <th></th>\n",
       "      <th>Id</th>\n",
       "      <th>name</th>\n",
       "      <th>description</th>\n",
       "      <th>producer</th>\n",
       "      <th>price</th>\n",
       "      <th>source</th>\n",
       "    </tr>\n",
       "  </thead>\n",
       "  <tbody>\n",
       "  </tbody>\n",
       "</table>\n",
       "</div>"
      ],
      "text/plain": [
       "Empty DataFrame\n",
       "Columns: [Id, name, description, producer, price, source]\n",
       "Index: []"
      ]
     },
     "execution_count": 121,
     "metadata": {},
     "output_type": "execute_result"
    }
   ],
   "source": [
    "ebooks1_all[ebooks1_all['description'] == None]"
   ]
  },
  {
   "cell_type": "code",
   "execution_count": 123,
   "metadata": {},
   "outputs": [
    {
     "data": {
      "text/html": [
       "<div>\n",
       "<style scoped>\n",
       "    .dataframe tbody tr th:only-of-type {\n",
       "        vertical-align: middle;\n",
       "    }\n",
       "\n",
       "    .dataframe tbody tr th {\n",
       "        vertical-align: top;\n",
       "    }\n",
       "\n",
       "    .dataframe thead th {\n",
       "        text-align: right;\n",
       "    }\n",
       "</style>\n",
       "<table border=\"1\" class=\"dataframe\">\n",
       "  <thead>\n",
       "    <tr style=\"text-align: right;\">\n",
       "      <th></th>\n",
       "      <th>Id</th>\n",
       "      <th>name</th>\n",
       "      <th>description</th>\n",
       "      <th>producer</th>\n",
       "      <th>price</th>\n",
       "      <th>source</th>\n",
       "    </tr>\n",
       "  </thead>\n",
       "  <tbody>\n",
       "  </tbody>\n",
       "</table>\n",
       "</div>"
      ],
      "text/plain": [
       "Empty DataFrame\n",
       "Columns: [Id, name, description, producer, price, source]\n",
       "Index: []"
      ]
     },
     "execution_count": 123,
     "metadata": {},
     "output_type": "execute_result"
    }
   ],
   "source": [
    "ebooks1_all[ebooks1_all['producer'] == None]"
   ]
  },
  {
   "cell_type": "code",
   "execution_count": 124,
   "metadata": {},
   "outputs": [
    {
     "data": {
      "text/html": [
       "<div>\n",
       "<style scoped>\n",
       "    .dataframe tbody tr th:only-of-type {\n",
       "        vertical-align: middle;\n",
       "    }\n",
       "\n",
       "    .dataframe tbody tr th {\n",
       "        vertical-align: top;\n",
       "    }\n",
       "\n",
       "    .dataframe thead th {\n",
       "        text-align: right;\n",
       "    }\n",
       "</style>\n",
       "<table border=\"1\" class=\"dataframe\">\n",
       "  <thead>\n",
       "    <tr style=\"text-align: right;\">\n",
       "      <th></th>\n",
       "      <th>Id</th>\n",
       "      <th>name</th>\n",
       "      <th>description</th>\n",
       "      <th>producer</th>\n",
       "      <th>price</th>\n",
       "      <th>source</th>\n",
       "    </tr>\n",
       "  </thead>\n",
       "  <tbody>\n",
       "  </tbody>\n",
       "</table>\n",
       "</div>"
      ],
      "text/plain": [
       "Empty DataFrame\n",
       "Columns: [Id, name, description, producer, price, source]\n",
       "Index: []"
      ]
     },
     "execution_count": 124,
     "metadata": {},
     "output_type": "execute_result"
    }
   ],
   "source": [
    "ebooks1_all[ebooks1_all['price'] == None]"
   ]
  },
  {
   "cell_type": "code",
   "execution_count": 125,
   "metadata": {},
   "outputs": [
    {
     "data": {
      "text/plain": [
       "20610"
      ]
     },
     "execution_count": 125,
     "metadata": {},
     "output_type": "execute_result"
    }
   ],
   "source": [
    "len(ebooks1_all)"
   ]
  },
  {
   "cell_type": "code",
   "execution_count": 4,
   "metadata": {},
   "outputs": [],
   "source": [
    "ebooks1_all = pd.read_csv(ebooks1_all_path + 'ebooks1_all.csv')"
   ]
  },
  {
   "cell_type": "code",
   "execution_count": 5,
   "metadata": {},
   "outputs": [
    {
     "data": {
      "text/html": [
       "<div>\n",
       "<style scoped>\n",
       "    .dataframe tbody tr th:only-of-type {\n",
       "        vertical-align: middle;\n",
       "    }\n",
       "\n",
       "    .dataframe tbody tr th {\n",
       "        vertical-align: top;\n",
       "    }\n",
       "\n",
       "    .dataframe thead th {\n",
       "        text-align: right;\n",
       "    }\n",
       "</style>\n",
       "<table border=\"1\" class=\"dataframe\">\n",
       "  <thead>\n",
       "    <tr style=\"text-align: right;\">\n",
       "      <th></th>\n",
       "      <th>Unnamed: 0</th>\n",
       "      <th>Id</th>\n",
       "      <th>name</th>\n",
       "      <th>description</th>\n",
       "      <th>producer</th>\n",
       "      <th>price</th>\n",
       "      <th>source</th>\n",
       "    </tr>\n",
       "  </thead>\n",
       "  <tbody>\n",
       "    <tr>\n",
       "      <th>0</th>\n",
       "      <td>0</td>\n",
       "      <td>1</td>\n",
       "      <td>Game of My Life Virginia Tech Hokies</td>\n",
       "      <td>Virginia Tech’s Shayne Graham trots onto the field at West Virginia on November 6, 1999, with two thoughts in his mind. One is a missed field goal that would have beaten Miami a year earlier. The other is the 44-yard field goal he is about to try against the Mountaineers, a kick he must make if the Hokies are to stay unbeaten and on track for a national championship. Head down, he focuses on his mark as the ball is snapped. He steps forward, the dream of an entire team resting with his leg. Now, hear Graham’s memory of that kick in his own words, for the first time. Game of My Life: Virginia Tech Hokies, first published in 2006, celebrates the extraordinary football and basketball moments that have shaped the college’s rich athletic heritage. Through interviews with some of the school’s most prestigious athletes, Hokies fans can relive the big games that defined the school’s winning tradition.Carroll Dale, later a fixture with the Green Bay Packers, dovearms outstretchedto haul in a crucial two-point conversion in a 1957 game against the University of Richmond. Les Henson shot from the baselinethe other baselineas the clock neared zero against Florida State in 1980. Chris Smith went well beyond the \"double-double\" standard for points and rebounds. How about 30 and 31 against Marshall in 1959? Corey Moore made life miserable for Clemson quarterback Brandon Streeter one night in 1999. Bruce Smith did the same for Duke quarterback Ben Bennett in 1983. The Hokies’ Jim Pyne, meanwhile, made sure Syracuse’s Kevin Mitchell didn’t do the same to Tech quarterback Maurice DeShazo in 1993. Carlos Dixon, Mike Imoh, Andre Davis, Dell Curry, Bryan Still, Don Strock, Bryan Randallall the Tech greats from the gridiron and hardwoodare in these pages, including coach Frank Beamer. Join thousands of Virginia Tech fans in remembering these cherished stories. For the athletes within, these truly were the games of their lives.</td>\n",
       "      <td>Sports Publishing</td>\n",
       "      <td>16.99</td>\n",
       "      <td>itunes</td>\n",
       "    </tr>\n",
       "    <tr>\n",
       "      <th>1</th>\n",
       "      <td>1</td>\n",
       "      <td>2</td>\n",
       "      <td>Dale Brown's Basketball Coaches Organizational Handbook (2nd Edition)</td>\n",
       "      <td>In this practical, easy-to-read and apply book, LSU's coach of 25 years shows coaches at all competitive levels how they can become more productive and effective with less time through better organizational skills. Coach Brown covers practically every aspect of the coaching profession as he allows you to learn from his mistakes and successes. Includes chapters on managers' duties and guidelines, team meetings, motivation, practice organization, scouting, road trips, media relations and recruiting. Even includes a chapter on organizing summer youth basketball camps! A must have for coaches at any level of play.</td>\n",
       "      <td>Coaches Choice</td>\n",
       "      <td>19.99</td>\n",
       "      <td>itunes</td>\n",
       "    </tr>\n",
       "  </tbody>\n",
       "</table>\n",
       "</div>"
      ],
      "text/plain": [
       "   Unnamed: 0  Id                                                                   name  \\\n",
       "0  0           1   Game of My Life Virginia Tech Hokies                                    \n",
       "1  1           2   Dale Brown's Basketball Coaches Organizational Handbook (2nd Edition)   \n",
       "\n",
       "                                                                                                                                                                                                                                                                                                                                                                                                                                                                                                                                                                                                                                                                                                                                                                                                                                                                                                                                                                                                                                                                                                                                                                                                                                                                                                                                                                                                                                                                                                                                                                                                                                                                                                                                                                                                                                                                                                                                                                                                          description  \\\n",
       "0  Virginia Tech’s Shayne Graham trots onto the field at West Virginia on November 6, 1999, with two thoughts in his mind. One is a missed field goal that would have beaten Miami a year earlier. The other is the 44-yard field goal he is about to try against the Mountaineers, a kick he must make if the Hokies are to stay unbeaten and on track for a national championship. Head down, he focuses on his mark as the ball is snapped. He steps forward, the dream of an entire team resting with his leg. Now, hear Graham’s memory of that kick in his own words, for the first time. Game of My Life: Virginia Tech Hokies, first published in 2006, celebrates the extraordinary football and basketball moments that have shaped the college’s rich athletic heritage. Through interviews with some of the school’s most prestigious athletes, Hokies fans can relive the big games that defined the school’s winning tradition.Carroll Dale, later a fixture with the Green Bay Packers, dovearms outstretchedto haul in a crucial two-point conversion in a 1957 game against the University of Richmond. Les Henson shot from the baselinethe other baselineas the clock neared zero against Florida State in 1980. Chris Smith went well beyond the \"double-double\" standard for points and rebounds. How about 30 and 31 against Marshall in 1959? Corey Moore made life miserable for Clemson quarterback Brandon Streeter one night in 1999. Bruce Smith did the same for Duke quarterback Ben Bennett in 1983. The Hokies’ Jim Pyne, meanwhile, made sure Syracuse’s Kevin Mitchell didn’t do the same to Tech quarterback Maurice DeShazo in 1993. Carlos Dixon, Mike Imoh, Andre Davis, Dell Curry, Bryan Still, Don Strock, Bryan Randallall the Tech greats from the gridiron and hardwoodare in these pages, including coach Frank Beamer. Join thousands of Virginia Tech fans in remembering these cherished stories. For the athletes within, these truly were the games of their lives.   \n",
       "1  In this practical, easy-to-read and apply book, LSU's coach of 25 years shows coaches at all competitive levels how they can become more productive and effective with less time through better organizational skills. Coach Brown covers practically every aspect of the coaching profession as he allows you to learn from his mistakes and successes. Includes chapters on managers' duties and guidelines, team meetings, motivation, practice organization, scouting, road trips, media relations and recruiting. Even includes a chapter on organizing summer youth basketball camps! A must have for coaches at any level of play.                                                                                                                                                                                                                                                                                                                                                                                                                                                                                                                                                                                                                                                                                                                                                                                                                                                                                                                                                                                                                                                                                                                                                                                                                                                                                                                                                                            \n",
       "\n",
       "            producer                price  source  \n",
       "0  Sports Publishing                16.99  itunes  \n",
       "1  Coaches Choice                   19.99  itunes  "
      ]
     },
     "execution_count": 5,
     "metadata": {},
     "output_type": "execute_result"
    }
   ],
   "source": [
    "ebooks1_all.head(2)"
   ]
  }
 ],
 "metadata": {
  "kernelspec": {
   "display_name": "Python 3",
   "language": "python",
   "name": "python3"
  },
  "language_info": {
   "codemirror_mode": {
    "name": "ipython",
    "version": 3
   },
   "file_extension": ".py",
   "mimetype": "text/x-python",
   "name": "python",
   "nbconvert_exporter": "python",
   "pygments_lexer": "ipython3",
   "version": "3.7.0"
  }
 },
 "nbformat": 4,
 "nbformat_minor": 2
}
