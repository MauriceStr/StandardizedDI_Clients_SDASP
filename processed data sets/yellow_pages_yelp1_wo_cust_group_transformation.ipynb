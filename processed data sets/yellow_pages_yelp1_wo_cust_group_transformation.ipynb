{
 "cells": [
  {
   "cell_type": "code",
   "execution_count": 11,
   "metadata": {},
   "outputs": [],
   "source": [
    "import os\n",
    "import pandas as pd\n",
    "pd.options.display.float_format = '{:20,.2f}'.format\n",
    "pd.set_option('display.max_rows', 5000)\n",
    "pd.set_option('display.max_columns', 5000)\n",
    "pd.set_option('display.width', 1000)\n",
    "pd.set_option('display.max_colwidth', -1)"
   ]
  },
  {
   "cell_type": "code",
   "execution_count": 12,
   "metadata": {},
   "outputs": [],
   "source": [
    "yellow_pages_yelp_path = (r'/home/ubuntu/jupyter/ServerX/1_Standard Data Integration/Sample Datasets'\n",
    "                r'/Unprocessed Data/customer_samples/yellow_pages_yelp_wo_cust_group')"
   ]
  },
  {
   "cell_type": "markdown",
   "metadata": {},
   "source": [
    "## Yellow Pages data"
   ]
  },
  {
   "cell_type": "code",
   "execution_count": 13,
   "metadata": {},
   "outputs": [],
   "source": [
    "yp_fields = ['id', 'name', 'address', 'city', 'zipcode', 'phone']"
   ]
  },
  {
   "cell_type": "code",
   "execution_count": 14,
   "metadata": {},
   "outputs": [],
   "source": [
    "yellow_pages_data = pd.read_csv(\n",
    "    os.path.join(yellow_pages_yelp_path, 'yellow_pages.csv'), \n",
    "    sep = ',',\n",
    "    quotechar = '\"',\n",
    "    usecols  = yp_fields,\n",
    "    dtype={'zipcode': 'str'}\n",
    ")[yp_fields]"
   ]
  },
  {
   "cell_type": "code",
   "execution_count": 15,
   "metadata": {},
   "outputs": [],
   "source": [
    "yellow_pages_data.rename(\n",
    "    columns = {\n",
    "        'zipcode': 'postalcode',\n",
    "    },\n",
    "    inplace=True\n",
    ")"
   ]
  },
  {
   "cell_type": "code",
   "execution_count": 16,
   "metadata": {},
   "outputs": [
    {
     "data": {
      "text/html": [
       "<div>\n",
       "<style scoped>\n",
       "    .dataframe tbody tr th:only-of-type {\n",
       "        vertical-align: middle;\n",
       "    }\n",
       "\n",
       "    .dataframe tbody tr th {\n",
       "        vertical-align: top;\n",
       "    }\n",
       "\n",
       "    .dataframe thead th {\n",
       "        text-align: right;\n",
       "    }\n",
       "</style>\n",
       "<table border=\"1\" class=\"dataframe\">\n",
       "  <thead>\n",
       "    <tr style=\"text-align: right;\">\n",
       "      <th></th>\n",
       "      <th>id</th>\n",
       "      <th>name</th>\n",
       "      <th>address</th>\n",
       "      <th>city</th>\n",
       "      <th>postalcode</th>\n",
       "      <th>phone</th>\n",
       "    </tr>\n",
       "  </thead>\n",
       "  <tbody>\n",
       "    <tr>\n",
       "      <th>0</th>\n",
       "      <td>1</td>\n",
       "      <td>Tao Tao Restaurant</td>\n",
       "      <td>175 S Murphy Ave</td>\n",
       "      <td>Sunnyvale</td>\n",
       "      <td>94086</td>\n",
       "      <td>(408) 736-3731</td>\n",
       "    </tr>\n",
       "    <tr>\n",
       "      <th>1</th>\n",
       "      <td>2</td>\n",
       "      <td>Dinner at Buca di Beppo</td>\n",
       "      <td>NaN</td>\n",
       "      <td>NaN</td>\n",
       "      <td>NaN</td>\n",
       "      <td>NaN</td>\n",
       "    </tr>\n",
       "    <tr>\n",
       "      <th>2</th>\n",
       "      <td>3</td>\n",
       "      <td>Sneha South &amp; North Indian Restaurant</td>\n",
       "      <td>1214 Apollo Way # 404-B</td>\n",
       "      <td>Sunnyvale</td>\n",
       "      <td>94085</td>\n",
       "      <td>(408) 481-0700</td>\n",
       "    </tr>\n",
       "    <tr>\n",
       "      <th>3</th>\n",
       "      <td>4</td>\n",
       "      <td>The Armenian Gourmet</td>\n",
       "      <td>929 E Duane Ave</td>\n",
       "      <td>Sunnyvale</td>\n",
       "      <td>94085</td>\n",
       "      <td>(408) 732-3910</td>\n",
       "    </tr>\n",
       "    <tr>\n",
       "      <th>4</th>\n",
       "      <td>5</td>\n",
       "      <td>Round Table Pizza</td>\n",
       "      <td>415 N Mary Ave</td>\n",
       "      <td>Sunnyvale</td>\n",
       "      <td>94085</td>\n",
       "      <td>(408) 733-1365</td>\n",
       "    </tr>\n",
       "  </tbody>\n",
       "</table>\n",
       "</div>"
      ],
      "text/plain": [
       "   id                                   name                  address        city postalcode           phone\n",
       "0  1   Tao Tao Restaurant                     175 S Murphy Ave         Sunnyvale   94086      (408) 736-3731\n",
       "1  2   Dinner at Buca di Beppo                NaN                      NaN         NaN        NaN           \n",
       "2  3   Sneha South & North Indian Restaurant  1214 Apollo Way # 404-B  Sunnyvale   94085      (408) 481-0700\n",
       "3  4   The Armenian Gourmet                   929 E Duane Ave          Sunnyvale   94085      (408) 732-3910\n",
       "4  5   Round Table Pizza                      415 N Mary Ave           Sunnyvale   94085      (408) 733-1365"
      ]
     },
     "execution_count": 16,
     "metadata": {},
     "output_type": "execute_result"
    }
   ],
   "source": [
    "yellow_pages_data.head()"
   ]
  },
  {
   "cell_type": "markdown",
   "metadata": {},
   "source": [
    "## Yelp data"
   ]
  },
  {
   "cell_type": "code",
   "execution_count": 18,
   "metadata": {},
   "outputs": [],
   "source": [
    "yelp_fields = ['id', 'name', 'address', 'city', 'zipcode', 'phone']"
   ]
  },
  {
   "cell_type": "code",
   "execution_count": 19,
   "metadata": {},
   "outputs": [],
   "source": [
    "yelp_data = pd.read_csv(\n",
    "    os.path.join(yellow_pages_yelp_path, 'yelp.csv'), \n",
    "    sep = ',',\n",
    "    quotechar = '\"',\n",
    "    usecols  = yelp_fields,\n",
    "    dtype={'zipcode': 'str'}\n",
    ")[yelp_fields]"
   ]
  },
  {
   "cell_type": "code",
   "execution_count": 20,
   "metadata": {},
   "outputs": [],
   "source": [
    "yelp_data.rename(\n",
    "    columns = {\n",
    "        'zipcode': 'postalcode',\n",
    "    },\n",
    "    inplace=True\n",
    ")"
   ]
  },
  {
   "cell_type": "code",
   "execution_count": 21,
   "metadata": {},
   "outputs": [
    {
     "data": {
      "text/html": [
       "<div>\n",
       "<style scoped>\n",
       "    .dataframe tbody tr th:only-of-type {\n",
       "        vertical-align: middle;\n",
       "    }\n",
       "\n",
       "    .dataframe tbody tr th {\n",
       "        vertical-align: top;\n",
       "    }\n",
       "\n",
       "    .dataframe thead th {\n",
       "        text-align: right;\n",
       "    }\n",
       "</style>\n",
       "<table border=\"1\" class=\"dataframe\">\n",
       "  <thead>\n",
       "    <tr style=\"text-align: right;\">\n",
       "      <th></th>\n",
       "      <th>id</th>\n",
       "      <th>name</th>\n",
       "      <th>address</th>\n",
       "      <th>city</th>\n",
       "      <th>postalcode</th>\n",
       "      <th>phone</th>\n",
       "    </tr>\n",
       "  </thead>\n",
       "  <tbody>\n",
       "    <tr>\n",
       "      <th>0</th>\n",
       "      <td>1</td>\n",
       "      <td>The Little Cakes</td>\n",
       "      <td>Sunnyvale, CA 94085</td>\n",
       "      <td>Phone number</td>\n",
       "      <td>NaN</td>\n",
       "      <td>NaN</td>\n",
       "    </tr>\n",
       "    <tr>\n",
       "      <th>1</th>\n",
       "      <td>2</td>\n",
       "      <td>Sunnyvale Cafe</td>\n",
       "      <td>223 E Maude Ave</td>\n",
       "      <td>Sunnyvale</td>\n",
       "      <td>94085</td>\n",
       "      <td>(408) 530-8191</td>\n",
       "    </tr>\n",
       "    <tr>\n",
       "      <th>2</th>\n",
       "      <td>3</td>\n",
       "      <td>Obed Mediterranean Cuisine</td>\n",
       "      <td>911 E Duane Ave</td>\n",
       "      <td>Sunnyvale</td>\n",
       "      <td>94085</td>\n",
       "      <td>(408) 685-2269</td>\n",
       "    </tr>\n",
       "    <tr>\n",
       "      <th>3</th>\n",
       "      <td>4</td>\n",
       "      <td>DishDash</td>\n",
       "      <td>190 S Murphy Ave</td>\n",
       "      <td>Sunnyvale</td>\n",
       "      <td>94086</td>\n",
       "      <td>(408) 774-1889</td>\n",
       "    </tr>\n",
       "    <tr>\n",
       "      <th>4</th>\n",
       "      <td>5</td>\n",
       "      <td>Toofu</td>\n",
       "      <td>S Murphy Ave</td>\n",
       "      <td>Sunnyvale</td>\n",
       "      <td>94085</td>\n",
       "      <td>NaN</td>\n",
       "    </tr>\n",
       "  </tbody>\n",
       "</table>\n",
       "</div>"
      ],
      "text/plain": [
       "   id                        name              address          city postalcode           phone\n",
       "0  1   The Little Cakes            Sunnyvale, CA 94085  Phone number  NaN        NaN           \n",
       "1  2   Sunnyvale Cafe              223 E Maude Ave      Sunnyvale     94085      (408) 530-8191\n",
       "2  3   Obed Mediterranean Cuisine  911 E Duane Ave      Sunnyvale     94085      (408) 685-2269\n",
       "3  4   DishDash                    190 S Murphy Ave     Sunnyvale     94086      (408) 774-1889\n",
       "4  5   Toofu                       S Murphy Ave         Sunnyvale     94085      NaN           "
      ]
     },
     "execution_count": 21,
     "metadata": {},
     "output_type": "execute_result"
    }
   ],
   "source": [
    "yelp_data.head()"
   ]
  },
  {
   "cell_type": "markdown",
   "metadata": {},
   "source": [
    "## Labeled data comparisons"
   ]
  },
  {
   "cell_type": "code",
   "execution_count": 30,
   "metadata": {},
   "outputs": [],
   "source": [
    "lb_fields = ['ltable.id', 'rtable.id', 'gold']"
   ]
  },
  {
   "cell_type": "code",
   "execution_count": 31,
   "metadata": {},
   "outputs": [],
   "source": [
    "labeled_data = pd.read_csv(\n",
    "    os.path.join(yellow_pages_yelp_path, 'labeled_data.csv'), \n",
    "    sep = ',',\n",
    "    quotechar = '\"',\n",
    "    comment = '#',\n",
    "    usecols  = lb_fields,\n",
    "    #dtype = {'gold': 'str'}\n",
    ")[lb_fields]"
   ]
  },
  {
   "cell_type": "code",
   "execution_count": 32,
   "metadata": {},
   "outputs": [],
   "source": [
    "labeled_data.rename(\n",
    "    columns = \n",
    "    {\n",
    "        'ltable.id' : 'yellow_pages_id',\n",
    "        'rtable.id' : 'yelp_id',\n",
    "        'gold'      : 'duplicate'\n",
    "    },\n",
    "    inplace = True\n",
    ")"
   ]
  },
  {
   "cell_type": "markdown",
   "metadata": {},
   "source": [
    "## Cands set"
   ]
  },
  {
   "cell_type": "code",
   "execution_count": 25,
   "metadata": {},
   "outputs": [],
   "source": [
    "cands_data = pd.read_csv(\n",
    "    os.path.join(yellow_pages_yelp_path, 'candset.csv'), \n",
    "    sep = ',',\n",
    "    quotechar = '\"',\n",
    "    comment = '#',\n",
    "    #usecols  = lb_fields,\n",
    "    #dtype = {'gold': 'str'}\n",
    ")#[lb_fields]"
   ]
  },
  {
   "cell_type": "code",
   "execution_count": 26,
   "metadata": {},
   "outputs": [
    {
     "data": {
      "text/html": [
       "<div>\n",
       "<style scoped>\n",
       "    .dataframe tbody tr th:only-of-type {\n",
       "        vertical-align: middle;\n",
       "    }\n",
       "\n",
       "    .dataframe tbody tr th {\n",
       "        vertical-align: top;\n",
       "    }\n",
       "\n",
       "    .dataframe thead th {\n",
       "        text-align: right;\n",
       "    }\n",
       "</style>\n",
       "<table border=\"1\" class=\"dataframe\">\n",
       "  <thead>\n",
       "    <tr style=\"text-align: right;\">\n",
       "      <th></th>\n",
       "      <th>_id</th>\n",
       "      <th>ltable.id</th>\n",
       "      <th>rtable.id</th>\n",
       "      <th>ltable.address</th>\n",
       "      <th>ltable.city</th>\n",
       "      <th>ltable.name</th>\n",
       "      <th>ltable.phone</th>\n",
       "      <th>ltable.state</th>\n",
       "      <th>ltable.zipcode</th>\n",
       "      <th>rtable.address</th>\n",
       "      <th>rtable.city</th>\n",
       "      <th>rtable.name</th>\n",
       "      <th>rtable.phone</th>\n",
       "      <th>rtable.state</th>\n",
       "      <th>rtable.zipcode</th>\n",
       "    </tr>\n",
       "  </thead>\n",
       "  <tbody>\n",
       "    <tr>\n",
       "      <th>0</th>\n",
       "      <td>5</td>\n",
       "      <td>1</td>\n",
       "      <td>54</td>\n",
       "      <td>175 S Murphy Ave</td>\n",
       "      <td>Sunnyvale</td>\n",
       "      <td>Tao Tao Restaurant</td>\n",
       "      <td>(408) 736-3731</td>\n",
       "      <td>CA</td>\n",
       "      <td>94,086.00</td>\n",
       "      <td>141 S Murphy Ave</td>\n",
       "      <td>Sunnyvale</td>\n",
       "      <td>Turmeric Restaurant</td>\n",
       "      <td>(408) 617-9100</td>\n",
       "      <td>CA</td>\n",
       "      <td>94,086.00</td>\n",
       "    </tr>\n",
       "    <tr>\n",
       "      <th>1</th>\n",
       "      <td>8</td>\n",
       "      <td>1</td>\n",
       "      <td>72</td>\n",
       "      <td>175 S Murphy Ave</td>\n",
       "      <td>Sunnyvale</td>\n",
       "      <td>Tao Tao Restaurant</td>\n",
       "      <td>(408) 736-3731</td>\n",
       "      <td>CA</td>\n",
       "      <td>94,086.00</td>\n",
       "      <td>140 S Murphy Ave</td>\n",
       "      <td>Sunnyvale</td>\n",
       "      <td>Tarragon Restaurant</td>\n",
       "      <td>(408) 737-8003</td>\n",
       "      <td>CA</td>\n",
       "      <td>94,086.00</td>\n",
       "    </tr>\n",
       "    <tr>\n",
       "      <th>2</th>\n",
       "      <td>12</td>\n",
       "      <td>1</td>\n",
       "      <td>134</td>\n",
       "      <td>175 S Murphy Ave</td>\n",
       "      <td>Sunnyvale</td>\n",
       "      <td>Tao Tao Restaurant</td>\n",
       "      <td>(408) 736-3731</td>\n",
       "      <td>CA</td>\n",
       "      <td>94,086.00</td>\n",
       "      <td>175 S Murphy Ave</td>\n",
       "      <td>Sunnyvale</td>\n",
       "      <td>Tao Tao Cafe</td>\n",
       "      <td>(408) 736-3731</td>\n",
       "      <td>CA</td>\n",
       "      <td>94,086.00</td>\n",
       "    </tr>\n",
       "    <tr>\n",
       "      <th>3</th>\n",
       "      <td>16</td>\n",
       "      <td>3</td>\n",
       "      <td>141</td>\n",
       "      <td>1214 Apollo Way</td>\n",
       "      <td>NaN</td>\n",
       "      <td>NaN</td>\n",
       "      <td>NaN</td>\n",
       "      <td>NaN</td>\n",
       "      <td>nan</td>\n",
       "      <td>NaN</td>\n",
       "      <td>NaN</td>\n",
       "      <td>NaN</td>\n",
       "      <td>NaN</td>\n",
       "      <td>NaN</td>\n",
       "      <td>nan</td>\n",
       "    </tr>\n",
       "    <tr>\n",
       "      <th>4</th>\n",
       "      <td>22</td>\n",
       "      <td>7</td>\n",
       "      <td>46</td>\n",
       "      <td>528 Lawrence Expy</td>\n",
       "      <td>Sunnyvale</td>\n",
       "      <td>Tasty Indian Pizza</td>\n",
       "      <td>(408) 738-8761</td>\n",
       "      <td>CA</td>\n",
       "      <td>94,085.00</td>\n",
       "      <td>528 Lawrence Expy</td>\n",
       "      <td>Sunnyvale</td>\n",
       "      <td>Tasty Subs &amp; Pizza</td>\n",
       "      <td>(408) 738-8761</td>\n",
       "      <td>CA</td>\n",
       "      <td>94,085.00</td>\n",
       "    </tr>\n",
       "  </tbody>\n",
       "</table>\n",
       "</div>"
      ],
      "text/plain": [
       "   _id  ltable.id  rtable.id     ltable.address ltable.city         ltable.name    ltable.phone ltable.state       ltable.zipcode     rtable.address rtable.city          rtable.name    rtable.phone rtable.state       rtable.zipcode\n",
       "0  5    1          54         175 S Murphy Ave   Sunnyvale   Tao Tao Restaurant  (408) 736-3731  CA                     94,086.00  141 S Murphy Ave   Sunnyvale   Turmeric Restaurant  (408) 617-9100  CA                     94,086.00\n",
       "1  8    1          72         175 S Murphy Ave   Sunnyvale   Tao Tao Restaurant  (408) 736-3731  CA                     94,086.00  140 S Murphy Ave   Sunnyvale   Tarragon Restaurant  (408) 737-8003  CA                     94,086.00\n",
       "2  12   1          134        175 S Murphy Ave   Sunnyvale   Tao Tao Restaurant  (408) 736-3731  CA                     94,086.00  175 S Murphy Ave   Sunnyvale   Tao Tao Cafe         (408) 736-3731  CA                     94,086.00\n",
       "3  16   3          141        1214 Apollo Way    NaN         NaN                 NaN             NaN                          nan  NaN                NaN         NaN                  NaN             NaN                          nan\n",
       "4  22   7          46         528 Lawrence Expy  Sunnyvale   Tasty Indian Pizza  (408) 738-8761  CA                     94,085.00  528 Lawrence Expy  Sunnyvale   Tasty Subs & Pizza   (408) 738-8761  CA                     94,085.00"
      ]
     },
     "execution_count": 26,
     "metadata": {},
     "output_type": "execute_result"
    }
   ],
   "source": [
    "cands_data.head()"
   ]
  },
  {
   "cell_type": "code",
   "execution_count": 82,
   "metadata": {
    "scrolled": true
   },
   "outputs": [
    {
     "data": {
      "text/plain": [
       "Index(['_id', 'ltable.id', 'rtable.id', 'ltable.address', 'ltable.city', 'ltable.name', 'ltable.phone', 'ltable.state', 'ltable.zipcode', 'rtable.address', 'rtable.city', 'rtable.name', 'rtable.phone', 'rtable.state', 'rtable.zipcode'], dtype='object')"
      ]
     },
     "execution_count": 82,
     "metadata": {},
     "output_type": "execute_result"
    }
   ],
   "source": [
    "cands_data = cands_data(~(cands_dta[]))"
   ]
  },
  {
   "cell_type": "markdown",
   "metadata": {},
   "source": [
    "## Remove invalid nan entries from all data: yelp, yellow pages, cand sets and labeled data"
   ]
  },
  {
   "cell_type": "code",
   "execution_count": 33,
   "metadata": {},
   "outputs": [
    {
     "data": {
      "text/html": [
       "<div>\n",
       "<style scoped>\n",
       "    .dataframe tbody tr th:only-of-type {\n",
       "        vertical-align: middle;\n",
       "    }\n",
       "\n",
       "    .dataframe tbody tr th {\n",
       "        vertical-align: top;\n",
       "    }\n",
       "\n",
       "    .dataframe thead th {\n",
       "        text-align: right;\n",
       "    }\n",
       "</style>\n",
       "<table border=\"1\" class=\"dataframe\">\n",
       "  <thead>\n",
       "    <tr style=\"text-align: right;\">\n",
       "      <th></th>\n",
       "      <th>yellow_pages_id</th>\n",
       "      <th>yelp_id</th>\n",
       "      <th>duplicate</th>\n",
       "    </tr>\n",
       "  </thead>\n",
       "  <tbody>\n",
       "    <tr>\n",
       "      <th>6</th>\n",
       "      <td>63</td>\n",
       "      <td>141</td>\n",
       "      <td>nan</td>\n",
       "    </tr>\n",
       "    <tr>\n",
       "      <th>219</th>\n",
       "      <td>1834</td>\n",
       "      <td>1995</td>\n",
       "      <td>nan</td>\n",
       "    </tr>\n",
       "    <tr>\n",
       "      <th>220</th>\n",
       "      <td>1834</td>\n",
       "      <td>2528</td>\n",
       "      <td>nan</td>\n",
       "    </tr>\n",
       "    <tr>\n",
       "      <th>225</th>\n",
       "      <td>1868</td>\n",
       "      <td>2454</td>\n",
       "      <td>nan</td>\n",
       "    </tr>\n",
       "    <tr>\n",
       "      <th>227</th>\n",
       "      <td>1894</td>\n",
       "      <td>1913</td>\n",
       "      <td>nan</td>\n",
       "    </tr>\n",
       "    <tr>\n",
       "      <th>324</th>\n",
       "      <td>3670</td>\n",
       "      <td>3794</td>\n",
       "      <td>nan</td>\n",
       "    </tr>\n",
       "    <tr>\n",
       "      <th>331</th>\n",
       "      <td>4107</td>\n",
       "      <td>4145</td>\n",
       "      <td>nan</td>\n",
       "    </tr>\n",
       "    <tr>\n",
       "      <th>332</th>\n",
       "      <td>4131</td>\n",
       "      <td>4162</td>\n",
       "      <td>nan</td>\n",
       "    </tr>\n",
       "    <tr>\n",
       "      <th>357</th>\n",
       "      <td>4555</td>\n",
       "      <td>4443</td>\n",
       "      <td>nan</td>\n",
       "    </tr>\n",
       "  </tbody>\n",
       "</table>\n",
       "</div>"
      ],
      "text/plain": [
       "     yellow_pages_id  yelp_id            duplicate\n",
       "6    63               141                      nan\n",
       "219  1834             1995                     nan\n",
       "220  1834             2528                     nan\n",
       "225  1868             2454                     nan\n",
       "227  1894             1913                     nan\n",
       "324  3670             3794                     nan\n",
       "331  4107             4145                     nan\n",
       "332  4131             4162                     nan\n",
       "357  4555             4443                     nan"
      ]
     },
     "execution_count": 33,
     "metadata": {},
     "output_type": "execute_result"
    }
   ],
   "source": [
    " labeled_data[labeled_data['duplicate'].isnull()]"
   ]
  },
  {
   "cell_type": "code",
   "execution_count": 34,
   "metadata": {},
   "outputs": [],
   "source": [
    "yellow_pages_to_remove = labeled_data[labeled_data['duplicate'].isnull()]['yellow_pages_id'].to_list()\n",
    "yelp_to_remove = labeled_data[labeled_data['duplicate'].isnull()]['yelp_id'].to_list()"
   ]
  },
  {
   "cell_type": "code",
   "execution_count": 36,
   "metadata": {},
   "outputs": [],
   "source": [
    "yellow_pages_data = yellow_pages_data[~(yellow_pages_data['id'].isin(yellow_pages_to_remove))]"
   ]
  },
  {
   "cell_type": "code",
   "execution_count": 37,
   "metadata": {},
   "outputs": [],
   "source": [
    "yelp_data = yelp_data[~(yelp_data['id'].isin(yelp_to_remove))]"
   ]
  },
  {
   "cell_type": "code",
   "execution_count": 38,
   "metadata": {},
   "outputs": [],
   "source": [
    "labeled_data = labeled_data[ ~(labeled_data['duplicate'].isnull())]"
   ]
  },
  {
   "cell_type": "code",
   "execution_count": 39,
   "metadata": {},
   "outputs": [],
   "source": [
    "labeled_data['duplicate'] = labeled_data['duplicate'].astype('int64')"
   ]
  },
  {
   "cell_type": "markdown",
   "metadata": {},
   "source": [
    "------------------------------------------------------------------------"
   ]
  },
  {
   "cell_type": "code",
   "execution_count": 52,
   "metadata": {},
   "outputs": [
    {
     "data": {
      "text/html": [
       "<div>\n",
       "<style scoped>\n",
       "    .dataframe tbody tr th:only-of-type {\n",
       "        vertical-align: middle;\n",
       "    }\n",
       "\n",
       "    .dataframe tbody tr th {\n",
       "        vertical-align: top;\n",
       "    }\n",
       "\n",
       "    .dataframe thead th {\n",
       "        text-align: right;\n",
       "    }\n",
       "</style>\n",
       "<table border=\"1\" class=\"dataframe\">\n",
       "  <thead>\n",
       "    <tr style=\"text-align: right;\">\n",
       "      <th></th>\n",
       "      <th>yellow_pages_id</th>\n",
       "      <th>yelp_id</th>\n",
       "      <th>duplicate</th>\n",
       "    </tr>\n",
       "  </thead>\n",
       "  <tbody>\n",
       "    <tr>\n",
       "      <th>0</th>\n",
       "      <td>20</td>\n",
       "      <td>71</td>\n",
       "      <td>1</td>\n",
       "    </tr>\n",
       "    <tr>\n",
       "      <th>5</th>\n",
       "      <td>48</td>\n",
       "      <td>1473</td>\n",
       "      <td>1</td>\n",
       "    </tr>\n",
       "    <tr>\n",
       "      <th>7</th>\n",
       "      <td>68</td>\n",
       "      <td>76</td>\n",
       "      <td>1</td>\n",
       "    </tr>\n",
       "    <tr>\n",
       "      <th>8</th>\n",
       "      <td>80</td>\n",
       "      <td>71</td>\n",
       "      <td>1</td>\n",
       "    </tr>\n",
       "    <tr>\n",
       "      <th>9</th>\n",
       "      <td>139</td>\n",
       "      <td>3</td>\n",
       "      <td>1</td>\n",
       "    </tr>\n",
       "  </tbody>\n",
       "</table>\n",
       "</div>"
      ],
      "text/plain": [
       "   yellow_pages_id  yelp_id  duplicate\n",
       "0  20               71       1        \n",
       "5  48               1473     1        \n",
       "7  68               76       1        \n",
       "8  80               71       1        \n",
       "9  139              3        1        "
      ]
     },
     "execution_count": 52,
     "metadata": {},
     "output_type": "execute_result"
    }
   ],
   "source": [
    "labeled_data[labeled_data['duplicate'] == 1].head()"
   ]
  },
  {
   "cell_type": "code",
   "execution_count": null,
   "metadata": {},
   "outputs": [],
   "source": []
  },
  {
   "cell_type": "code",
   "execution_count": 64,
   "metadata": {},
   "outputs": [
    {
     "data": {
      "text/html": [
       "<div>\n",
       "<style scoped>\n",
       "    .dataframe tbody tr th:only-of-type {\n",
       "        vertical-align: middle;\n",
       "    }\n",
       "\n",
       "    .dataframe tbody tr th {\n",
       "        vertical-align: top;\n",
       "    }\n",
       "\n",
       "    .dataframe thead th {\n",
       "        text-align: right;\n",
       "    }\n",
       "</style>\n",
       "<table border=\"1\" class=\"dataframe\">\n",
       "  <thead>\n",
       "    <tr style=\"text-align: right;\">\n",
       "      <th></th>\n",
       "      <th>id</th>\n",
       "      <th>name</th>\n",
       "      <th>address</th>\n",
       "      <th>city</th>\n",
       "      <th>postalcode</th>\n",
       "      <th>phone</th>\n",
       "      <th>source</th>\n",
       "    </tr>\n",
       "  </thead>\n",
       "  <tbody>\n",
       "    <tr>\n",
       "      <th>1830</th>\n",
       "      <td>1831</td>\n",
       "      <td>Seasons 52</td>\n",
       "      <td>10250 Santa Monica Blvd</td>\n",
       "      <td>Los Angeles</td>\n",
       "      <td>90067</td>\n",
       "      <td>(310) 277-5252</td>\n",
       "      <td>yellow_pages</td>\n",
       "    </tr>\n",
       "  </tbody>\n",
       "</table>\n",
       "</div>"
      ],
      "text/plain": [
       "        id        name                  address          city postalcode           phone        source\n",
       "1830  1831  Seasons 52  10250 Santa Monica Blvd  Los Angeles   90067      (310) 277-5252  yellow_pages"
      ]
     },
     "execution_count": 64,
     "metadata": {},
     "output_type": "execute_result"
    }
   ],
   "source": [
    "yellow_pages_data[yellow_pages_data['id'] == 1831]"
   ]
  },
  {
   "cell_type": "code",
   "execution_count": 65,
   "metadata": {},
   "outputs": [
    {
     "data": {
      "text/html": [
       "<div>\n",
       "<style scoped>\n",
       "    .dataframe tbody tr th:only-of-type {\n",
       "        vertical-align: middle;\n",
       "    }\n",
       "\n",
       "    .dataframe tbody tr th {\n",
       "        vertical-align: top;\n",
       "    }\n",
       "\n",
       "    .dataframe thead th {\n",
       "        text-align: right;\n",
       "    }\n",
       "</style>\n",
       "<table border=\"1\" class=\"dataframe\">\n",
       "  <thead>\n",
       "    <tr style=\"text-align: right;\">\n",
       "      <th></th>\n",
       "      <th>id</th>\n",
       "      <th>name</th>\n",
       "      <th>address</th>\n",
       "      <th>city</th>\n",
       "      <th>postalcode</th>\n",
       "      <th>phone</th>\n",
       "      <th>source</th>\n",
       "    </tr>\n",
       "  </thead>\n",
       "  <tbody>\n",
       "    <tr>\n",
       "      <th>1611</th>\n",
       "      <td>1831</td>\n",
       "      <td>The Oasis</td>\n",
       "      <td>241 El Camino Real</td>\n",
       "      <td>Menlo Park</td>\n",
       "      <td>94025</td>\n",
       "      <td>(650) 326-8896</td>\n",
       "      <td>yelp</td>\n",
       "    </tr>\n",
       "  </tbody>\n",
       "</table>\n",
       "</div>"
      ],
      "text/plain": [
       "        id       name             address        city postalcode           phone source\n",
       "1611  1831  The Oasis  241 El Camino Real  Menlo Park  94025      (650) 326-8896  yelp "
      ]
     },
     "execution_count": 65,
     "metadata": {},
     "output_type": "execute_result"
    }
   ],
   "source": [
    "yelp_data[yelp_data['id'] == 1831]"
   ]
  },
  {
   "cell_type": "code",
   "execution_count": 44,
   "metadata": {},
   "outputs": [],
   "source": [
    "customer_all_path = (r'/home/ubuntu/jupyter/ServerX/1_Standard Data Integration/Sample Datasets'\n",
    "                    r'/Processed Data/customer_samples/')"
   ]
  },
  {
   "cell_type": "code",
   "execution_count": 45,
   "metadata": {},
   "outputs": [],
   "source": [
    "yellow_pages_data['source'] = 'yellow_pages'\n",
    "yelp_data['source'] = 'yelp'"
   ]
  },
  {
   "cell_type": "code",
   "execution_count": 46,
   "metadata": {},
   "outputs": [],
   "source": [
    "yellow_yelp_all = pd.concat([yellow_pages_data, yelp_data])\n",
    "#yellow_yelp_all.rename(columns={'record_id': 'Id'}, inplace=True)"
   ]
  },
  {
   "cell_type": "code",
   "execution_count": 47,
   "metadata": {},
   "outputs": [],
   "source": [
    "yellow_yelp_all.to_csv(customer_all_path + 'yellow_yelp_all.csv', sep=',', quotechar='\"')"
   ]
  },
  {
   "cell_type": "code",
   "execution_count": 48,
   "metadata": {},
   "outputs": [],
   "source": [
    "labeled_data.to_csv(customer_all_path + 'yellow_yelp_label.csv', sep=',', quotechar='\"')"
   ]
  }
 ],
 "metadata": {
  "kernelspec": {
   "display_name": "Python 3",
   "language": "python",
   "name": "python3"
  },
  "language_info": {
   "codemirror_mode": {
    "name": "ipython",
    "version": 3
   },
   "file_extension": ".py",
   "mimetype": "text/x-python",
   "name": "python",
   "nbconvert_exporter": "python",
   "pygments_lexer": "ipython3",
   "version": "3.7.0"
  }
 },
 "nbformat": 4,
 "nbformat_minor": 2
}
