{
 "cells": [
  {
   "cell_type": "code",
   "execution_count": 1,
   "metadata": {},
   "outputs": [],
   "source": [
    "import os\n",
    "import pandas as pd\n",
    "pd.options.display.float_format = '{:20,.2f}'.format\n",
    "pd.set_option('display.max_rows', 5000)\n",
    "pd.set_option('display.max_columns', 5000)\n",
    "pd.set_option('display.width', 1000)\n",
    "pd.set_option('display.max_colwidth', -1)"
   ]
  },
  {
   "cell_type": "code",
   "execution_count": 2,
   "metadata": {},
   "outputs": [],
   "source": [
    "yellow_pages_yelp_path = (r'/home/ubuntu/jupyter/ServerX/1_Standard Data Integration/Sample Datasets\n",
    "                          r'/Unprocessed Data/customer_samples/yelp_yellow_restaurants')"
   ]
  },
  {
   "cell_type": "markdown",
   "metadata": {},
   "source": [
    "## Yellow Pages data"
   ]
  },
  {
   "cell_type": "code",
   "execution_count": 54,
   "metadata": {},
   "outputs": [],
   "source": [
    "yp_fields = ['id', 'name', 'streetAddress', 'city', 'zipCode', 'phone', 'categories']"
   ]
  },
  {
   "cell_type": "code",
   "execution_count": 55,
   "metadata": {},
   "outputs": [],
   "source": [
    "yellow_pages_data = pd.read_csv(\n",
    "    os.path.join(yellow_pages_yelp_path, 'yellow_pages.csv'), \n",
    "    sep = ',',\n",
    "    quotechar = '\"',\n",
    "    usecols  = yp_fields,\n",
    "    dtype = {'zipCode': 'str'}\n",
    ")[yp_fields]"
   ]
  },
  {
   "cell_type": "code",
   "execution_count": 56,
   "metadata": {},
   "outputs": [
    {
     "data": {
      "text/plain": [
       "Index(['id', 'name', 'streetAddress', 'city', 'zipCode', 'phone', 'categories'], dtype='object')"
      ]
     },
     "execution_count": 56,
     "metadata": {},
     "output_type": "execute_result"
    }
   ],
   "source": [
    "yellow_pages_data.columns"
   ]
  },
  {
   "cell_type": "code",
   "execution_count": 57,
   "metadata": {
    "scrolled": true
   },
   "outputs": [
    {
     "data": {
      "text/html": [
       "<div>\n",
       "<style scoped>\n",
       "    .dataframe tbody tr th:only-of-type {\n",
       "        vertical-align: middle;\n",
       "    }\n",
       "\n",
       "    .dataframe tbody tr th {\n",
       "        vertical-align: top;\n",
       "    }\n",
       "\n",
       "    .dataframe thead th {\n",
       "        text-align: right;\n",
       "    }\n",
       "</style>\n",
       "<table border=\"1\" class=\"dataframe\">\n",
       "  <thead>\n",
       "    <tr style=\"text-align: right;\">\n",
       "      <th></th>\n",
       "      <th>id</th>\n",
       "      <th>name</th>\n",
       "      <th>streetAddress</th>\n",
       "      <th>city</th>\n",
       "      <th>zipCode</th>\n",
       "      <th>phone</th>\n",
       "      <th>categories</th>\n",
       "    </tr>\n",
       "  </thead>\n",
       "  <tbody>\n",
       "    <tr>\n",
       "      <th>0</th>\n",
       "      <td>1</td>\n",
       "      <td>full shilling</td>\n",
       "      <td>160 Pearl St</td>\n",
       "      <td>New York</td>\n",
       "      <td>10005</td>\n",
       "      <td>(212) 422-3855</td>\n",
       "      <td>Sandwich Shops;Take Out Restaurants;Hamburgers &amp; Hot Dogs;Health Food Restaurants;Bar &amp; Grills;Bars;Restaurants</td>\n",
       "    </tr>\n",
       "    <tr>\n",
       "      <th>1</th>\n",
       "      <td>2</td>\n",
       "      <td>dovetail</td>\n",
       "      <td>103 W 77th St</td>\n",
       "      <td>New York</td>\n",
       "      <td>10024</td>\n",
       "      <td>(212) 362-3800</td>\n",
       "      <td>American Restaurants;French Restaurants;Ice Cream &amp; Frozen Desserts;Fine Dining Restaurants;Bar &amp; Grills;Restaurants</td>\n",
       "    </tr>\n",
       "    <tr>\n",
       "      <th>2</th>\n",
       "      <td>3</td>\n",
       "      <td>patron mexican grill</td>\n",
       "      <td>608 9th Ave</td>\n",
       "      <td>New York</td>\n",
       "      <td>10036</td>\n",
       "      <td>(212) 957-9050</td>\n",
       "      <td>Mexican Restaurants;Latin American Restaurants;Bar &amp; Grills;Take Out Restaurants;Restaurants</td>\n",
       "    </tr>\n",
       "    <tr>\n",
       "      <th>3</th>\n",
       "      <td>4</td>\n",
       "      <td>ko sushi</td>\n",
       "      <td>1329 2nd Ave</td>\n",
       "      <td>New York</td>\n",
       "      <td>10021</td>\n",
       "      <td>(212) 439-1678</td>\n",
       "      <td>Sushi Bars;Japanese Restaurants;Asian Restaurants;Caterers;Family Style Restaurants;Restaurants</td>\n",
       "    </tr>\n",
       "    <tr>\n",
       "      <th>4</th>\n",
       "      <td>5</td>\n",
       "      <td>famous famiglia pizzeria</td>\n",
       "      <td>488 8th Ave</td>\n",
       "      <td>New York</td>\n",
       "      <td>10001</td>\n",
       "      <td>(212) 564-4144</td>\n",
       "      <td>Pizza;Restaurants;Italian Restaurants</td>\n",
       "    </tr>\n",
       "  </tbody>\n",
       "</table>\n",
       "</div>"
      ],
      "text/plain": [
       "   id                      name  streetAddress      city zipCode           phone                                                                                                            categories\n",
       "0  1   full shilling             160 Pearl St   New York  10005   (212) 422-3855  Sandwich Shops;Take Out Restaurants;Hamburgers & Hot Dogs;Health Food Restaurants;Bar & Grills;Bars;Restaurants     \n",
       "1  2   dovetail                  103 W 77th St  New York  10024   (212) 362-3800  American Restaurants;French Restaurants;Ice Cream & Frozen Desserts;Fine Dining Restaurants;Bar & Grills;Restaurants\n",
       "2  3   patron mexican grill      608 9th Ave    New York  10036   (212) 957-9050  Mexican Restaurants;Latin American Restaurants;Bar & Grills;Take Out Restaurants;Restaurants                        \n",
       "3  4   ko sushi                  1329 2nd Ave   New York  10021   (212) 439-1678  Sushi Bars;Japanese Restaurants;Asian Restaurants;Caterers;Family Style Restaurants;Restaurants                     \n",
       "4  5   famous famiglia pizzeria  488 8th Ave    New York  10001   (212) 564-4144  Pizza;Restaurants;Italian Restaurants                                                                               "
      ]
     },
     "execution_count": 57,
     "metadata": {},
     "output_type": "execute_result"
    }
   ],
   "source": [
    "yellow_pages_data.head()"
   ]
  },
  {
   "cell_type": "code",
   "execution_count": 58,
   "metadata": {},
   "outputs": [],
   "source": [
    "yellow_pages_data.rename(\n",
    "    columns = {\n",
    "        'zipCode': 'postalcode',\n",
    "        'streetAddress': 'address',\n",
    "        'categories': 'category'\n",
    "    },\n",
    "    inplace=True\n",
    ")"
   ]
  },
  {
   "cell_type": "markdown",
   "metadata": {},
   "source": [
    "## Yelp data"
   ]
  },
  {
   "cell_type": "code",
   "execution_count": 66,
   "metadata": {},
   "outputs": [],
   "source": [
    "yelp_fields = ['id', 'name', 'streetAddress', 'city', 'zipCode', 'telephone', 'category']"
   ]
  },
  {
   "cell_type": "code",
   "execution_count": 67,
   "metadata": {},
   "outputs": [],
   "source": [
    "yelp_data = pd.read_csv(\n",
    "    os.path.join(yellow_pages_yelp_path, 'yelp.csv'), \n",
    "    sep = ',',\n",
    "    quotechar = '\"',\n",
    "    dtype = {'zipCode': 'str'},\n",
    ")[yelp_fields]"
   ]
  },
  {
   "cell_type": "code",
   "execution_count": 71,
   "metadata": {},
   "outputs": [
    {
     "data": {
      "text/plain": [
       "Index(['id', 'name', 'address', 'city', 'postalcode', 'phone', 'category'], dtype='object')"
      ]
     },
     "execution_count": 71,
     "metadata": {},
     "output_type": "execute_result"
    }
   ],
   "source": [
    "yelp_data.columns"
   ]
  },
  {
   "cell_type": "code",
   "execution_count": 70,
   "metadata": {},
   "outputs": [],
   "source": [
    "yelp_data.rename(\n",
    "    columns = {\n",
    "        'zipCode': 'postalcode',\n",
    "        'streetAddress': 'address',\n",
    "        'telephone':'phone'\n",
    "    },\n",
    "    inplace=True\n",
    ")"
   ]
  },
  {
   "cell_type": "code",
   "execution_count": 72,
   "metadata": {
    "scrolled": false
   },
   "outputs": [
    {
     "data": {
      "text/plain": [
       "Index(['id', 'name', 'address', 'city', 'postalcode', 'phone', 'category'], dtype='object')"
      ]
     },
     "execution_count": 72,
     "metadata": {},
     "output_type": "execute_result"
    }
   ],
   "source": [
    "yelp_data.columns"
   ]
  },
  {
   "cell_type": "markdown",
   "metadata": {},
   "source": [
    "## Labeled data fields"
   ]
  },
  {
   "cell_type": "code",
   "execution_count": 73,
   "metadata": {},
   "outputs": [],
   "source": [
    "lb_fields = ['ltable.id', 'rtable.id', 'gold']"
   ]
  },
  {
   "cell_type": "code",
   "execution_count": 74,
   "metadata": {},
   "outputs": [],
   "source": [
    "labeled_data = pd.read_csv(\n",
    "    os.path.join(yellow_pages_yelp_path, 'labeled_data.csv'), \n",
    "    sep = ',',\n",
    "    quotechar = '\"',\n",
    "    comment = '#',\n",
    "    usecols  = lb_fields,\n",
    "    dtype = {'gold': 'str'}\n",
    ")[lb_fields]"
   ]
  },
  {
   "cell_type": "code",
   "execution_count": 34,
   "metadata": {},
   "outputs": [
    {
     "data": {
      "text/html": [
       "<div>\n",
       "<style scoped>\n",
       "    .dataframe tbody tr th:only-of-type {\n",
       "        vertical-align: middle;\n",
       "    }\n",
       "\n",
       "    .dataframe tbody tr th {\n",
       "        vertical-align: top;\n",
       "    }\n",
       "\n",
       "    .dataframe thead th {\n",
       "        text-align: right;\n",
       "    }\n",
       "</style>\n",
       "<table border=\"1\" class=\"dataframe\">\n",
       "  <thead>\n",
       "    <tr style=\"text-align: right;\">\n",
       "      <th></th>\n",
       "      <th>ltable.id</th>\n",
       "      <th>rtable.id</th>\n",
       "      <th>gold</th>\n",
       "    </tr>\n",
       "  </thead>\n",
       "  <tbody>\n",
       "    <tr>\n",
       "      <th>0</th>\n",
       "      <td>8</td>\n",
       "      <td>2437</td>\n",
       "      <td>0</td>\n",
       "    </tr>\n",
       "    <tr>\n",
       "      <th>1</th>\n",
       "      <td>74</td>\n",
       "      <td>1175</td>\n",
       "      <td>0</td>\n",
       "    </tr>\n",
       "    <tr>\n",
       "      <th>2</th>\n",
       "      <td>109</td>\n",
       "      <td>2339</td>\n",
       "      <td>0</td>\n",
       "    </tr>\n",
       "    <tr>\n",
       "      <th>3</th>\n",
       "      <td>154</td>\n",
       "      <td>1568</td>\n",
       "      <td>0</td>\n",
       "    </tr>\n",
       "    <tr>\n",
       "      <th>4</th>\n",
       "      <td>215</td>\n",
       "      <td>2445</td>\n",
       "      <td>1</td>\n",
       "    </tr>\n",
       "  </tbody>\n",
       "</table>\n",
       "</div>"
      ],
      "text/plain": [
       "   ltable.id  rtable.id gold\n",
       "0  8          2437       0  \n",
       "1  74         1175       0  \n",
       "2  109        2339       0  \n",
       "3  154        1568       0  \n",
       "4  215        2445       1  "
      ]
     },
     "execution_count": 34,
     "metadata": {},
     "output_type": "execute_result"
    }
   ],
   "source": [
    "labeled_data.head()"
   ]
  },
  {
   "cell_type": "code",
   "execution_count": 75,
   "metadata": {},
   "outputs": [],
   "source": [
    "labeled_data.rename(\n",
    "    columns = \n",
    "    {\n",
    "        'ltable.id' : 'yelp_id',\n",
    "        'rtable.id' : 'yellow_pages_id',\n",
    "        'gold'      : 'duplicate'\n",
    "    },\n",
    "    inplace = True\n",
    ")"
   ]
  },
  {
   "cell_type": "code",
   "execution_count": 36,
   "metadata": {},
   "outputs": [
    {
     "data": {
      "text/plain": [
       "Index(['yelp_id', 'yellow_pages_id', 'duplicate'], dtype='object')"
      ]
     },
     "execution_count": 36,
     "metadata": {},
     "output_type": "execute_result"
    }
   ],
   "source": [
    "labeled_data.columns"
   ]
  },
  {
   "cell_type": "markdown",
   "metadata": {},
   "source": [
    "## Cands set"
   ]
  },
  {
   "cell_type": "code",
   "execution_count": 79,
   "metadata": {},
   "outputs": [],
   "source": [
    "cands_data = pd.read_csv(\n",
    "    os.path.join(yellow_pages_yelp_path, 'candset.csv'), \n",
    "    sep = ',',\n",
    "    quotechar = '\"',\n",
    "    comment = '#',\n",
    "    #usecols  = lb_fields,\n",
    "    #dtype = {'gold': 'str'}\n",
    ")#[lb_fields]"
   ]
  },
  {
   "cell_type": "markdown",
   "metadata": {},
   "source": [
    "## Remove invalid nan entries from all data: yelp, yellow pages, cand sets and labeled data"
   ]
  },
  {
   "cell_type": "code",
   "execution_count": null,
   "metadata": {},
   "outputs": [],
   "source": [
    "labeled_data"
   ]
  },
  {
   "cell_type": "code",
   "execution_count": 93,
   "metadata": {},
   "outputs": [
    {
     "data": {
      "text/plain": [
       "84"
      ]
     },
     "execution_count": 93,
     "metadata": {},
     "output_type": "execute_result"
    }
   ],
   "source": [
    "len(labeled_data[labeled_data['duplicate'] == '1'])"
   ]
  },
  {
   "cell_type": "code",
   "execution_count": 92,
   "metadata": {
    "scrolled": true
   },
   "outputs": [
    {
     "data": {
      "text/html": [
       "<div>\n",
       "<style scoped>\n",
       "    .dataframe tbody tr th:only-of-type {\n",
       "        vertical-align: middle;\n",
       "    }\n",
       "\n",
       "    .dataframe tbody tr th {\n",
       "        vertical-align: top;\n",
       "    }\n",
       "\n",
       "    .dataframe thead th {\n",
       "        text-align: right;\n",
       "    }\n",
       "</style>\n",
       "<table border=\"1\" class=\"dataframe\">\n",
       "  <thead>\n",
       "    <tr style=\"text-align: right;\">\n",
       "      <th></th>\n",
       "      <th>yelp_id</th>\n",
       "      <th>yellow_pages_id</th>\n",
       "      <th>duplicate</th>\n",
       "    </tr>\n",
       "  </thead>\n",
       "  <tbody>\n",
       "    <tr>\n",
       "      <th>0</th>\n",
       "      <td>8</td>\n",
       "      <td>2437</td>\n",
       "      <td>0</td>\n",
       "    </tr>\n",
       "    <tr>\n",
       "      <th>1</th>\n",
       "      <td>74</td>\n",
       "      <td>1175</td>\n",
       "      <td>0</td>\n",
       "    </tr>\n",
       "    <tr>\n",
       "      <th>2</th>\n",
       "      <td>109</td>\n",
       "      <td>2339</td>\n",
       "      <td>0</td>\n",
       "    </tr>\n",
       "    <tr>\n",
       "      <th>3</th>\n",
       "      <td>154</td>\n",
       "      <td>1568</td>\n",
       "      <td>0</td>\n",
       "    </tr>\n",
       "    <tr>\n",
       "      <th>4</th>\n",
       "      <td>215</td>\n",
       "      <td>2445</td>\n",
       "      <td>1</td>\n",
       "    </tr>\n",
       "  </tbody>\n",
       "</table>\n",
       "</div>"
      ],
      "text/plain": [
       "   yelp_id  yellow_pages_id duplicate\n",
       "0  8        2437             0       \n",
       "1  74       1175             0       \n",
       "2  109      2339             0       \n",
       "3  154      1568             0       \n",
       "4  215      2445             1       "
      ]
     },
     "execution_count": 92,
     "metadata": {},
     "output_type": "execute_result"
    }
   ],
   "source": [
    "labeled_data.head()"
   ]
  },
  {
   "cell_type": "code",
   "execution_count": 77,
   "metadata": {},
   "outputs": [],
   "source": [
    "yellow_pages_to_remove = labeled_data[labeled_data['duplicate'].isnull()]['yellow_pages_id'].to_list()\n",
    "yelp_to_remove = labeled_data[labeled_data['duplicate'].isnull()]['yelp_id'].to_list()"
   ]
  },
  {
   "cell_type": "code",
   "execution_count": 78,
   "metadata": {},
   "outputs": [],
   "source": [
    "yellow_pages_data = yellow_pages_data[~(yellow_pages_data['id'].isin(yellow_pages_to_remove))]\n",
    "yelp_data = yelp_data[~(yelp_data['id'].isin(yelp_to_remove))]"
   ]
  },
  {
   "cell_type": "code",
   "execution_count": 80,
   "metadata": {},
   "outputs": [],
   "source": [
    "labeled_data = labeled_data[ ~(labeled_data['duplicate'].isnull())]"
   ]
  },
  {
   "cell_type": "code",
   "execution_count": 40,
   "metadata": {},
   "outputs": [],
   "source": [
    "labeled_data['duplicate'] = labeled_data['duplicate'].astype('int64')"
   ]
  },
  {
   "cell_type": "code",
   "execution_count": 41,
   "metadata": {},
   "outputs": [
    {
     "data": {
      "text/html": [
       "<div>\n",
       "<style scoped>\n",
       "    .dataframe tbody tr th:only-of-type {\n",
       "        vertical-align: middle;\n",
       "    }\n",
       "\n",
       "    .dataframe tbody tr th {\n",
       "        vertical-align: top;\n",
       "    }\n",
       "\n",
       "    .dataframe thead th {\n",
       "        text-align: right;\n",
       "    }\n",
       "</style>\n",
       "<table border=\"1\" class=\"dataframe\">\n",
       "  <thead>\n",
       "    <tr style=\"text-align: right;\">\n",
       "      <th></th>\n",
       "      <th>yelp_id</th>\n",
       "      <th>yellow_pages_id</th>\n",
       "      <th>duplicate</th>\n",
       "    </tr>\n",
       "  </thead>\n",
       "  <tbody>\n",
       "    <tr>\n",
       "      <th>0</th>\n",
       "      <td>8</td>\n",
       "      <td>2437</td>\n",
       "      <td>0</td>\n",
       "    </tr>\n",
       "    <tr>\n",
       "      <th>1</th>\n",
       "      <td>74</td>\n",
       "      <td>1175</td>\n",
       "      <td>0</td>\n",
       "    </tr>\n",
       "    <tr>\n",
       "      <th>2</th>\n",
       "      <td>109</td>\n",
       "      <td>2339</td>\n",
       "      <td>0</td>\n",
       "    </tr>\n",
       "    <tr>\n",
       "      <th>3</th>\n",
       "      <td>154</td>\n",
       "      <td>1568</td>\n",
       "      <td>0</td>\n",
       "    </tr>\n",
       "    <tr>\n",
       "      <th>4</th>\n",
       "      <td>215</td>\n",
       "      <td>2445</td>\n",
       "      <td>1</td>\n",
       "    </tr>\n",
       "  </tbody>\n",
       "</table>\n",
       "</div>"
      ],
      "text/plain": [
       "   yelp_id  yellow_pages_id  duplicate\n",
       "0  8        2437             0        \n",
       "1  74       1175             0        \n",
       "2  109      2339             0        \n",
       "3  154      1568             0        \n",
       "4  215      2445             1        "
      ]
     },
     "execution_count": 41,
     "metadata": {},
     "output_type": "execute_result"
    }
   ],
   "source": [
    "labeled_data.head()"
   ]
  },
  {
   "cell_type": "code",
   "execution_count": null,
   "metadata": {},
   "outputs": [],
   "source": [
    "labeled_data['yellow_name'] = labeled_data[labeled_data['yellow_pages]]"
   ]
  },
  {
   "cell_type": "code",
   "execution_count": 98,
   "metadata": {
    "scrolled": true
   },
   "outputs": [
    {
     "data": {
      "text/html": [
       "<div>\n",
       "<style scoped>\n",
       "    .dataframe tbody tr th:only-of-type {\n",
       "        vertical-align: middle;\n",
       "    }\n",
       "\n",
       "    .dataframe tbody tr th {\n",
       "        vertical-align: top;\n",
       "    }\n",
       "\n",
       "    .dataframe thead th {\n",
       "        text-align: right;\n",
       "    }\n",
       "</style>\n",
       "<table border=\"1\" class=\"dataframe\">\n",
       "  <thead>\n",
       "    <tr style=\"text-align: right;\">\n",
       "      <th></th>\n",
       "      <th>id</th>\n",
       "      <th>name</th>\n",
       "      <th>address</th>\n",
       "      <th>city</th>\n",
       "      <th>postalcode</th>\n",
       "      <th>phone</th>\n",
       "      <th>category</th>\n",
       "      <th>source</th>\n",
       "    </tr>\n",
       "  </thead>\n",
       "  <tbody>\n",
       "    <tr>\n",
       "      <th>1174</th>\n",
       "      <td>1175</td>\n",
       "      <td>morning star restaurant</td>\n",
       "      <td>879 9th Ave</td>\n",
       "      <td>New York</td>\n",
       "      <td>10019</td>\n",
       "      <td>(212) 246-1593</td>\n",
       "      <td>Health Food Restaurants;Family Style Restaurants;Sandwich Shops;Greek Restaurants;Breakfast Brunch &amp; Lunch Restaurants;Restaurants</td>\n",
       "      <td>yellow_pages</td>\n",
       "    </tr>\n",
       "  </tbody>\n",
       "</table>\n",
       "</div>"
      ],
      "text/plain": [
       "        id                     name      address      city postalcode           phone                                                                                                                            category        source\n",
       "1174  1175  morning star restaurant  879 9th Ave  New York  10019      (212) 246-1593  Health Food Restaurants;Family Style Restaurants;Sandwich Shops;Greek Restaurants;Breakfast Brunch & Lunch Restaurants;Restaurants  yellow_pages"
      ]
     },
     "execution_count": 98,
     "metadata": {},
     "output_type": "execute_result"
    }
   ],
   "source": [
    "yellow_pages_data[yellow_pages_data['id'] == 1175]"
   ]
  },
  {
   "cell_type": "code",
   "execution_count": 99,
   "metadata": {
    "scrolled": true
   },
   "outputs": [
    {
     "data": {
      "text/html": [
       "<div>\n",
       "<style scoped>\n",
       "    .dataframe tbody tr th:only-of-type {\n",
       "        vertical-align: middle;\n",
       "    }\n",
       "\n",
       "    .dataframe tbody tr th {\n",
       "        vertical-align: top;\n",
       "    }\n",
       "\n",
       "    .dataframe thead th {\n",
       "        text-align: right;\n",
       "    }\n",
       "</style>\n",
       "<table border=\"1\" class=\"dataframe\">\n",
       "  <thead>\n",
       "    <tr style=\"text-align: right;\">\n",
       "      <th></th>\n",
       "      <th>id</th>\n",
       "      <th>name</th>\n",
       "      <th>address</th>\n",
       "      <th>city</th>\n",
       "      <th>postalcode</th>\n",
       "      <th>phone</th>\n",
       "      <th>category</th>\n",
       "      <th>source</th>\n",
       "    </tr>\n",
       "  </thead>\n",
       "  <tbody>\n",
       "    <tr>\n",
       "      <th>73</th>\n",
       "      <td>74</td>\n",
       "      <td>monsignor’s restaurant</td>\n",
       "      <td>679 5th Ave</td>\n",
       "      <td>New York</td>\n",
       "      <td>11215</td>\n",
       "      <td>(718) 369-2575</td>\n",
       "      <td>Italian;Mexican</td>\n",
       "      <td>yelp</td>\n",
       "    </tr>\n",
       "  </tbody>\n",
       "</table>\n",
       "</div>"
      ],
      "text/plain": [
       "    id                    name      address      city postalcode           phone         category source\n",
       "73  74  monsignor’s restaurant  679 5th Ave  New York  11215      (718) 369-2575  Italian;Mexican  yelp "
      ]
     },
     "execution_count": 99,
     "metadata": {},
     "output_type": "execute_result"
    }
   ],
   "source": [
    "yelp_data[yelp_data['id'] == 74]"
   ]
  },
  {
   "cell_type": "code",
   "execution_count": 82,
   "metadata": {},
   "outputs": [],
   "source": [
    "customer_all_path = (r'/home/ubuntu/jupyter/ServerX/1_Standard Data Integration/Sample Datasets'\n",
    "                    r'/Processed Data/customer_samples/')"
   ]
  },
  {
   "cell_type": "code",
   "execution_count": 83,
   "metadata": {},
   "outputs": [],
   "source": [
    "yellow_pages_data['source'] = 'yellow_pages'\n",
    "yelp_data['source'] = 'yelp'"
   ]
  },
  {
   "cell_type": "code",
   "execution_count": 100,
   "metadata": {},
   "outputs": [
    {
     "data": {
      "text/html": [
       "<div>\n",
       "<style scoped>\n",
       "    .dataframe tbody tr th:only-of-type {\n",
       "        vertical-align: middle;\n",
       "    }\n",
       "\n",
       "    .dataframe tbody tr th {\n",
       "        vertical-align: top;\n",
       "    }\n",
       "\n",
       "    .dataframe thead th {\n",
       "        text-align: right;\n",
       "    }\n",
       "</style>\n",
       "<table border=\"1\" class=\"dataframe\">\n",
       "  <thead>\n",
       "    <tr style=\"text-align: right;\">\n",
       "      <th></th>\n",
       "      <th>id</th>\n",
       "      <th>name</th>\n",
       "      <th>address</th>\n",
       "      <th>city</th>\n",
       "      <th>postalcode</th>\n",
       "      <th>phone</th>\n",
       "      <th>category</th>\n",
       "      <th>source</th>\n",
       "    </tr>\n",
       "  </thead>\n",
       "  <tbody>\n",
       "    <tr>\n",
       "      <th>0</th>\n",
       "      <td>1</td>\n",
       "      <td>full shilling</td>\n",
       "      <td>160 Pearl St</td>\n",
       "      <td>New York</td>\n",
       "      <td>10005</td>\n",
       "      <td>(212) 422-3855</td>\n",
       "      <td>Sandwich Shops;Take Out Restaurants;Hamburgers &amp; Hot Dogs;Health Food Restaurants;Bar &amp; Grills;Bars;Restaurants</td>\n",
       "      <td>yellow_pages</td>\n",
       "    </tr>\n",
       "    <tr>\n",
       "      <th>1</th>\n",
       "      <td>2</td>\n",
       "      <td>dovetail</td>\n",
       "      <td>103 W 77th St</td>\n",
       "      <td>New York</td>\n",
       "      <td>10024</td>\n",
       "      <td>(212) 362-3800</td>\n",
       "      <td>American Restaurants;French Restaurants;Ice Cream &amp; Frozen Desserts;Fine Dining Restaurants;Bar &amp; Grills;Restaurants</td>\n",
       "      <td>yellow_pages</td>\n",
       "    </tr>\n",
       "    <tr>\n",
       "      <th>2</th>\n",
       "      <td>3</td>\n",
       "      <td>patron mexican grill</td>\n",
       "      <td>608 9th Ave</td>\n",
       "      <td>New York</td>\n",
       "      <td>10036</td>\n",
       "      <td>(212) 957-9050</td>\n",
       "      <td>Mexican Restaurants;Latin American Restaurants;Bar &amp; Grills;Take Out Restaurants;Restaurants</td>\n",
       "      <td>yellow_pages</td>\n",
       "    </tr>\n",
       "    <tr>\n",
       "      <th>3</th>\n",
       "      <td>4</td>\n",
       "      <td>ko sushi</td>\n",
       "      <td>1329 2nd Ave</td>\n",
       "      <td>New York</td>\n",
       "      <td>10021</td>\n",
       "      <td>(212) 439-1678</td>\n",
       "      <td>Sushi Bars;Japanese Restaurants;Asian Restaurants;Caterers;Family Style Restaurants;Restaurants</td>\n",
       "      <td>yellow_pages</td>\n",
       "    </tr>\n",
       "    <tr>\n",
       "      <th>4</th>\n",
       "      <td>5</td>\n",
       "      <td>famous famiglia pizzeria</td>\n",
       "      <td>488 8th Ave</td>\n",
       "      <td>New York</td>\n",
       "      <td>10001</td>\n",
       "      <td>(212) 564-4144</td>\n",
       "      <td>Pizza;Restaurants;Italian Restaurants</td>\n",
       "      <td>yellow_pages</td>\n",
       "    </tr>\n",
       "  </tbody>\n",
       "</table>\n",
       "</div>"
      ],
      "text/plain": [
       "   id                      name        address      city postalcode           phone                                                                                                              category        source\n",
       "0  1   full shilling             160 Pearl St   New York  10005      (212) 422-3855  Sandwich Shops;Take Out Restaurants;Hamburgers & Hot Dogs;Health Food Restaurants;Bar & Grills;Bars;Restaurants       yellow_pages\n",
       "1  2   dovetail                  103 W 77th St  New York  10024      (212) 362-3800  American Restaurants;French Restaurants;Ice Cream & Frozen Desserts;Fine Dining Restaurants;Bar & Grills;Restaurants  yellow_pages\n",
       "2  3   patron mexican grill      608 9th Ave    New York  10036      (212) 957-9050  Mexican Restaurants;Latin American Restaurants;Bar & Grills;Take Out Restaurants;Restaurants                          yellow_pages\n",
       "3  4   ko sushi                  1329 2nd Ave   New York  10021      (212) 439-1678  Sushi Bars;Japanese Restaurants;Asian Restaurants;Caterers;Family Style Restaurants;Restaurants                       yellow_pages\n",
       "4  5   famous famiglia pizzeria  488 8th Ave    New York  10001      (212) 564-4144  Pizza;Restaurants;Italian Restaurants                                                                                 yellow_pages"
      ]
     },
     "execution_count": 100,
     "metadata": {},
     "output_type": "execute_result"
    }
   ],
   "source": [
    "yellow_pages_data.head()"
   ]
  },
  {
   "cell_type": "code",
   "execution_count": 101,
   "metadata": {},
   "outputs": [
    {
     "data": {
      "text/html": [
       "<div>\n",
       "<style scoped>\n",
       "    .dataframe tbody tr th:only-of-type {\n",
       "        vertical-align: middle;\n",
       "    }\n",
       "\n",
       "    .dataframe tbody tr th {\n",
       "        vertical-align: top;\n",
       "    }\n",
       "\n",
       "    .dataframe thead th {\n",
       "        text-align: right;\n",
       "    }\n",
       "</style>\n",
       "<table border=\"1\" class=\"dataframe\">\n",
       "  <thead>\n",
       "    <tr style=\"text-align: right;\">\n",
       "      <th></th>\n",
       "      <th>id</th>\n",
       "      <th>name</th>\n",
       "      <th>address</th>\n",
       "      <th>city</th>\n",
       "      <th>postalcode</th>\n",
       "      <th>phone</th>\n",
       "      <th>category</th>\n",
       "      <th>source</th>\n",
       "    </tr>\n",
       "  </thead>\n",
       "  <tbody>\n",
       "    <tr>\n",
       "      <th>0</th>\n",
       "      <td>1</td>\n",
       "      <td>sunshine co.</td>\n",
       "      <td>780 Washington Ave</td>\n",
       "      <td>New York</td>\n",
       "      <td>11238</td>\n",
       "      <td>(347) 750-5275</td>\n",
       "      <td>American (New);Cocktail Bars</td>\n",
       "      <td>yelp</td>\n",
       "    </tr>\n",
       "    <tr>\n",
       "      <th>1</th>\n",
       "      <td>2</td>\n",
       "      <td>adella</td>\n",
       "      <td>410 W 43rd St</td>\n",
       "      <td>New York</td>\n",
       "      <td>10036</td>\n",
       "      <td>(212) 273-0737</td>\n",
       "      <td>Tapas Bars;American (New);Wine Bars</td>\n",
       "      <td>yelp</td>\n",
       "    </tr>\n",
       "    <tr>\n",
       "      <th>2</th>\n",
       "      <td>3</td>\n",
       "      <td>rex</td>\n",
       "      <td>864 10th Ave</td>\n",
       "      <td>New York</td>\n",
       "      <td>10019</td>\n",
       "      <td>(929) 900-5784</td>\n",
       "      <td>Coffee &amp; Tea;Sandwiches</td>\n",
       "      <td>yelp</td>\n",
       "    </tr>\n",
       "    <tr>\n",
       "      <th>3</th>\n",
       "      <td>4</td>\n",
       "      <td>bistro petit</td>\n",
       "      <td>170 S 3rd St</td>\n",
       "      <td>New York</td>\n",
       "      <td>11211</td>\n",
       "      <td>(718) 782-2582</td>\n",
       "      <td>French</td>\n",
       "      <td>yelp</td>\n",
       "    </tr>\n",
       "    <tr>\n",
       "      <th>4</th>\n",
       "      <td>5</td>\n",
       "      <td>jora restaurant &amp; bar</td>\n",
       "      <td>47-46 11th St</td>\n",
       "      <td>New York</td>\n",
       "      <td>11101</td>\n",
       "      <td>(718) 392-2033</td>\n",
       "      <td>Peruvian</td>\n",
       "      <td>yelp</td>\n",
       "    </tr>\n",
       "  </tbody>\n",
       "</table>\n",
       "</div>"
      ],
      "text/plain": [
       "   id                   name             address      city postalcode           phone                             category source\n",
       "0  1   sunshine co.           780 Washington Ave  New York  11238      (347) 750-5275  American (New);Cocktail Bars         yelp \n",
       "1  2   adella                 410 W 43rd St       New York  10036      (212) 273-0737  Tapas Bars;American (New);Wine Bars  yelp \n",
       "2  3   rex                    864 10th Ave        New York  10019      (929) 900-5784  Coffee & Tea;Sandwiches              yelp \n",
       "3  4   bistro petit           170 S 3rd St        New York  11211      (718) 782-2582  French                               yelp \n",
       "4  5   jora restaurant & bar  47-46 11th St       New York  11101      (718) 392-2033  Peruvian                             yelp "
      ]
     },
     "execution_count": 101,
     "metadata": {},
     "output_type": "execute_result"
    }
   ],
   "source": [
    "yelp_data.head()"
   ]
  },
  {
   "cell_type": "code",
   "execution_count": 84,
   "metadata": {
    "scrolled": true
   },
   "outputs": [],
   "source": [
    "yellow_yelp_all2 = pd.concat([yellow_pages_data, yelp_data])\n",
    "#yellow_yelp_all2.rename(columns={'record_id': 'Id'}, inplace=True)"
   ]
  },
  {
   "cell_type": "code",
   "execution_count": 85,
   "metadata": {
    "scrolled": true
   },
   "outputs": [
    {
     "data": {
      "text/plain": [
       "Index(['id', 'name', 'address', 'city', 'postalcode', 'phone', 'category', 'source'], dtype='object')"
      ]
     },
     "execution_count": 85,
     "metadata": {},
     "output_type": "execute_result"
    }
   ],
   "source": [
    "yellow_yelp_all2.columns"
   ]
  },
  {
   "cell_type": "code",
   "execution_count": 86,
   "metadata": {},
   "outputs": [],
   "source": [
    "yellow_yelp_all2.to_csv(customer_all_path + 'yellow_yelp_all2.csv', sep=',', quotechar='\"')"
   ]
  },
  {
   "cell_type": "code",
   "execution_count": 49,
   "metadata": {},
   "outputs": [],
   "source": [
    "labeled_data.to_csv(customer_all_path + 'yellow_yelp_label2.csv', sep=',', quotechar='\"')"
   ]
  }
 ],
 "metadata": {
  "kernelspec": {
   "display_name": "Python 3",
   "language": "python",
   "name": "python3"
  },
  "language_info": {
   "codemirror_mode": {
    "name": "ipython",
    "version": 3
   },
   "file_extension": ".py",
   "mimetype": "text/x-python",
   "name": "python",
   "nbconvert_exporter": "python",
   "pygments_lexer": "ipython3",
   "version": "3.7.0"
  }
 },
 "nbformat": 4,
 "nbformat_minor": 2
}
