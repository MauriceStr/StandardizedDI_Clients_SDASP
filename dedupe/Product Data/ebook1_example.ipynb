{
 "cells": [
  {
   "cell_type": "code",
   "execution_count": 4,
   "metadata": {},
   "outputs": [],
   "source": [
    "from future.builtins import next\n",
    "import os\n",
    "import csv\n",
    "import re\n",
    "import logging\n",
    "import optparse\n",
    "\n",
    "import dedupe\n",
    "from unidecode import unidecode\n",
    "\n",
    "import pandas as pd"
   ]
  },
  {
   "cell_type": "code",
   "execution_count": 5,
   "metadata": {},
   "outputs": [],
   "source": [
    "pd.options.display.float_format = '{:20,.2f}'.format\n",
    "pd.set_option('display.max_rows', 5000)\n",
    "pd.set_option('display.max_columns', 5000)\n",
    "pd.set_option('display.width', 1000)\n",
    "pd.set_option('display.max_colwidth', -1)"
   ]
  },
  {
   "cell_type": "code",
   "execution_count": 11,
   "metadata": {},
   "outputs": [],
   "source": [
    "ebooks1_all_path = (r'/home/ubuntu/jupyter/ServerX/1_Standard Data Integration/Sample Datasets'\n",
    "                    r'/Processed Data/product_samples/ebooks1_all.csv')"
   ]
  },
  {
   "cell_type": "code",
   "execution_count": 12,
   "metadata": {},
   "outputs": [],
   "source": [
    "input_file = ebooks1_all_path\n",
    "output_file = 'ebooks1_output2.csv'\n",
    "settings_file = 'ebooks1_learned_settings2'\n",
    "training_file = 'ebooks1_training2.json'"
   ]
  },
  {
   "cell_type": "markdown",
   "metadata": {},
   "source": [
    "## DF and corpus prep"
   ]
  },
  {
   "cell_type": "code",
   "execution_count": 19,
   "metadata": {},
   "outputs": [],
   "source": [
    "fields_of_interest = [\n",
    "    'Id',\n",
    "    'name',\n",
    "    'description',\n",
    "    'producer',\n",
    "    'price',\n",
    "    'source'\n",
    "]"
   ]
  },
  {
   "cell_type": "code",
   "execution_count": 20,
   "metadata": {},
   "outputs": [],
   "source": [
    "ebooks1_all = pd.read_csv(ebooks1_all_path, sep=',', quotechar='\"')[fields_of_interest]"
   ]
  },
  {
   "cell_type": "code",
   "execution_count": 21,
   "metadata": {},
   "outputs": [
    {
     "data": {
      "text/plain": [
       "Index(['Id', 'name', 'description', 'producer', 'price', 'source'], dtype='object')"
      ]
     },
     "execution_count": 21,
     "metadata": {},
     "output_type": "execute_result"
    }
   ],
   "source": [
    "ebooks1_all.columns"
   ]
  },
  {
   "cell_type": "code",
   "execution_count": 48,
   "metadata": {},
   "outputs": [],
   "source": [
    "nan_float_ids = [4614, 4770, 8449]"
   ]
  },
  {
   "cell_type": "code",
   "execution_count": 51,
   "metadata": {},
   "outputs": [],
   "source": [
    "ebooks1_all = ebooks1_all[~(ebooks1_all['name'].isnull())]"
   ]
  },
  {
   "cell_type": "code",
   "execution_count": 57,
   "metadata": {},
   "outputs": [
    {
     "data": {
      "text/html": [
       "<div>\n",
       "<style scoped>\n",
       "    .dataframe tbody tr th:only-of-type {\n",
       "        vertical-align: middle;\n",
       "    }\n",
       "\n",
       "    .dataframe tbody tr th {\n",
       "        vertical-align: top;\n",
       "    }\n",
       "\n",
       "    .dataframe thead th {\n",
       "        text-align: right;\n",
       "    }\n",
       "</style>\n",
       "<table border=\"1\" class=\"dataframe\">\n",
       "  <thead>\n",
       "    <tr style=\"text-align: right;\">\n",
       "      <th></th>\n",
       "      <th>Id</th>\n",
       "      <th>name</th>\n",
       "      <th>description</th>\n",
       "      <th>producer</th>\n",
       "      <th>price</th>\n",
       "      <th>source</th>\n",
       "    </tr>\n",
       "  </thead>\n",
       "  <tbody>\n",
       "    <tr>\n",
       "      <th>943</th>\n",
       "      <td>944</td>\n",
       "      <td>Running Technique</td>\n",
       "      <td>NaN</td>\n",
       "      <td>Brian Martin</td>\n",
       "      <td>8.99</td>\n",
       "      <td>itunes</td>\n",
       "    </tr>\n",
       "    <tr>\n",
       "      <th>7694</th>\n",
       "      <td>1195</td>\n",
       "      <td>Canoe Country</td>\n",
       "      <td>NaN</td>\n",
       "      <td>University of Minnesota Press</td>\n",
       "      <td>60.00</td>\n",
       "      <td>ebooks</td>\n",
       "    </tr>\n",
       "    <tr>\n",
       "      <th>8165</th>\n",
       "      <td>1666</td>\n",
       "      <td>Best Bike Rides Philadelphia</td>\n",
       "      <td>NaN</td>\n",
       "      <td>Falcon Guides</td>\n",
       "      <td>17.99</td>\n",
       "      <td>ebooks</td>\n",
       "    </tr>\n",
       "    <tr>\n",
       "      <th>10047</th>\n",
       "      <td>3548</td>\n",
       "      <td>A Guide to Improvised Weaponry</td>\n",
       "      <td>NaN</td>\n",
       "      <td>F+W Media</td>\n",
       "      <td>15.99</td>\n",
       "      <td>ebooks</td>\n",
       "    </tr>\n",
       "    <tr>\n",
       "      <th>10114</th>\n",
       "      <td>3615</td>\n",
       "      <td>The Official Gun Digest Book of Guns &amp; Prices 2015</td>\n",
       "      <td>NaN</td>\n",
       "      <td>F+W Media</td>\n",
       "      <td>26.99</td>\n",
       "      <td>ebooks</td>\n",
       "    </tr>\n",
       "  </tbody>\n",
       "</table>\n",
       "</div>"
      ],
      "text/plain": [
       "         Id                                                name description                       producer                price  source\n",
       "943    944   Running Technique                                   NaN         Brian Martin                                  8.99  itunes\n",
       "7694   1195  Canoe Country                                       NaN         University of Minnesota Press                60.00  ebooks\n",
       "8165   1666  Best Bike Rides Philadelphia                        NaN         Falcon Guides                                17.99  ebooks\n",
       "10047  3548  A Guide to Improvised Weaponry                      NaN         F+W Media                                    15.99  ebooks\n",
       "10114  3615  The Official Gun Digest Book of Guns & Prices 2015  NaN         F+W Media                                    26.99  ebooks"
      ]
     },
     "execution_count": 57,
     "metadata": {},
     "output_type": "execute_result"
    }
   ],
   "source": [
    "ebooks1_all[(ebooks1_all['description'].isnull())].head()"
   ]
  },
  {
   "cell_type": "code",
   "execution_count": 41,
   "metadata": {},
   "outputs": [
    {
     "data": {
      "text/plain": [
       "Index(['Id', 'name', 'description', 'producer', 'price', 'source'], dtype='object')"
      ]
     },
     "execution_count": 41,
     "metadata": {},
     "output_type": "execute_result"
    }
   ],
   "source": [
    "x = ebooks1_all[(ebooks1_all['name'].isnull()]\n",
    "x.columns"
   ]
  },
  {
   "cell_type": "code",
   "execution_count": 37,
   "metadata": {},
   "outputs": [
    {
     "data": {
      "text/plain": [
       "float"
      ]
     },
     "execution_count": 37,
     "metadata": {},
     "output_type": "execute_result"
    }
   ],
   "source": [
    "type(x['name'][11113])"
   ]
  },
  {
   "cell_type": "code",
   "execution_count": 12,
   "metadata": {},
   "outputs": [
    {
     "data": {
      "text/html": [
       "<div>\n",
       "<style scoped>\n",
       "    .dataframe tbody tr th:only-of-type {\n",
       "        vertical-align: middle;\n",
       "    }\n",
       "\n",
       "    .dataframe tbody tr th {\n",
       "        vertical-align: top;\n",
       "    }\n",
       "\n",
       "    .dataframe thead th {\n",
       "        text-align: right;\n",
       "    }\n",
       "</style>\n",
       "<table border=\"1\" class=\"dataframe\">\n",
       "  <thead>\n",
       "    <tr style=\"text-align: right;\">\n",
       "      <th></th>\n",
       "      <th>Unnamed: 0</th>\n",
       "      <th>Id</th>\n",
       "      <th>name</th>\n",
       "      <th>description</th>\n",
       "      <th>producer</th>\n",
       "      <th>price</th>\n",
       "      <th>source</th>\n",
       "    </tr>\n",
       "  </thead>\n",
       "  <tbody>\n",
       "  </tbody>\n",
       "</table>\n",
       "</div>"
      ],
      "text/plain": [
       "Empty DataFrame\n",
       "Columns: [Unnamed: 0, Id, name, description, producer, price, source]\n",
       "Index: []"
      ]
     },
     "execution_count": 12,
     "metadata": {},
     "output_type": "execute_result"
    }
   ],
   "source": [
    "ebooks1_all[ebooks1_all['name'] == None]"
   ]
  },
  {
   "cell_type": "code",
   "execution_count": 14,
   "metadata": {},
   "outputs": [],
   "source": [
    "description_corpus = ebooks1_all['description'].to_list()\n",
    "description_corpus = [x for x in description_corpus if str(x) != 'nan']"
   ]
  },
  {
   "cell_type": "code",
   "execution_count": 58,
   "metadata": {},
   "outputs": [],
   "source": [
    "producer_corpus = ebooks1_all.drop_duplicates().to_dict('records')"
   ]
  },
  {
   "cell_type": "code",
   "execution_count": 59,
   "metadata": {},
   "outputs": [],
   "source": [
    "producers = list(ebooks1_all['producer'].unique())\n",
    "producers = [x for x in producers if str(x) != 'nan']"
   ]
  },
  {
   "cell_type": "markdown",
   "metadata": {},
   "source": [
    "## ----------------------------------------------------------------------------------------------------------"
   ]
  },
  {
   "cell_type": "code",
   "execution_count": 65,
   "metadata": {},
   "outputs": [],
   "source": [
    "def preProcess(key, column):\n",
    "    \n",
    "    try : # python 2/3 string differences\n",
    "        column = column.decode('utf8')\n",
    "    except AttributeError:\n",
    "        pass\n",
    "    column = unidecode(column)\n",
    "    column = re.sub('  +', ' ', column)\n",
    "    column = re.sub('\\n', ' ', column)\n",
    "    column = column.strip().strip('\"').strip(\"'\").lower().strip()\n",
    "    column = column.lower()\n",
    "    if not column:\n",
    "        return None\n",
    "        \n",
    "    if key == 'price':\n",
    "        column = float(column) \n",
    "    return column"
   ]
  },
  {
   "cell_type": "code",
   "execution_count": 66,
   "metadata": {},
   "outputs": [],
   "source": [
    "def readData(filename):\n",
    "    \n",
    "    data_d = {}\n",
    "    with open(filename) as f:\n",
    "        reader = csv.DictReader(f)\n",
    "        for row in reader:\n",
    "            clean_row = [(k, preProcess(k, v)) for (k, v) in row.items()]\n",
    "            row_id = int(row['Id'])\n",
    "            data_d[row_id] = dict(clean_row)\n",
    "\n",
    "    return data_d "
   ]
  },
  {
   "cell_type": "code",
   "execution_count": 67,
   "metadata": {},
   "outputs": [
    {
     "name": "stdout",
     "output_type": "stream",
     "text": [
      "importing data ...\n"
     ]
    }
   ],
   "source": [
    "print('importing data ...')\n",
    "data_d = readData(input_file)"
   ]
  },
  {
   "cell_type": "markdown",
   "metadata": {},
   "source": [
    "## Dedupe Processing"
   ]
  },
  {
   "cell_type": "code",
   "execution_count": 68,
   "metadata": {},
   "outputs": [],
   "source": [
    "fields = [\n",
    "    {'field' : 'name', 'type': 'Name'},\n",
    "#    {'field' : 'name', 'type': 'String'},\n",
    " #   {'field' : 'description', \n",
    " #    'type': 'Text',\n",
    " #    'corpus': description_corpus,\n",
    " #    'has_missing': True\n",
    " #   },\n",
    "#    {'field' : 'category', \n",
    "#     'type': 'FuzzyCategorical',\n",
    "#     'categories': categories,\n",
    "#     'corpus': category_corpus,\n",
    "#     'has missing' : True\n",
    "#    },        \n",
    "    {'field' : 'producer', \n",
    "     'type': 'FuzzyCategorical',\n",
    "     'categories': producers,\n",
    "     'corpus': producer_corpus,\n",
    "     'has_missing': True\n",
    "    },\n",
    "    {'field' : 'price', \n",
    "     'type': 'Price',\n",
    "     'has_missing': True\n",
    "    },\n",
    "]"
   ]
  },
  {
   "cell_type": "code",
   "execution_count": 69,
   "metadata": {},
   "outputs": [],
   "source": [
    "deduper = dedupe.Dedupe(fields)"
   ]
  },
  {
   "cell_type": "code",
   "execution_count": 70,
   "metadata": {},
   "outputs": [
    {
     "name": "stderr",
     "output_type": "stream",
     "text": [
      "INFO:dedupe.canopy_index:Removing stop word  d\n",
      "INFO:dedupe.canopy_index:Removing stop word  h\n",
      "INFO:dedupe.canopy_index:Removing stop word de\n",
      "INFO:dedupe.canopy_index:Removing stop word en\n",
      "INFO:dedupe.canopy_index:Removing stop word es\n",
      "INFO:dedupe.canopy_index:Removing stop word s \n",
      "INFO:dedupe.canopy_index:Removing stop word t \n",
      "INFO:dedupe.canopy_index:Removing stop word y \n",
      "INFO:dedupe.canopy_index:Removing stop word  b\n",
      "INFO:dedupe.canopy_index:Removing stop word  r\n",
      "INFO:dedupe.canopy_index:Removing stop word an\n",
      "INFO:dedupe.canopy_index:Removing stop word fo\n",
      "INFO:dedupe.canopy_index:Removing stop word in\n",
      "INFO:dedupe.canopy_index:Removing stop word nd\n",
      "INFO:dedupe.canopy_index:Removing stop word or\n",
      "INFO:dedupe.canopy_index:Removing stop word r \n",
      "INFO:dedupe.canopy_index:Removing stop word to\n",
      "INFO:dedupe.canopy_index:Removing stop word un\n",
      "INFO:dedupe.canopy_index:Removing stop word  l\n",
      "INFO:dedupe.canopy_index:Removing stop word io\n",
      "INFO:dedupe.canopy_index:Removing stop word on\n",
      "INFO:dedupe.canopy_index:Removing stop word  g\n",
      "INFO:dedupe.canopy_index:Removing stop word e \n",
      "INFO:dedupe.canopy_index:Removing stop word he\n",
      "INFO:dedupe.canopy_index:Removing stop word it\n",
      "INFO:dedupe.canopy_index:Removing stop word ne\n",
      "INFO:dedupe.canopy_index:Removing stop word rs\n",
      "INFO:dedupe.canopy_index:Removing stop word th\n",
      "INFO:dedupe.canopy_index:Removing stop word  w\n",
      "INFO:dedupe.canopy_index:Removing stop word bo\n",
      "INFO:dedupe.canopy_index:Removing stop word ma\n",
      "INFO:dedupe.canopy_index:Removing stop word oo\n",
      "INFO:dedupe.canopy_index:Removing stop word  c\n",
      "INFO:dedupe.canopy_index:Removing stop word nt\n",
      "INFO:dedupe.canopy_index:Removing stop word te\n",
      "INFO:dedupe.canopy_index:Removing stop word  i\n",
      "INFO:dedupe.canopy_index:Removing stop word a \n",
      "INFO:dedupe.canopy_index:Removing stop word at\n",
      "INFO:dedupe.canopy_index:Removing stop word me\n",
      "INFO:dedupe.canopy_index:Removing stop word  p\n",
      "INFO:dedupe.canopy_index:Removing stop word ch\n",
      "INFO:dedupe.canopy_index:Removing stop word g \n",
      "INFO:dedupe.canopy_index:Removing stop word l \n",
      "INFO:dedupe.canopy_index:Removing stop word ng\n",
      "INFO:dedupe.canopy_index:Removing stop word po\n",
      "INFO:dedupe.canopy_index:Removing stop word rt\n",
      "INFO:dedupe.canopy_index:Removing stop word  o\n",
      "INFO:dedupe.canopy_index:Removing stop word ca\n",
      "INFO:dedupe.canopy_index:Removing stop word f \n",
      "INFO:dedupe.canopy_index:Removing stop word of\n",
      "INFO:dedupe.canopy_index:Removing stop word et\n",
      "INFO:dedupe.canopy_index:Removing stop word sp\n",
      "INFO:dedupe.canopy_index:Removing stop word ic\n",
      "INFO:dedupe.canopy_index:Removing stop word al\n",
      "INFO:dedupe.canopy_index:Removing stop word ll\n",
      "INFO:dedupe.canopy_index:Removing stop word la\n",
      "INFO:dedupe.canopy_index:Removing stop word le\n",
      "INFO:dedupe.canopy_index:Removing stop word di\n",
      "INFO:dedupe.canopy_index:Removing stop word ri\n",
      "INFO:dedupe.canopy_index:Removing stop word ta\n",
      "INFO:dedupe.canopy_index:Removing stop word  d\n",
      "INFO:dedupe.canopy_index:Removing stop word  h\n",
      "INFO:dedupe.canopy_index:Removing stop word be\n",
      "INFO:dedupe.canopy_index:Removing stop word de\n",
      "INFO:dedupe.canopy_index:Removing stop word en\n",
      "INFO:dedupe.canopy_index:Removing stop word es\n",
      "INFO:dedupe.canopy_index:Removing stop word ke\n",
      "INFO:dedupe.canopy_index:Removing stop word s \n",
      "INFO:dedupe.canopy_index:Removing stop word t \n",
      "INFO:dedupe.canopy_index:Removing stop word y \n",
      "INFO:dedupe.canopy_index:Removing stop word  b\n",
      "INFO:dedupe.canopy_index:Removing stop word  m\n",
      "INFO:dedupe.canopy_index:Removing stop word  t\n",
      "INFO:dedupe.canopy_index:Removing stop word ai\n",
      "INFO:dedupe.canopy_index:Removing stop word ar\n",
      "INFO:dedupe.canopy_index:Removing stop word d \n",
      "INFO:dedupe.canopy_index:Removing stop word ho\n",
      "INFO:dedupe.canopy_index:Removing stop word ma\n",
      "INFO:dedupe.canopy_index:Removing stop word nd\n",
      "INFO:dedupe.canopy_index:Removing stop word on\n",
      "INFO:dedupe.canopy_index:Removing stop word ou\n",
      "INFO:dedupe.canopy_index:Removing stop word r \n",
      "INFO:dedupe.canopy_index:Removing stop word th\n",
      "INFO:dedupe.canopy_index:Removing stop word tr\n",
      "INFO:dedupe.canopy_index:Removing stop word ur\n",
      "INFO:dedupe.canopy_index:Removing stop word  l\n",
      "INFO:dedupe.canopy_index:Removing stop word io\n",
      "INFO:dedupe.canopy_index:Removing stop word  g\n",
      "INFO:dedupe.canopy_index:Removing stop word e \n",
      "INFO:dedupe.canopy_index:Removing stop word he\n",
      "INFO:dedupe.canopy_index:Removing stop word it\n",
      "INFO:dedupe.canopy_index:Removing stop word ne\n",
      "INFO:dedupe.canopy_index:Removing stop word ol\n",
      "INFO:dedupe.canopy_index:Removing stop word  w\n",
      "INFO:dedupe.canopy_index:Removing stop word bo\n",
      "INFO:dedupe.canopy_index:Removing stop word oo\n",
      "INFO:dedupe.canopy_index:Removing stop word  c\n",
      "INFO:dedupe.canopy_index:Removing stop word nt\n",
      "INFO:dedupe.canopy_index:Removing stop word te\n",
      "INFO:dedupe.canopy_index:Removing stop word  i\n",
      "INFO:dedupe.canopy_index:Removing stop word ba\n",
      "INFO:dedupe.canopy_index:Removing stop word ge\n",
      "INFO:dedupe.canopy_index:Removing stop word me\n",
      "INFO:dedupe.canopy_index:Removing stop word  p\n",
      "INFO:dedupe.canopy_index:Removing stop word ch\n",
      "INFO:dedupe.canopy_index:Removing stop word g \n",
      "INFO:dedupe.canopy_index:Removing stop word l \n",
      "INFO:dedupe.canopy_index:Removing stop word ng\n",
      "INFO:dedupe.canopy_index:Removing stop word po\n",
      "INFO:dedupe.canopy_index:Removing stop word rt\n",
      "INFO:dedupe.canopy_index:Removing stop word  o\n",
      "INFO:dedupe.canopy_index:Removing stop word ca\n",
      "INFO:dedupe.canopy_index:Removing stop word f \n",
      "INFO:dedupe.canopy_index:Removing stop word of\n",
      "INFO:dedupe.canopy_index:Removing stop word et\n",
      "INFO:dedupe.canopy_index:Removing stop word di\n",
      "INFO:dedupe.canopy_index:Removing stop word ie\n",
      "INFO:dedupe.canopy_index:Removing stop word sp\n",
      "INFO:dedupe.canopy_index:Removing stop word ti\n",
      "INFO:dedupe.canopy_index:Removing stop word lo\n",
      "INFO:dedupe.canopy_index:Removing stop word al\n",
      "INFO:dedupe.canopy_index:Removing stop word la\n",
      "INFO:dedupe.canopy_index:Removing stop word le\n",
      "INFO:dedupe.canopy_index:Removing stop word il\n",
      "INFO:dedupe.canopy_index:Removing stop word ri\n",
      "INFO:dedupe.canopy_index:Removing stop word ac\n",
      "INFO:dedupe.canopy_index:Removing stop word ta\n",
      "INFO:dedupe.canopy_index:Removing stop word om\n",
      "INFO:dedupe.canopy_index:Removing stop word and\n",
      "INFO:dedupe.canopy_index:Removing stop word the\n",
      "INFO:dedupe.canopy_index:Removing stop word of\n",
      "INFO:dedupe.canopy_index:Removing stop word  e\n",
      "INFO:dedupe.canopy_index:Removing stop word ea\n",
      "INFO:dedupe.canopy_index:Removing stop word hi\n",
      "INFO:dedupe.canopy_index:Removing stop word st\n",
      "INFO:dedupe.canopy_index:Removing stop word ve\n",
      "INFO:dedupe.canopy_index:Removing stop word  f\n",
      "INFO:dedupe.canopy_index:Removing stop word d \n",
      "INFO:dedupe.canopy_index:Removing stop word n \n",
      "INFO:dedupe.canopy_index:Removing stop word ou\n",
      "INFO:dedupe.canopy_index:Removing stop word ra\n",
      "INFO:dedupe.canopy_index:Removing stop word tr\n",
      "INFO:dedupe.canopy_index:Removing stop word li\n",
      "INFO:dedupe.canopy_index:Removing stop word ar\n",
      "INFO:dedupe.canopy_index:Removing stop word co\n",
      "INFO:dedupe.canopy_index:Removing stop word  m\n",
      "INFO:dedupe.canopy_index:Removing stop word ba\n",
      "INFO:dedupe.canopy_index:Removing stop word  s\n",
      "INFO:dedupe.canopy_index:Removing stop word re\n",
      "INFO:dedupe.canopy_index:Removing stop word am\n",
      "INFO:dedupe.canopy_index:Removing stop word ro\n",
      "INFO:dedupe.canopy_index:Removing stop word is\n",
      "INFO:dedupe.canopy_index:Removing stop word ts\n",
      "INFO:dedupe.canopy_index:Removing stop word ti\n",
      "INFO:dedupe.canopy_index:Removing stop word  e\n",
      "INFO:dedupe.canopy_index:Removing stop word ea\n",
      "INFO:dedupe.canopy_index:Removing stop word hi\n",
      "INFO:dedupe.canopy_index:Removing stop word st\n",
      "INFO:dedupe.canopy_index:Removing stop word ve\n",
      "INFO:dedupe.canopy_index:Removing stop word  f\n",
      "INFO:dedupe.canopy_index:Removing stop word an\n",
      "INFO:dedupe.canopy_index:Removing stop word fo\n",
      "INFO:dedupe.canopy_index:Removing stop word n \n",
      "INFO:dedupe.canopy_index:Removing stop word or\n",
      "INFO:dedupe.canopy_index:Removing stop word ra\n",
      "INFO:dedupe.canopy_index:Removing stop word to\n",
      "INFO:dedupe.canopy_index:Removing stop word li\n",
      "INFO:dedupe.canopy_index:Removing stop word id\n",
      "INFO:dedupe.canopy_index:Removing stop word rs\n",
      "INFO:dedupe.canopy_index:Removing stop word co\n",
      "INFO:dedupe.canopy_index:Removing stop word a \n",
      "INFO:dedupe.canopy_index:Removing stop word ha\n",
      "INFO:dedupe.canopy_index:Removing stop word  s\n",
      "INFO:dedupe.canopy_index:Removing stop word ed\n",
      "INFO:dedupe.canopy_index:Removing stop word ni\n"
     ]
    },
    {
     "name": "stderr",
     "output_type": "stream",
     "text": [
      "INFO:dedupe.canopy_index:Removing stop word se\n",
      "INFO:dedupe.canopy_index:Removing stop word am\n",
      "INFO:dedupe.canopy_index:Removing stop word ro\n",
      "INFO:dedupe.canopy_index:Removing stop word is\n",
      "INFO:dedupe.canopy_index:Removing stop word ic\n",
      "INFO:dedupe.canopy_index:Removing stop word ts\n",
      "INFO:dedupe.canopy_index:Removing stop word ll\n",
      "INFO:dedupe.training:Final predicate set:\n",
      "INFO:dedupe.training:(PartialIndexTfidfTextCanopyPredicate: (0.8, name, CorporationName), PartialPredicate: (commonTwoTokens, name, CorporationName))\n"
     ]
    }
   ],
   "source": [
    "deduper.prepare_training(data_d)"
   ]
  },
  {
   "cell_type": "code",
   "execution_count": 71,
   "metadata": {},
   "outputs": [
    {
     "name": "stderr",
     "output_type": "stream",
     "text": [
      "name : brett\n",
      "producer : triumph books\n",
      "price : 11.99\n",
      "\n",
      "name : birdie\n",
      "producer : triumph books\n",
      "price : 11.99\n",
      "\n",
      "0/10 positive, 0/10 negative\n",
      "Do these records refer to the same thing?\n",
      "(y)es / (n)o / (u)nsure / (f)inished\n"
     ]
    },
    {
     "name": "stdout",
     "output_type": "stream",
     "text": [
      "n\n"
     ]
    },
    {
     "name": "stderr",
     "output_type": "stream",
     "text": [
      "name : hiking michigan\n",
      "producer : human kinetics\n",
      "price : 19.95\n",
      "\n",
      "name : hiking missouri\n",
      "producer : human kinetics\n",
      "price : 19.95\n",
      "\n",
      "0/10 positive, 1/10 negative\n",
      "Do these records refer to the same thing?\n",
      "(y)es / (n)o / (u)nsure / (f)inished / (p)revious\n"
     ]
    },
    {
     "name": "stdout",
     "output_type": "stream",
     "text": [
      "n\n"
     ]
    },
    {
     "name": "stderr",
     "output_type": "stream",
     "text": [
      "name : 100 things bulls fans should know & do before they die\n",
      "producer : triumph books\n",
      "price : 11.99\n",
      "\n",
      "name : the psycho 100\n",
      "producer : triumph books\n",
      "price : 11.99\n",
      "\n",
      "0/10 positive, 2/10 negative\n",
      "Do these records refer to the same thing?\n",
      "(y)es / (n)o / (u)nsure / (f)inished / (p)revious\n"
     ]
    },
    {
     "name": "stdout",
     "output_type": "stream",
     "text": [
      "n\n"
     ]
    },
    {
     "name": "stderr",
     "output_type": "stream",
     "text": [
      "name : 100 things syracuse fans should know & do before they die\n",
      "producer : triumph books\n",
      "price : 11.99\n",
      "\n",
      "name : the psycho 100\n",
      "producer : triumph books\n",
      "price : 11.99\n",
      "\n",
      "0/10 positive, 3/10 negative\n",
      "Do these records refer to the same thing?\n",
      "(y)es / (n)o / (u)nsure / (f)inished / (p)revious\n"
     ]
    },
    {
     "name": "stdout",
     "output_type": "stream",
     "text": [
      "n\n"
     ]
    },
    {
     "name": "stderr",
     "output_type": "stream",
     "text": [
      "name : instant tennis 2\n",
      "producer : infinite ideas\n",
      "price : 2.95\n",
      "\n",
      "name : instant tennis 2\n",
      "producer : infinite ideas\n",
      "price : 2.95\n",
      "\n",
      "0/10 positive, 4/10 negative\n",
      "Do these records refer to the same thing?\n",
      "(y)es / (n)o / (u)nsure / (f)inished / (p)revious\n"
     ]
    },
    {
     "name": "stdout",
     "output_type": "stream",
     "text": [
      "y\n"
     ]
    },
    {
     "name": "stderr",
     "output_type": "stream",
     "text": [
      "name : golf for dummies\n",
      "producer : wiley\n",
      "price : 0.0\n",
      "\n",
      "name : golf for dummies\n",
      "producer : wiley\n",
      "price : 0.0\n",
      "\n",
      "1/10 positive, 4/10 negative\n",
      "Do these records refer to the same thing?\n",
      "(y)es / (n)o / (u)nsure / (f)inished / (p)revious\n"
     ]
    },
    {
     "name": "stdout",
     "output_type": "stream",
     "text": [
      "y\n"
     ]
    },
    {
     "name": "stderr",
     "output_type": "stream",
     "text": [
      "INFO:dedupe.training:Final predicate set:\n",
      "INFO:dedupe.training:(PartialIndexTfidfTextCanopyPredicate: (0.8, name, CorporationName), PartialPredicate: (commonTwoTokens, name, CorporationName))\n",
      "INFO:dedupe.training:(PartialIndexLevenshteinCanopyPredicate: (4, name, CorporationName), SimplePredicate: (alphaNumericPredicate, name))\n",
      "name : 101 youth netball drills age 7-11\n",
      "producer : bloomsbury publishing\n",
      "price : 16.99\n",
      "\n",
      "name : 101 youth netball drills age 12-16\n",
      "producer : bloomsbury publishing\n",
      "price : 19.99\n",
      "\n",
      "2/10 positive, 4/10 negative\n",
      "Do these records refer to the same thing?\n",
      "(y)es / (n)o / (u)nsure / (f)inished / (p)revious\n"
     ]
    },
    {
     "name": "stdout",
     "output_type": "stream",
     "text": [
      "n\n"
     ]
    },
    {
     "name": "stderr",
     "output_type": "stream",
     "text": [
      "INFO:dedupe.training:Final predicate set:\n",
      "INFO:dedupe.training:(PartialIndexTfidfTextCanopyPredicate: (0.6, name, CorporationName), TfidfNGramCanopyPredicate: (0.4, name))\n",
      "INFO:dedupe.training:(PartialIndexLevenshteinCanopyPredicate: (4, name, CorporationName), SimplePredicate: (alphaNumericPredicate, name))\n",
      "name : the gun digest book of tactical weapons assembly/disassembly\n",
      "producer : f+w media\n",
      "price : 24.99\n",
      "\n",
      "name : the gun digest book of tactical weapons assembly/disassembly\n",
      "producer : f+w media\n",
      "price : 29.99\n",
      "\n",
      "2/10 positive, 5/10 negative\n",
      "Do these records refer to the same thing?\n",
      "(y)es / (n)o / (u)nsure / (f)inished / (p)revious\n"
     ]
    },
    {
     "name": "stdout",
     "output_type": "stream",
     "text": [
      "y\n"
     ]
    },
    {
     "name": "stderr",
     "output_type": "stream",
     "text": [
      "name : outdoor recreation management\n",
      "producer : taylor and francis\n",
      "price : 66.95\n",
      "\n",
      "name : outdoor recreation management\n",
      "producer : taylor and francis\n",
      "price : 66.95\n",
      "\n",
      "3/10 positive, 5/10 negative\n",
      "Do these records refer to the same thing?\n",
      "(y)es / (n)o / (u)nsure / (f)inished / (p)revious\n"
     ]
    },
    {
     "name": "stdout",
     "output_type": "stream",
     "text": [
      "y\n"
     ]
    },
    {
     "name": "stderr",
     "output_type": "stream",
     "text": [
      "INFO:dedupe.training:Final predicate set:\n",
      "INFO:dedupe.training:(PartialIndexTfidfTextCanopyPredicate: (0.2, name, CorporationName), TfidfNGramCanopyPredicate: (0.4, name))\n",
      "INFO:dedupe.training:(PartialIndexLevenshteinCanopyPredicate: (4, name, CorporationName), SimplePredicate: (alphaNumericPredicate, name))\n",
      "name : sporting nationalisms\n",
      "producer : taylor and francis\n",
      "price : 64.95\n",
      "\n",
      "name : sporting cultures\n",
      "producer : taylor and francis\n",
      "price : 54.95\n",
      "\n",
      "4/10 positive, 5/10 negative\n",
      "Do these records refer to the same thing?\n",
      "(y)es / (n)o / (u)nsure / (f)inished / (p)revious\n"
     ]
    },
    {
     "name": "stdout",
     "output_type": "stream",
     "text": [
      "n\n"
     ]
    },
    {
     "name": "stderr",
     "output_type": "stream",
     "text": [
      "INFO:dedupe.training:Final predicate set:\n",
      "INFO:dedupe.training:(PartialPredicate: (twoGramFingerprint, name, CorporationName), TfidfNGramCanopyPredicate: (0.4, name))\n",
      "INFO:dedupe.training:(PartialIndexLevenshteinCanopyPredicate: (4, name, CorporationName), SimplePredicate: (alphaNumericPredicate, name))\n",
      "name : the football fanatic's essential guide part 2: 1978 to 2010\n",
      "producer : hachette india\n",
      "price : 0.99\n",
      "\n",
      "name : the football fanatic's essential guide part 1: origins to 1974\n",
      "producer : hachette india\n",
      "price : 0.99\n",
      "\n",
      "4/10 positive, 6/10 negative\n",
      "Do these records refer to the same thing?\n",
      "(y)es / (n)o / (u)nsure / (f)inished / (p)revious\n"
     ]
    },
    {
     "name": "stdout",
     "output_type": "stream",
     "text": [
      "n\n"
     ]
    },
    {
     "name": "stderr",
     "output_type": "stream",
     "text": [
      "name : wilderness world of cameron mcneish\n",
      "producer : neil wilson publishing\n",
      "price : 14.57\n",
      "\n",
      "name : wilderness world of cameron mcneish\n",
      "producer : neil wilson publishing\n",
      "price : 14.57\n",
      "\n",
      "4/10 positive, 7/10 negative\n",
      "Do these records refer to the same thing?\n",
      "(y)es / (n)o / (u)nsure / (f)inished / (p)revious\n"
     ]
    },
    {
     "name": "stdout",
     "output_type": "stream",
     "text": [
      "y\n"
     ]
    },
    {
     "name": "stderr",
     "output_type": "stream",
     "text": [
      "name : the danihers\n",
      "producer : allen & unwin\n",
      "price : 29.99\n",
      "\n",
      "name : the danihers\n",
      "producer : allen & unwin\n",
      "price : 29.99\n",
      "\n",
      "5/10 positive, 7/10 negative\n",
      "Do these records refer to the same thing?\n",
      "(y)es / (n)o / (u)nsure / (f)inished / (p)revious\n"
     ]
    },
    {
     "name": "stdout",
     "output_type": "stream",
     "text": [
      "y\n"
     ]
    },
    {
     "name": "stderr",
     "output_type": "stream",
     "text": [
      "INFO:dedupe.training:Final predicate set:\n",
      "INFO:dedupe.training:(PartialPredicate: (wholeFieldPredicate, name, CorporationName), SimplePredicate: (wholeFieldPredicate, price))\n",
      "INFO:dedupe.training:(PartialIndexTfidfTextCanopyPredicate: (0.2, name, CorporationName), TfidfNGramCanopyPredicate: (0.4, name))\n",
      "name : slow journeys\n",
      "producer : allen & unwin\n",
      "price : 25.44\n",
      "\n",
      "name : slow journeys\n",
      "producer : allen & unwin\n",
      "price : 25.45\n",
      "\n",
      "6/10 positive, 7/10 negative\n",
      "Do these records refer to the same thing?\n",
      "(y)es / (n)o / (u)nsure / (f)inished / (p)revious\n"
     ]
    },
    {
     "name": "stdout",
     "output_type": "stream",
     "text": [
      "y\n"
     ]
    },
    {
     "name": "stderr",
     "output_type": "stream",
     "text": [
      "name : seeing the sunrise\n",
      "producer : allen & unwin\n",
      "price : 22.71\n",
      "\n",
      "name : seeing the sunrise\n",
      "producer : allen & unwin\n",
      "price : 22.72\n",
      "\n",
      "7/10 positive, 7/10 negative\n",
      "Do these records refer to the same thing?\n",
      "(y)es / (n)o / (u)nsure / (f)inished / (p)revious\n"
     ]
    },
    {
     "name": "stdout",
     "output_type": "stream",
     "text": [
      "y\n"
     ]
    },
    {
     "name": "stderr",
     "output_type": "stream",
     "text": [
      "INFO:dedupe.training:Final predicate set:\n",
      "INFO:dedupe.training:(PartialPredicate: (wholeFieldPredicate, name, CorporationName), SimplePredicate: (wholeFieldPredicate, price))\n",
      "INFO:dedupe.training:(PartialIndexTfidfTextCanopyPredicate: (0.2, name, CorporationName), TfidfNGramCanopyPredicate: (0.4, name))\n",
      "INFO:dedupe.training:(PartialIndexTfidfNGramCanopyPredicate: (0.8, name, CorporationName), SimplePredicate: (sameThreeCharStartPredicate, name))\n",
      "name : shooter's bible\n",
      "producer : skyhorse publishing\n",
      "price : 29.95\n",
      "\n",
      "name : shooter's bible\n",
      "producer : skyhorse publishing\n",
      "price : 29.99\n",
      "\n",
      "8/10 positive, 7/10 negative\n",
      "Do these records refer to the same thing?\n",
      "(y)es / (n)o / (u)nsure / (f)inished / (p)revious\n"
     ]
    },
    {
     "name": "stdout",
     "output_type": "stream",
     "text": [
      "y\n"
     ]
    },
    {
     "name": "stderr",
     "output_type": "stream",
     "text": [
      "INFO:dedupe.training:Final predicate set:\n",
      "INFO:dedupe.training:(SimplePredicate: (wholeFieldPredicate, name), SimplePredicate: (wholeFieldPredicate, producer))\n",
      "name : legendary hunts\n",
      "producer : boone and crockett club\n",
      "price : 9.99\n",
      "\n",
      "name : legendary hunts ii\n",
      "producer : boone and crockett club\n",
      "price : 9.99\n",
      "\n",
      "9/10 positive, 7/10 negative\n",
      "Do these records refer to the same thing?\n",
      "(y)es / (n)o / (u)nsure / (f)inished / (p)revious\n"
     ]
    },
    {
     "name": "stdout",
     "output_type": "stream",
     "text": [
      "n\n"
     ]
    },
    {
     "name": "stderr",
     "output_type": "stream",
     "text": [
      "name : gun digest book of concealed carry\n",
      "producer : f+w media\n",
      "price : 27.99\n",
      "\n",
      "name : the gun digest book of concealed carry\n",
      "producer : f+w media\n",
      "price : 24.99\n",
      "\n",
      "9/10 positive, 8/10 negative\n",
      "Do these records refer to the same thing?\n",
      "(y)es / (n)o / (u)nsure / (f)inished / (p)revious\n"
     ]
    },
    {
     "name": "stdout",
     "output_type": "stream",
     "text": [
      "y\n"
     ]
    },
    {
     "name": "stderr",
     "output_type": "stream",
     "text": [
      "name : never mind the bluebirds 2\n",
      "producer : the history press\n",
      "price : 7.99\n",
      "\n",
      "name : never mind the bluebirds\n",
      "producer : the history press\n",
      "price : 9.99\n",
      "\n",
      "10/10 positive, 8/10 negative\n",
      "Do these records refer to the same thing?\n",
      "(y)es / (n)o / (u)nsure / (f)inished / (p)revious\n"
     ]
    },
    {
     "name": "stdout",
     "output_type": "stream",
     "text": [
      "n\n"
     ]
    },
    {
     "name": "stderr",
     "output_type": "stream",
     "text": [
      "INFO:dedupe.training:Final predicate set:\n",
      "INFO:dedupe.training:(LevenshteinCanopyPredicate: (4, name), TfidfTextCanopyPredicate: (0.8, name))\n",
      "INFO:dedupe.training:(PartialPredicate: (wholeFieldPredicate, name, CorporationName), SimplePredicate: (wholeFieldPredicate, price))\n",
      "name : the complete book of surf fishing\n",
      "producer : skyhorse publishing\n",
      "price : 16.99\n",
      "\n",
      "name : the complete book of surf fishing\n",
      "producer : skyhorse publishing\n",
      "price : 16.95\n",
      "\n",
      "10/10 positive, 9/10 negative\n",
      "Do these records refer to the same thing?\n",
      "(y)es / (n)o / (u)nsure / (f)inished / (p)revious\n"
     ]
    },
    {
     "name": "stdout",
     "output_type": "stream",
     "text": [
      "y\n"
     ]
    },
    {
     "name": "stderr",
     "output_type": "stream",
     "text": [
      "name : the card\n",
      "producer : harpercollins\n",
      "price : 10.99\n",
      "\n",
      "name : the card\n",
      "producer : harpercollins\n",
      "price : 11.14\n",
      "\n",
      "11/10 positive, 9/10 negative\n",
      "Do these records refer to the same thing?\n",
      "(y)es / (n)o / (u)nsure / (f)inished / (p)revious\n"
     ]
    },
    {
     "name": "stdout",
     "output_type": "stream",
     "text": [
      "y\n"
     ]
    },
    {
     "name": "stderr",
     "output_type": "stream",
     "text": [
      "INFO:dedupe.training:Final predicate set:\n",
      "INFO:dedupe.training:(LevenshteinCanopyPredicate: (4, name), PartialIndexTfidfNGramCanopyPredicate: (0.4, name, CorporationName))\n",
      "INFO:dedupe.training:(PartialPredicate: (wholeFieldPredicate, name, CorporationName), SimplePredicate: (roundTo1, price))\n",
      "name : the everything running book\n",
      "producer : f+w media\n",
      "price : 14.95\n",
      "\n",
      "name : the everything running book\n",
      "producer : f+w media\n",
      "price : 16.95\n",
      "\n",
      "12/10 positive, 9/10 negative\n",
      "Do these records refer to the same thing?\n",
      "(y)es / (n)o / (u)nsure / (f)inished / (p)revious\n"
     ]
    },
    {
     "name": "stdout",
     "output_type": "stream",
     "text": [
      "y\n"
     ]
    },
    {
     "name": "stderr",
     "output_type": "stream",
     "text": [
      "name : sport and the law\n",
      "producer : university of nsw press\n",
      "price : 38.95\n",
      "\n",
      "name : sport and the law\n",
      "producer : university of nsw press\n",
      "price : 49.95\n",
      "\n",
      "13/10 positive, 9/10 negative\n",
      "Do these records refer to the same thing?\n",
      "(y)es / (n)o / (u)nsure / (f)inished / (p)revious\n"
     ]
    },
    {
     "name": "stdout",
     "output_type": "stream",
     "text": [
      "y\n"
     ]
    },
    {
     "name": "stderr",
     "output_type": "stream",
     "text": [
      "INFO:dedupe.training:Final predicate set:\n",
      "INFO:dedupe.training:(LevenshteinCanopyPredicate: (4, name), TfidfTextCanopyPredicate: (0.8, name))\n",
      "INFO:dedupe.training:(PartialPredicate: (wholeFieldPredicate, name, CorporationName), SimplePredicate: (roundTo1, price))\n",
      "name : communication and sport\n",
      "producer : sage publications\n",
      "price : 68.0\n",
      "\n",
      "name : communication and sport\n",
      "producer : sage publications\n",
      "price : 55.0\n",
      "\n",
      "14/10 positive, 9/10 negative\n",
      "Do these records refer to the same thing?\n",
      "(y)es / (n)o / (u)nsure / (f)inished / (p)revious\n"
     ]
    },
    {
     "name": "stdout",
     "output_type": "stream",
     "text": [
      "y\n"
     ]
    },
    {
     "name": "stderr",
     "output_type": "stream",
     "text": [
      "INFO:dedupe.training:Final predicate set:\n",
      "INFO:dedupe.training:(LevenshteinCanopyPredicate: (4, name), TfidfTextCanopyPredicate: (0.8, name))\n",
      "INFO:dedupe.training:(PartialIndexTfidfTextCanopyPredicate: (0.2, name, CorporationName), TfidfNGramCanopyPredicate: (0.4, name))\n",
      "INFO:dedupe.training:(PartialPredicate: (wholeFieldPredicate, name, CorporationName), SimplePredicate: (wholeFieldPredicate, price))\n",
      "name : in search of burningbush\n",
      "producer : mcgraw-hill education\n",
      "price : 19.95\n",
      "\n",
      "name : in search of burningbush\n",
      "producer : mcgraw-hill education\n",
      "price : 14.95\n",
      "\n",
      "15/10 positive, 9/10 negative\n",
      "Do these records refer to the same thing?\n",
      "(y)es / (n)o / (u)nsure / (f)inished / (p)revious\n"
     ]
    },
    {
     "name": "stdout",
     "output_type": "stream",
     "text": [
      "y\n"
     ]
    },
    {
     "name": "stderr",
     "output_type": "stream",
     "text": [
      "name : cartridges of the world\n",
      "producer : f+w media\n",
      "price : 47.49\n",
      "\n",
      "name : cartridges of the world\n",
      "producer : f+w media\n",
      "price : 34.99\n",
      "\n",
      "16/10 positive, 9/10 negative\n",
      "Do these records refer to the same thing?\n",
      "(y)es / (n)o / (u)nsure / (f)inished / (p)revious\n"
     ]
    },
    {
     "name": "stdout",
     "output_type": "stream",
     "text": [
      "y\n"
     ]
    },
    {
     "name": "stderr",
     "output_type": "stream",
     "text": [
      "INFO:dedupe.training:Final predicate set:\n",
      "INFO:dedupe.training:(SimplePredicate: (wholeFieldPredicate, name), SimplePredicate: (wholeFieldPredicate, producer))\n",
      "INFO:dedupe.training:(LevenshteinCanopyPredicate: (4, name), TfidfTextCanopyPredicate: (0.8, name))\n",
      "name : food, nutrition and sports performance ii\n",
      "producer : taylor and francis\n",
      "price : 75.95\n",
      "\n",
      "name : food, nutrition and sports performance iii\n",
      "producer : taylor and francis\n",
      "price : 47.95\n",
      "\n",
      "17/10 positive, 9/10 negative\n",
      "Do these records refer to the same thing?\n",
      "(y)es / (n)o / (u)nsure / (f)inished / (p)revious\n"
     ]
    },
    {
     "name": "stdout",
     "output_type": "stream",
     "text": [
      "n\n"
     ]
    },
    {
     "name": "stderr",
     "output_type": "stream",
     "text": [
      "name : sport and the english, 1918-1939\n",
      "producer : taylor and francis\n",
      "price : 215.0\n",
      "\n",
      "name : sport and social mobility\n",
      "producer : taylor and francis\n",
      "price : 48.95\n",
      "\n",
      "17/10 positive, 10/10 negative\n",
      "Do these records refer to the same thing?\n",
      "(y)es / (n)o / (u)nsure / (f)inished / (p)revious\n"
     ]
    },
    {
     "name": "stdout",
     "output_type": "stream",
     "text": [
      "n\n"
     ]
    },
    {
     "name": "stderr",
     "output_type": "stream",
     "text": [
      "name : children and exercise xxviii\n",
      "producer : taylor and francis\n",
      "price : 53.95\n",
      "\n",
      "name : children and exercise xxvii\n",
      "producer : taylor and francis\n",
      "price : 48.95\n",
      "\n",
      "17/10 positive, 11/10 negative\n",
      "Do these records refer to the same thing?\n",
      "(y)es / (n)o / (u)nsure / (f)inished / (p)revious\n"
     ]
    },
    {
     "name": "stdout",
     "output_type": "stream",
     "text": [
      "n\n"
     ]
    },
    {
     "name": "stderr",
     "output_type": "stream",
     "text": [
      "name : best easy day hikes st. louis\n",
      "producer : falcon guides\n",
      "price : 8.99\n",
      "\n",
      "name : best easy day hikes bend and central oregon\n",
      "producer : falcon guides\n",
      "price : 8.99\n",
      "\n",
      "17/10 positive, 12/10 negative\n",
      "Do these records refer to the same thing?\n",
      "(y)es / (n)o / (u)nsure / (f)inished / (p)revious\n"
     ]
    },
    {
     "name": "stdout",
     "output_type": "stream",
     "text": [
      "n\n"
     ]
    },
    {
     "name": "stderr",
     "output_type": "stream",
     "text": [
      "name : modelling the messerschmitt bf 109b/c/d/e\n",
      "producer : osprey publishing\n",
      "price : 15.95\n",
      "\n",
      "name : modelling the messerschmitt me 262\n",
      "producer : osprey publishing\n",
      "price : 15.95\n",
      "\n",
      "17/10 positive, 13/10 negative\n",
      "Do these records refer to the same thing?\n",
      "(y)es / (n)o / (u)nsure / (f)inished / (p)revious\n"
     ]
    },
    {
     "name": "stdout",
     "output_type": "stream",
     "text": [
      "u\n"
     ]
    },
    {
     "name": "stderr",
     "output_type": "stream",
     "text": [
      "name : little book of golf tips\n",
      "producer : g2 rights ltd\n",
      "price : 4.36\n",
      "\n",
      "name : little book of golf legends\n",
      "producer : g2 rights ltd\n",
      "price : 4.36\n",
      "\n",
      "17/10 positive, 13/10 negative\n",
      "Do these records refer to the same thing?\n",
      "(y)es / (n)o / (u)nsure / (f)inished / (p)revious\n"
     ]
    },
    {
     "name": "stdout",
     "output_type": "stream",
     "text": [
      "u\n"
     ]
    },
    {
     "name": "stderr",
     "output_type": "stream",
     "text": [
      "name : 60 hikes within 60 miles: harrisburg\n",
      "producer : menasha ridge press\n",
      "price : 15.95\n",
      "\n",
      "name : 60 hikes within 60 miles: st. louis\n",
      "producer : menasha ridge press\n",
      "price : 15.95\n",
      "\n",
      "17/10 positive, 13/10 negative\n",
      "Do these records refer to the same thing?\n",
      "(y)es / (n)o / (u)nsure / (f)inished / (p)revious\n"
     ]
    },
    {
     "name": "stdout",
     "output_type": "stream",
     "text": [
      "n\n"
     ]
    },
    {
     "name": "stderr",
     "output_type": "stream",
     "text": [
      "name : no holds barred fighting\n",
      "producer : tracks publishing\n",
      "price : 9.99\n",
      "\n",
      "name : no holds barred fighting: takedowns\n",
      "producer : tracks publishing\n",
      "price : 9.99\n",
      "\n",
      "17/10 positive, 14/10 negative\n",
      "Do these records refer to the same thing?\n",
      "(y)es / (n)o / (u)nsure / (f)inished / (p)revious\n"
     ]
    },
    {
     "name": "stdout",
     "output_type": "stream",
     "text": [
      "y\n"
     ]
    },
    {
     "name": "stderr",
     "output_type": "stream",
     "text": [
      "name : best tent camping: kentucky\n",
      "producer : menasha ridge press\n",
      "price : 15.95\n",
      "\n",
      "name : best tent camping: georgia\n",
      "producer : menasha ridge press\n",
      "price : 15.95\n",
      "\n",
      "18/10 positive, 14/10 negative\n",
      "Do these records refer to the same thing?\n",
      "(y)es / (n)o / (u)nsure / (f)inished / (p)revious\n"
     ]
    },
    {
     "name": "stdout",
     "output_type": "stream",
     "text": [
      "n\n"
     ]
    },
    {
     "name": "stderr",
     "output_type": "stream",
     "text": [
      "INFO:dedupe.training:Final predicate set:\n",
      "INFO:dedupe.training:(PartialIndexTfidfNGramCanopyPredicate: (0.4, name, CorporationName), TfidfTextCanopyPredicate: (0.6, name))\n",
      "INFO:dedupe.training:(PartialIndexTfidfTextCanopyPredicate: (0.6, name, CorporationName), PartialPredicate: (commonThreeTokens, name, CorporationName))\n",
      "INFO:dedupe.training:(PartialPredicate: (wholeFieldPredicate, name, CorporationName), SimplePredicate: (roundTo1, price))\n",
      "name : best hikes near st. louis\n",
      "producer : falcon guides\n",
      "price : 18.99\n",
      "\n",
      "name : best hikes near salt lake city\n",
      "producer : falcon guides\n",
      "price : 17.99\n",
      "\n",
      "18/10 positive, 15/10 negative\n",
      "Do these records refer to the same thing?\n",
      "(y)es / (n)o / (u)nsure / (f)inished / (p)revious\n"
     ]
    },
    {
     "name": "stdout",
     "output_type": "stream",
     "text": [
      "n\n"
     ]
    },
    {
     "name": "stderr",
     "output_type": "stream",
     "text": [
      "name : kinanthropometry ix\n",
      "producer : taylor and francis\n",
      "price : 54.95\n",
      "\n",
      "name : kinanthropometry viii\n",
      "producer : taylor and francis\n",
      "price : 49.95\n",
      "\n",
      "18/10 positive, 16/10 negative\n",
      "Do these records refer to the same thing?\n",
      "(y)es / (n)o / (u)nsure / (f)inished / (p)revious\n"
     ]
    },
    {
     "name": "stdout",
     "output_type": "stream",
     "text": [
      "n\n"
     ]
    },
    {
     "name": "stderr",
     "output_type": "stream",
     "text": [
      "name : modelling the messerschmitt bf 110\n",
      "producer : osprey publishing\n",
      "price : 15.95\n",
      "\n",
      "name : modelling the messerschmitt bf 109f and early g series\n",
      "producer : osprey publishing\n",
      "price : 15.95\n",
      "\n",
      "18/10 positive, 17/10 negative\n",
      "Do these records refer to the same thing?\n",
      "(y)es / (n)o / (u)nsure / (f)inished / (p)revious\n"
     ]
    },
    {
     "name": "stdout",
     "output_type": "stream",
     "text": [
      "n\n"
     ]
    },
    {
     "name": "stderr",
     "output_type": "stream",
     "text": [
      "name : the best american sports writing 2011\n",
      "producer : houghton mifflin harcourt\n",
      "price : 14.95\n",
      "\n",
      "name : the best american sports writing 2012\n",
      "producer : houghton mifflin harcourt\n",
      "price : 14.95\n",
      "\n",
      "18/10 positive, 18/10 negative\n",
      "Do these records refer to the same thing?\n",
      "(y)es / (n)o / (u)nsure / (f)inished / (p)revious\n"
     ]
    },
    {
     "name": "stdout",
     "output_type": "stream",
     "text": [
      "n\n"
     ]
    },
    {
     "name": "stderr",
     "output_type": "stream",
     "text": [
      "name : no holds barred fighting: the ultimate guide to conditioning\n",
      "producer : tracks publishing\n",
      "price : 9.99\n",
      "\n",
      "name : no holds barred fighting\n",
      "producer : tracks publishing\n",
      "price : 9.99\n",
      "\n",
      "18/10 positive, 19/10 negative\n",
      "Do these records refer to the same thing?\n",
      "(y)es / (n)o / (u)nsure / (f)inished / (p)revious\n"
     ]
    },
    {
     "name": "stdout",
     "output_type": "stream",
     "text": [
      "y\n"
     ]
    },
    {
     "name": "stderr",
     "output_type": "stream",
     "text": [
      "name : best bike rides boston\n",
      "producer : falcon guides\n",
      "price : 20.99\n",
      "\n",
      "name : best bike rides chicago\n",
      "producer : falcon guides\n",
      "price : 17.99\n",
      "\n",
      "19/10 positive, 19/10 negative\n",
      "Do these records refer to the same thing?\n",
      "(y)es / (n)o / (u)nsure / (f)inished / (p)revious\n"
     ]
    },
    {
     "name": "stdout",
     "output_type": "stream",
     "text": [
      "n\n"
     ]
    },
    {
     "name": "stderr",
     "output_type": "stream",
     "text": [
      "INFO:dedupe.training:Final predicate set:\n",
      "INFO:dedupe.training:(PartialPredicate: (twoGramFingerprint, name, CorporationName), TfidfNGramCanopyPredicate: (0.4, name))\n",
      "INFO:dedupe.training:(LevenshteinCanopyPredicate: (4, name), TfidfTextCanopyPredicate: (0.8, name))\n",
      "INFO:dedupe.training:(SimplePredicate: (wholeFieldPredicate, price), TfidfTextCanopyPredicate: (0.4, name))\n",
      "INFO:dedupe.training:(PartialIndexTfidfTextCanopyPredicate: (0.8, name, CorporationName), PartialPredicate: (commonTwoTokens, name, CorporationName))\n",
      "name : 60 hikes within 60 miles: nashville\n",
      "producer : menasha ridge press\n",
      "price : 16.95\n",
      "\n",
      "name : 60 hikes within 60 miles: st. louis\n",
      "producer : menasha ridge press\n",
      "price : 15.95\n",
      "\n",
      "19/10 positive, 20/10 negative\n",
      "Do these records refer to the same thing?\n",
      "(y)es / (n)o / (u)nsure / (f)inished / (p)revious\n"
     ]
    },
    {
     "name": "stdout",
     "output_type": "stream",
     "text": [
      "n\n"
     ]
    },
    {
     "name": "stderr",
     "output_type": "stream",
     "text": [
      "name : 60 hikes within 60 miles: sacramento\n",
      "producer : menasha ridge press\n",
      "price : 17.95\n",
      "\n",
      "name : 60 hikes within 60 miles: st. louis\n",
      "producer : menasha ridge press\n",
      "price : 15.95\n",
      "\n",
      "19/10 positive, 21/10 negative\n",
      "Do these records refer to the same thing?\n",
      "(y)es / (n)o / (u)nsure / (f)inished / (p)revious\n"
     ]
    },
    {
     "name": "stdout",
     "output_type": "stream",
     "text": [
      "n\n"
     ]
    },
    {
     "name": "stderr",
     "output_type": "stream",
     "text": [
      "name : 60 hikes within 60 miles: st. louis\n",
      "producer : menasha ridge press\n",
      "price : 15.95\n",
      "\n",
      "name : 60 hikes within 60 miles: portland\n",
      "producer : menasha ridge press\n",
      "price : 18.95\n",
      "\n",
      "19/10 positive, 22/10 negative\n",
      "Do these records refer to the same thing?\n",
      "(y)es / (n)o / (u)nsure / (f)inished / (p)revious\n"
     ]
    },
    {
     "name": "stdout",
     "output_type": "stream",
     "text": [
      "n\n"
     ]
    },
    {
     "name": "stderr",
     "output_type": "stream",
     "text": [
      "name : tales from the indiana high school basketball locker room\n",
      "producer : sports publishing\n",
      "price : 19.95\n",
      "\n",
      "name : tales from the indiana hoosiers locker room\n",
      "producer : sports publishing\n",
      "price : 19.95\n",
      "\n",
      "19/10 positive, 23/10 negative\n",
      "Do these records refer to the same thing?\n",
      "(y)es / (n)o / (u)nsure / (f)inished / (p)revious\n"
     ]
    },
    {
     "name": "stdout",
     "output_type": "stream",
     "text": [
      "y\n"
     ]
    },
    {
     "name": "stderr",
     "output_type": "stream",
     "text": [
      "name : game changers: new york giants\n",
      "producer : triumph books\n",
      "price : 24.95\n",
      "\n",
      "name : game changers: penn state\n",
      "producer : triumph books\n",
      "price : 24.99\n",
      "\n",
      "20/10 positive, 23/10 negative\n",
      "Do these records refer to the same thing?\n",
      "(y)es / (n)o / (u)nsure / (f)inished / (p)revious\n"
     ]
    },
    {
     "name": "stdout",
     "output_type": "stream",
     "text": [
      "n\n"
     ]
    },
    {
     "name": "stderr",
     "output_type": "stream",
     "text": [
      "INFO:dedupe.training:Final predicate set:\n",
      "INFO:dedupe.training:(PartialPredicate: (twoGramFingerprint, name, CorporationName), TfidfNGramCanopyPredicate: (0.4, name))\n",
      "INFO:dedupe.training:(PartialPredicate: (sameSevenCharStartPredicate, name, CorporationName), SimplePredicate: (wholeFieldPredicate, price))\n",
      "INFO:dedupe.training:(LevenshteinCanopyPredicate: (4, name), TfidfTextCanopyPredicate: (0.8, name))\n",
      "INFO:dedupe.training:(PartialIndexTfidfTextCanopyPredicate: (0.8, name, CorporationName), PartialPredicate: (commonTwoTokens, name, CorporationName))\n",
      "name : best bike rides denver and boulder\n",
      "producer : falcon guides\n",
      "price : 20.99\n",
      "\n",
      "name : best bike rides los angeles\n",
      "producer : falcon guides\n",
      "price : 21.99\n",
      "\n",
      "20/10 positive, 24/10 negative\n",
      "Do these records refer to the same thing?\n",
      "(y)es / (n)o / (u)nsure / (f)inished / (p)revious\n"
     ]
    },
    {
     "name": "stdout",
     "output_type": "stream",
     "text": [
      "n\n"
     ]
    },
    {
     "name": "stderr",
     "output_type": "stream",
     "text": [
      "name : biomechanics and medicine in swimming vii\n",
      "producer : taylor and francis\n",
      "price : 54.95\n",
      "\n",
      "name : biomechanics and medicine in swimming v1\n",
      "producer : taylor and francis\n",
      "price : 49.95\n",
      "\n",
      "20/10 positive, 25/10 negative\n",
      "Do these records refer to the same thing?\n",
      "(y)es / (n)o / (u)nsure / (f)inished / (p)revious\n"
     ]
    },
    {
     "name": "stdout",
     "output_type": "stream",
     "text": [
      "n\n"
     ]
    },
    {
     "name": "stderr",
     "output_type": "stream",
     "text": [
      "name : the gun digest book of the ar-15\n",
      "producer : f+w media\n",
      "price : 27.99\n",
      "\n",
      "name : gun digest book of the ar-15, volume iv\n",
      "producer : f+w media\n",
      "price : 37.49\n",
      "\n",
      "20/10 positive, 26/10 negative\n",
      "Do these records refer to the same thing?\n",
      "(y)es / (n)o / (u)nsure / (f)inished / (p)revious\n"
     ]
    },
    {
     "name": "stdout",
     "output_type": "stream",
     "text": [
      "u\n"
     ]
    },
    {
     "name": "stderr",
     "output_type": "stream",
     "text": [
      "name : crack of the bat\n",
      "producer : unp - nebraska\n",
      "price : 28.95\n",
      "\n",
      "name : crack of the bat\n",
      "producer : sports publishing\n",
      "price : 29.95\n",
      "\n",
      "20/10 positive, 26/10 negative\n",
      "Do these records refer to the same thing?\n",
      "(y)es / (n)o / (u)nsure / (f)inished / (p)revious\n"
     ]
    },
    {
     "name": "stdout",
     "output_type": "stream",
     "text": [
      "u\n"
     ]
    },
    {
     "name": "stderr",
     "output_type": "stream",
     "text": [
      "name : day and section hikes pacific crest trail: southern california\n",
      "producer : wilderness press\n",
      "price : 14.95\n",
      "\n",
      "name : day & section hikes pacific crest trail: northern california\n",
      "producer : wilderness press\n",
      "price : 13.95\n",
      "\n",
      "20/10 positive, 26/10 negative\n",
      "Do these records refer to the same thing?\n",
      "(y)es / (n)o / (u)nsure / (f)inished / (p)revious\n"
     ]
    },
    {
     "name": "stdout",
     "output_type": "stream",
     "text": [
      "n\n"
     ]
    },
    {
     "name": "stderr",
     "output_type": "stream",
     "text": [
      "name : best easy day hikes salt lake city\n",
      "producer : falcon guides\n",
      "price : 8.99\n",
      "\n",
      "name : best easy day hikes\n",
      "producer : falcon guides\n",
      "price : 13.99\n",
      "\n",
      "20/10 positive, 27/10 negative\n",
      "Do these records refer to the same thing?\n",
      "(y)es / (n)o / (u)nsure / (f)inished / (p)revious\n"
     ]
    },
    {
     "name": "stdout",
     "output_type": "stream",
     "text": [
      "u\n"
     ]
    },
    {
     "name": "stderr",
     "output_type": "stream",
     "text": [
      "name : death at the ballpark\n",
      "producer : mcfarland & company, inc., publishers\n",
      "price : 39.95\n",
      "\n",
      "name : death at the ballpark\n",
      "producer : mcfarland & company, inc., publishers\n",
      "price : 65.0\n",
      "\n",
      "20/10 positive, 27/10 negative\n",
      "Do these records refer to the same thing?\n",
      "(y)es / (n)o / (u)nsure / (f)inished / (p)revious\n"
     ]
    },
    {
     "name": "stdout",
     "output_type": "stream",
     "text": [
      "y\n"
     ]
    },
    {
     "name": "stderr",
     "output_type": "stream",
     "text": [
      "name : best easy day hikes salt lake city\n",
      "producer : falcon guides\n",
      "price : 11.99\n",
      "\n",
      "name : best easy day hikes salt lake city\n",
      "producer : falcon guides\n",
      "price : 8.99\n",
      "\n",
      "21/10 positive, 27/10 negative\n",
      "Do these records refer to the same thing?\n",
      "(y)es / (n)o / (u)nsure / (f)inished / (p)revious\n"
     ]
    },
    {
     "name": "stdout",
     "output_type": "stream",
     "text": [
      "y\n"
     ]
    },
    {
     "name": "stderr",
     "output_type": "stream",
     "text": [
      "name : the cooperstown symposium on baseball and american culture, 2002\n",
      "producer : mcfarland & company, inc., publishers\n",
      "price : 45.0\n",
      "\n",
      "name : the cooperstown symposium on baseball and american culture, 2013-2014\n",
      "producer : mcfarland & company, inc., publishers\n",
      "price : 45.0\n",
      "\n",
      "22/10 positive, 27/10 negative\n",
      "Do these records refer to the same thing?\n",
      "(y)es / (n)o / (u)nsure / (f)inished / (p)revious\n"
     ]
    },
    {
     "name": "stdout",
     "output_type": "stream",
     "text": [
      "n\n"
     ]
    },
    {
     "name": "stderr",
     "output_type": "stream",
     "text": [
      "name : the complete idiot's guide to running, 3rd edition\n",
      "producer : dk publishing\n",
      "price : 16.95\n",
      "\n",
      "name : the complete idiot's guide to golf, 2nd edition\n",
      "producer : dk publishing\n",
      "price : 19.95\n",
      "\n",
      "22/10 positive, 28/10 negative\n",
      "Do these records refer to the same thing?\n",
      "(y)es / (n)o / (u)nsure / (f)inished / (p)revious\n"
     ]
    },
    {
     "name": "stdout",
     "output_type": "stream",
     "text": [
      "n\n"
     ]
    },
    {
     "name": "stderr",
     "output_type": "stream",
     "text": [
      "name : death to the bcs\n",
      "producer : penguin publishing group\n",
      "price : 16.99\n",
      "\n",
      "name : death to the bcs: totally revised and updated\n",
      "producer : penguin publishing group\n",
      "price : 17.99\n",
      "\n",
      "22/10 positive, 29/10 negative\n",
      "Do these records refer to the same thing?\n",
      "(y)es / (n)o / (u)nsure / (f)inished / (p)revious\n"
     ]
    },
    {
     "name": "stdout",
     "output_type": "stream",
     "text": [
      "u\n"
     ]
    },
    {
     "name": "stderr",
     "output_type": "stream",
     "text": [
      "name : it's only a game\n",
      "producer : penguin publishing group\n",
      "price : 17.99\n",
      "\n",
      "name : it's only a game\n",
      "producer : atria books\n",
      "price : 15.99\n",
      "\n",
      "22/10 positive, 29/10 negative\n",
      "Do these records refer to the same thing?\n",
      "(y)es / (n)o / (u)nsure / (f)inished / (p)revious\n"
     ]
    },
    {
     "name": "stdout",
     "output_type": "stream",
     "text": [
      "n\n"
     ]
    },
    {
     "name": "stderr",
     "output_type": "stream",
     "text": [
      "name : the physics of rugby\n",
      "producer : nottingham university press\n",
      "price : 28.95\n",
      "\n",
      "name : the physics of rugby\n",
      "producer : 5m publishing ltd\n",
      "price : 32.73\n",
      "\n",
      "22/10 positive, 30/10 negative\n",
      "Do these records refer to the same thing?\n",
      "(y)es / (n)o / (u)nsure / (f)inished / (p)revious\n"
     ]
    },
    {
     "name": "stdout",
     "output_type": "stream",
     "text": [
      "n\n"
     ]
    },
    {
     "name": "stderr",
     "output_type": "stream",
     "text": [
      "name : fergie the greatest\n",
      "producer : john blake\n",
      "price : 7.99\n",
      "\n",
      "name : fergie the greatest\n",
      "producer : john blake\n",
      "price : 11.99\n",
      "\n",
      "22/10 positive, 31/10 negative\n",
      "Do these records refer to the same thing?\n",
      "(y)es / (n)o / (u)nsure / (f)inished / (p)revious\n"
     ]
    },
    {
     "name": "stdout",
     "output_type": "stream",
     "text": [
      "y\n"
     ]
    },
    {
     "name": "stderr",
     "output_type": "stream",
     "text": [
      "name : best hikes near seattle\n",
      "producer : falcon guides\n",
      "price : 17.99\n",
      "\n",
      "name : best hikes near seattle\n",
      "producer : falcon guides\n",
      "price : 21.99\n",
      "\n",
      "23/10 positive, 31/10 negative\n",
      "Do these records refer to the same thing?\n",
      "(y)es / (n)o / (u)nsure / (f)inished / (p)revious\n"
     ]
    },
    {
     "name": "stdout",
     "output_type": "stream",
     "text": [
      "y\n"
     ]
    },
    {
     "name": "stderr",
     "output_type": "stream",
     "text": [
      "name : how to win competitions\n",
      "producer : allen & unwin\n",
      "price : 9.08\n",
      "\n",
      "name : how to win competitions\n",
      "producer : allen & unwin\n",
      "price : 18.14\n",
      "\n",
      "24/10 positive, 31/10 negative\n",
      "Do these records refer to the same thing?\n",
      "(y)es / (n)o / (u)nsure / (f)inished / (p)revious\n"
     ]
    },
    {
     "name": "stdout",
     "output_type": "stream",
     "text": [
      "u\n"
     ]
    },
    {
     "name": "stderr",
     "output_type": "stream",
     "text": [
      "name : ronaldo - 2014 updated edition\n",
      "producer : icon books\n",
      "price : 6.99\n",
      "\n",
      "name : ronaldo - 2015 updated edition\n",
      "producer : icon books\n",
      "price : 6.99\n",
      "\n",
      "24/10 positive, 31/10 negative\n",
      "Do these records refer to the same thing?\n",
      "(y)es / (n)o / (u)nsure / (f)inished / (p)revious\n"
     ]
    },
    {
     "name": "stdout",
     "output_type": "stream",
     "text": [
      "n\n"
     ]
    },
    {
     "name": "stderr",
     "output_type": "stream",
     "text": [
      "name : the complete idiot's guide to rving, 3e\n",
      "producer : dk publishing\n",
      "price : 19.95\n",
      "\n",
      "name : the complete idiot's guide to golf, 2nd edition\n",
      "producer : dk publishing\n",
      "price : 19.95\n",
      "\n",
      "24/10 positive, 32/10 negative\n",
      "Do these records refer to the same thing?\n",
      "(y)es / (n)o / (u)nsure / (f)inished / (p)revious\n"
     ]
    },
    {
     "name": "stdout",
     "output_type": "stream",
     "text": [
      "n\n"
     ]
    },
    {
     "name": "stderr",
     "output_type": "stream",
     "text": [
      "name : modelling the us army m4 (76mm) sherman medium tank\n",
      "producer : osprey publishing\n",
      "price : 15.95\n",
      "\n",
      "name : modelling the us army m4 (75mm) sherman medium tank\n",
      "producer : osprey publishing\n",
      "price : 15.95\n",
      "\n",
      "24/10 positive, 33/10 negative\n",
      "Do these records refer to the same thing?\n",
      "(y)es / (n)o / (u)nsure / (f)inished / (p)revious\n"
     ]
    },
    {
     "name": "stdout",
     "output_type": "stream",
     "text": [
      "y\n"
     ]
    },
    {
     "name": "stderr",
     "output_type": "stream",
     "text": [
      "name : kinanthropometry and exercise physiology laboratory manual: tests, procedures and data\n",
      "producer : taylor and francis\n",
      "price : 75.95\n",
      "\n",
      "name : kinanthropometry and exercise physiology laboratory manual: tests, procedures and data\n",
      "producer : taylor and francis\n",
      "price : 150.0\n",
      "\n",
      "25/10 positive, 33/10 negative\n",
      "Do these records refer to the same thing?\n",
      "(y)es / (n)o / (u)nsure / (f)inished / (p)revious\n"
     ]
    },
    {
     "name": "stdout",
     "output_type": "stream",
     "text": [
      "y\n"
     ]
    },
    {
     "name": "stderr",
     "output_type": "stream",
     "text": [
      "name : sailing alone around the world\n",
      "producer : harpercollins canada\n",
      "price : 0.99\n",
      "\n",
      "name : sailing alone around the world\n",
      "producer : harpercollins canada\n",
      "price : 4.99\n",
      "\n",
      "26/10 positive, 33/10 negative\n",
      "Do these records refer to the same thing?\n",
      "(y)es / (n)o / (u)nsure / (f)inished / (p)revious\n"
     ]
    },
    {
     "name": "stdout",
     "output_type": "stream",
     "text": [
      "y\n"
     ]
    },
    {
     "name": "stderr",
     "output_type": "stream",
     "text": [
      "name : the story of the world cup\n",
      "producer : faber & faber\n",
      "price : 18.94\n",
      "\n",
      "name : the story of the world cup: 2014\n",
      "producer : faber & faber\n",
      "price : 11.65\n",
      "\n",
      "27/10 positive, 33/10 negative\n",
      "Do these records refer to the same thing?\n",
      "(y)es / (n)o / (u)nsure / (f)inished / (p)revious\n"
     ]
    },
    {
     "name": "stdout",
     "output_type": "stream",
     "text": [
      "u\n"
     ]
    },
    {
     "name": "stderr",
     "output_type": "stream",
     "text": [
      "name : sport and exercise psychology\n",
      "producer : taylor and francis\n",
      "price : 49.95\n",
      "\n",
      "name : sport and exercise psychology: the key concepts\n",
      "producer : taylor and francis\n",
      "price : 30.95\n",
      "\n",
      "27/10 positive, 33/10 negative\n",
      "Do these records refer to the same thing?\n",
      "(y)es / (n)o / (u)nsure / (f)inished / (p)revious\n"
     ]
    },
    {
     "name": "stdout",
     "output_type": "stream",
     "text": [
      "y\n"
     ]
    },
    {
     "name": "stderr",
     "output_type": "stream",
     "text": [
      "name : sport management cultures\n",
      "producer : taylor and francis\n",
      "price : 54.95\n",
      "\n",
      "name : sport management: the basics\n",
      "producer : taylor and francis\n",
      "price : 33.95\n",
      "\n",
      "28/10 positive, 33/10 negative\n",
      "Do these records refer to the same thing?\n",
      "(y)es / (n)o / (u)nsure / (f)inished / (p)revious\n"
     ]
    },
    {
     "name": "stdout",
     "output_type": "stream",
     "text": [
      "n\n"
     ]
    },
    {
     "name": "stderr",
     "output_type": "stream",
     "text": [
      "INFO:dedupe.training:Final predicate set:\n",
      "INFO:dedupe.training:(PartialPredicate: (sameSevenCharStartPredicate, name, CorporationName), TfidfTextCanopyPredicate: (0.4, name))\n",
      "INFO:dedupe.training:(LevenshteinCanopyPredicate: (4, name), TfidfTextCanopyPredicate: (0.8, name))\n",
      "INFO:dedupe.training:(SimplePredicate: (wholeFieldPredicate, price), TfidfTextCanopyPredicate: (0.6, name))\n",
      "name : heart of a coach playbook\n",
      "producer : baker publishing group\n",
      "price : 6.99\n",
      "\n",
      "name : heart of a coach\n",
      "producer : baker publishing group\n",
      "price : 11.99\n",
      "\n",
      "28/10 positive, 34/10 negative\n",
      "Do these records refer to the same thing?\n",
      "(y)es / (n)o / (u)nsure / (f)inished / (p)revious\n"
     ]
    },
    {
     "name": "stdout",
     "output_type": "stream",
     "text": [
      "u\n"
     ]
    },
    {
     "name": "stderr",
     "output_type": "stream",
     "text": [
      "name : remember this titan: the bill yoast story\n",
      "producer : taylor trade publishing\n",
      "price : 13.99\n",
      "\n",
      "name : remember this titan\n",
      "producer : taylor trade publishing\n",
      "price : 9.99\n",
      "\n",
      "28/10 positive, 34/10 negative\n",
      "Do these records refer to the same thing?\n",
      "(y)es / (n)o / (u)nsure / (f)inished / (p)revious\n"
     ]
    },
    {
     "name": "stdout",
     "output_type": "stream",
     "text": [
      "u\n"
     ]
    },
    {
     "name": "stderr",
     "output_type": "stream",
     "text": [
      "name : sport and exercise science\n",
      "producer : taylor and francis\n",
      "price : 74.95\n",
      "\n",
      "name : sport and exercise psychology: the key concepts\n",
      "producer : taylor and francis\n",
      "price : 33.95\n",
      "\n",
      "28/10 positive, 34/10 negative\n",
      "Do these records refer to the same thing?\n",
      "(y)es / (n)o / (u)nsure / (f)inished / (p)revious\n"
     ]
    },
    {
     "name": "stdout",
     "output_type": "stream",
     "text": [
      "n\n"
     ]
    },
    {
     "name": "stderr",
     "output_type": "stream",
     "text": [
      "name : baseball injuries\n",
      "producer : mcfarland & company, inc., publishers\n",
      "price : 45.0\n",
      "\n",
      "name : baseball state by state\n",
      "producer : mcfarland & company, inc., publishers\n",
      "price : 55.0\n",
      "\n",
      "28/10 positive, 35/10 negative\n",
      "Do these records refer to the same thing?\n",
      "(y)es / (n)o / (u)nsure / (f)inished / (p)revious\n"
     ]
    },
    {
     "name": "stdout",
     "output_type": "stream",
     "text": [
      "n\n"
     ]
    },
    {
     "name": "stderr",
     "output_type": "stream",
     "text": [
      "name : shooter's bible guide to extreme iron\n",
      "producer : skyhorse publishing\n",
      "price : 19.95\n",
      "\n",
      "name : shooter's bible\n",
      "producer : skyhorse publishing\n",
      "price : 29.95\n",
      "\n",
      "28/10 positive, 36/10 negative\n",
      "Do these records refer to the same thing?\n",
      "(y)es / (n)o / (u)nsure / (f)inished / (p)revious\n"
     ]
    },
    {
     "name": "stdout",
     "output_type": "stream",
     "text": [
      "u\n"
     ]
    },
    {
     "name": "stderr",
     "output_type": "stream",
     "text": [
      "name : the cooperstown symposium on baseball and american culture, 2002\n",
      "producer : mcfarland & company, inc., publishers\n",
      "price : 45.0\n",
      "\n",
      "name : the cooperstown symposium on baseball and american culture, 2007-2008\n",
      "producer : mcfarland & company, inc., publishers\n",
      "price : 45.0\n",
      "\n",
      "28/10 positive, 36/10 negative\n",
      "Do these records refer to the same thing?\n",
      "(y)es / (n)o / (u)nsure / (f)inished / (p)revious\n"
     ]
    },
    {
     "name": "stdout",
     "output_type": "stream",
     "text": [
      "n\n"
     ]
    },
    {
     "name": "stderr",
     "output_type": "stream",
     "text": [
      "name : wing chun kung-fu volume 3\n",
      "producer : tuttle publishing\n",
      "price : 12.95\n",
      "\n",
      "name : wing chun kung-fu volume 1\n",
      "producer : tuttle publishing\n",
      "price : 8.95\n",
      "\n",
      "28/10 positive, 37/10 negative\n",
      "Do these records refer to the same thing?\n",
      "(y)es / (n)o / (u)nsure / (f)inished / (p)revious\n"
     ]
    },
    {
     "name": "stdout",
     "output_type": "stream",
     "text": [
      "n\n"
     ]
    },
    {
     "name": "stderr",
     "output_type": "stream",
     "text": [
      "name : british sport - a bibliography to 2000\n",
      "producer : taylor and francis\n",
      "price : 54.95\n",
      "\n",
      "name : british sport: a bibliography to 2000\n",
      "producer : taylor and francis\n",
      "price : 215.0\n",
      "\n",
      "28/10 positive, 38/10 negative\n",
      "Do these records refer to the same thing?\n",
      "(y)es / (n)o / (u)nsure / (f)inished / (p)revious\n"
     ]
    },
    {
     "name": "stdout",
     "output_type": "stream",
     "text": [
      "y\n"
     ]
    },
    {
     "name": "stderr",
     "output_type": "stream",
     "text": [
      "name : instant golf 2\n",
      "producer : infinite ideas\n",
      "price : 2.95\n",
      "\n",
      "name : instant tennis\n",
      "producer : infinite ideas\n",
      "price : 2.95\n",
      "\n",
      "29/10 positive, 38/10 negative\n",
      "Do these records refer to the same thing?\n",
      "(y)es / (n)o / (u)nsure / (f)inished / (p)revious\n"
     ]
    },
    {
     "name": "stdout",
     "output_type": "stream",
     "text": [
      "n\n"
     ]
    },
    {
     "name": "stderr",
     "output_type": "stream",
     "text": [
      "name : 100 things 76ers fans should know & do before they die\n",
      "producer : triumph books\n",
      "price : 11.99\n",
      "\n",
      "name : 100 things 49ers fans should know & do before they die\n",
      "producer : triumph books\n",
      "price : 14.99\n",
      "\n",
      "29/10 positive, 39/10 negative\n",
      "Do these records refer to the same thing?\n",
      "(y)es / (n)o / (u)nsure / (f)inished / (p)revious\n"
     ]
    },
    {
     "name": "stdout",
     "output_type": "stream",
     "text": [
      "n\n"
     ]
    },
    {
     "name": "stderr",
     "output_type": "stream",
     "text": [
      "name : you're the ref\n",
      "producer : skyhorse publishing\n",
      "price : 8.99\n",
      "\n",
      "name : you're the ref\n",
      "producer : skyhorse publishing\n",
      "price : 8.95\n",
      "\n",
      "29/10 positive, 40/10 negative\n",
      "Do these records refer to the same thing?\n",
      "(y)es / (n)o / (u)nsure / (f)inished / (p)revious\n"
     ]
    },
    {
     "name": "stdout",
     "output_type": "stream",
     "text": [
      "y\n"
     ]
    },
    {
     "name": "stderr",
     "output_type": "stream",
     "text": [
      "name : sport and physical education: the key concepts\n",
      "producer : taylor and francis\n",
      "price : 33.95\n",
      "\n",
      "name : sport and physical education: the key concepts\n",
      "producer : taylor and francis\n",
      "price : 26.95\n",
      "\n",
      "30/10 positive, 40/10 negative\n",
      "Do these records refer to the same thing?\n",
      "(y)es / (n)o / (u)nsure / (f)inished / (p)revious\n"
     ]
    },
    {
     "name": "stdout",
     "output_type": "stream",
     "text": [
      "y\n"
     ]
    },
    {
     "name": "stderr",
     "output_type": "stream",
     "text": [
      "name : handbook of sports medicine and science, rowing\n",
      "producer : wiley\n",
      "price : 84.95\n",
      "\n",
      "name : handbook of sports medicine and science, sports therapy\n",
      "producer : wiley\n",
      "price : 62.0\n",
      "\n",
      "31/10 positive, 40/10 negative\n",
      "Do these records refer to the same thing?\n",
      "(y)es / (n)o / (u)nsure / (f)inished / (p)revious\n"
     ]
    },
    {
     "name": "stdout",
     "output_type": "stream",
     "text": [
      "y\n"
     ]
    },
    {
     "name": "stderr",
     "output_type": "stream",
     "text": [
      "name : handbook of sports medicine and science, road cycling\n",
      "producer : wiley\n",
      "price : 64.95\n",
      "\n",
      "name : handbook of sports medicine and science, basketball\n",
      "producer : wiley\n",
      "price : 75.95\n",
      "\n",
      "32/10 positive, 40/10 negative\n",
      "Do these records refer to the same thing?\n",
      "(y)es / (n)o / (u)nsure / (f)inished / (p)revious\n"
     ]
    },
    {
     "name": "stdout",
     "output_type": "stream",
     "text": [
      "n\n"
     ]
    },
    {
     "name": "stderr",
     "output_type": "stream",
     "text": [
      "name : messi - 2014 updated edition\n",
      "producer : icon books\n",
      "price : 6.99\n",
      "\n",
      "name : messi - 2015 updated edition\n",
      "producer : icon books\n",
      "price : 6.99\n",
      "\n",
      "32/10 positive, 41/10 negative\n",
      "Do these records refer to the same thing?\n",
      "(y)es / (n)o / (u)nsure / (f)inished / (p)revious\n"
     ]
    },
    {
     "name": "stdout",
     "output_type": "stream",
     "text": [
      "n\n"
     ]
    },
    {
     "name": "stderr",
     "output_type": "stream",
     "text": [
      "name : the cooperstown symposium on baseball and american culture, 2000\n",
      "producer : mcfarland & company, inc., publishers\n",
      "price : 45.0\n",
      "\n",
      "name : the cooperstown symposium on baseball and american culture, 2011-2012\n",
      "producer : mcfarland & company, inc., publishers\n",
      "price : 45.0\n",
      "\n",
      "32/10 positive, 42/10 negative\n",
      "Do these records refer to the same thing?\n",
      "(y)es / (n)o / (u)nsure / (f)inished / (p)revious\n"
     ]
    },
    {
     "name": "stdout",
     "output_type": "stream",
     "text": [
      "n\n"
     ]
    },
    {
     "name": "stderr",
     "output_type": "stream",
     "text": [
      "name : practical karate volume 3\n",
      "producer : tuttle publishing\n",
      "price : 9.95\n",
      "\n",
      "name : practical karate volume 4\n",
      "producer : tuttle publishing\n",
      "price : 9.95\n",
      "\n",
      "32/10 positive, 43/10 negative\n",
      "Do these records refer to the same thing?\n",
      "(y)es / (n)o / (u)nsure / (f)inished / (p)revious\n"
     ]
    },
    {
     "name": "stdout",
     "output_type": "stream",
     "text": [
      "n\n"
     ]
    },
    {
     "name": "stderr",
     "output_type": "stream",
     "text": [
      "name : ally mccoist\n",
      "producer : john blake\n",
      "price : 8.99\n",
      "\n",
      "name : ally mccoist\n",
      "producer : john blake\n",
      "price : 9.99\n",
      "\n",
      "32/10 positive, 44/10 negative\n",
      "Do these records refer to the same thing?\n",
      "(y)es / (n)o / (u)nsure / (f)inished / (p)revious\n"
     ]
    },
    {
     "name": "stdout",
     "output_type": "stream",
     "text": [
      "y\n"
     ]
    },
    {
     "name": "stderr",
     "output_type": "stream",
     "text": [
      "name : 109 walks in british columbia's lower mainland\n",
      "producer : greystone books\n",
      "price : 19.95\n",
      "\n",
      "name : 109 walks in british columbia's lower mainland\n",
      "producer : greystone books\n",
      "price : 15.95\n",
      "\n",
      "33/10 positive, 44/10 negative\n",
      "Do these records refer to the same thing?\n",
      "(y)es / (n)o / (u)nsure / (f)inished / (p)revious\n"
     ]
    },
    {
     "name": "stdout",
     "output_type": "stream",
     "text": [
      "y\n"
     ]
    },
    {
     "name": "stderr",
     "output_type": "stream",
     "text": [
      "name : gone pro: alabama\n",
      "producer : clerisy press\n",
      "price : 17.95\n",
      "\n",
      "name : gone pro: alabama\n",
      "producer : clerisy press\n",
      "price : 16.95\n",
      "\n",
      "34/10 positive, 44/10 negative\n",
      "Do these records refer to the same thing?\n",
      "(y)es / (n)o / (u)nsure / (f)inished / (p)revious\n"
     ]
    },
    {
     "name": "stdout",
     "output_type": "stream",
     "text": [
      "y\n"
     ]
    },
    {
     "name": "stderr",
     "output_type": "stream",
     "text": [
      "name : a game of two halves\n",
      "producer : taylor and francis\n",
      "price : 50.95\n",
      "\n",
      "name : a game of two halves\n",
      "producer : black & white publishing\n",
      "price : 1.99\n",
      "\n",
      "35/10 positive, 44/10 negative\n",
      "Do these records refer to the same thing?\n",
      "(y)es / (n)o / (u)nsure / (f)inished / (p)revious\n"
     ]
    },
    {
     "name": "stdout",
     "output_type": "stream",
     "text": [
      "n\n"
     ]
    },
    {
     "name": "stderr",
     "output_type": "stream",
     "text": [
      "name : introduction to sports biomechanics\n",
      "producer : taylor and francis\n",
      "price : 70.95\n",
      "\n",
      "name : introduction to sports biomechanics\n",
      "producer : taylor and francis\n",
      "price : 49.95\n",
      "\n",
      "35/10 positive, 45/10 negative\n",
      "Do these records refer to the same thing?\n",
      "(y)es / (n)o / (u)nsure / (f)inished / (p)revious\n"
     ]
    },
    {
     "name": "stdout",
     "output_type": "stream",
     "text": [
      "y\n"
     ]
    },
    {
     "name": "stderr",
     "output_type": "stream",
     "text": [
      "name : the best american poetry 2006\n",
      "producer : scribner\n",
      "price : 13.99\n",
      "\n",
      "name : the best american poetry 2008\n",
      "producer : scribner\n",
      "price : 13.99\n",
      "\n",
      "36/10 positive, 45/10 negative\n",
      "Do these records refer to the same thing?\n",
      "(y)es / (n)o / (u)nsure / (f)inished / (p)revious\n"
     ]
    },
    {
     "name": "stdout",
     "output_type": "stream",
     "text": [
      "n\n"
     ]
    },
    {
     "name": "stderr",
     "output_type": "stream",
     "text": [
      "name : practical karate volume 2\n",
      "producer : tuttle publishing\n",
      "price : 9.95\n",
      "\n",
      "name : practical karate volume 1\n",
      "producer : tuttle publishing\n",
      "price : 9.95\n",
      "\n",
      "36/10 positive, 46/10 negative\n",
      "Do these records refer to the same thing?\n",
      "(y)es / (n)o / (u)nsure / (f)inished / (p)revious\n"
     ]
    },
    {
     "name": "stdout",
     "output_type": "stream",
     "text": [
      "n\n"
     ]
    },
    {
     "name": "stderr",
     "output_type": "stream",
     "text": [
      "name : the cooperstown symposium on baseball and american culture, 2007-2008\n",
      "producer : mcfarland & company, inc., publishers\n",
      "price : 45.0\n",
      "\n",
      "name : the cooperstown symposium on baseball and american culture, 2009-2010\n",
      "producer : mcfarland & company, inc., publishers\n",
      "price : 38.0\n",
      "\n",
      "36/10 positive, 47/10 negative\n",
      "Do these records refer to the same thing?\n",
      "(y)es / (n)o / (u)nsure / (f)inished / (p)revious\n"
     ]
    },
    {
     "name": "stdout",
     "output_type": "stream",
     "text": [
      "n\n"
     ]
    },
    {
     "name": "stderr",
     "output_type": "stream",
     "text": [
      "name : the shorter wisden 2015\n",
      "producer : bloomsbury publishing\n",
      "price : 11.99\n",
      "\n",
      "name : the shorter wisden 2013\n",
      "producer : bloomsbury publishing\n",
      "price : 16.99\n",
      "\n",
      "36/10 positive, 48/10 negative\n",
      "Do these records refer to the same thing?\n",
      "(y)es / (n)o / (u)nsure / (f)inished / (p)revious\n"
     ]
    },
    {
     "name": "stdout",
     "output_type": "stream",
     "text": [
      "n\n"
     ]
    },
    {
     "name": "stderr",
     "output_type": "stream",
     "text": [
      "name : 50 ways to improve your powerboat driving\n",
      "producer : bloomsbury publishing\n",
      "price : 12.99\n",
      "\n",
      "name : 50 ways to improve your navigation\n",
      "producer : bloomsbury publishing\n",
      "price : 12.99\n",
      "\n",
      "36/10 positive, 49/10 negative\n",
      "Do these records refer to the same thing?\n",
      "(y)es / (n)o / (u)nsure / (f)inished / (p)revious\n"
     ]
    },
    {
     "name": "stdout",
     "output_type": "stream",
     "text": [
      "n\n"
     ]
    },
    {
     "name": "stderr",
     "output_type": "stream",
     "text": [
      "name : it's how you play the game\n",
      "producer : harpercollins\n",
      "price : 10.99\n",
      "\n",
      "name : it's how you play the game\n",
      "producer : harpercollins\n",
      "price : 8.99\n",
      "\n",
      "36/10 positive, 50/10 negative\n",
      "Do these records refer to the same thing?\n",
      "(y)es / (n)o / (u)nsure / (f)inished / (p)revious\n"
     ]
    },
    {
     "name": "stdout",
     "output_type": "stream",
     "text": [
      "y\n"
     ]
    },
    {
     "name": "stderr",
     "output_type": "stream",
     "text": [
      "name : hiking olympic national park\n",
      "producer : falcon guides\n",
      "price : 15.99\n",
      "\n",
      "name : hiking olympic national park\n",
      "producer : falcon guides\n",
      "price : 21.99\n",
      "\n",
      "37/10 positive, 50/10 negative\n",
      "Do these records refer to the same thing?\n",
      "(y)es / (n)o / (u)nsure / (f)inished / (p)revious\n"
     ]
    },
    {
     "name": "stdout",
     "output_type": "stream",
     "text": [
      "y\n"
     ]
    },
    {
     "name": "stderr",
     "output_type": "stream",
     "text": [
      "name : the pro wrestling hall of fame\n",
      "producer : ecw press\n",
      "price : 11.95\n",
      "\n",
      "name : the pro wrestling hall of fame\n",
      "producer : ecw press\n",
      "price : 14.95\n",
      "\n",
      "38/10 positive, 50/10 negative\n",
      "Do these records refer to the same thing?\n",
      "(y)es / (n)o / (u)nsure / (f)inished / (p)revious\n"
     ]
    },
    {
     "name": "stdout",
     "output_type": "stream",
     "text": [
      "y\n"
     ]
    },
    {
     "name": "stderr",
     "output_type": "stream",
     "text": [
      "name : hiking the absaroka-beartooth wilderness\n",
      "producer : falcon guides\n",
      "price : 21.99\n",
      "\n",
      "name : hiking the absaroka-beartooth wilderness\n",
      "producer : falcon guides\n",
      "price : 18.99\n",
      "\n",
      "39/10 positive, 50/10 negative\n",
      "Do these records refer to the same thing?\n",
      "(y)es / (n)o / (u)nsure / (f)inished / (p)revious\n"
     ]
    },
    {
     "name": "stdout",
     "output_type": "stream",
     "text": [
      "y\n"
     ]
    },
    {
     "name": "stderr",
     "output_type": "stream",
     "text": [
      "name : 100 things blues fans should know & do before they die\n",
      "producer : triumph books\n",
      "price : 11.99\n",
      "\n",
      "name : 100 things bulls fans should know & do before they die\n",
      "producer : triumph books\n",
      "price : 11.99\n",
      "\n",
      "40/10 positive, 50/10 negative\n",
      "Do these records refer to the same thing?\n",
      "(y)es / (n)o / (u)nsure / (f)inished / (p)revious\n"
     ]
    },
    {
     "name": "stdout",
     "output_type": "stream",
     "text": [
      "n\n"
     ]
    },
    {
     "name": "stderr",
     "output_type": "stream",
     "text": [
      "name : the complete idiot's guide to marathon training\n",
      "producer : dk publishing\n",
      "price : 18.95\n",
      "\n",
      "name : the complete idiot's guide to karate\n",
      "producer : dk publishing\n",
      "price : 18.95\n",
      "\n",
      "40/10 positive, 51/10 negative\n",
      "Do these records refer to the same thing?\n",
      "(y)es / (n)o / (u)nsure / (f)inished / (p)revious\n"
     ]
    },
    {
     "name": "stdout",
     "output_type": "stream",
     "text": [
      "n\n"
     ]
    },
    {
     "name": "stderr",
     "output_type": "stream",
     "text": [
      "name : game day: tennessee football\n",
      "producer : triumph books\n",
      "price : 24.99\n",
      "\n",
      "name : game day: georgia football\n",
      "producer : triumph books\n",
      "price : 24.99\n",
      "\n",
      "40/10 positive, 52/10 negative\n",
      "Do these records refer to the same thing?\n",
      "(y)es / (n)o / (u)nsure / (f)inished / (p)revious\n"
     ]
    },
    {
     "name": "stdout",
     "output_type": "stream",
     "text": [
      "n\n"
     ]
    },
    {
     "name": "stderr",
     "output_type": "stream",
     "text": [
      "name : instant golf 2\n",
      "producer : infinite ideas\n",
      "price : 2.95\n",
      "\n",
      "name : instant golf\n",
      "producer : infinite ideas\n",
      "price : 2.95\n",
      "\n",
      "40/10 positive, 53/10 negative\n",
      "Do these records refer to the same thing?\n",
      "(y)es / (n)o / (u)nsure / (f)inished / (p)revious\n"
     ]
    },
    {
     "name": "stdout",
     "output_type": "stream",
     "text": [
      "n\n"
     ]
    },
    {
     "name": "stderr",
     "output_type": "stream",
     "text": [
      "name : the cooperstown symposium on baseball and american culture, 2013-2014\n",
      "producer : mcfarland & company, inc., publishers\n",
      "price : 45.0\n",
      "\n",
      "name : the cooperstown symposium on baseball and american culture, 2007-2008\n",
      "producer : mcfarland & company, inc., publishers\n",
      "price : 45.0\n",
      "\n",
      "40/10 positive, 54/10 negative\n",
      "Do these records refer to the same thing?\n",
      "(y)es / (n)o / (u)nsure / (f)inished / (p)revious\n"
     ]
    },
    {
     "name": "stdout",
     "output_type": "stream",
     "text": [
      "n\n"
     ]
    },
    {
     "name": "stderr",
     "output_type": "stream",
     "text": [
      "name : 100 things ravens fans should know & do before they die\n",
      "producer : triumph books\n",
      "price : 11.99\n",
      "\n",
      "name : 100 things raiders fans should know & do before they die\n",
      "producer : triumph books\n",
      "price : 11.99\n",
      "\n",
      "40/10 positive, 55/10 negative\n",
      "Do these records refer to the same thing?\n",
      "(y)es / (n)o / (u)nsure / (f)inished / (p)revious\n"
     ]
    },
    {
     "name": "stdout",
     "output_type": "stream",
     "text": [
      "n\n"
     ]
    },
    {
     "name": "stderr",
     "output_type": "stream",
     "text": [
      "name : 100 things bears fans should know & do before they die\n",
      "producer : triumph books\n",
      "price : 11.99\n",
      "\n",
      "name : 100 things mets fans should know & do before they die\n",
      "producer : triumph books\n",
      "price : 11.99\n",
      "\n",
      "40/10 positive, 56/10 negative\n",
      "Do these records refer to the same thing?\n",
      "(y)es / (n)o / (u)nsure / (f)inished / (p)revious\n"
     ]
    },
    {
     "name": "stdout",
     "output_type": "stream",
     "text": [
      "n\n"
     ]
    },
    {
     "name": "stderr",
     "output_type": "stream",
     "text": [
      "name : gun trader's guide\n",
      "producer : skyhorse publishing\n",
      "price : 29.95\n",
      "\n",
      "name : gun trader's guide\n",
      "producer : skyhorse publishing\n",
      "price : 29.99\n",
      "\n",
      "40/10 positive, 57/10 negative\n",
      "Do these records refer to the same thing?\n",
      "(y)es / (n)o / (u)nsure / (f)inished / (p)revious\n"
     ]
    },
    {
     "name": "stdout",
     "output_type": "stream",
     "text": [
      "y\n"
     ]
    },
    {
     "name": "stderr",
     "output_type": "stream",
     "text": [
      "name : standard catalog of military firearms\n",
      "producer : f+w media\n",
      "price : 29.99\n",
      "\n",
      "name : standard catalog of military firearms\n",
      "producer : f+w media\n",
      "price : 34.99\n",
      "\n",
      "41/10 positive, 57/10 negative\n",
      "Do these records refer to the same thing?\n",
      "(y)es / (n)o / (u)nsure / (f)inished / (p)revious\n"
     ]
    },
    {
     "name": "stdout",
     "output_type": "stream",
     "text": [
      "y\n"
     ]
    },
    {
     "name": "stderr",
     "output_type": "stream",
     "text": [
      "name : coaching science\n",
      "producer : sage publications\n",
      "price : 32.0\n",
      "\n",
      "name : coaching science\n",
      "producer : wiley\n",
      "price : 180.0\n",
      "\n",
      "42/10 positive, 57/10 negative\n",
      "Do these records refer to the same thing?\n",
      "(y)es / (n)o / (u)nsure / (f)inished / (p)revious\n"
     ]
    },
    {
     "name": "stdout",
     "output_type": "stream",
     "text": [
      "n\n"
     ]
    },
    {
     "name": "stderr",
     "output_type": "stream",
     "text": [
      "name : 100 things tigers fans should know & do before they die\n",
      "producer : triumph books\n",
      "price : 11.99\n",
      "\n",
      "name : 100 things giants fans should know & do before they die\n",
      "producer : triumph books\n",
      "price : 11.99\n",
      "\n",
      "42/10 positive, 58/10 negative\n",
      "Do these records refer to the same thing?\n",
      "(y)es / (n)o / (u)nsure / (f)inished / (p)revious\n"
     ]
    },
    {
     "name": "stdout",
     "output_type": "stream",
     "text": [
      "n\n"
     ]
    },
    {
     "name": "stderr",
     "output_type": "stream",
     "text": [
      "name : 100 things a's fans should know & do before they die\n",
      "producer : triumph books\n",
      "price : 11.99\n",
      "\n",
      "name : 100 things angels fans should know & do before they die\n",
      "producer : triumph books\n",
      "price : 11.99\n",
      "\n",
      "42/10 positive, 59/10 negative\n",
      "Do these records refer to the same thing?\n",
      "(y)es / (n)o / (u)nsure / (f)inished / (p)revious\n"
     ]
    },
    {
     "name": "stdout",
     "output_type": "stream",
     "text": [
      "y\n"
     ]
    },
    {
     "name": "stderr",
     "output_type": "stream",
     "text": [
      "name : 100 things bears fans should know & do before they die\n",
      "producer : triumph books\n",
      "price : 11.99\n",
      "\n",
      "name : 100 things brewers fans should know & do before they die\n",
      "producer : triumph books\n",
      "price : 11.99\n",
      "\n",
      "43/10 positive, 59/10 negative\n",
      "Do these records refer to the same thing?\n",
      "(y)es / (n)o / (u)nsure / (f)inished / (p)revious\n"
     ]
    },
    {
     "name": "stdout",
     "output_type": "stream",
     "text": [
      "n\n"
     ]
    },
    {
     "name": "stderr",
     "output_type": "stream",
     "text": [
      "name : 100 things reds fans should know & do before they die\n",
      "producer : triumph books\n",
      "price : 11.99\n",
      "\n",
      "name : 100 things lakers fans should know & do before they die\n",
      "producer : triumph books\n",
      "price : 11.99\n",
      "\n",
      "43/10 positive, 60/10 negative\n",
      "Do these records refer to the same thing?\n",
      "(y)es / (n)o / (u)nsure / (f)inished / (p)revious\n"
     ]
    },
    {
     "name": "stdout",
     "output_type": "stream",
     "text": [
      "n\n"
     ]
    },
    {
     "name": "stderr",
     "output_type": "stream",
     "text": [
      "name : 100 things giants fans should know & do before they die\n",
      "producer : triumph books\n",
      "price : 11.99\n",
      "\n",
      "name : 100 things jets fans should know & do before they die\n",
      "producer : triumph books\n",
      "price : 11.99\n",
      "\n",
      "43/10 positive, 61/10 negative\n",
      "Do these records refer to the same thing?\n",
      "(y)es / (n)o / (u)nsure / (f)inished / (p)revious\n"
     ]
    },
    {
     "name": "stdout",
     "output_type": "stream",
     "text": [
      "n\n"
     ]
    },
    {
     "name": "stderr",
     "output_type": "stream",
     "text": [
      "name : gun digest's defensive handgun training rules and tips eshort\n",
      "producer : f+w media\n",
      "price : 1.5\n",
      "\n",
      "name : gun digest's defensive handgun training eshort\n",
      "producer : f+w media\n",
      "price : 1.5\n",
      "\n",
      "43/10 positive, 62/10 negative\n",
      "Do these records refer to the same thing?\n",
      "(y)es / (n)o / (u)nsure / (f)inished / (p)revious\n"
     ]
    },
    {
     "name": "stdout",
     "output_type": "stream",
     "text": [
      "y\n"
     ]
    },
    {
     "name": "stderr",
     "output_type": "stream",
     "text": [
      "name : 100 things pirates fans should know & do before they die\n",
      "producer : triumph books\n",
      "price : 11.99\n",
      "\n",
      "name : 100 things phillies fans should know & do before they die\n",
      "producer : triumph books\n",
      "price : 11.99\n",
      "\n",
      "44/10 positive, 62/10 negative\n",
      "Do these records refer to the same thing?\n",
      "(y)es / (n)o / (u)nsure / (f)inished / (p)revious\n"
     ]
    },
    {
     "name": "stdout",
     "output_type": "stream",
     "text": [
      "n\n"
     ]
    },
    {
     "name": "stderr",
     "output_type": "stream",
     "text": [
      "name : 100 things panthers fans should know & do before they die\n",
      "producer : triumph books\n",
      "price : 11.99\n",
      "\n",
      "name : 100 things raptors fans should know & do before they die\n",
      "producer : triumph books\n",
      "price : 0.0\n",
      "\n",
      "44/10 positive, 63/10 negative\n",
      "Do these records refer to the same thing?\n",
      "(y)es / (n)o / (u)nsure / (f)inished / (p)revious\n"
     ]
    },
    {
     "name": "stdout",
     "output_type": "stream",
     "text": [
      "n\n"
     ]
    },
    {
     "name": "stderr",
     "output_type": "stream",
     "text": [
      "name : ronaldo - 2014 updated edition\n",
      "producer : icon books\n",
      "price : 6.99\n",
      "\n",
      "name : ronaldo - 2013 edition\n",
      "producer : icon books\n",
      "price : 7.99\n",
      "\n",
      "44/10 positive, 64/10 negative\n",
      "Do these records refer to the same thing?\n",
      "(y)es / (n)o / (u)nsure / (f)inished / (p)revious\n"
     ]
    },
    {
     "name": "stdout",
     "output_type": "stream",
     "text": [
      "n\n"
     ]
    },
    {
     "name": "stderr",
     "output_type": "stream",
     "text": [
      "name : 100 things raiders fans should know & do before they die\n",
      "producer : triumph books\n",
      "price : 11.99\n",
      "\n",
      "name : 100 things angels fans should know & do before they die\n",
      "producer : triumph books\n",
      "price : 11.99\n",
      "\n",
      "44/10 positive, 65/10 negative\n",
      "Do these records refer to the same thing?\n",
      "(y)es / (n)o / (u)nsure / (f)inished / (p)revious\n"
     ]
    },
    {
     "name": "stdout",
     "output_type": "stream",
     "text": [
      "n\n"
     ]
    },
    {
     "name": "stderr",
     "output_type": "stream",
     "text": [
      "name : 100 things eagles fans should know & do before they die\n",
      "producer : triumph books\n",
      "price : 11.99\n",
      "\n",
      "name : 100 things orioles fans should know & do before they die\n",
      "producer : triumph books\n",
      "price : 11.99\n",
      "\n",
      "44/10 positive, 66/10 negative\n",
      "Do these records refer to the same thing?\n",
      "(y)es / (n)o / (u)nsure / (f)inished / (p)revious\n"
     ]
    },
    {
     "name": "stdout",
     "output_type": "stream",
     "text": [
      "n\n"
     ]
    },
    {
     "name": "stderr",
     "output_type": "stream",
     "text": [
      "name : 100 things packers fans should know & do before they die\n",
      "producer : triumph books\n",
      "price : 11.99\n",
      "\n",
      "name : 100 things tigers fans should know & do before they die\n",
      "producer : triumph books\n",
      "price : 11.99\n",
      "\n",
      "44/10 positive, 67/10 negative\n",
      "Do these records refer to the same thing?\n",
      "(y)es / (n)o / (u)nsure / (f)inished / (p)revious\n"
     ]
    },
    {
     "name": "stdout",
     "output_type": "stream",
     "text": [
      "n\n"
     ]
    },
    {
     "name": "stderr",
     "output_type": "stream",
     "text": [
      "name : sailing alone around the world\n",
      "producer : harpercollins canada\n",
      "price : 0.99\n",
      "\n",
      "name : sailing alone around the world\n",
      "producer : bloomsbury publishing\n",
      "price : 11.99\n",
      "\n",
      "44/10 positive, 68/10 negative\n",
      "Do these records refer to the same thing?\n",
      "(y)es / (n)o / (u)nsure / (f)inished / (p)revious\n"
     ]
    },
    {
     "name": "stdout",
     "output_type": "stream",
     "text": [
      "n\n"
     ]
    },
    {
     "name": "stderr",
     "output_type": "stream",
     "text": [
      "name : gun trader's guide\n",
      "producer : skyhorse publishing\n",
      "price : 29.95\n",
      "\n",
      "name : gun trader's guide\n",
      "producer : skyhorse publishing\n",
      "price : 29.99\n",
      "\n",
      "44/10 positive, 69/10 negative\n",
      "Do these records refer to the same thing?\n",
      "(y)es / (n)o / (u)nsure / (f)inished / (p)revious\n"
     ]
    },
    {
     "name": "stdout",
     "output_type": "stream",
     "text": [
      "y\n"
     ]
    },
    {
     "name": "stderr",
     "output_type": "stream",
     "text": [
      "name : 100 things lions fans should know & do before they die\n",
      "producer : triumph books\n",
      "price : 11.99\n",
      "\n",
      "name : 100 things lakers fans should know & do before they die\n",
      "producer : triumph books\n",
      "price : 11.99\n",
      "\n",
      "45/10 positive, 69/10 negative\n",
      "Do these records refer to the same thing?\n",
      "(y)es / (n)o / (u)nsure / (f)inished / (p)revious\n"
     ]
    },
    {
     "name": "stdout",
     "output_type": "stream",
     "text": [
      "n\n"
     ]
    },
    {
     "name": "stderr",
     "output_type": "stream",
     "text": [
      "name : 100 things flyers fans should know & do before they die\n",
      "producer : triumph books\n",
      "price : 11.99\n",
      "\n",
      "name : 100 things bears fans should know & do before they die\n",
      "producer : triumph books\n",
      "price : 11.99\n",
      "\n",
      "45/10 positive, 70/10 negative\n",
      "Do these records refer to the same thing?\n",
      "(y)es / (n)o / (u)nsure / (f)inished / (p)revious\n"
     ]
    },
    {
     "name": "stdout",
     "output_type": "stream",
     "text": [
      "n\n"
     ]
    },
    {
     "name": "stderr",
     "output_type": "stream",
     "text": [
      "name : beaver\n",
      "producer : allen & unwin\n",
      "price : 23.95\n",
      "\n",
      "name : beaver\n",
      "producer : allen & unwin\n",
      "price : 27.22\n",
      "\n",
      "45/10 positive, 71/10 negative\n",
      "Do these records refer to the same thing?\n",
      "(y)es / (n)o / (u)nsure / (f)inished / (p)revious\n"
     ]
    },
    {
     "name": "stdout",
     "output_type": "stream",
     "text": [
      "y\n"
     ]
    },
    {
     "name": "stderr",
     "output_type": "stream",
     "text": [
      "name : molina\n",
      "producer : simon & schuster\n",
      "price : 11.99\n",
      "\n",
      "name : molina\n",
      "producer : simon & schuster\n",
      "price : 12.99\n",
      "\n",
      "46/10 positive, 71/10 negative\n",
      "Do these records refer to the same thing?\n",
      "(y)es / (n)o / (u)nsure / (f)inished / (p)revious\n"
     ]
    },
    {
     "name": "stdout",
     "output_type": "stream",
     "text": [
      "y\n"
     ]
    },
    {
     "name": "stderr",
     "output_type": "stream",
     "text": [
      "name : sea kayaking\n",
      "producer : greystone books\n",
      "price : 14.95\n",
      "\n",
      "name : sea kayaking\n",
      "producer : greystone books\n",
      "price : 19.95\n",
      "\n",
      "47/10 positive, 71/10 negative\n",
      "Do these records refer to the same thing?\n",
      "(y)es / (n)o / (u)nsure / (f)inished / (p)revious\n"
     ]
    },
    {
     "name": "stdout",
     "output_type": "stream",
     "text": [
      "y\n"
     ]
    },
    {
     "name": "stderr",
     "output_type": "stream",
     "text": [
      "name : science and football vii\n",
      "producer : taylor and francis\n",
      "price : 42.95\n",
      "\n",
      "name : science and soccer\n",
      "producer : taylor and francis\n",
      "price : 65.95\n",
      "\n",
      "48/10 positive, 71/10 negative\n",
      "Do these records refer to the same thing?\n",
      "(y)es / (n)o / (u)nsure / (f)inished / (p)revious\n"
     ]
    },
    {
     "name": "stdout",
     "output_type": "stream",
     "text": [
      "u\n"
     ]
    },
    {
     "name": "stderr",
     "output_type": "stream",
     "text": [
      "name : gun digest 2015\n",
      "producer : f+w media\n",
      "price : 34.99\n",
      "\n",
      "name : gun digest 2012\n",
      "producer : f+w media\n",
      "price : 32.99\n",
      "\n",
      "48/10 positive, 71/10 negative\n",
      "Do these records refer to the same thing?\n",
      "(y)es / (n)o / (u)nsure / (f)inished / (p)revious\n"
     ]
    },
    {
     "name": "stdout",
     "output_type": "stream",
     "text": [
      "n\n"
     ]
    },
    {
     "name": "stderr",
     "output_type": "stream",
     "text": [
      "name : gun digest 2015\n",
      "producer : f+w media\n",
      "price : 34.99\n",
      "\n",
      "name : gun digest 2011\n",
      "producer : f+w media\n",
      "price : 32.99\n",
      "\n",
      "48/10 positive, 72/10 negative\n",
      "Do these records refer to the same thing?\n",
      "(y)es / (n)o / (u)nsure / (f)inished / (p)revious\n"
     ]
    },
    {
     "name": "stdout",
     "output_type": "stream",
     "text": [
      "n\n"
     ]
    },
    {
     "name": "stderr",
     "output_type": "stream",
     "text": [
      "name : science and soccer\n",
      "producer : taylor and francis\n",
      "price : 71.95\n",
      "\n",
      "name : science and football vi\n",
      "producer : taylor and francis\n",
      "price : 54.95\n",
      "\n",
      "48/10 positive, 73/10 negative\n",
      "Do these records refer to the same thing?\n",
      "(y)es / (n)o / (u)nsure / (f)inished / (p)revious\n"
     ]
    },
    {
     "name": "stdout",
     "output_type": "stream",
     "text": [
      "n\n"
     ]
    },
    {
     "name": "stderr",
     "output_type": "stream",
     "text": [
      "name : science and racket sports iii\n",
      "producer : taylor and francis\n",
      "price : 54.95\n",
      "\n",
      "name : science and football vii\n",
      "producer : taylor and francis\n",
      "price : 42.95\n",
      "\n",
      "48/10 positive, 74/10 negative\n",
      "Do these records refer to the same thing?\n",
      "(y)es / (n)o / (u)nsure / (f)inished / (p)revious\n"
     ]
    },
    {
     "name": "stdout",
     "output_type": "stream",
     "text": [
      "n\n"
     ]
    },
    {
     "name": "stderr",
     "output_type": "stream",
     "text": [
      "name : hiking pennsylvania\n",
      "producer : falcon guides\n",
      "price : 21.99\n",
      "\n",
      "name : hiking pennsylvania\n",
      "producer : falcon guides\n",
      "price : 17.99\n",
      "\n",
      "48/10 positive, 75/10 negative\n",
      "Do these records refer to the same thing?\n",
      "(y)es / (n)o / (u)nsure / (f)inished / (p)revious\n"
     ]
    },
    {
     "name": "stdout",
     "output_type": "stream",
     "text": [
      "y\n"
     ]
    },
    {
     "name": "stderr",
     "output_type": "stream",
     "text": [
      "name : paterno legacy\n",
      "producer : triumph books\n",
      "price : 11.99\n",
      "\n",
      "name : paterno legacy\n",
      "producer : triumph books\n",
      "price : 13.99\n",
      "\n",
      "49/10 positive, 75/10 negative\n",
      "Do these records refer to the same thing?\n",
      "(y)es / (n)o / (u)nsure / (f)inished / (p)revious\n"
     ]
    },
    {
     "name": "stdout",
     "output_type": "stream",
     "text": [
      "y\n"
     ]
    },
    {
     "name": "stderr",
     "output_type": "stream",
     "text": [
      "name : core four\n",
      "producer : triumph books\n",
      "price : 11.99\n",
      "\n",
      "name : core four\n",
      "producer : triumph books\n",
      "price : 13.99\n",
      "\n",
      "50/10 positive, 75/10 negative\n",
      "Do these records refer to the same thing?\n",
      "(y)es / (n)o / (u)nsure / (f)inished / (p)revious\n"
     ]
    },
    {
     "name": "stdout",
     "output_type": "stream",
     "text": [
      "y\n"
     ]
    },
    {
     "name": "stderr",
     "output_type": "stream",
     "text": [
      "name : my story\n",
      "producer : penguin books ltd\n",
      "price : 14.38\n",
      "\n",
      "name : my story\n",
      "producer : penguin books ltd\n",
      "price : 32.0\n",
      "\n",
      "51/10 positive, 75/10 negative\n",
      "Do these records refer to the same thing?\n",
      "(y)es / (n)o / (u)nsure / (f)inished / (p)revious\n"
     ]
    },
    {
     "name": "stdout",
     "output_type": "stream",
     "text": [
      "u\n"
     ]
    },
    {
     "name": "stderr",
     "output_type": "stream",
     "text": [
      "name : taekwondo patterns\n",
      "producer : crowood\n",
      "price : 16.99\n",
      "\n",
      "name : taekwon-do patterns\n",
      "producer : crowood\n",
      "price : 24.78\n",
      "\n",
      "51/10 positive, 75/10 negative\n",
      "Do these records refer to the same thing?\n",
      "(y)es / (n)o / (u)nsure / (f)inished / (p)revious\n"
     ]
    },
    {
     "name": "stdout",
     "output_type": "stream",
     "text": [
      "y\n"
     ]
    },
    {
     "name": "stderr",
     "output_type": "stream",
     "text": [
      "name : shotgunning\n",
      "producer : skyhorse publishing\n",
      "price : 14.95\n",
      "\n",
      "name : shotgunning\n",
      "producer : skyhorse publishing\n",
      "price : 29.95\n",
      "\n",
      "52/10 positive, 75/10 negative\n",
      "Do these records refer to the same thing?\n",
      "(y)es / (n)o / (u)nsure / (f)inished / (p)revious\n"
     ]
    },
    {
     "name": "stdout",
     "output_type": "stream",
     "text": [
      "y\n"
     ]
    },
    {
     "name": "stderr",
     "output_type": "stream",
     "text": [
      "INFO:dedupe.training:Final predicate set:\n",
      "INFO:dedupe.training:(PartialPredicate: (sameSevenCharStartPredicate, name, CorporationName), TfidfTextCanopyPredicate: (0.4, name))\n",
      "INFO:dedupe.training:(LevenshteinCanopyPredicate: (4, name), TfidfTextCanopyPredicate: (0.8, name))\n",
      "INFO:dedupe.training:(PartialPredicate: (sameSevenCharStartPredicate, name, Surname), TfidfNGramCanopyPredicate: (0.6, name))\n",
      "INFO:dedupe.training:(SimplePredicate: (wholeFieldPredicate, price), TfidfTextCanopyPredicate: (0.6, name))\n",
      "name : arete\n",
      "producer : university of california press\n",
      "price : 28.95\n",
      "\n",
      "name : arete\n",
      "producer : university of california press\n",
      "price : 15.95\n",
      "\n",
      "53/10 positive, 75/10 negative\n",
      "Do these records refer to the same thing?\n",
      "(y)es / (n)o / (u)nsure / (f)inished / (p)revious\n"
     ]
    },
    {
     "name": "stdout",
     "output_type": "stream",
     "text": [
      "y\n"
     ]
    },
    {
     "name": "stderr",
     "output_type": "stream",
     "text": [
      "name : golf made easy!\n",
      "producer : publish on demand global llc\n",
      "price : 9.99\n",
      "\n",
      "name : golf made easy!\n",
      "producer : sbpra\n",
      "price : 2.99\n",
      "\n",
      "54/10 positive, 75/10 negative\n",
      "Do these records refer to the same thing?\n",
      "(y)es / (n)o / (u)nsure / (f)inished / (p)revious\n"
     ]
    },
    {
     "name": "stdout",
     "output_type": "stream",
     "text": [
      "n\n"
     ]
    },
    {
     "name": "stderr",
     "output_type": "stream",
     "text": [
      "name : once bitten\n",
      "producer : panoma press\n",
      "price : 6.99\n",
      "\n",
      "name : once bitten\n",
      "producer : ecademy press ltd\n",
      "price : 14.99\n",
      "\n",
      "54/10 positive, 76/10 negative\n",
      "Do these records refer to the same thing?\n",
      "(y)es / (n)o / (u)nsure / (f)inished / (p)revious\n"
     ]
    },
    {
     "name": "stdout",
     "output_type": "stream",
     "text": [
      "n\n"
     ]
    },
    {
     "name": "stderr",
     "output_type": "stream",
     "text": [
      "name : john muir trail\n",
      "producer : wilderness press\n",
      "price : 18.95\n",
      "\n",
      "name : john muir trail\n",
      "producer : wilderness press\n",
      "price : 15.95\n",
      "\n",
      "54/10 positive, 77/10 negative\n",
      "Do these records refer to the same thing?\n",
      "(y)es / (n)o / (u)nsure / (f)inished / (p)revious\n"
     ]
    },
    {
     "name": "stdout",
     "output_type": "stream",
     "text": [
      "y\n"
     ]
    },
    {
     "name": "stderr",
     "output_type": "stream",
     "text": [
      "name : instant golf 2\n",
      "producer : infinite ideas\n",
      "price : 2.95\n",
      "\n",
      "name : instant golf\n",
      "producer : infinite ideas\n",
      "price : 2.95\n",
      "\n",
      "55/10 positive, 77/10 negative\n",
      "Do these records refer to the same thing?\n",
      "(y)es / (n)o / (u)nsure / (f)inished / (p)revious\n"
     ]
    },
    {
     "name": "stdout",
     "output_type": "stream",
     "text": [
      "n\n"
     ]
    },
    {
     "name": "stderr",
     "output_type": "stream",
     "text": [
      "name : cinderella man\n",
      "producer : harpercollins\n",
      "price : 0.99\n",
      "\n",
      "name : cinderella man\n",
      "producer : houghton mifflin harcourt\n",
      "price : 13.99\n",
      "\n",
      "55/10 positive, 78/10 negative\n",
      "Do these records refer to the same thing?\n",
      "(y)es / (n)o / (u)nsure / (f)inished / (p)revious\n"
     ]
    },
    {
     "name": "stdout",
     "output_type": "stream",
     "text": [
      "n\n"
     ]
    },
    {
     "name": "stderr",
     "output_type": "stream",
     "text": [
      "name : jean beliveau\n",
      "producer : harpercollins canada\n",
      "price : 0.99\n",
      "\n",
      "name : jean beliveau\n",
      "producer : greystone books\n",
      "price : 18.95\n",
      "\n",
      "55/10 positive, 79/10 negative\n",
      "Do these records refer to the same thing?\n",
      "(y)es / (n)o / (u)nsure / (f)inished / (p)revious\n"
     ]
    },
    {
     "name": "stdout",
     "output_type": "stream",
     "text": [
      "n\n"
     ]
    },
    {
     "name": "stderr",
     "output_type": "stream",
     "text": [
      "name : born to fight\n",
      "producer : john blake\n",
      "price : 9.99\n",
      "\n",
      "name : born to fight\n",
      "producer : hachette australia\n",
      "price : 12.49\n",
      "\n",
      "55/10 positive, 80/10 negative\n",
      "Do these records refer to the same thing?\n",
      "(y)es / (n)o / (u)nsure / (f)inished / (p)revious\n"
     ]
    },
    {
     "name": "stdout",
     "output_type": "stream",
     "text": [
      "n\n"
     ]
    },
    {
     "name": "stderr",
     "output_type": "stream",
     "text": [
      "name : walking san francisco\n",
      "producer : falcon guides\n",
      "price : 13.99\n",
      "\n",
      "name : walking san francisco\n",
      "producer : wilderness press\n",
      "price : 16.95\n",
      "\n",
      "55/10 positive, 81/10 negative\n",
      "Do these records refer to the same thing?\n",
      "(y)es / (n)o / (u)nsure / (f)inished / (p)revious\n"
     ]
    },
    {
     "name": "stdout",
     "output_type": "stream",
     "text": [
      "n\n"
     ]
    },
    {
     "name": "stderr",
     "output_type": "stream",
     "text": [
      "name : 100 things bills fans should know & do before they die\n",
      "producer : triumph books\n",
      "price : 11.99\n",
      "\n",
      "name : 100 things knicks fans should know & do before they die\n",
      "producer : triumph books\n",
      "price : 11.99\n",
      "\n",
      "55/10 positive, 82/10 negative\n",
      "Do these records refer to the same thing?\n",
      "(y)es / (n)o / (u)nsure / (f)inished / (p)revious\n"
     ]
    },
    {
     "name": "stdout",
     "output_type": "stream",
     "text": [
      "n\n"
     ]
    },
    {
     "name": "stderr",
     "output_type": "stream",
     "text": [
      "name : 100 things blues fans should know & do before they die\n",
      "producer : triumph books\n",
      "price : 11.99\n",
      "\n",
      "name : 100 things jets fans should know & do before they die\n",
      "producer : triumph books\n",
      "price : 11.99\n",
      "\n",
      "55/10 positive, 83/10 negative\n",
      "Do these records refer to the same thing?\n",
      "(y)es / (n)o / (u)nsure / (f)inished / (p)revious\n"
     ]
    },
    {
     "name": "stdout",
     "output_type": "stream",
     "text": [
      "n \n"
     ]
    },
    {
     "name": "stderr",
     "output_type": "stream",
     "text": [
      "(y)es / (n)o / (u)nsure / (f)inished / (p)revious\n"
     ]
    },
    {
     "name": "stdout",
     "output_type": "stream",
     "text": [
      "n\n"
     ]
    },
    {
     "name": "stderr",
     "output_type": "stream",
     "text": [
      "name : 100 things lions fans should know & do before they die\n",
      "producer : triumph books\n",
      "price : 11.99\n",
      "\n",
      "name : 100 things patriots fans should know & do before they die\n",
      "producer : triumph books\n",
      "price : 11.99\n",
      "\n",
      "55/10 positive, 84/10 negative\n",
      "Do these records refer to the same thing?\n",
      "(y)es / (n)o / (u)nsure / (f)inished / (p)revious\n"
     ]
    },
    {
     "name": "stdout",
     "output_type": "stream",
     "text": [
      "n\n"
     ]
    },
    {
     "name": "stderr",
     "output_type": "stream",
     "text": [
      "name : 100 things falcons fans should know & do before they die\n",
      "producer : triumph books\n",
      "price : 11.99\n",
      "\n",
      "name : 100 things rangers fans should know & do before they die\n",
      "producer : triumph books\n",
      "price : 11.99\n",
      "\n",
      "55/10 positive, 85/10 negative\n",
      "Do these records refer to the same thing?\n",
      "(y)es / (n)o / (u)nsure / (f)inished / (p)revious\n"
     ]
    },
    {
     "name": "stdout",
     "output_type": "stream",
     "text": [
      "n\n"
     ]
    },
    {
     "name": "stderr",
     "output_type": "stream",
     "text": [
      "name : 100 things knicks fans should know & do before they die\n",
      "producer : triumph books\n",
      "price : 11.99\n",
      "\n",
      "name : 100 things nascar fans should know & do before they die\n",
      "producer : triumph books\n",
      "price : 11.99\n",
      "\n",
      "55/10 positive, 86/10 negative\n",
      "Do these records refer to the same thing?\n",
      "(y)es / (n)o / (u)nsure / (f)inished / (p)revious\n"
     ]
    },
    {
     "name": "stdout",
     "output_type": "stream",
     "text": [
      "n\n"
     ]
    },
    {
     "name": "stderr",
     "output_type": "stream",
     "text": [
      "name : 100 things sabres fans should know & do before they die\n",
      "producer : triumph books\n",
      "price : 11.99\n",
      "\n",
      "name : 100 things giants fans should know & do before they die\n",
      "producer : triumph books\n",
      "price : 11.99\n",
      "\n",
      "55/10 positive, 87/10 negative\n",
      "Do these records refer to the same thing?\n",
      "(y)es / (n)o / (u)nsure / (f)inished / (p)revious\n"
     ]
    },
    {
     "name": "stdout",
     "output_type": "stream",
     "text": [
      "n\n"
     ]
    },
    {
     "name": "stderr",
     "output_type": "stream",
     "text": [
      "name : 100 things auburn fans should know & do before they die\n",
      "producer : triumph books\n",
      "price : 11.99\n",
      "\n",
      "name : 100 things lakers fans should know & do before they die\n",
      "producer : triumph books\n",
      "price : 11.99\n",
      "\n",
      "55/10 positive, 88/10 negative\n",
      "Do these records refer to the same thing?\n",
      "(y)es / (n)o / (u)nsure / (f)inished / (p)revious\n"
     ]
    },
    {
     "name": "stdout",
     "output_type": "stream",
     "text": [
      "n\n"
     ]
    },
    {
     "name": "stderr",
     "output_type": "stream",
     "text": [
      "name : 100 things flyers fans should know & do before they die\n",
      "producer : triumph books\n",
      "price : 11.99\n",
      "\n",
      "name : 100 things giants fans should know & do before they die\n",
      "producer : triumph books\n",
      "price : 11.99\n",
      "\n",
      "55/10 positive, 89/10 negative\n",
      "Do these records refer to the same thing?\n",
      "(y)es / (n)o / (u)nsure / (f)inished / (p)revious\n"
     ]
    },
    {
     "name": "stdout",
     "output_type": "stream",
     "text": [
      "n\n"
     ]
    },
    {
     "name": "stderr",
     "output_type": "stream",
     "text": [
      "name : nord perou : les andes, guide de trekking\n",
      "producer : primento digital publishing\n",
      "price : 5.99\n",
      "\n",
      "name : sud perou : les andes, guide de trekking\n",
      "producer : primento digital publishing\n",
      "price : 5.99\n",
      "\n",
      "55/10 positive, 90/10 negative\n",
      "Do these records refer to the same thing?\n",
      "(y)es / (n)o / (u)nsure / (f)inished / (p)revious\n"
     ]
    },
    {
     "name": "stdout",
     "output_type": "stream",
     "text": [
      "y\n"
     ]
    },
    {
     "name": "stderr",
     "output_type": "stream",
     "text": [
      "name : muhammad ali\n",
      "producer : temple university press\n",
      "price : 29.95\n",
      "\n",
      "name : muhammad ali\n",
      "producer : open road media\n",
      "price : 14.99\n",
      "\n",
      "56/10 positive, 90/10 negative\n",
      "Do these records refer to the same thing?\n",
      "(y)es / (n)o / (u)nsure / (f)inished / (p)revious\n"
     ]
    },
    {
     "name": "stdout",
     "output_type": "stream",
     "text": [
      "n\n"
     ]
    },
    {
     "name": "stderr",
     "output_type": "stream",
     "text": [
      "name : children and exercise xxiv\n",
      "producer : taylor and francis\n",
      "price : 54.95\n",
      "\n",
      "name : children and exercise xxvii\n",
      "producer : taylor and francis\n",
      "price : 48.95\n",
      "\n",
      "56/10 positive, 91/10 negative\n",
      "Do these records refer to the same thing?\n",
      "(y)es / (n)o / (u)nsure / (f)inished / (p)revious\n"
     ]
    },
    {
     "name": "stdout",
     "output_type": "stream",
     "text": [
      "n\n"
     ]
    },
    {
     "name": "stderr",
     "output_type": "stream",
     "text": [
      "name : 100 things eagles fans should know & do before they die\n",
      "producer : triumph books\n",
      "price : 11.99\n",
      "\n",
      "name : 100 things reds fans should know & do before they die\n",
      "producer : triumph books\n",
      "price : 11.99\n",
      "\n",
      "56/10 positive, 92/10 negative\n",
      "Do these records refer to the same thing?\n",
      "(y)es / (n)o / (u)nsure / (f)inished / (p)revious\n"
     ]
    },
    {
     "name": "stdout",
     "output_type": "stream",
     "text": [
      "n\n"
     ]
    },
    {
     "name": "stderr",
     "output_type": "stream",
     "text": [
      "name : 100 things duke fans should know & do before they die\n",
      "producer : triumph books\n",
      "price : 0.0\n",
      "\n",
      "name : 100 things ravens fans should know & do before they die\n",
      "producer : triumph books\n",
      "price : 11.99\n",
      "\n",
      "56/10 positive, 93/10 negative\n",
      "Do these records refer to the same thing?\n",
      "(y)es / (n)o / (u)nsure / (f)inished / (p)revious\n"
     ]
    },
    {
     "name": "stdout",
     "output_type": "stream",
     "text": [
      "n\n"
     ]
    },
    {
     "name": "stderr",
     "output_type": "stream",
     "text": [
      "name : 60 hikes within 60 miles: salt lake city\n",
      "producer : menasha ridge press\n",
      "price : 16.95\n",
      "\n",
      "name : 60 hikes within 60 miles: madison\n",
      "producer : menasha ridge press\n",
      "price : 18.95\n",
      "\n",
      "56/10 positive, 94/10 negative\n",
      "Do these records refer to the same thing?\n",
      "(y)es / (n)o / (u)nsure / (f)inished / (p)revious\n"
     ]
    },
    {
     "name": "stdout",
     "output_type": "stream",
     "text": [
      "n\n"
     ]
    },
    {
     "name": "stderr",
     "output_type": "stream",
     "text": [
      "name : game of my life new york rangers\n",
      "producer : sports publishing\n",
      "price : 24.95\n",
      "\n",
      "name : game of my life new york yankees\n",
      "producer : sports publishing\n",
      "price : 24.95\n",
      "\n",
      "56/10 positive, 95/10 negative\n",
      "Do these records refer to the same thing?\n",
      "(y)es / (n)o / (u)nsure / (f)inished / (p)revious\n"
     ]
    },
    {
     "name": "stdout",
     "output_type": "stream",
     "text": [
      "u\n"
     ]
    },
    {
     "name": "stderr",
     "output_type": "stream",
     "text": [
      "name : krav maga\n",
      "producer : skyhorse publishing\n",
      "price : 19.95\n",
      "\n",
      "name : krav maga\n",
      "producer : st. martin's press\n",
      "price : 9.99\n",
      "\n",
      "56/10 positive, 95/10 negative\n",
      "Do these records refer to the same thing?\n",
      "(y)es / (n)o / (u)nsure / (f)inished / (p)revious\n"
     ]
    },
    {
     "name": "stdout",
     "output_type": "stream",
     "text": [
      "n\n"
     ]
    },
    {
     "name": "stderr",
     "output_type": "stream",
     "text": [
      "name : krav maga\n",
      "producer : tuttle publishing\n",
      "price : 17.95\n",
      "\n",
      "name : krav maga\n",
      "producer : st. martin's press\n",
      "price : 9.99\n",
      "\n",
      "56/10 positive, 96/10 negative\n",
      "Do these records refer to the same thing?\n",
      "(y)es / (n)o / (u)nsure / (f)inished / (p)revious\n"
     ]
    },
    {
     "name": "stdout",
     "output_type": "stream",
     "text": [
      "n\n"
     ]
    },
    {
     "name": "stderr",
     "output_type": "stream",
     "text": [
      "name : 100 things arkansas fans should know & do before they die\n",
      "producer : triumph books\n",
      "price : 11.99\n",
      "\n",
      "name : 100 things broncos fans should know & do before they die\n",
      "producer : triumph books\n",
      "price : 11.99\n",
      "\n",
      "56/10 positive, 97/10 negative\n",
      "Do these records refer to the same thing?\n",
      "(y)es / (n)o / (u)nsure / (f)inished / (p)revious\n"
     ]
    },
    {
     "name": "stdout",
     "output_type": "stream",
     "text": [
      "n\n"
     ]
    },
    {
     "name": "stderr",
     "output_type": "stream",
     "text": [
      "name : 100 things broncos fans should know & do before they die\n",
      "producer : triumph books\n",
      "price : 11.99\n",
      "\n",
      "name : 100 things mariners fans should know & do before they die\n",
      "producer : triumph books\n",
      "price : 11.99\n",
      "\n",
      "56/10 positive, 98/10 negative\n",
      "Do these records refer to the same thing?\n",
      "(y)es / (n)o / (u)nsure / (f)inished / (p)revious\n"
     ]
    },
    {
     "name": "stdout",
     "output_type": "stream",
     "text": [
      "n\n"
     ]
    },
    {
     "name": "stderr",
     "output_type": "stream",
     "text": [
      "name : 100 things indians fans should know & do before they die\n",
      "producer : triumph books\n",
      "price : 11.99\n",
      "\n",
      "name : 100 things redskins fans should know & do before they die\n",
      "producer : triumph books\n",
      "price : 11.99\n",
      "\n",
      "56/10 positive, 99/10 negative\n",
      "Do these records refer to the same thing?\n",
      "(y)es / (n)o / (u)nsure / (f)inished / (p)revious\n"
     ]
    },
    {
     "name": "stdout",
     "output_type": "stream",
     "text": [
      "n\n"
     ]
    },
    {
     "name": "stderr",
     "output_type": "stream",
     "text": [
      "name : 100 things broncos fans should know & do before they die\n",
      "producer : triumph books\n",
      "price : 11.99\n",
      "\n",
      "name : 100 things giants fans should know & do before they die\n",
      "producer : triumph books\n",
      "price : 14.95\n",
      "\n",
      "56/10 positive, 100/10 negative\n",
      "Do these records refer to the same thing?\n",
      "(y)es / (n)o / (u)nsure / (f)inished / (p)revious\n"
     ]
    },
    {
     "name": "stdout",
     "output_type": "stream",
     "text": [
      "n\n"
     ]
    },
    {
     "name": "stderr",
     "output_type": "stream",
     "text": [
      "name : 100 things braves fans should know & do before they die\n",
      "producer : triumph books\n",
      "price : 11.99\n",
      "\n",
      "name : 100 things rangers fans should know & do before they die\n",
      "producer : triumph books\n",
      "price : 11.99\n",
      "\n",
      "56/10 positive, 101/10 negative\n",
      "Do these records refer to the same thing?\n",
      "(y)es / (n)o / (u)nsure / (f)inished / (p)revious\n"
     ]
    },
    {
     "name": "stdout",
     "output_type": "stream",
     "text": [
      "n\n"
     ]
    },
    {
     "name": "stderr",
     "output_type": "stream",
     "text": [
      "name : 100 things nascar fans should know & do before they die\n",
      "producer : triumph books\n",
      "price : 11.99\n",
      "\n",
      "name : 100 things rangers fans should know & do before they die\n",
      "producer : triumph books\n",
      "price : 11.99\n",
      "\n",
      "56/10 positive, 102/10 negative\n",
      "Do these records refer to the same thing?\n",
      "(y)es / (n)o / (u)nsure / (f)inished / (p)revious\n"
     ]
    },
    {
     "name": "stdout",
     "output_type": "stream",
     "text": [
      "n\n"
     ]
    },
    {
     "name": "stderr",
     "output_type": "stream",
     "text": [
      "name : 100 things indians fans should know & do before they die\n",
      "producer : triumph books\n",
      "price : 11.99\n",
      "\n",
      "name : 100 things royals fans should know & do before they die\n",
      "producer : triumph books\n",
      "price : 11.99\n",
      "\n",
      "56/10 positive, 103/10 negative\n",
      "Do these records refer to the same thing?\n",
      "(y)es / (n)o / (u)nsure / (f)inished / (p)revious\n"
     ]
    },
    {
     "name": "stdout",
     "output_type": "stream",
     "text": [
      "n\n"
     ]
    },
    {
     "name": "stderr",
     "output_type": "stream",
     "text": [
      "name : road biking(tm) florida\n",
      "producer : falcon guides\n",
      "price : 15.99\n",
      "\n",
      "name : road biking(tm) ohio\n",
      "producer : falcon guides\n",
      "price : 15.99\n",
      "\n",
      "56/10 positive, 104/10 negative\n",
      "Do these records refer to the same thing?\n",
      "(y)es / (n)o / (u)nsure / (f)inished / (p)revious\n"
     ]
    },
    {
     "name": "stdout",
     "output_type": "stream",
     "text": [
      "n\n"
     ]
    },
    {
     "name": "stderr",
     "output_type": "stream",
     "text": [
      "name : gun digest's defensive handgun loading eshort\n",
      "producer : f+w media\n",
      "price : 1.5\n",
      "\n",
      "name : gun digest's defensive handgun drills & techniques collection eshort\n",
      "producer : f+w media\n",
      "price : 2.99\n",
      "\n",
      "56/10 positive, 105/10 negative\n",
      "Do these records refer to the same thing?\n",
      "(y)es / (n)o / (u)nsure / (f)inished / (p)revious\n"
     ]
    },
    {
     "name": "stdout",
     "output_type": "stream",
     "text": [
      "u\n"
     ]
    },
    {
     "name": "stderr",
     "output_type": "stream",
     "text": [
      "name : 100 things cubs fans should know & do before they die\n",
      "producer : triumph books\n",
      "price : 11.99\n",
      "\n",
      "name : 100 things buckeyes fans should know & do before they die\n",
      "producer : triumph books\n",
      "price : 11.99\n",
      "\n",
      "56/10 positive, 105/10 negative\n",
      "Do these records refer to the same thing?\n",
      "(y)es / (n)o / (u)nsure / (f)inished / (p)revious\n"
     ]
    },
    {
     "name": "stdout",
     "output_type": "stream",
     "text": [
      "n\n"
     ]
    },
    {
     "name": "stderr",
     "output_type": "stream",
     "text": [
      "name : 100 things braves fans should know & do before they die\n",
      "producer : triumph books\n",
      "price : 11.99\n",
      "\n",
      "name : 100 things 49ers fans should know & do before they die\n",
      "producer : triumph books\n",
      "price : 14.99\n",
      "\n",
      "56/10 positive, 106/10 negative\n",
      "Do these records refer to the same thing?\n",
      "(y)es / (n)o / (u)nsure / (f)inished / (p)revious\n"
     ]
    },
    {
     "name": "stdout",
     "output_type": "stream",
     "text": [
      "n\n"
     ]
    },
    {
     "name": "stderr",
     "output_type": "stream",
     "text": [
      "name : usain bolt\n",
      "producer : sportsbooks\n",
      "price : 7.0\n",
      "\n",
      "name : usain bolt\n",
      "producer : arcadia books limited\n",
      "price : 3.99\n",
      "\n",
      "56/10 positive, 107/10 negative\n",
      "Do these records refer to the same thing?\n",
      "(y)es / (n)o / (u)nsure / (f)inished / (p)revious\n"
     ]
    },
    {
     "name": "stdout",
     "output_type": "stream",
     "text": [
      "n\n"
     ]
    },
    {
     "name": "stderr",
     "output_type": "stream",
     "text": [
      "name : boxing\n",
      "producer : elsevier science\n",
      "price : 290.0\n",
      "\n",
      "name : boxing\n",
      "producer : crowood\n",
      "price : 11.65\n",
      "\n",
      "56/10 positive, 108/10 negative\n",
      "Do these records refer to the same thing?\n",
      "(y)es / (n)o / (u)nsure / (f)inished / (p)revious\n"
     ]
    },
    {
     "name": "stdout",
     "output_type": "stream",
     "text": [
      "n\n"
     ]
    },
    {
     "name": "stderr",
     "output_type": "stream",
     "text": [
      "name : 100 things blues fans should know & do before they die\n",
      "producer : triumph books\n",
      "price : 11.99\n",
      "\n",
      "name : 100 things giants fans should know & do before they die\n",
      "producer : triumph books\n",
      "price : 14.95\n",
      "\n",
      "56/10 positive, 109/10 negative\n",
      "Do these records refer to the same thing?\n",
      "(y)es / (n)o / (u)nsure / (f)inished / (p)revious\n"
     ]
    },
    {
     "name": "stdout",
     "output_type": "stream",
     "text": [
      "n\n"
     ]
    },
    {
     "name": "stderr",
     "output_type": "stream",
     "text": [
      "name : the cycling anthology: volume five\n",
      "producer : random house\n",
      "price : 14.38\n",
      "\n",
      "name : the cycling anthology: volume one\n",
      "producer : random house\n",
      "price : 14.38\n",
      "\n",
      "56/10 positive, 110/10 negative\n",
      "Do these records refer to the same thing?\n",
      "(y)es / (n)o / (u)nsure / (f)inished / (p)revious\n"
     ]
    },
    {
     "name": "stdout",
     "output_type": "stream",
     "text": [
      "n\n"
     ]
    },
    {
     "name": "stderr",
     "output_type": "stream",
     "text": [
      "name : 100 things bills fans should know & do before they die\n",
      "producer : triumph books\n",
      "price : 11.99\n",
      "\n",
      "name : 100 things kansas fans should know & do before they die\n",
      "producer : triumph books\n",
      "price : 11.99\n",
      "\n",
      "56/10 positive, 111/10 negative\n",
      "Do these records refer to the same thing?\n",
      "(y)es / (n)o / (u)nsure / (f)inished / (p)revious\n"
     ]
    },
    {
     "name": "stdout",
     "output_type": "stream",
     "text": [
      "n\n"
     ]
    },
    {
     "name": "stderr",
     "output_type": "stream",
     "text": [
      "name : 100 things penguins fans should know & do before they die\n",
      "producer : triumph books\n",
      "price : 11.99\n",
      "\n",
      "name : 100 things patriots fans should know & do before they die\n",
      "producer : triumph books\n",
      "price : 11.99\n",
      "\n",
      "56/10 positive, 112/10 negative\n",
      "Do these records refer to the same thing?\n",
      "(y)es / (n)o / (u)nsure / (f)inished / (p)revious\n"
     ]
    },
    {
     "name": "stdout",
     "output_type": "stream",
     "text": [
      "n\n"
     ]
    },
    {
     "name": "stderr",
     "output_type": "stream",
     "text": [
      "name : 100 things patriots fans should know & do before they die\n",
      "producer : triumph books\n",
      "price : 11.99\n",
      "\n",
      "name : 100 things mariners fans should know & do before they die\n",
      "producer : triumph books\n",
      "price : 11.99\n",
      "\n",
      "56/10 positive, 113/10 negative\n",
      "Do these records refer to the same thing?\n",
      "(y)es / (n)o / (u)nsure / (f)inished / (p)revious\n"
     ]
    },
    {
     "name": "stdout",
     "output_type": "stream",
     "text": [
      "n\n"
     ]
    },
    {
     "name": "stderr",
     "output_type": "stream",
     "text": [
      "name : 100 things royals fans should know & do before they die\n",
      "producer : triumph books\n",
      "price : 11.99\n",
      "\n",
      "name : 100 things cardinals fans should know & do before they die\n",
      "producer : triumph books\n",
      "price : 11.99\n",
      "\n",
      "56/10 positive, 114/10 negative\n",
      "Do these records refer to the same thing?\n",
      "(y)es / (n)o / (u)nsure / (f)inished / (p)revious\n"
     ]
    },
    {
     "name": "stdout",
     "output_type": "stream",
     "text": [
      "n\n"
     ]
    },
    {
     "name": "stderr",
     "output_type": "stream",
     "text": [
      "name : last breath\n",
      "producer : random house publishing group\n",
      "price : 11.99\n",
      "\n",
      "name : last breath\n",
      "producer : simon & schuster\n",
      "price : 7.99\n",
      "\n",
      "56/10 positive, 115/10 negative\n",
      "Do these records refer to the same thing?\n",
      "(y)es / (n)o / (u)nsure / (f)inished / (p)revious\n"
     ]
    },
    {
     "name": "stdout",
     "output_type": "stream",
     "text": [
      "n\n"
     ]
    },
    {
     "name": "stderr",
     "output_type": "stream",
     "text": [
      "name : sports journalism\n",
      "producer : sage publications\n",
      "price : 42.0\n",
      "\n",
      "name : sports journalism\n",
      "producer : taylor and francis\n",
      "price : 61.95\n",
      "\n",
      "56/10 positive, 116/10 negative\n",
      "Do these records refer to the same thing?\n",
      "(y)es / (n)o / (u)nsure / (f)inished / (p)revious\n"
     ]
    },
    {
     "name": "stdout",
     "output_type": "stream",
     "text": [
      "n\n"
     ]
    },
    {
     "name": "stderr",
     "output_type": "stream",
     "text": [
      "name : capoeira\n",
      "producer : taylor and francis\n",
      "price : 84.95\n",
      "\n",
      "name : capoeira\n",
      "producer : north atlantic books\n",
      "price : 15.95\n",
      "\n",
      "56/10 positive, 117/10 negative\n",
      "Do these records refer to the same thing?\n",
      "(y)es / (n)o / (u)nsure / (f)inished / (p)revious\n"
     ]
    },
    {
     "name": "stdout",
     "output_type": "stream",
     "text": [
      "n\n"
     ]
    },
    {
     "name": "stderr",
     "output_type": "stream",
     "text": [
      "name : the encyclopaedia of sports medicine: an ioc medical commission publication, strength and power in sport\n",
      "producer : wiley\n",
      "price : 219.95\n",
      "\n",
      "name : the encyclopaedia of sports medicine: an ioc medical commission publication, women in sport\n",
      "producer : wiley\n",
      "price : 255.95\n",
      "\n",
      "56/10 positive, 118/10 negative\n",
      "Do these records refer to the same thing?\n",
      "(y)es / (n)o / (u)nsure / (f)inished / (p)revious\n"
     ]
    },
    {
     "name": "stdout",
     "output_type": "stream",
     "text": [
      "u\n"
     ]
    },
    {
     "name": "stderr",
     "output_type": "stream",
     "text": [
      "name : 100 things red sox fans should know & do before they die\n",
      "producer : triumph books\n",
      "price : 11.99\n",
      "\n",
      "name : 100 things rockies fans should know & do before they die\n",
      "producer : triumph books\n",
      "price : 11.99\n",
      "\n",
      "56/10 positive, 118/10 negative\n",
      "Do these records refer to the same thing?\n",
      "(y)es / (n)o / (u)nsure / (f)inished / (p)revious\n"
     ]
    },
    {
     "name": "stdout",
     "output_type": "stream",
     "text": [
      "n\n"
     ]
    },
    {
     "name": "stderr",
     "output_type": "stream",
     "text": [
      "name : 100 things broncos fans should know & do before they die\n",
      "producer : triumph books\n",
      "price : 11.99\n",
      "\n",
      "name : 100 things falcons fans should know & do before they die\n",
      "producer : triumph books\n",
      "price : 11.99\n",
      "\n",
      "56/10 positive, 119/10 negative\n",
      "Do these records refer to the same thing?\n",
      "(y)es / (n)o / (u)nsure / (f)inished / (p)revious\n"
     ]
    },
    {
     "name": "stdout",
     "output_type": "stream",
     "text": [
      "n\n"
     ]
    },
    {
     "name": "stderr",
     "output_type": "stream",
     "text": [
      "name : 100 things brewers fans should know & do before they die\n",
      "producer : triumph books\n",
      "price : 11.99\n",
      "\n",
      "name : 100 things rockies fans should know & do before they die\n",
      "producer : triumph books\n",
      "price : 11.99\n",
      "\n",
      "56/10 positive, 120/10 negative\n",
      "Do these records refer to the same thing?\n",
      "(y)es / (n)o / (u)nsure / (f)inished / (p)revious\n"
     ]
    },
    {
     "name": "stdout",
     "output_type": "stream",
     "text": [
      "n\n"
     ]
    },
    {
     "name": "stderr",
     "output_type": "stream",
     "text": [
      "name : 100 things colts fans should know & do before they die\n",
      "producer : triumph books\n",
      "price : 11.99\n",
      "\n",
      "name : 100 things panthers fans should know & do before they die\n",
      "producer : triumph books\n",
      "price : 11.99\n",
      "\n",
      "56/10 positive, 121/10 negative\n",
      "Do these records refer to the same thing?\n",
      "(y)es / (n)o / (u)nsure / (f)inished / (p)revious\n"
     ]
    },
    {
     "name": "stdout",
     "output_type": "stream",
     "text": [
      "n\n"
     ]
    },
    {
     "name": "stderr",
     "output_type": "stream",
     "text": [
      "name : 100 things blues fans should know & do before they die\n",
      "producer : triumph books\n",
      "price : 11.99\n",
      "\n",
      "name : 100 things steelers fans should know & do before they die\n",
      "producer : triumph books\n",
      "price : 11.99\n",
      "\n",
      "56/10 positive, 122/10 negative\n",
      "Do these records refer to the same thing?\n",
      "(y)es / (n)o / (u)nsure / (f)inished / (p)revious\n"
     ]
    },
    {
     "name": "stdout",
     "output_type": "stream",
     "text": [
      "n\n"
     ]
    },
    {
     "name": "stderr",
     "output_type": "stream",
     "text": [
      "name : 100 things wildcats fans should know & do before they die\n",
      "producer : triumph books\n",
      "price : 11.99\n",
      "\n",
      "name : 100 things bulls fans should know & do before they die\n",
      "producer : triumph books\n",
      "price : 11.99\n",
      "\n",
      "56/10 positive, 123/10 negative\n",
      "Do these records refer to the same thing?\n",
      "(y)es / (n)o / (u)nsure / (f)inished / (p)revious\n"
     ]
    },
    {
     "name": "stdout",
     "output_type": "stream",
     "text": [
      "n\n"
     ]
    },
    {
     "name": "stderr",
     "output_type": "stream",
     "text": [
      "name : gun digest's the future of defensive handgun training skills eshort\n",
      "producer : f+w media\n",
      "price : 1.5\n",
      "\n",
      "name : gun digest's defensive handgun training skills definitions eshort\n",
      "producer : f+w media\n",
      "price : 1.5\n",
      "\n",
      "56/10 positive, 124/10 negative\n",
      "Do these records refer to the same thing?\n",
      "(y)es / (n)o / (u)nsure / (f)inished / (p)revious\n"
     ]
    },
    {
     "name": "stdout",
     "output_type": "stream",
     "text": [
      "y\n"
     ]
    },
    {
     "name": "stderr",
     "output_type": "stream",
     "text": [
      "name : shooter's bible\n",
      "producer : skyhorse publishing\n",
      "price : 29.95\n",
      "\n",
      "name : shooter's bible\n",
      "producer : skyhorse publishing\n",
      "price : 29.99\n",
      "\n",
      "57/10 positive, 124/10 negative\n",
      "Do these records refer to the same thing?\n",
      "(y)es / (n)o / (u)nsure / (f)inished / (p)revious\n"
     ]
    },
    {
     "name": "stdout",
     "output_type": "stream",
     "text": [
      "y\n"
     ]
    },
    {
     "name": "stderr",
     "output_type": "stream",
     "text": [
      "name : 100 things duke fans should know & do before they die\n",
      "producer : triumph books\n",
      "price : 0.0\n",
      "\n",
      "name : 100 things raiders fans should know & do before they die\n",
      "producer : triumph books\n",
      "price : 11.99\n",
      "\n",
      "58/10 positive, 124/10 negative\n",
      "Do these records refer to the same thing?\n",
      "(y)es / (n)o / (u)nsure / (f)inished / (p)revious\n"
     ]
    },
    {
     "name": "stdout",
     "output_type": "stream",
     "text": [
      "n\n"
     ]
    },
    {
     "name": "stderr",
     "output_type": "stream",
     "text": [
      "name : 100 things utes fans should know & do before they die\n",
      "producer : triumph books\n",
      "price : 11.99\n",
      "\n",
      "name : 100 things dodgers fans should know & do before they die\n",
      "producer : triumph books\n",
      "price : 11.99\n",
      "\n",
      "58/10 positive, 125/10 negative\n",
      "Do these records refer to the same thing?\n",
      "(y)es / (n)o / (u)nsure / (f)inished / (p)revious\n"
     ]
    },
    {
     "name": "stdout",
     "output_type": "stream",
     "text": [
      "n\n"
     ]
    },
    {
     "name": "stderr",
     "output_type": "stream",
     "text": [
      "name : 100 things indians fans should know & do before they die\n",
      "producer : triumph books\n",
      "price : 11.99\n",
      "\n",
      "name : 100 things cardinals fans should know & do before they die\n",
      "producer : triumph books\n",
      "price : 11.99\n",
      "\n",
      "58/10 positive, 126/10 negative\n",
      "Do these records refer to the same thing?\n",
      "(y)es / (n)o / (u)nsure / (f)inished / (p)revious\n"
     ]
    },
    {
     "name": "stdout",
     "output_type": "stream",
     "text": [
      "n\n"
     ]
    },
    {
     "name": "stderr",
     "output_type": "stream",
     "text": [
      "name : if these walls could talk: dallas cowboys\n",
      "producer : triumph books\n",
      "price : 11.99\n",
      "\n",
      "name : if these walls could talk: philadelphia phillies\n",
      "producer : triumph books\n",
      "price : 11.99\n",
      "\n",
      "58/10 positive, 127/10 negative\n",
      "Do these records refer to the same thing?\n",
      "(y)es / (n)o / (u)nsure / (f)inished / (p)revious\n"
     ]
    },
    {
     "name": "stdout",
     "output_type": "stream",
     "text": [
      "n\n"
     ]
    },
    {
     "name": "stderr",
     "output_type": "stream",
     "text": [
      "name : 100 things giants fans should know & do before they die\n",
      "producer : triumph books\n",
      "price : 14.95\n",
      "\n",
      "name : 100 things mariners fans should know & do before they die\n",
      "producer : triumph books\n",
      "price : 11.99\n",
      "\n",
      "58/10 positive, 128/10 negative\n",
      "Do these records refer to the same thing?\n",
      "(y)es / (n)o / (u)nsure / (f)inished / (p)revious\n"
     ]
    },
    {
     "name": "stdout",
     "output_type": "stream",
     "text": [
      "n\n"
     ]
    },
    {
     "name": "stderr",
     "output_type": "stream",
     "text": [
      "name : win forever\n",
      "producer : penguin publishing group\n",
      "price : 12.99\n",
      "\n",
      "name : win forever\n",
      "producer : penguin group us\n",
      "price : 18.99\n",
      "\n",
      "58/10 positive, 129/10 negative\n",
      "Do these records refer to the same thing?\n",
      "(y)es / (n)o / (u)nsure / (f)inished / (p)revious\n"
     ]
    },
    {
     "name": "stdout",
     "output_type": "stream",
     "text": [
      "y\n"
     ]
    },
    {
     "name": "stderr",
     "output_type": "stream",
     "text": [
      "name : seeing red\n",
      "producer : harpercollins publishers\n",
      "price : 8.99\n",
      "\n",
      "name : seeing red\n",
      "producer : mainstream publishing\n",
      "price : 12.78\n",
      "\n",
      "59/10 positive, 129/10 negative\n",
      "Do these records refer to the same thing?\n",
      "(y)es / (n)o / (u)nsure / (f)inished / (p)revious\n"
     ]
    },
    {
     "name": "stdout",
     "output_type": "stream",
     "text": [
      "u\n"
     ]
    },
    {
     "name": "stderr",
     "output_type": "stream",
     "text": [
      "name : fitness boxing\n",
      "producer : crowood\n",
      "price : 18.94\n",
      "\n",
      "name : fitness boxing\n",
      "producer : meyer & meyer\n",
      "price : 13.35\n",
      "\n",
      "59/10 positive, 129/10 negative\n",
      "Do these records refer to the same thing?\n",
      "(y)es / (n)o / (u)nsure / (f)inished / (p)revious\n"
     ]
    },
    {
     "name": "stdout",
     "output_type": "stream",
     "text": [
      "n\n"
     ]
    },
    {
     "name": "stderr",
     "output_type": "stream",
     "text": [
      "name : game over\n",
      "producer : atria books\n",
      "price : 13.99\n",
      "\n",
      "name : game over\n",
      "producer : the new press\n",
      "price : 18.95\n",
      "\n",
      "59/10 positive, 130/10 negative\n",
      "Do these records refer to the same thing?\n",
      "(y)es / (n)o / (u)nsure / (f)inished / (p)revious\n"
     ]
    },
    {
     "name": "stdout",
     "output_type": "stream",
     "text": [
      "n\n"
     ]
    },
    {
     "name": "stderr",
     "output_type": "stream",
     "text": [
      "name : total recall\n",
      "producer : simon & schuster\n",
      "price : 14.99\n",
      "\n",
      "name : total recall\n",
      "producer : quiller\n",
      "price : 19.99\n",
      "\n",
      "59/10 positive, 131/10 negative\n",
      "Do these records refer to the same thing?\n",
      "(y)es / (n)o / (u)nsure / (f)inished / (p)revious\n"
     ]
    },
    {
     "name": "stdout",
     "output_type": "stream",
     "text": [
      "f\n"
     ]
    },
    {
     "name": "stderr",
     "output_type": "stream",
     "text": [
      "Finished labeling\n"
     ]
    }
   ],
   "source": [
    "dedupe.consoleLabel(deduper)"
   ]
  },
  {
   "cell_type": "code",
   "execution_count": 72,
   "metadata": {},
   "outputs": [
    {
     "name": "stderr",
     "output_type": "stream",
     "text": [
      "INFO:rlr.crossvalidation:using cross validation to find optimum alpha...\n",
      "INFO:rlr.crossvalidation:optimum alpha: 0.100000, score 0.6341124584163941\n",
      "INFO:dedupe.training:Final predicate set:\n",
      "INFO:dedupe.training:(SimplePredicate: (wholeFieldPredicate, producer), TfidfTextCanopyPredicate: (0.6, name))\n",
      "INFO:dedupe.training:(PartialIndexLevenshteinCanopyPredicate: (4, name, CorporationName), SimplePredicate: (oneGramFingerprint, name))\n",
      "INFO:dedupe.training:(SimplePredicate: (oneGramFingerprint, name), SimplePredicate: (wholeFieldPredicate, price))\n"
     ]
    }
   ],
   "source": [
    "deduper.train()"
   ]
  },
  {
   "cell_type": "code",
   "execution_count": 73,
   "metadata": {},
   "outputs": [],
   "source": [
    "with open(training_file, 'w') as tf:\n",
    "    deduper.writeTraining(tf)"
   ]
  },
  {
   "cell_type": "code",
   "execution_count": 74,
   "metadata": {},
   "outputs": [],
   "source": [
    "with open(settings_file, 'wb') as sf:\n",
    "    deduper.writeSettings(sf)"
   ]
  },
  {
   "cell_type": "code",
   "execution_count": 75,
   "metadata": {},
   "outputs": [
    {
     "name": "stderr",
     "output_type": "stream",
     "text": [
      "INFO:dedupe.canopy_index:Removing stop word and\n",
      "INFO:dedupe.canopy_index:Removing stop word the\n",
      "INFO:dedupe.canopy_index:Removing stop word of\n",
      "INFO:dedupe.blocking:10000, 45.9522732 seconds\n",
      "INFO:dedupe.api:Maximum expected recall and precision\n",
      "INFO:dedupe.api:recall: 0.676\n",
      "INFO:dedupe.api:precision: 0.548\n",
      "INFO:dedupe.api:With threshold: 0.303\n"
     ]
    },
    {
     "data": {
      "text/plain": [
       "0.3033746"
      ]
     },
     "execution_count": 75,
     "metadata": {},
     "output_type": "execute_result"
    }
   ],
   "source": [
    "threshold = deduper.threshold(data_d, recall_weight=1)\n",
    "threshold"
   ]
  },
  {
   "cell_type": "code",
   "execution_count": 76,
   "metadata": {
    "scrolled": true
   },
   "outputs": [
    {
     "name": "stderr",
     "output_type": "stream",
     "text": [
      "INFO:dedupe.canopy_index:Removing stop word and\n",
      "INFO:dedupe.canopy_index:Removing stop word the\n",
      "INFO:dedupe.canopy_index:Removing stop word of\n",
      "INFO:dedupe.blocking:10000, 47.4198362 seconds\n"
     ]
    },
    {
     "name": "stdout",
     "output_type": "stream",
     "text": [
      "# duplicate sets 327\n"
     ]
    }
   ],
   "source": [
    "clustered_dupes = deduper.match(data_d, threshold)\n",
    "print('# duplicate sets', len(clustered_dupes))"
   ]
  },
  {
   "cell_type": "code",
   "execution_count": 80,
   "metadata": {},
   "outputs": [],
   "source": [
    "for key, values in data_d.items():\n",
    "    values['price'] = str(values['price']) "
   ]
  },
  {
   "cell_type": "code",
   "execution_count": 81,
   "metadata": {},
   "outputs": [],
   "source": [
    "cluster_membership = {}\n",
    "cluster_id = 0\n",
    "for (cluster_id, cluster) in enumerate(clustered_dupes):\n",
    "    id_set, scores = cluster\n",
    "    cluster_d = [data_d[c] for c in id_set]\n",
    "    canonical_rep = dedupe.canonicalize(cluster_d)\n",
    "    for record_id, score in zip(id_set, scores):\n",
    "        cluster_membership[record_id] = {\n",
    "            \"cluster id\" : cluster_id,\n",
    "            \"canonical representation\" : canonical_rep,\n",
    "            \"confidence\": score\n",
    "        }"
   ]
  },
  {
   "cell_type": "code",
   "execution_count": 84,
   "metadata": {},
   "outputs": [],
   "source": [
    "singleton_id = cluster_id + 1\n",
    "\n",
    "with open(output_file, 'w') as f_output, open(input_file) as f_input:\n",
    "    writer = csv.writer(f_output)\n",
    "    reader = csv.reader(f_input)\n",
    "\n",
    "    heading_row = next(reader)\n",
    "    heading_row.insert(0, 'confidence_score')\n",
    "    heading_row.insert(0, 'Cluster ID')\n",
    "    canonical_keys = canonical_rep.keys()\n",
    "    for key in canonical_keys:\n",
    "        heading_row.append('canonical_' + key)\n",
    "\n",
    "    writer.writerow(heading_row)\n",
    "\n",
    "    for row in reader:\n",
    "        row_id = int(row[0])\n",
    "        if row_id in cluster_membership:\n",
    "            cluster_id = cluster_membership[row_id][\"cluster id\"]\n",
    "            canonical_rep = cluster_membership[row_id][\"canonical representation\"]\n",
    "            row.insert(0, cluster_membership[row_id]['confidence'])\n",
    "            row.insert(0, cluster_id)\n",
    "            for key in canonical_keys:\n",
    "                row.append(canonical_rep[key].encode('utf8'))\n",
    "        else:\n",
    "            row.insert(0, None)\n",
    "            row.insert(0, singleton_id)\n",
    "            singleton_id += 1\n",
    "            for key in canonical_keys:\n",
    "                row.append(None)\n",
    "        writer.writerow(row)"
   ]
  },
  {
   "cell_type": "code",
   "execution_count": 91,
   "metadata": {},
   "outputs": [],
   "source": [
    "ebooks1_output = pd.read_csv('ebooks1_output2.csv', sep=',', quotechar='\"')"
   ]
  },
  {
   "cell_type": "code",
   "execution_count": 93,
   "metadata": {},
   "outputs": [
    {
     "data": {
      "text/plain": [
       "Index(['Cluster ID', 'confidence_score', 'Unnamed: 2', 'Id', 'name', 'description', 'producer', 'price', 'source', 'canonical_', 'canonical_Id', 'canonical_name', 'canonical_description', 'canonical_producer', 'canonical_price', 'canonical_source'], dtype='object')"
      ]
     },
     "execution_count": 93,
     "metadata": {},
     "output_type": "execute_result"
    }
   ],
   "source": [
    "ebooks1_output.columns"
   ]
  },
  {
   "cell_type": "code",
   "execution_count": 94,
   "metadata": {},
   "outputs": [],
   "source": [
    "fields_to_compare = [\n",
    "    'Cluster ID',\n",
    "    'name',\n",
    "    'price',\n",
    "    'producer',\n",
    "    'confidence_score'\n",
    "]\n",
    "ebooks1_output = ebooks1_output[fields_to_compare]"
   ]
  },
  {
   "cell_type": "code",
   "execution_count": 96,
   "metadata": {},
   "outputs": [
    {
     "data": {
      "text/html": [
       "<div>\n",
       "<style scoped>\n",
       "    .dataframe tbody tr th:only-of-type {\n",
       "        vertical-align: middle;\n",
       "    }\n",
       "\n",
       "    .dataframe tbody tr th {\n",
       "        vertical-align: top;\n",
       "    }\n",
       "\n",
       "    .dataframe thead th {\n",
       "        text-align: right;\n",
       "    }\n",
       "</style>\n",
       "<table border=\"1\" class=\"dataframe\">\n",
       "  <thead>\n",
       "    <tr style=\"text-align: right;\">\n",
       "      <th></th>\n",
       "      <th>Cluster ID</th>\n",
       "      <th>name</th>\n",
       "      <th>price</th>\n",
       "      <th>producer</th>\n",
       "      <th>confidence_score</th>\n",
       "    </tr>\n",
       "  </thead>\n",
       "  <tbody>\n",
       "    <tr>\n",
       "      <th>16014</th>\n",
       "      <td>0</td>\n",
       "      <td>Steve Cooper's Australian Fishing Guide</td>\n",
       "      <td>17.50</td>\n",
       "      <td>Hardie Grant Books</td>\n",
       "      <td>0.64</td>\n",
       "    </tr>\n",
       "    <tr>\n",
       "      <th>19562</th>\n",
       "      <td>0</td>\n",
       "      <td>College Football's Most Memorable Games</td>\n",
       "      <td>29.95</td>\n",
       "      <td>McFarland &amp; Company, Inc., Publishers</td>\n",
       "      <td>0.64</td>\n",
       "    </tr>\n",
       "    <tr>\n",
       "      <th>19341</th>\n",
       "      <td>0</td>\n",
       "      <td>The Gun Digest Book of Firearms Assembly/Disassembly Part IV - Centerfire Rifles</td>\n",
       "      <td>24.99</td>\n",
       "      <td>F+W Media</td>\n",
       "      <td>0.64</td>\n",
       "    </tr>\n",
       "    <tr>\n",
       "      <th>19502</th>\n",
       "      <td>1</td>\n",
       "      <td>The Complete Sailor, Second Edition</td>\n",
       "      <td>18.00</td>\n",
       "      <td>McGraw-Hill Education</td>\n",
       "      <td>0.64</td>\n",
       "    </tr>\n",
       "    <tr>\n",
       "      <th>19474</th>\n",
       "      <td>1</td>\n",
       "      <td>Aussie Rules For Dummies</td>\n",
       "      <td>0.00</td>\n",
       "      <td>Wiley</td>\n",
       "      <td>0.64</td>\n",
       "    </tr>\n",
       "    <tr>\n",
       "      <th>16606</th>\n",
       "      <td>1</td>\n",
       "      <td>Heroes are Forever</td>\n",
       "      <td>12.78</td>\n",
       "      <td>Mainstream Publishing</td>\n",
       "      <td>0.64</td>\n",
       "    </tr>\n",
       "    <tr>\n",
       "      <th>19607</th>\n",
       "      <td>1</td>\n",
       "      <td>Death to the BCS: Totally Revised and Updated</td>\n",
       "      <td>17.99</td>\n",
       "      <td>Penguin Publishing Group</td>\n",
       "      <td>0.64</td>\n",
       "    </tr>\n",
       "    <tr>\n",
       "      <th>17881</th>\n",
       "      <td>2</td>\n",
       "      <td>The Last Days of Shea</td>\n",
       "      <td>9.99</td>\n",
       "      <td>Taylor Trade Publishing</td>\n",
       "      <td>0.64</td>\n",
       "    </tr>\n",
       "    <tr>\n",
       "      <th>19654</th>\n",
       "      <td>2</td>\n",
       "      <td>Ice Time</td>\n",
       "      <td>11.99</td>\n",
       "      <td>Crown/Archetype</td>\n",
       "      <td>0.64</td>\n",
       "    </tr>\n",
       "    <tr>\n",
       "      <th>19810</th>\n",
       "      <td>3</td>\n",
       "      <td>Have Glove, Will Travel</td>\n",
       "      <td>9.99</td>\n",
       "      <td>Crown/Archetype</td>\n",
       "      <td>0.64</td>\n",
       "    </tr>\n",
       "  </tbody>\n",
       "</table>\n",
       "</div>"
      ],
      "text/plain": [
       "       Cluster ID                                                                              name                price                               producer     confidence_score\n",
       "16014  0           Steve Cooper's Australian Fishing Guide                                                         17.50  Hardie Grant Books                                    0.64\n",
       "19562  0           College Football's Most Memorable Games                                                         29.95  McFarland & Company, Inc., Publishers                 0.64\n",
       "19341  0           The Gun Digest Book of Firearms Assembly/Disassembly Part IV - Centerfire Rifles                24.99  F+W Media                                             0.64\n",
       "19502  1           The Complete Sailor, Second Edition                                                             18.00  McGraw-Hill Education                                 0.64\n",
       "19474  1           Aussie Rules For Dummies                                                                         0.00  Wiley                                                 0.64\n",
       "16606  1           Heroes are Forever                                                                              12.78  Mainstream Publishing                                 0.64\n",
       "19607  1           Death to the BCS: Totally Revised and Updated                                                   17.99  Penguin Publishing Group                              0.64\n",
       "17881  2           The Last Days of Shea                                                                            9.99  Taylor Trade Publishing                               0.64\n",
       "19654  2           Ice Time                                                                                        11.99  Crown/Archetype                                       0.64\n",
       "19810  3           Have Glove, Will Travel                                                                          9.99  Crown/Archetype                                       0.64"
      ]
     },
     "execution_count": 96,
     "metadata": {},
     "output_type": "execute_result"
    }
   ],
   "source": [
    "ebooks1_output[ebooks1_output['confidence_score'] > 0.6].sort_values('Cluster ID').head(10)"
   ]
  },
  {
   "cell_type": "code",
   "execution_count": null,
   "metadata": {},
   "outputs": [],
   "source": []
  }
 ],
 "metadata": {
  "kernelspec": {
   "display_name": "Python 3",
   "language": "python",
   "name": "python3"
  },
  "language_info": {
   "codemirror_mode": {
    "name": "ipython",
    "version": 3
   },
   "file_extension": ".py",
   "mimetype": "text/x-python",
   "name": "python",
   "nbconvert_exporter": "python",
   "pygments_lexer": "ipython3",
   "version": "3.7.0"
  }
 },
 "nbformat": 4,
 "nbformat_minor": 2
}
