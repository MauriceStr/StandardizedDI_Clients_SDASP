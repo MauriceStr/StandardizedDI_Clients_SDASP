{
 "cells": [
  {
   "cell_type": "markdown",
   "metadata": {},
   "source": [
    "# Load Data"
   ]
  },
  {
   "cell_type": "code",
   "execution_count": 1,
   "metadata": {},
   "outputs": [],
   "source": [
    "import os\n",
    "import pandas as pd \n",
    "import numpy as np\n",
    "import logging\n",
    "import csv\n",
    "import re\n",
    "import logging\n",
    "import optparse\n",
    "\n",
    "import dedupe\n",
    "from unidecode import unidecode\n",
    "from itertools import product"
   ]
  },
  {
   "cell_type": "markdown",
   "metadata": {},
   "source": [
    "## Setup"
   ]
  },
  {
   "cell_type": "code",
   "execution_count": 2,
   "metadata": {},
   "outputs": [],
   "source": [
    "folder = r'/filepath_to_folder/'\n",
    "\n",
    "input_file = 'yellow_yelp_all_pypostal.csv'\n",
    "output_file = 'yellow_yelp_all_pypostal_output2.csv'\n",
    "settings_file = 'yellow_yelp_all_pypostal_learned_settings2'\n",
    "training_file = 'yellow_yelp_all_pypostal_training2.json'"
   ]
  },
  {
   "cell_type": "code",
   "execution_count": 3,
   "metadata": {},
   "outputs": [],
   "source": [
    "fp = os.path.join(folder, input_file)"
   ]
  },
  {
   "cell_type": "code",
   "execution_count": 4,
   "metadata": {},
   "outputs": [],
   "source": [
    "matches_file = os.path.join(folder, 'yellow_yelp_label.csv')"
   ]
  },
  {
   "cell_type": "code",
   "execution_count": 5,
   "metadata": {},
   "outputs": [],
   "source": [
    "log_level = logging.INFO\n",
    "log_level = logging.DEBUG\n",
    "logging.getLogger().setLevel(log_level)\n"
   ]
  },
  {
   "cell_type": "markdown",
   "metadata": {},
   "source": [
    "## Dataframe view"
   ]
  },
  {
   "cell_type": "code",
   "execution_count": 6,
   "metadata": {},
   "outputs": [],
   "source": [
    "input_df = pd.read_csv(fp, sep=',', quotechar='\"', dtype={'postalcode':'str'} )"
   ]
  },
  {
   "cell_type": "code",
   "execution_count": 7,
   "metadata": {
    "scrolled": true
   },
   "outputs": [
    {
     "data": {
      "text/plain": [
       "Index(['id', 'source', 'name', 'category', 'phone', 'city', 'postalcode',\n",
       "       'address', 'street', 'house_number', 'house'],\n",
       "      dtype='object')"
      ]
     },
     "execution_count": 7,
     "metadata": {},
     "output_type": "execute_result"
    }
   ],
   "source": [
    "input_df.columns"
   ]
  },
  {
   "cell_type": "code",
   "execution_count": 8,
   "metadata": {},
   "outputs": [],
   "source": [
    "def get_clean_postalcode(x):\n",
    "    \n",
    "    if x is not None:\n",
    "        subparts = str(x).split('.')\n",
    "        return subparts[0]\n",
    "    else:\n",
    "        return None"
   ]
  },
  {
   "cell_type": "code",
   "execution_count": 9,
   "metadata": {},
   "outputs": [],
   "source": [
    "input_df['postalcode'] = input_df['postalcode'].apply(lambda x: get_clean_postalcode(x))"
   ]
  },
  {
   "cell_type": "code",
   "execution_count": null,
   "metadata": {
    "scrolled": true
   },
   "outputs": [],
   "source": [
    "input_df.head(5)"
   ]
  },
  {
   "cell_type": "code",
   "execution_count": 10,
   "metadata": {},
   "outputs": [],
   "source": [
    "categories = list(input_df['category'].unique())\n",
    "categories = [x for x in categories if str(x) != 'nan']"
   ]
  },
  {
   "cell_type": "code",
   "execution_count": 11,
   "metadata": {},
   "outputs": [],
   "source": [
    "#category_corpus = input_df[['name', 'category']].drop_duplicates().to_dict(orient='records')\n",
    "category_corpus = input_df.drop_duplicates().to_dict(orient='records')"
   ]
  },
  {
   "cell_type": "code",
   "execution_count": 12,
   "metadata": {},
   "outputs": [
    {
     "data": {
      "text/plain": [
       "{'id': 1,\n",
       " 'source': 'yellow_pages',\n",
       " 'name': 'Tao Tao Restaurant',\n",
       " 'category': nan,\n",
       " 'phone': '(408) 736-3731',\n",
       " 'city': 'Sunnyvale ',\n",
       " 'postalcode': '94086',\n",
       " 'address': '175 S Murphy Ave',\n",
       " 'street': 's murphy ave',\n",
       " 'house_number': '175',\n",
       " 'house': nan}"
      ]
     },
     "execution_count": 12,
     "metadata": {},
     "output_type": "execute_result"
    }
   ],
   "source": [
    "category_corpus[0]"
   ]
  },
  {
   "cell_type": "markdown",
   "metadata": {},
   "source": [
    "# Dedupe\n"
   ]
  },
  {
   "cell_type": "markdown",
   "metadata": {},
   "source": [
    "## Import modules"
   ]
  },
  {
   "cell_type": "code",
   "execution_count": 15,
   "metadata": {},
   "outputs": [],
   "source": [
    "def pre_process(val):\n",
    "    \"\"\"\n",
    "    Do a little bit of data cleaning with the help of Unidecode and Regex.\n",
    "    Things like casing, extra spaces, quotes and new lines can be ignored.\n",
    "    \"\"\"\n",
    "    try:\n",
    "        val = re.sub('  +', ' ', val)\n",
    "        val = re.sub('\\n', ' ', val)\n",
    "        val = val.strip().strip('\"').strip(\"'\").lower().strip()\n",
    "        # If data is missing, indicate that by setting the value to `None`\n",
    "        if not val:\n",
    "            val = None\n",
    "    except Exception as e:\n",
    "        print(e)\n",
    "    return val"
   ]
  },
  {
   "cell_type": "code",
   "execution_count": 16,
   "metadata": {},
   "outputs": [],
   "source": [
    "def get_clean_data_dict(file_path):\n",
    "    data_d = {}\n",
    "    with open(fp) as f:\n",
    "        reader = csv.DictReader(f)\n",
    "        for row in reader:\n",
    "            clean_row = [(k, pre_process(v)) for (k, v) in row.items()]\n",
    "            row_id = int(row['id'])\n",
    "            data_d[row_id] = dict(clean_row)\n",
    "\n",
    "    return data_d"
   ]
  },
  {
   "cell_type": "markdown",
   "metadata": {},
   "source": [
    "### Get Data in needed format"
   ]
  },
  {
   "cell_type": "code",
   "execution_count": 20,
   "metadata": {},
   "outputs": [],
   "source": [
    "data_dict = get_clean_data_dict(fp)"
   ]
  },
  {
   "cell_type": "code",
   "execution_count": null,
   "metadata": {},
   "outputs": [],
   "source": [
    "data_dict"
   ]
  },
  {
   "cell_type": "markdown",
   "metadata": {},
   "source": [
    "### Define the Fields for dedupe\n"
   ]
  },
  {
   "cell_type": "code",
   "execution_count": null,
   "metadata": {},
   "outputs": [],
   "source": [
    "def sameOrNotComparator(field_1, field_2) :\n",
    "    if field_1 and field_2 :\n",
    "        if field_1 == field_2 :\n",
    "            return 0\n",
    "        else:\n",
    "            return 1"
   ]
  },
  {
   "cell_type": "code",
   "execution_count": 17,
   "metadata": {},
   "outputs": [],
   "source": [
    "fields = [\n",
    "    {'field' : 'name', 'type': 'Exact'},\n",
    "    {'field' : 'category', \n",
    "     'type': 'FuzzyCategorical',\n",
    "     'categories': categories,\n",
    "     'corpus': category_corpus,\n",
    "     'has missing' : True},\n",
    "    {'field' : 'name', 'type': 'String'},\n",
    "    {'field' : 'address', 'type': 'Address'},\n",
    "    {'field' : 'city', 'type': 'ShortString'},\n",
    "    {'field': 'name', 'variable name': 'name', 'type': 'String' },\n",
    "    {'field': 'postalcode', 'variable name': 'postalcode', 'type': 'Exact'},\n",
    "    {'field' : 'phone', 'type': 'String'},\n",
    "    {'field' : 'street', 'type': 'String', 'has missing' : True},\n",
    "    {'field' : 'house_number', 'type': 'Exists', 'has missing' : True},\n",
    "#    {'field' : 'house', 'type': 'String', 'has missing' : True},\n",
    "    \n",
    "]"
   ]
  },
  {
   "cell_type": "markdown",
   "metadata": {},
   "source": [
    "### Instantiate Dedupe"
   ]
  },
  {
   "cell_type": "code",
   "execution_count": 18,
   "metadata": {},
   "outputs": [],
   "source": [
    "deduper = dedupe.Dedupe(fields)"
   ]
  },
  {
   "cell_type": "code",
   "execution_count": 21,
   "metadata": {
    "scrolled": true
   },
   "outputs": [
    {
     "name": "stderr",
     "output_type": "stream",
     "text": [
      "INFO:dedupe.canopy_index:Removing stop word ar\n",
      "INFO:dedupe.canopy_index:Removing stop word ri\n",
      "INFO:dedupe.canopy_index:Removing stop word an\n",
      "INFO:dedupe.canopy_index:Removing stop word in\n",
      "INFO:dedupe.canopy_index:Removing stop word n \n",
      "INFO:dedupe.canopy_index:Removing stop word ra\n",
      "INFO:dedupe.canopy_index:Removing stop word  c\n",
      "INFO:dedupe.canopy_index:Removing stop word nt\n",
      "INFO:dedupe.canopy_index:Removing stop word  r\n",
      "INFO:dedupe.canopy_index:Removing stop word es\n",
      "INFO:dedupe.canopy_index:Removing stop word re\n",
      "INFO:dedupe.canopy_index:Removing stop word ta\n",
      "INFO:dedupe.canopy_index:Removing stop word  b\n",
      "INFO:dedupe.canopy_index:Removing stop word e \n",
      "INFO:dedupe.canopy_index:Removing stop word er\n",
      "INFO:dedupe.canopy_index:Removing stop word  s\n",
      "INFO:dedupe.canopy_index:Removing stop word s \n",
      "INFO:dedupe.canopy_index:Removing stop word ca\n",
      "INFO:dedupe.canopy_index:Removing stop word al\n",
      "INFO:dedupe.canopy_index:Removing stop word  6\n",
      "INFO:dedupe.canopy_index:Removing stop word  3\n",
      "INFO:dedupe.canopy_index:Removing stop word 50\n",
      "INFO:dedupe.canopy_index:Removing stop word  7\n",
      "INFO:dedupe.canopy_index:Removing stop word 14\n",
      "INFO:dedupe.canopy_index:Removing stop word 4 \n",
      "INFO:dedupe.canopy_index:Removing stop word 31\n",
      "INFO:dedupe.canopy_index:Removing stop word 21\n",
      "INFO:dedupe.canopy_index:Removing stop word 30\n",
      "INFO:dedupe.canopy_index:Removing stop word  2\n",
      "INFO:dedupe.canopy_index:Removing stop word 00\n",
      "INFO:dedupe.canopy_index:Removing stop word 91\n",
      "INFO:dedupe.canopy_index:Removing stop word 23\n",
      "INFO:dedupe.canopy_index:Removing stop word st\n",
      "INFO:dedupe.canopy_index:Removing stop word  c\n",
      "INFO:dedupe.canopy_index:Removing stop word  r\n",
      "INFO:dedupe.canopy_index:Removing stop word 5 \n",
      "INFO:dedupe.canopy_index:Removing stop word in\n",
      "INFO:dedupe.canopy_index:Removing stop word  s\n",
      "INFO:dedupe.canopy_index:Removing stop word 0 \n",
      "INFO:dedupe.canopy_index:Removing stop word n \n",
      "INFO:dedupe.canopy_index:Removing stop word 1 \n",
      "INFO:dedupe.canopy_index:Removing stop word e \n",
      "INFO:dedupe.canopy_index:Removing stop word  a\n",
      "INFO:dedupe.canopy_index:Removing stop word av\n",
      "INFO:dedupe.canopy_index:Removing stop word ve\n",
      "INFO:dedupe.canopy_index:Removing stop word s \n",
      "INFO:dedupe.canopy_index:Removing stop word ad\n",
      "INFO:dedupe.canopy_index:Removing stop word oa\n",
      "INFO:dedupe.canopy_index:Removing stop word ro\n",
      "INFO:dedupe.canopy_index:Removing stop word ar\n",
      "INFO:dedupe.canopy_index:Removing stop word er\n",
      "INFO:dedupe.canopy_index:Removing stop word en\n",
      "INFO:dedupe.canopy_index:Removing stop word te\n",
      "INFO:dedupe.canopy_index:Removing stop word on\n",
      "INFO:dedupe.canopy_index:Removing stop word a \n",
      "INFO:dedupe.canopy_index:Removing stop word st\n",
      "INFO:dedupe.canopy_index:Removing stop word  p\n",
      "INFO:dedupe.canopy_index:Removing stop word 0 \n",
      "INFO:dedupe.canopy_index:Removing stop word 65\n",
      "INFO:dedupe.canopy_index:Removing stop word 40\n",
      "INFO:dedupe.canopy_index:Removing stop word  w\n",
      "INFO:dedupe.canopy_index:Removing stop word st\n",
      "INFO:dedupe.canopy_index:Removing stop word  b\n",
      "INFO:dedupe.canopy_index:Removing stop word  n\n",
      "INFO:dedupe.training:Final predicate set:\n",
      "INFO:dedupe.training:(SimplePredicate: (hundredIntegersOddPredicate, name), SimplePredicate: (suffixArray, phone))\n"
     ]
    }
   ],
   "source": [
    "deduper.prepare_training(data_dict)"
   ]
  },
  {
   "cell_type": "code",
   "execution_count": 24,
   "metadata": {
    "scrolled": false
   },
   "outputs": [
    {
     "name": "stderr",
     "output_type": "stream",
     "text": [
      "name : olive garden italian restaurant\n",
      "category : None\n",
      "address : None\n",
      "city : None\n",
      "postalcode : nan\n",
      "phone : None\n",
      "street : None\n",
      "house_number : None\n",
      "house : None\n",
      "\n",
      "name : olive garden italian restaurant\n",
      "category : None\n",
      "address : None\n",
      "city : None\n",
      "postalcode : nan\n",
      "phone : None\n",
      "street : None\n",
      "house_number : None\n",
      "house : None\n",
      "\n",
      "0/10 positive, 0/10 negative\n",
      "Do these records refer to the same thing?\n",
      "(y)es / (n)o / (u)nsure / (f)inished\n"
     ]
    },
    {
     "name": "stdout",
     "output_type": "stream",
     "text": [
      "y\n"
     ]
    },
    {
     "name": "stderr",
     "output_type": "stream",
     "text": [
      "name : olive garden italian restaurant\n",
      "category : None\n",
      "address : None\n",
      "city : None\n",
      "postalcode : nan\n",
      "phone : None\n",
      "street : None\n",
      "house_number : None\n",
      "house : None\n",
      "\n",
      "name : olive garden italian restaurant\n",
      "category : None\n",
      "address : None\n",
      "city : None\n",
      "postalcode : nan\n",
      "phone : (218) 212-3793\n",
      "street : None\n",
      "house_number : None\n",
      "house : None\n",
      "\n",
      "1/10 positive, 0/10 negative\n",
      "Do these records refer to the same thing?\n",
      "(y)es / (n)o / (u)nsure / (f)inished / (p)revious\n"
     ]
    },
    {
     "name": "stdout",
     "output_type": "stream",
     "text": [
      "u\n"
     ]
    },
    {
     "name": "stderr",
     "output_type": "stream",
     "text": [
      "INFO:dedupe.training:Final predicate set:\n",
      "INFO:dedupe.training:(SimplePredicate: (twoGramFingerprint, name), SimplePredicate: (wholeFieldPredicate, postalcode))\n",
      "name : peter piper pizza\n",
      "category : None\n",
      "address : None\n",
      "city : None\n",
      "postalcode : nan\n",
      "phone : None\n",
      "street : None\n",
      "house_number : None\n",
      "house : None\n",
      "\n",
      "name : peter piper pizza\n",
      "category : None\n",
      "address : 120 s new rd\n",
      "city : waco\n",
      "postalcode : 76710\n",
      "phone : (254) 751-1212\n",
      "street : s new rd\n",
      "house_number : 120\n",
      "house : None\n",
      "\n",
      "1/10 positive, 0/10 negative\n",
      "Do these records refer to the same thing?\n",
      "(y)es / (n)o / (u)nsure / (f)inished / (p)revious\n"
     ]
    },
    {
     "name": "stdout",
     "output_type": "stream",
     "text": [
      "y\n"
     ]
    },
    {
     "name": "stderr",
     "output_type": "stream",
     "text": [
      "name : olive garden italian restaurant\n",
      "category : None\n",
      "address : None\n",
      "city : None\n",
      "postalcode : nan\n",
      "phone : None\n",
      "street : None\n",
      "house_number : None\n",
      "house : None\n",
      "\n",
      "name : olive garden italian restaurant\n",
      "category : None\n",
      "address : 3915 w war memorial dr\n",
      "city : peoria\n",
      "postalcode : 61615\n",
      "phone : (888) 901-7571\n",
      "street : w war memorial dr\n",
      "house_number : 3915\n",
      "house : None\n",
      "\n",
      "2/10 positive, 0/10 negative\n",
      "Do these records refer to the same thing?\n",
      "(y)es / (n)o / (u)nsure / (f)inished / (p)revious\n"
     ]
    },
    {
     "name": "stdout",
     "output_type": "stream",
     "text": [
      "y\n"
     ]
    },
    {
     "name": "stderr",
     "output_type": "stream",
     "text": [
      "INFO:dedupe.training:Final predicate set:\n",
      "INFO:dedupe.training:(SimplePredicate: (twoGramFingerprint, name), SimplePredicate: (wholeFieldPredicate, postalcode))\n",
      "INFO:dedupe.training:(SimplePredicate: (commonThreeTokens, name), TfidfNGramCanopyPredicate: (0.8, name))\n",
      "name : olive garden italian restaurant\n",
      "category : None\n",
      "address : None\n",
      "city : None\n",
      "postalcode : nan\n",
      "phone : None\n",
      "street : None\n",
      "house_number : None\n",
      "house : None\n",
      "\n",
      "name : olive garden italian restaurant\n",
      "category : None\n",
      "address : 2641 n maize rd\n",
      "city : wichita\n",
      "postalcode : 67205\n",
      "phone : (316) 512-7794\n",
      "street : n maize rd\n",
      "house_number : 2641\n",
      "house : None\n",
      "\n",
      "3/10 positive, 0/10 negative\n",
      "Do these records refer to the same thing?\n",
      "(y)es / (n)o / (u)nsure / (f)inished / (p)revious\n"
     ]
    },
    {
     "name": "stdout",
     "output_type": "stream",
     "text": [
      "n\n"
     ]
    },
    {
     "name": "stderr",
     "output_type": "stream",
     "text": [
      "INFO:dedupe.training:Final predicate set:\n",
      "INFO:dedupe.training:(ExistsPredicate: (Exists, house), SimplePredicate: (wholeFieldPredicate, name))\n",
      "name : premier smog\n",
      "category : None\n",
      "address : serving mountain view and the surrounding area\n",
      "city : phone number\n",
      "postalcode : nan\n",
      "phone : None\n",
      "street : None\n",
      "house_number : None\n",
      "house : serving mountain view and the surrounding area\n",
      "\n",
      "name : premier entertainment professional mobile dj service\n",
      "category : None\n",
      "address : serving san diego and the surrounding area\n",
      "city : phone number\n",
      "postalcode : nan\n",
      "phone : None\n",
      "street : None\n",
      "house_number : None\n",
      "house : serving san diego and the surrounding area\n",
      "\n",
      "3/10 positive, 1/10 negative\n",
      "Do these records refer to the same thing?\n",
      "(y)es / (n)o / (u)nsure / (f)inished / (p)revious\n"
     ]
    },
    {
     "name": "stdout",
     "output_type": "stream",
     "text": [
      "n\n"
     ]
    },
    {
     "name": "stderr",
     "output_type": "stream",
     "text": [
      "name : stone werks big rock grille\n",
      "category : None\n",
      "address : 5807 worth parkway\n",
      "city : san antonio\n",
      "postalcode : 78257\n",
      "phone : (210) 558-9898\n",
      "street : worth parkway\n",
      "house_number : 5807\n",
      "house : None\n",
      "\n",
      "name : stone werks big rock grill\n",
      "category : None\n",
      "address : 5807 worth parkway\n",
      "city : san antonio\n",
      "postalcode : 78257\n",
      "phone : (210) 558-9898\n",
      "street : worth parkway\n",
      "house_number : 5807\n",
      "house : None\n",
      "\n",
      "3/10 positive, 2/10 negative\n",
      "Do these records refer to the same thing?\n",
      "(y)es / (n)o / (u)nsure / (f)inished / (p)revious\n"
     ]
    },
    {
     "name": "stdout",
     "output_type": "stream",
     "text": [
      "y\n"
     ]
    },
    {
     "name": "stderr",
     "output_type": "stream",
     "text": [
      "name : la fogata\n",
      "category : None\n",
      "address : 3025 e coast hwy\n",
      "city : corona del mar\n",
      "postalcode : 92625\n",
      "phone : (949) 673-2211\n",
      "street : e coast hwy\n",
      "house_number : 3025\n",
      "house : None\n",
      "\n",
      "name : la fogata restaurant\n",
      "category : None\n",
      "address : 8 harbor pointe dr\n",
      "city : corona del mar\n",
      "postalcode : 92625\n",
      "phone : (949) 673-2211\n",
      "street : harbor pointe dr\n",
      "house_number : 8\n",
      "house : None\n",
      "\n",
      "4/10 positive, 2/10 negative\n",
      "Do these records refer to the same thing?\n",
      "(y)es / (n)o / (u)nsure / (f)inished / (p)revious\n"
     ]
    },
    {
     "name": "stdout",
     "output_type": "stream",
     "text": [
      "y\n"
     ]
    },
    {
     "name": "stderr",
     "output_type": "stream",
     "text": [
      "INFO:dedupe.training:Final predicate set:\n",
      "INFO:dedupe.training:(ExistsPredicate: (Exists, house), LevenshteinCanopyPredicate: (1, name))\n",
      "name : koya\n",
      "category : None\n",
      "address : 508 e old elm rd\n",
      "city : highland park\n",
      "postalcode : 60035\n",
      "phone : (847) 266-0891\n",
      "street : e old elm rd\n",
      "house_number : 508\n",
      "house : None\n",
      "\n",
      "name : koya japan\n",
      "category : None\n",
      "address : 508 old elm road\n",
      "city : highland park\n",
      "postalcode : 60035\n",
      "phone : (847) 266-0891\n",
      "street : old elm road\n",
      "house_number : 508\n",
      "house : None\n",
      "\n",
      "5/10 positive, 2/10 negative\n",
      "Do these records refer to the same thing?\n",
      "(y)es / (n)o / (u)nsure / (f)inished / (p)revious\n"
     ]
    },
    {
     "name": "stdout",
     "output_type": "stream",
     "text": [
      "y\n"
     ]
    },
    {
     "name": "stderr",
     "output_type": "stream",
     "text": [
      "INFO:dedupe.training:Final predicate set:\n",
      "INFO:dedupe.training:(ExistsPredicate: (Exists, house), LevenshteinCanopyPredicate: (1, name))\n",
      "INFO:dedupe.training:(SimplePredicate: (commonThreeTokens, city), TfidfTextCanopyPredicate: (0.8, phone))\n",
      "name : jax salon - moved\n",
      "category : None\n",
      "address : 1158 chestnut st\n",
      "city : menlo park\n",
      "postalcode : 94025\n",
      "phone : (650) 323-4247\n",
      "street : chestnut st\n",
      "house_number : 1158\n",
      "house : None\n",
      "\n",
      "name : jax salon\n",
      "category : None\n",
      "address : 1610 el camino real\n",
      "city : menlo park\n",
      "postalcode : 94025\n",
      "phone : (650) 323-4247\n",
      "street : el camino real\n",
      "house_number : 1610\n",
      "house : None\n",
      "\n",
      "6/10 positive, 2/10 negative\n",
      "Do these records refer to the same thing?\n",
      "(y)es / (n)o / (u)nsure / (f)inished / (p)revious\n"
     ]
    },
    {
     "name": "stdout",
     "output_type": "stream",
     "text": [
      "y\n"
     ]
    },
    {
     "name": "stderr",
     "output_type": "stream",
     "text": [
      "INFO:dedupe.training:Final predicate set:\n",
      "INFO:dedupe.training:(ExistsPredicate: (Exists, house), LevenshteinCanopyPredicate: (1, name))\n",
      "INFO:dedupe.training:(SimplePredicate: (commonThreeTokens, city), TfidfTextCanopyPredicate: (0.8, phone))\n",
      "INFO:dedupe.training:(PartialPredicate: (commonTwoTokens, address, StreetName), TfidfNGramCanopyPredicate: (0.8, phone))\n",
      "name : starbucks\n",
      "category : None\n",
      "address : 2 n central ave\n",
      "city : saint louis\n",
      "postalcode : 63105\n",
      "phone : (314) 863-8070\n",
      "street : n central ave\n",
      "house_number : 2\n",
      "house : None\n",
      "\n",
      "name : starbucks coffee\n",
      "category : None\n",
      "address : 343 s kirkwood rd\n",
      "city : saint louis\n",
      "postalcode : 63122\n",
      "phone : (314) 821-2377\n",
      "street : s kirkwood rd\n",
      "house_number : 343\n",
      "house : None\n",
      "\n",
      "7/10 positive, 2/10 negative\n",
      "Do these records refer to the same thing?\n",
      "(y)es / (n)o / (u)nsure / (f)inished / (p)revious\n"
     ]
    },
    {
     "name": "stdout",
     "output_type": "stream",
     "text": [
      "n\n"
     ]
    },
    {
     "name": "stderr",
     "output_type": "stream",
     "text": [
      "INFO:dedupe.training:Final predicate set:\n",
      "INFO:dedupe.training:(ExistsPredicate: (Exists, house), SimplePredicate: (wholeFieldPredicate, name))\n",
      "INFO:dedupe.training:(SimplePredicate: (commonTwoTokens, city), SimplePredicate: (fingerprint, phone))\n",
      "name : pappasito's cantina\n",
      "category : None\n",
      "address : 11831 east freeway\n",
      "city : houston\n",
      "postalcode : 77029\n",
      "phone : (713) 455-8378\n",
      "street : east freeway\n",
      "house_number : 11831\n",
      "house : None\n",
      "\n",
      "name : pappasito's cantina\n",
      "category : None\n",
      "address : 1600 lamar st hilton americas\n",
      "city : houston\n",
      "postalcode : 77010\n",
      "phone : (713) 353-4400\n",
      "street : lamar st\n",
      "house_number : 1600\n",
      "house : hilton americas\n",
      "\n",
      "7/10 positive, 3/10 negative\n",
      "Do these records refer to the same thing?\n",
      "(y)es / (n)o / (u)nsure / (f)inished / (p)revious\n"
     ]
    },
    {
     "name": "stdout",
     "output_type": "stream",
     "text": [
      "n\n"
     ]
    },
    {
     "name": "stderr",
     "output_type": "stream",
     "text": [
      "name : stage 62 delicatessen restaurant\n",
      "category : None\n",
      "address : 9105 strada pl\n",
      "city : naples\n",
      "postalcode : 34108\n",
      "phone : (239) 597-2800\n",
      "street : strada pl\n",
      "house_number : 9105\n",
      "house : None\n",
      "\n",
      "name : stage 62 delicatessen & restaurant\n",
      "category : None\n",
      "address : 9105 strada pl ste 3125\n",
      "city : naples\n",
      "postalcode : 34108\n",
      "phone : (239) 597-2800\n",
      "street : strada pl\n",
      "house_number : 9105\n",
      "house : None\n",
      "\n",
      "7/10 positive, 4/10 negative\n",
      "Do these records refer to the same thing?\n",
      "(y)es / (n)o / (u)nsure / (f)inished / (p)revious\n"
     ]
    },
    {
     "name": "stdout",
     "output_type": "stream",
     "text": [
      "y\n"
     ]
    },
    {
     "name": "stderr",
     "output_type": "stream",
     "text": [
      "name : aaron's barbecue & grill\n",
      "category : None\n",
      "address : 403 harlin dr\n",
      "city : gainesville\n",
      "postalcode : 65655\n",
      "phone : (417) 679-0061\n",
      "street : harlin dr\n",
      "house_number : 403\n",
      "house : None\n",
      "\n",
      "name : aaron's barbecue and grill\n",
      "category : None\n",
      "address : 403 harlin dr\n",
      "city : gainesville\n",
      "postalcode : 65655\n",
      "phone : (417) 679-0061\n",
      "street : harlin dr\n",
      "house_number : 403\n",
      "house : None\n",
      "\n",
      "8/10 positive, 4/10 negative\n",
      "Do these records refer to the same thing?\n",
      "(y)es / (n)o / (u)nsure / (f)inished / (p)revious\n"
     ]
    },
    {
     "name": "stdout",
     "output_type": "stream",
     "text": [
      "y\n"
     ]
    },
    {
     "name": "stderr",
     "output_type": "stream",
     "text": [
      "INFO:dedupe.training:Final predicate set:\n",
      "INFO:dedupe.training:(ExistsPredicate: (Exists, house), SimplePredicate: (wholeFieldPredicate, name))\n",
      "INFO:dedupe.training:(SimplePredicate: (commonTwoTokens, city), SimplePredicate: (fingerprint, phone))\n",
      "INFO:dedupe.training:(SimplePredicate: (hundredIntegersOddPredicate, name), SimplePredicate: (suffixArray, phone))\n",
      "name : mykonos greek restaurant\n",
      "category : None\n",
      "address : 172 plandome road\n",
      "city : manhasset\n",
      "postalcode : 11030\n",
      "phone : (516) 365-0113\n",
      "street : plandome road\n",
      "house_number : 172\n",
      "house : None\n",
      "\n",
      "name : mykonos restaurant\n",
      "category : None\n",
      "address : 172 plandome road\n",
      "city : manhasset\n",
      "postalcode : 11030\n",
      "phone : (516) 365-0113\n",
      "street : plandome road\n",
      "house_number : 172\n",
      "house : None\n",
      "\n",
      "9/10 positive, 4/10 negative\n",
      "Do these records refer to the same thing?\n",
      "(y)es / (n)o / (u)nsure / (f)inished / (p)revious\n"
     ]
    },
    {
     "name": "stdout",
     "output_type": "stream",
     "text": [
      "y\n"
     ]
    },
    {
     "name": "stderr",
     "output_type": "stream",
     "text": [
      "INFO:dedupe.training:Final predicate set:\n",
      "INFO:dedupe.training:(ExistsPredicate: (Exists, house), SimplePredicate: (wholeFieldPredicate, name))\n",
      "INFO:dedupe.training:(SimplePredicate: (commonTwoTokens, city), SimplePredicate: (fingerprint, phone))\n",
      "INFO:dedupe.training:(SimplePredicate: (hundredIntegersOddPredicate, name), SimplePredicate: (suffixArray, phone))\n",
      "INFO:dedupe.training:(TfidfNGramCanopyPredicate: (0.8, address), TfidfNGramCanopyPredicate: (0.8, phone))\n",
      "name : bonsai japaness cuisine\n",
      "category : None\n",
      "address : 3401 el camino real\n",
      "city : atherton\n",
      "postalcode : 94027\n",
      "phone : (650) 367-6547\n",
      "street : el camino real\n",
      "house_number : 3401\n",
      "house : None\n",
      "\n",
      "name : bonsai japanese cuisine\n",
      "category : None\n",
      "address : 3401 w el camino real\n",
      "city : atherton\n",
      "postalcode : 94027\n",
      "phone : (650) 367-6547\n",
      "street : w el camino real\n",
      "house_number : 3401\n",
      "house : None\n",
      "\n",
      "10/10 positive, 4/10 negative\n",
      "Do these records refer to the same thing?\n",
      "(y)es / (n)o / (u)nsure / (f)inished / (p)revious\n"
     ]
    },
    {
     "name": "stdout",
     "output_type": "stream",
     "text": [
      "y\n"
     ]
    },
    {
     "name": "stderr",
     "output_type": "stream",
     "text": [
      "INFO:dedupe.training:Final predicate set:\n",
      "INFO:dedupe.training:(SimplePredicate: (fingerprint, address), TfidfNGramCanopyPredicate: (0.8, phone))\n",
      "INFO:dedupe.training:(SimplePredicate: (commonTwoTokens, city), SimplePredicate: (fingerprint, phone))\n",
      "INFO:dedupe.training:(ExistsPredicate: (Exists, house), SimplePredicate: (wholeFieldPredicate, name))\n",
      "INFO:dedupe.training:(SimplePredicate: (hundredIntegersOddPredicate, name), SimplePredicate: (suffixArray, phone))\n",
      "name : pappas bbq\n",
      "category : None\n",
      "address : 12420 east freeway\n",
      "city : houston\n",
      "postalcode : 77015\n",
      "phone : (832) 214-4078\n",
      "street : east freeway\n",
      "house_number : 12420\n",
      "house : None\n",
      "\n",
      "name : pappas bar-b-q\n",
      "category : None\n",
      "address : 12424 east freeway\n",
      "city : houston\n",
      "postalcode : 77015\n",
      "phone : (832) 214-4078\n",
      "street : east freeway\n",
      "house_number : 12424\n",
      "house : None\n",
      "\n",
      "11/10 positive, 4/10 negative\n",
      "Do these records refer to the same thing?\n",
      "(y)es / (n)o / (u)nsure / (f)inished / (p)revious\n"
     ]
    },
    {
     "name": "stdout",
     "output_type": "stream",
     "text": [
      "y\n"
     ]
    },
    {
     "name": "stderr",
     "output_type": "stream",
     "text": [
      "INFO:dedupe.training:Final predicate set:\n",
      "INFO:dedupe.training:(ExistsPredicate: (Exists, house), LevenshteinCanopyPredicate: (1, name))\n",
      "INFO:dedupe.training:(SimplePredicate: (commonTwoTokens, city), SimplePredicate: (fingerprint, phone))\n",
      "INFO:dedupe.training:(SimplePredicate: (fingerprint, address), TfidfNGramCanopyPredicate: (0.8, phone))\n",
      "name : culinaria the best of mexico\n",
      "category : None\n",
      "address : 15900 la cantera pkwy\n",
      "city : san antonio\n",
      "postalcode : 78256\n",
      "phone : (210) 582-6255\n",
      "street : la cantera pkwy\n",
      "house_number : 15900\n",
      "house : None\n",
      "\n",
      "name : culinaria 5k beer & wine run\n",
      "category : None\n",
      "address : 15900 la cantera pkwy\n",
      "city : san antonio\n",
      "postalcode : 78256\n",
      "phone : None\n",
      "street : la cantera pkwy\n",
      "house_number : 15900\n",
      "house : None\n",
      "\n",
      "12/10 positive, 4/10 negative\n",
      "Do these records refer to the same thing?\n",
      "(y)es / (n)o / (u)nsure / (f)inished / (p)revious\n"
     ]
    },
    {
     "name": "stdout",
     "output_type": "stream",
     "text": [
      "y\n"
     ]
    },
    {
     "name": "stderr",
     "output_type": "stream",
     "text": [
      "INFO:dedupe.training:Final predicate set:\n",
      "INFO:dedupe.training:(SimplePredicate: (firstTokenPredicate, city), SimplePredicate: (twoGramFingerprint, phone))\n",
      "INFO:dedupe.training:(ExistsPredicate: (Exists, house), SimplePredicate: (wholeFieldPredicate, name))\n",
      "name : chez marie\n",
      "category : None\n",
      "address : 633 old post road\n",
      "city : bedford\n",
      "postalcode : 10506\n",
      "phone : (914) 234-3992\n",
      "street : old post road\n",
      "house_number : 633\n",
      "house : None\n",
      "\n",
      "name : bedford playhouse apartments\n",
      "category : None\n",
      "address : 633 old post road\n",
      "city : bedford\n",
      "postalcode : 10506\n",
      "phone : None\n",
      "street : old post road\n",
      "house_number : 633\n",
      "house : None\n",
      "\n",
      "13/10 positive, 4/10 negative\n",
      "Do these records refer to the same thing?\n",
      "(y)es / (n)o / (u)nsure / (f)inished / (p)revious\n"
     ]
    },
    {
     "name": "stdout",
     "output_type": "stream",
     "text": [
      "n\n"
     ]
    },
    {
     "name": "stderr",
     "output_type": "stream",
     "text": [
      "INFO:dedupe.training:Final predicate set:\n",
      "INFO:dedupe.training:(SimplePredicate: (sameSevenCharStartPredicate, name), TfidfTextCanopyPredicate: (0.8, street))\n",
      "INFO:dedupe.training:(SimplePredicate: (commonTwoTokens, city), SimplePredicate: (fingerprint, phone))\n",
      "INFO:dedupe.training:(ExistsPredicate: (Exists, house), SimplePredicate: (wholeFieldPredicate, name))\n",
      "name : ihop\n",
      "category : None\n",
      "address : 1586 northern boulevard\n",
      "city : manhasset\n",
      "postalcode : 11030\n",
      "phone : (516) 365-2732\n",
      "street : northern boulevard\n",
      "house_number : 1586\n",
      "house : None\n",
      "\n",
      "name : international house of pancakes\n",
      "category : None\n",
      "address : 1586 northern boulevard\n",
      "city : manhasset\n",
      "postalcode : 11030\n",
      "phone : (516) 365-2732\n",
      "street : northern boulevard\n",
      "house_number : 1586\n",
      "house : None\n",
      "\n",
      "13/10 positive, 5/10 negative\n",
      "Do these records refer to the same thing?\n",
      "(y)es / (n)o / (u)nsure / (f)inished / (p)revious\n"
     ]
    },
    {
     "name": "stdout",
     "output_type": "stream",
     "text": [
      "y\n"
     ]
    },
    {
     "name": "stderr",
     "output_type": "stream",
     "text": [
      "name : ristorante aida\n",
      "category : None\n",
      "address : 130 almshouse road\n",
      "city : richboro\n",
      "postalcode : 18954\n",
      "phone : (215) 355-6660\n",
      "street : almshouse road\n",
      "house_number : 130\n",
      "house : None\n",
      "\n",
      "name : ristorante denicola\n",
      "category : None\n",
      "address : 130 almshouse rd ste 405\n",
      "city : richboro\n",
      "postalcode : 18954\n",
      "phone : (215) 355-9066\n",
      "street : almshouse rd\n",
      "house_number : 130\n",
      "house : None\n",
      "\n",
      "14/10 positive, 5/10 negative\n",
      "Do these records refer to the same thing?\n",
      "(y)es / (n)o / (u)nsure / (f)inished / (p)revious\n"
     ]
    },
    {
     "name": "stdout",
     "output_type": "stream",
     "text": [
      "n\n"
     ]
    },
    {
     "name": "stderr",
     "output_type": "stream",
     "text": [
      "INFO:dedupe.training:Final predicate set:\n",
      "INFO:dedupe.training:(SimplePredicate: (firstTokenPredicate, city), SimplePredicate: (twoGramFingerprint, phone))\n",
      "INFO:dedupe.training:(ExistsPredicate: (Exists, house), SimplePredicate: (wholeFieldPredicate, name))\n",
      "INFO:dedupe.training:(PartialPredicate: (commonTwoTokens, address, StreetName), SimplePredicate: (sameSevenCharStartPredicate, name))\n",
      "name : john p. fields\n",
      "category : None\n",
      "address : 26 n central ave\n",
      "city : clayton\n",
      "postalcode : 63105\n",
      "phone : (314) 862-1886\n",
      "street : n central ave\n",
      "house_number : 26\n",
      "house : None\n",
      "\n",
      "name : john p fields restaurant\n",
      "category : None\n",
      "address : 26 n central ave\n",
      "city : saint louis\n",
      "postalcode : 63105\n",
      "phone : (314) 862-1886\n",
      "street : n central ave\n",
      "house_number : 26\n",
      "house : None\n",
      "\n",
      "14/10 positive, 6/10 negative\n",
      "Do these records refer to the same thing?\n",
      "(y)es / (n)o / (u)nsure / (f)inished / (p)revious\n"
     ]
    },
    {
     "name": "stdout",
     "output_type": "stream",
     "text": [
      "y\n"
     ]
    },
    {
     "name": "stderr",
     "output_type": "stream",
     "text": [
      "name : la hacienda super taqurias\n",
      "category : None\n",
      "address : 3211 orange avenue\n",
      "city : fort pierce\n",
      "postalcode : 34947\n",
      "phone : None\n",
      "street : orange avenue\n",
      "house_number : 3211\n",
      "house : None\n",
      "\n",
      "name : la hacienda\n",
      "category : None\n",
      "address : 2403 falcon road\n",
      "city : altus\n",
      "postalcode : 73521\n",
      "phone : (580) 379-4234\n",
      "street : falcon road\n",
      "house_number : 2403\n",
      "house : None\n",
      "\n",
      "15/10 positive, 6/10 negative\n",
      "Do these records refer to the same thing?\n",
      "(y)es / (n)o / (u)nsure / (f)inished / (p)revious\n"
     ]
    },
    {
     "name": "stdout",
     "output_type": "stream",
     "text": [
      "n\n"
     ]
    },
    {
     "name": "stderr",
     "output_type": "stream",
     "text": [
      "INFO:dedupe.training:Final predicate set:\n",
      "INFO:dedupe.training:(SimplePredicate: (fingerprint, address), TfidfNGramCanopyPredicate: (0.8, phone))\n",
      "INFO:dedupe.training:(SimplePredicate: (sameSevenCharStartPredicate, name), TfidfNGramCanopyPredicate: (0.8, address))\n",
      "INFO:dedupe.training:(SimplePredicate: (commonTwoTokens, city), SimplePredicate: (fingerprint, phone))\n",
      "INFO:dedupe.training:(ExistsPredicate: (Exists, house), SimplePredicate: (wholeFieldPredicate, name))\n",
      "INFO:dedupe.training:(SimplePredicate: (hundredIntegersOddPredicate, name), SimplePredicate: (suffixArray, phone))\n",
      "name : pizzaexpress\n",
      "category : None\n",
      "address : 901 e st\n",
      "city : snyder\n",
      "postalcode : 73566\n",
      "phone : (580) 569-2007\n",
      "street : e st\n",
      "house_number : 901\n",
      "house : None\n",
      "\n",
      "name : pizza express\n",
      "category : None\n",
      "address : 701 e st\n",
      "city : snyder\n",
      "postalcode : 73566\n",
      "phone : (580) 569-2007\n",
      "street : e st\n",
      "house_number : 701\n",
      "house : None\n",
      "\n",
      "15/10 positive, 7/10 negative\n",
      "Do these records refer to the same thing?\n",
      "(y)es / (n)o / (u)nsure / (f)inished / (p)revious\n"
     ]
    },
    {
     "name": "stdout",
     "output_type": "stream",
     "text": [
      "y\n"
     ]
    },
    {
     "name": "stderr",
     "output_type": "stream",
     "text": [
      "name : blackwood country steak house\n",
      "category : None\n",
      "address : 1004 n san jacinto st\n",
      "city : houston\n",
      "postalcode : 77002\n",
      "phone : (713) 221-9000\n",
      "street : n san jacinto st\n",
      "house_number : 1004\n",
      "house : None\n",
      "\n",
      "name : blackwood country steak restaurant\n",
      "category : None\n",
      "address : 6901 schneider st\n",
      "city : houston\n",
      "postalcode : 77093\n",
      "phone : (713) 221-9000\n",
      "street : schneider st\n",
      "house_number : 6901\n",
      "house : None\n",
      "\n",
      "16/10 positive, 7/10 negative\n",
      "Do these records refer to the same thing?\n",
      "(y)es / (n)o / (u)nsure / (f)inished / (p)revious\n"
     ]
    },
    {
     "name": "stdout",
     "output_type": "stream",
     "text": [
      "y\n"
     ]
    },
    {
     "name": "stderr",
     "output_type": "stream",
     "text": [
      "INFO:dedupe.training:Final predicate set:\n",
      "INFO:dedupe.training:(LevenshteinCanopyPredicate: (2, address), TfidfNGramCanopyPredicate: (0.8, phone))\n",
      "INFO:dedupe.training:(SimplePredicate: (sameSevenCharStartPredicate, name), TfidfNGramCanopyPredicate: (0.8, address))\n",
      "INFO:dedupe.training:(SimplePredicate: (commonTwoTokens, city), SimplePredicate: (fingerprint, phone))\n",
      "INFO:dedupe.training:(ExistsPredicate: (Exists, house), SimplePredicate: (wholeFieldPredicate, name))\n",
      "INFO:dedupe.training:(SimplePredicate: (hundredIntegersOddPredicate, name), SimplePredicate: (suffixArray, phone))\n",
      "name : raj mahal indian restaurant\n",
      "category : None\n",
      "address : 2740 w 12th st\n",
      "city : erie\n",
      "postalcode : 16505\n",
      "phone : (814) 838-1055\n",
      "street : w 12th st\n",
      "house_number : 2740\n",
      "house : None\n",
      "\n",
      "name : rag magal indian restaurant\n",
      "category : None\n",
      "address : 5618 peach st\n",
      "city : erie\n",
      "postalcode : 16509\n",
      "phone : (814) 838-1055\n",
      "street : peach st\n",
      "house_number : 5618\n",
      "house : None\n",
      "\n",
      "17/10 positive, 7/10 negative\n",
      "Do these records refer to the same thing?\n",
      "(y)es / (n)o / (u)nsure / (f)inished / (p)revious\n"
     ]
    },
    {
     "name": "stdout",
     "output_type": "stream",
     "text": [
      "n\n"
     ]
    },
    {
     "name": "stderr",
     "output_type": "stream",
     "text": [
      "INFO:dedupe.training:Final predicate set:\n",
      "INFO:dedupe.training:(SimplePredicate: (firstTokenPredicate, city), SimplePredicate: (twoGramFingerprint, phone))\n",
      "INFO:dedupe.training:(ExistsPredicate: (Exists, house), SimplePredicate: (wholeFieldPredicate, name))\n",
      "INFO:dedupe.training:(PartialPredicate: (commonTwoTokens, address, StreetName), SimplePredicate: (sameSevenCharStartPredicate, name))\n",
      "INFO:dedupe.training:(SimplePredicate: (commonThreeTokens, name), SimplePredicate: (commonThreeTokens, street))\n",
      "name : sidwells family restaurant\n",
      "category : None\n",
      "address : 500 w pearl st\n",
      "city : tremont\n",
      "postalcode : 61568\n",
      "phone : (309) 925-5300\n",
      "street : w pearl st\n",
      "house_number : 500\n",
      "house : None\n",
      "\n",
      "name : subway\n",
      "category : None\n",
      "address : 600 w pearl st\n",
      "city : tremont\n",
      "postalcode : 61568\n",
      "phone : (309) 925-7600\n",
      "street : w pearl st\n",
      "house_number : 600\n",
      "house : None\n",
      "\n",
      "17/10 positive, 8/10 negative\n",
      "Do these records refer to the same thing?\n",
      "(y)es / (n)o / (u)nsure / (f)inished / (p)revious\n"
     ]
    },
    {
     "name": "stdout",
     "output_type": "stream",
     "text": [
      "n\n"
     ]
    },
    {
     "name": "stderr",
     "output_type": "stream",
     "text": [
      "name : arby's\n",
      "category : None\n",
      "address : 9418 n interstate 20\n",
      "city : sweetwater\n",
      "postalcode : 79556\n",
      "phone : (325) 235-1450\n",
      "street : n interstate 20\n",
      "house_number : 9418\n",
      "house : None\n",
      "\n",
      "name : love's travel stop\n",
      "category : None\n",
      "address : 9418 n interstate 20\n",
      "city : sweetwater\n",
      "postalcode : 79556\n",
      "phone : (325) 235-1240\n",
      "street : n interstate 20\n",
      "house_number : 9418\n",
      "house : None\n",
      "\n",
      "17/10 positive, 9/10 negative\n",
      "Do these records refer to the same thing?\n",
      "(y)es / (n)o / (u)nsure / (f)inished / (p)revious\n"
     ]
    },
    {
     "name": "stdout",
     "output_type": "stream",
     "text": [
      "n\n"
     ]
    },
    {
     "name": "stderr",
     "output_type": "stream",
     "text": [
      "name : 54th street bar and grill\n",
      "category : None\n",
      "address : 5715-5727 rim pass dr\n",
      "city : san antonio\n",
      "postalcode : 78257\n",
      "phone : None\n",
      "street : rim pass dr\n",
      "house_number : 5715-5727\n",
      "house : None\n",
      "\n",
      "name : 54th street restaurant & drafthouse\n",
      "category : None\n",
      "address : 17122 w interstate 10\n",
      "city : san antonio\n",
      "postalcode : 78257\n",
      "phone : (210) 690-5424\n",
      "street : w interstate 10\n",
      "house_number : 17122\n",
      "house : None\n",
      "\n",
      "17/10 positive, 10/10 negative\n",
      "Do these records refer to the same thing?\n",
      "(y)es / (n)o / (u)nsure / (f)inished / (p)revious\n"
     ]
    },
    {
     "name": "stdout",
     "output_type": "stream",
     "text": [
      "f\n"
     ]
    },
    {
     "name": "stderr",
     "output_type": "stream",
     "text": [
      "Finished labeling\n"
     ]
    }
   ],
   "source": [
    "dedupe.consoleLabel(deduper)"
   ]
  },
  {
   "cell_type": "code",
   "execution_count": null,
   "metadata": {},
   "outputs": [],
   "source": [
    "deduper2 = deduper"
   ]
  },
  {
   "cell_type": "code",
   "execution_count": 25,
   "metadata": {
    "scrolled": true
   },
   "outputs": [
    {
     "name": "stderr",
     "output_type": "stream",
     "text": [
      "INFO:rlr.crossvalidation:using cross validation to find optimum alpha...\n",
      "INFO:rlr.crossvalidation:optimum alpha: 0.010000, score 0.3782722921030144\n",
      "INFO:dedupe.training:Final predicate set:\n",
      "INFO:dedupe.training:(SimplePredicate: (firstTokenPredicate, city), SimplePredicate: (twoGramFingerprint, phone))\n",
      "INFO:dedupe.training:(ExistsPredicate: (Exists, house), SimplePredicate: (wholeFieldPredicate, name))\n",
      "INFO:dedupe.training:(PartialPredicate: (commonTwoTokens, address, StreetName), SimplePredicate: (sameSevenCharStartPredicate, name))\n",
      "INFO:dedupe.training:(SimplePredicate: (commonThreeTokens, name), SimplePredicate: (commonThreeTokens, street))\n"
     ]
    }
   ],
   "source": [
    "deduper.train(recall=1)"
   ]
  },
  {
   "cell_type": "code",
   "execution_count": 26,
   "metadata": {},
   "outputs": [
    {
     "data": {
      "text/plain": [
       "((SimplePredicate: (firstTokenPredicate, city),\n",
       "  SimplePredicate: (twoGramFingerprint, phone)),\n",
       " (ExistsPredicate: (Exists, house),\n",
       "  SimplePredicate: (wholeFieldPredicate, name)),\n",
       " (PartialPredicate: (commonTwoTokens, address, StreetName),\n",
       "  SimplePredicate: (sameSevenCharStartPredicate, name)),\n",
       " (SimplePredicate: (commonThreeTokens, name),\n",
       "  SimplePredicate: (commonThreeTokens, street)))"
      ]
     },
     "execution_count": 26,
     "metadata": {},
     "output_type": "execute_result"
    }
   ],
   "source": [
    "deduper.predicates"
   ]
  },
  {
   "cell_type": "code",
   "execution_count": null,
   "metadata": {},
   "outputs": [],
   "source": [
    "with open(training_file, 'w') as tf:\n",
    "    deduper.writeTraining(tf)"
   ]
  },
  {
   "cell_type": "code",
   "execution_count": null,
   "metadata": {},
   "outputs": [],
   "source": [
    "with open(settings_file, 'wb') as sf:\n",
    "    deduper.writeSettings(sf)"
   ]
  },
  {
   "cell_type": "code",
   "execution_count": 27,
   "metadata": {},
   "outputs": [
    {
     "name": "stderr",
     "output_type": "stream",
     "text": [
      "INFO:dedupe.blocking:10000, 1.4191872 seconds\n",
      "INFO:dedupe.api:Maximum expected recall and precision\n",
      "INFO:dedupe.api:recall: 0.997\n",
      "INFO:dedupe.api:precision: 0.917\n",
      "INFO:dedupe.api:With threshold: 0.480\n"
     ]
    }
   ],
   "source": [
    "threshold = deduper.threshold(data_dict, recall_weight=1)\n"
   ]
  },
  {
   "cell_type": "code",
   "execution_count": 29,
   "metadata": {},
   "outputs": [
    {
     "name": "stderr",
     "output_type": "stream",
     "text": [
      "INFO:dedupe.blocking:10000, 1.9783572 seconds\n"
     ]
    }
   ],
   "source": [
    "clustered_dupes = deduper.match(data_dict, threshold)"
   ]
  },
  {
   "cell_type": "code",
   "execution_count": 30,
   "metadata": {},
   "outputs": [
    {
     "name": "stdout",
     "output_type": "stream",
     "text": [
      "# duplicate sets 2001\n"
     ]
    }
   ],
   "source": [
    "print('# duplicate sets', len(clustered_dupes))"
   ]
  },
  {
   "cell_type": "code",
   "execution_count": 31,
   "metadata": {},
   "outputs": [],
   "source": [
    "cluster_membership = {}\n",
    "cluster_id = 0\n",
    "for (cluster_id, cluster) in enumerate(clustered_dupes):\n",
    "    id_set, scores = cluster\n",
    "    cluster_d = [data_dict[c] for c in id_set]\n",
    "    canonical_rep = dedupe.canonicalize(cluster_d)\n",
    "    for record_id, score in zip(id_set, scores):\n",
    "        cluster_membership[record_id] = {\n",
    "            \"cluster id\" : cluster_id,\n",
    "            \"canonical representation\" : canonical_rep,\n",
    "            \"confidence\": score\n",
    "        }"
   ]
  },
  {
   "cell_type": "code",
   "execution_count": 32,
   "metadata": {},
   "outputs": [],
   "source": [
    "singleton_id = cluster_id + 1\n",
    "with open(output_file, 'w') as f_output, open(fp) as f_input:\n",
    "    writer = csv.writer(f_output)\n",
    "    reader = csv.reader(f_input)\n",
    "\n",
    "    heading_row = next(reader)\n",
    "    heading_row.insert(0, 'confidence_score')\n",
    "    heading_row.insert(0, 'Cluster ID')\n",
    "    canonical_keys = canonical_rep.keys()\n",
    "    for key in canonical_keys:\n",
    "        heading_row.append('canonical_' + key)\n",
    "\n",
    "    writer.writerow(heading_row)\n",
    "\n",
    "    for row in reader:\n",
    "        row_id = int(row[0])\n",
    "        if row_id in cluster_membership:\n",
    "            cluster_id = cluster_membership[row_id][\"cluster id\"]\n",
    "            canonical_rep = cluster_membership[row_id][\"canonical representation\"]\n",
    "            row.insert(0, cluster_membership[row_id]['confidence'])\n",
    "            row.insert(0, cluster_id)\n",
    "            for key in canonical_keys:\n",
    "                row.append(canonical_rep[key].encode('utf8'))\n",
    "        else:\n",
    "            row.insert(0, None)\n",
    "            row.insert(0, singleton_id)\n",
    "            singleton_id += 1\n",
    "            for key in canonical_keys:\n",
    "                row.append(None)\n",
    "        writer.writerow(row)"
   ]
  },
  {
   "cell_type": "markdown",
   "metadata": {},
   "source": [
    "# Predictions"
   ]
  },
  {
   "cell_type": "code",
   "execution_count": 33,
   "metadata": {},
   "outputs": [],
   "source": [
    "df = pd.read_csv(output_file)"
   ]
  },
  {
   "cell_type": "code",
   "execution_count": null,
   "metadata": {},
   "outputs": [],
   "source": [
    "df.columns"
   ]
  },
  {
   "cell_type": "code",
   "execution_count": 34,
   "metadata": {
    "scrolled": true
   },
   "outputs": [],
   "source": [
    "df = pd.read_csv(output_file)\n",
    "df.sort_values(['Cluster ID'], inplace=True)\n",
    "relevant_data = df[['Cluster ID', 'confidence_score', 'source', 'id']]\n",
    "\n",
    "predictions = []\n",
    "cluster_ids = relevant_data['Cluster ID'].value_counts()\n",
    "for cluster_id in cluster_ids[cluster_ids>1].index:\n",
    "    \n",
    "    fodors_ids = relevant_data[\n",
    "        (relevant_data['Cluster ID'] == cluster_id) & \n",
    "        (relevant_data['source'] == 'yellow_pages')\n",
    "    ].id.values\n",
    "    zagats_ids = relevant_data[\n",
    "        (relevant_data['Cluster ID'] == cluster_id) & \n",
    "        (relevant_data['source'] == 'yelp')\n",
    "    ].id.values\n",
    "    \n",
    "    match_interim = list(product(fodors_ids, zagats_ids))\n",
    "    predictions.append(match_interim)\n",
    "    \n",
    "m = []\n",
    "for cluster in predictions: \n",
    "    for combo in cluster: \n",
    "        m.append([combo[0], combo[1]])\n",
    "        \n",
    "predictions = pd.DataFrame(m, columns=['yellow_pages_id', 'yelp_id'])\n",
    "\n",
    "predictions['yp-y'] = predictions.apply(lambda row: f\"{row['yellow_pages_id']}-{row['yelp_id']}\", axis=1)\n",
    "\n"
   ]
  },
  {
   "cell_type": "code",
   "execution_count": 36,
   "metadata": {
    "scrolled": true
   },
   "outputs": [],
   "source": [
    "results = pd.read_csv(matches_file)\n",
    "results['yp-y'] = results.apply(lambda row: f\"{row['yellow_pages_id']}-{row['yelp_id']}\", axis=1)\n"
   ]
  },
  {
   "cell_type": "code",
   "execution_count": null,
   "metadata": {},
   "outputs": [],
   "source": [
    "results.columns"
   ]
  },
  {
   "cell_type": "code",
   "execution_count": null,
   "metadata": {},
   "outputs": [],
   "source": [
    "results['duplicate'][0]"
   ]
  },
  {
   "cell_type": "code",
   "execution_count": 40,
   "metadata": {},
   "outputs": [],
   "source": [
    "results = results[results['duplicate'] == 1]#[['yellow_pages_id', 'yelp_id', 'yp-y']]"
   ]
  },
  {
   "cell_type": "code",
   "execution_count": 42,
   "metadata": {},
   "outputs": [
    {
     "data": {
      "text/plain": [
       "126"
      ]
     },
     "execution_count": 42,
     "metadata": {},
     "output_type": "execute_result"
    }
   ],
   "source": [
    "len(results)"
   ]
  },
  {
   "cell_type": "code",
   "execution_count": 43,
   "metadata": {},
   "outputs": [],
   "source": [
    "res_set = set(results['yp-y'].values.tolist())\n",
    "pred_set = set(predictions['yp-y'].values.tolist())"
   ]
  },
  {
   "cell_type": "code",
   "execution_count": 44,
   "metadata": {},
   "outputs": [
    {
     "name": "stdout",
     "output_type": "stream",
     "text": [
      "tp: 20 fp: 2045 fn: 106\n"
     ]
    }
   ],
   "source": [
    "tp = len(res_set & pred_set)\n",
    "fn = len(res_set-pred_set)\n",
    "fpos = len(pred_set-res_set)\n",
    "\n",
    "print(f'tp: {tp} fp: {fpos} fn: {fn}')\n"
   ]
  }
 ],
 "metadata": {
  "kernelspec": {
   "display_name": "base",
   "language": "python",
   "name": "base"
  },
  "language_info": {
   "codemirror_mode": {
    "name": "ipython",
    "version": 3
   },
   "file_extension": ".py",
   "mimetype": "text/x-python",
   "name": "python",
   "nbconvert_exporter": "python",
   "pygments_lexer": "ipython3",
   "version": "3.7.0"
  }
 },
 "nbformat": 4,
 "nbformat_minor": 2
}
