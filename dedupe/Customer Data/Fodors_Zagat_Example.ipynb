{
 "cells": [
  {
   "cell_type": "markdown",
   "metadata": {},
   "source": [
    "# Load Data"
   ]
  },
  {
   "cell_type": "code",
   "execution_count": 2,
   "metadata": {},
   "outputs": [],
   "source": [
    "import os\n",
    "import pandas as pd \n",
    "import numpy as np\n",
    "import logging\n",
    "import csv\n",
    "import re\n",
    "import logging\n",
    "import optparse\n",
    "import dedupe\n",
    "from unidecode import unidecode\n",
    "from itertools import product"
   ]
  },
  {
   "cell_type": "markdown",
   "metadata": {},
   "source": [
    "## Setup"
   ]
  },
  {
   "cell_type": "code",
   "execution_count": 18,
   "metadata": {},
   "outputs": [],
   "source": [
    "input_file = 'fodors_zagats_pypostal.csv'\n",
    "output_file = 'fodors_zagats_pypostal_output.csv'\n",
    "settings_file = 'fodors_zagats_learned_settings'\n",
    "training_file = 'fodors_zagats_training.json'"
   ]
  },
  {
   "cell_type": "code",
   "execution_count": 19,
   "metadata": {},
   "outputs": [],
   "source": [
    "fp = os.path.join(input_file)"
   ]
  },
  {
   "cell_type": "markdown",
   "metadata": {},
   "source": [
    "## Dataframe view"
   ]
  },
  {
   "cell_type": "code",
   "execution_count": 21,
   "metadata": {},
   "outputs": [],
   "source": [
    "input_df = pd.read_csv(fp, sep=',', quotechar='\"')"
   ]
  },
  {
   "cell_type": "code",
   "execution_count": 8,
   "metadata": {},
   "outputs": [],
   "source": [
    "categories = list(input_df['category'].unique())\n",
    "categories = [x for x in categories if str(x) != 'nan']"
   ]
  },
  {
   "cell_type": "code",
   "execution_count": 9,
   "metadata": {},
   "outputs": [],
   "source": [
    "#category_corpus = input_df[['name', 'category']].drop_duplicates().to_dict(orient='records')\n",
    "category_corpus = input_df.drop_duplicates().to_dict(orient='records')"
   ]
  },
  {
   "cell_type": "markdown",
   "metadata": {},
   "source": [
    "# Dedupe\n"
   ]
  },
  {
   "cell_type": "markdown",
   "metadata": {},
   "source": [
    "## Import modules"
   ]
  },
  {
   "cell_type": "code",
   "execution_count": 12,
   "metadata": {},
   "outputs": [],
   "source": [
    "def pre_process(val):\n",
    "    \"\"\"\n",
    "    Do a little bit of data cleaning with the help of Unidecode and Regex.\n",
    "    Things like casing, extra spaces, quotes and new lines can be ignored.\n",
    "    \"\"\"\n",
    "    try:\n",
    "        val = re.sub('  +', ' ', val)\n",
    "        val = re.sub('\\n', ' ', val)\n",
    "        val = val.strip().strip('\"').strip(\"'\").lower().strip()\n",
    "        # If data is missing, indicate that by setting the value to `None`\n",
    "        if not val:\n",
    "            val = None\n",
    "    except Exception as e:\n",
    "        print(e)\n",
    "    return val"
   ]
  },
  {
   "cell_type": "code",
   "execution_count": 13,
   "metadata": {},
   "outputs": [],
   "source": [
    "def get_clean_data_dict(file_path):\n",
    "    data_d = {}\n",
    "    with open(fp) as f:\n",
    "        reader = csv.DictReader(f)\n",
    "        for row in reader:\n",
    "            clean_row = [(k, pre_process(v)) for (k, v) in row.items()]\n",
    "            row_id = int(row['Id'])\n",
    "            data_d[row_id] = dict(clean_row)\n",
    "\n",
    "    return data_d"
   ]
  },
  {
   "cell_type": "markdown",
   "metadata": {},
   "source": [
    "### Get Data in needed format"
   ]
  },
  {
   "cell_type": "code",
   "execution_count": 14,
   "metadata": {},
   "outputs": [],
   "source": [
    "data_dict = get_clean_data_dict(fp)"
   ]
  },
  {
   "cell_type": "markdown",
   "metadata": {},
   "source": [
    "### Define the Fields for dedupe\n"
   ]
  },
  {
   "cell_type": "code",
   "execution_count": 16,
   "metadata": {},
   "outputs": [],
   "source": [
    "fields = [\n",
    "    {'field' : 'name', 'type': 'Name'},\n",
    "    {'field' : 'category', \n",
    "     'type': 'FuzzyCategorical',\n",
    "     'categories': categories,\n",
    "     'corpus': category_corpus,\n",
    "     'has missing' : True},\n",
    "    {'field' : 'name', 'type': 'String'},\n",
    "    {'field' : 'address', 'type': 'Address'},\n",
    "    {'field' : 'city', 'type': 'ShortString'},\n",
    "    {'field' : 'phone', 'type': 'String'},\n",
    "    {'field' : 'street', 'type': 'String', 'has missing' : True},\n",
    "    {'field' : 'house_number', 'type': 'Exists', 'has missing' : True},\n",
    "    {'field' : 'house', 'type': 'String', 'has missing' : True},   \n",
    "]"
   ]
  },
  {
   "cell_type": "markdown",
   "metadata": {},
   "source": [
    "### Instantiate Dedupe"
   ]
  },
  {
   "cell_type": "code",
   "execution_count": 17,
   "metadata": {},
   "outputs": [],
   "source": [
    "deduper = dedupe.Dedupe(fields)"
   ]
  },
  {
   "cell_type": "code",
   "execution_count": 18,
   "metadata": {},
   "outputs": [
    {
     "name": "stderr",
     "output_type": "stream",
     "text": [
      "INFO:dedupe.training:Final predicate set:\n",
      "INFO:dedupe.training:(LevenshteinCanopyPredicate: (2, house), SimplePredicate: (sameSevenCharStartPredicate, street))\n"
     ]
    }
   ],
   "source": [
    "deduper.prepare_training(data_dict)"
   ]
  },
  {
   "cell_type": "code",
   "execution_count": 19,
   "metadata": {
    "scrolled": false
   },
   "outputs": [
    {
     "name": "stderr",
     "output_type": "stream",
     "text": [
      "name : rainbow room\n",
      "category : or 212/632-5100 american\n",
      "address : 30 rockefeller plaza\n",
      "city : new york\n",
      "phone : 212/632-5000\n",
      "street : None\n",
      "house_number : None\n",
      "house : 30 rockefeller plaza\n",
      "\n",
      "name : rainbow room\n",
      "category : american (new)\n",
      "address : 30 rockefeller plaza\n",
      "city : new york city\n",
      "phone : 212-632-5000\n",
      "street : None\n",
      "house_number : None\n",
      "house : 30 rockefeller plaza\n",
      "\n",
      "0/10 positive, 0/10 negative\n",
      "Do these records refer to the same thing?\n",
      "(y)es / (n)o / (u)nsure / (f)inished\n"
     ]
    },
    {
     "name": "stdout",
     "output_type": "stream",
     "text": [
      "y\n"
     ]
    },
    {
     "name": "stderr",
     "output_type": "stream",
     "text": [
      "name : rose pistola\n",
      "category : italian\n",
      "address : 532 columbus avenue\n",
      "city : san francisco\n",
      "phone : 415/399-0499\n",
      "street : columbus avenue\n",
      "house_number : 532\n",
      "house : None\n",
      "\n",
      "name : rose pistola\n",
      "category : italian\n",
      "address : 532 columbus avenue\n",
      "city : san francisco\n",
      "phone : 415-399-0499\n",
      "street : columbus avenue\n",
      "house_number : 532\n",
      "house : None\n",
      "\n",
      "1/10 positive, 0/10 negative\n",
      "Do these records refer to the same thing?\n",
      "(y)es / (n)o / (u)nsure / (f)inished / (p)revious\n"
     ]
    },
    {
     "name": "stdout",
     "output_type": "stream",
     "text": [
      "y\n"
     ]
    },
    {
     "name": "stderr",
     "output_type": "stream",
     "text": [
      "INFO:dedupe.training:Final predicate set:\n",
      "INFO:dedupe.training:(PartialPredicate: (sameFiveCharStartPredicate, name, Surname), SimplePredicate: (sameFiveCharStartPredicate, house))\n",
      "name : georgia grille\n",
      "category : american\n",
      "address : 2290 peachtree road peachtree square shopping center\n",
      "city : atlanta\n",
      "phone : 404/352-3517\n",
      "street : peachtree road\n",
      "house_number : 2290\n",
      "house : square shopping center\n",
      "\n",
      "name : georgia grille\n",
      "category : southwestern\n",
      "address : 2290 peachtree road\n",
      "city : atlanta\n",
      "phone : 404-352-3517\n",
      "street : peachtree road\n",
      "house_number : 2290\n",
      "house : None\n",
      "\n",
      "2/10 positive, 0/10 negative\n",
      "Do these records refer to the same thing?\n",
      "(y)es / (n)o / (u)nsure / (f)inished / (p)revious\n"
     ]
    },
    {
     "name": "stdout",
     "output_type": "stream",
     "text": [
      "y\n"
     ]
    },
    {
     "name": "stderr",
     "output_type": "stream",
     "text": [
      "INFO:dedupe.training:Final predicate set:\n",
      "INFO:dedupe.training:(PartialPredicate: (sameFiveCharStartPredicate, name, Surname), SimplePredicate: (sameFiveCharStartPredicate, house))\n",
      "INFO:dedupe.training:(SimplePredicate: (wholeFieldPredicate, address), SimplePredicate: (wholeFieldPredicate, category))\n",
      "name : jo jo\n",
      "category : american\n",
      "address : 160 e. 64th st.\n",
      "city : new york\n",
      "phone : 212/223-5656\n",
      "street : e. 64th st.\n",
      "house_number : 160\n",
      "house : None\n",
      "\n",
      "name : jo jo\n",
      "category : french bistro\n",
      "address : 160 e. 64th st.\n",
      "city : new york city\n",
      "phone : 212-223-5656\n",
      "street : e. 64th st.\n",
      "house_number : 160\n",
      "house : None\n",
      "\n",
      "3/10 positive, 0/10 negative\n",
      "Do these records refer to the same thing?\n",
      "(y)es / (n)o / (u)nsure / (f)inished / (p)revious\n"
     ]
    },
    {
     "name": "stdout",
     "output_type": "stream",
     "text": [
      "y\n"
     ]
    },
    {
     "name": "stderr",
     "output_type": "stream",
     "text": [
      "INFO:dedupe.training:Final predicate set:\n",
      "INFO:dedupe.training:(PartialPredicate: (sameFiveCharStartPredicate, name, Surname), SimplePredicate: (sameFiveCharStartPredicate, house))\n",
      "INFO:dedupe.training:(PartialIndexTfidfNGramCanopyPredicate: (0.6, name, Surname), SimplePredicate: (twoGramFingerprint, street))\n",
      "INFO:dedupe.training:(SimplePredicate: (wholeFieldPredicate, address), SimplePredicate: (wholeFieldPredicate, category))\n",
      "name : le bernardin\n",
      "category : french\n",
      "address : 155 w. 51st st.\n",
      "city : new york\n",
      "phone : 212/489-1515\n",
      "street : w. 51st st.\n",
      "house_number : 155\n",
      "house : None\n",
      "\n",
      "name : le bernardin\n",
      "category : seafood\n",
      "address : 155 w. 51st st.\n",
      "city : new york city\n",
      "phone : 212-489-1515\n",
      "street : w. 51st st.\n",
      "house_number : 155\n",
      "house : None\n",
      "\n",
      "4/10 positive, 0/10 negative\n",
      "Do these records refer to the same thing?\n",
      "(y)es / (n)o / (u)nsure / (f)inished / (p)revious\n"
     ]
    },
    {
     "name": "stdout",
     "output_type": "stream",
     "text": [
      "y\n"
     ]
    },
    {
     "name": "stderr",
     "output_type": "stream",
     "text": [
      "INFO:dedupe.training:Final predicate set:\n",
      "INFO:dedupe.training:(PartialPredicate: (sameFiveCharStartPredicate, name, Surname), SimplePredicate: (twoGramFingerprint, address))\n",
      "INFO:dedupe.training:(PartialIndexTfidfNGramCanopyPredicate: (0.6, name, Surname), SimplePredicate: (twoGramFingerprint, street))\n",
      "name : ritz-carlton restaurant\n",
      "category : french (classic)\n",
      "address : 181 peachtree st.\n",
      "city : atlanta\n",
      "phone : 404-659-0400\n",
      "street : peachtree st.\n",
      "house_number : 181\n",
      "house : None\n",
      "\n",
      "name : ritz-carlton cafe (atlanta)\n",
      "category : american (new)\n",
      "address : 181 peachtree st.\n",
      "city : atlanta\n",
      "phone : 404-659-0400\n",
      "street : peachtree st.\n",
      "house_number : 181\n",
      "house : None\n",
      "\n",
      "5/10 positive, 0/10 negative\n",
      "Do these records refer to the same thing?\n",
      "(y)es / (n)o / (u)nsure / (f)inished / (p)revious\n"
     ]
    },
    {
     "name": "stdout",
     "output_type": "stream",
     "text": [
      "n\n"
     ]
    },
    {
     "name": "stderr",
     "output_type": "stream",
     "text": [
      "name : plumpjack cafe\n",
      "category : mediterranean\n",
      "address : 3201 fillmore st.\n",
      "city : san francisco\n",
      "phone : 415/563-4755\n",
      "street : fillmore st.\n",
      "house_number : 3201\n",
      "house : None\n",
      "\n",
      "name : plumpjack cafe\n",
      "category : american (new)\n",
      "address : 3127 fillmore st.\n",
      "city : san francisco\n",
      "phone : 415-563-4755\n",
      "street : fillmore st.\n",
      "house_number : 3127\n",
      "house : None\n",
      "\n",
      "5/10 positive, 1/10 negative\n",
      "Do these records refer to the same thing?\n",
      "(y)es / (n)o / (u)nsure / (f)inished / (p)revious\n"
     ]
    },
    {
     "name": "stdout",
     "output_type": "stream",
     "text": [
      "y\n"
     ]
    },
    {
     "name": "stderr",
     "output_type": "stream",
     "text": [
      "name : lulu\n",
      "category : mediterranean\n",
      "address : 816 folsom st.\n",
      "city : san francisco\n",
      "phone : 415/495-5775\n",
      "street : folsom st.\n",
      "house_number : 816\n",
      "house : None\n",
      "\n",
      "name : lulu restaurant-bis-cafe\n",
      "category : mediterranean\n",
      "address : 816 folsom st.\n",
      "city : san francisco\n",
      "phone : 415-495-5775\n",
      "street : folsom st.\n",
      "house_number : 816\n",
      "house : None\n",
      "\n",
      "6/10 positive, 1/10 negative\n",
      "Do these records refer to the same thing?\n",
      "(y)es / (n)o / (u)nsure / (f)inished / (p)revious\n"
     ]
    },
    {
     "name": "stdout",
     "output_type": "stream",
     "text": [
      "y\n"
     ]
    },
    {
     "name": "stderr",
     "output_type": "stream",
     "text": [
      "INFO:dedupe.training:Final predicate set:\n",
      "INFO:dedupe.training:(PartialPredicate: (sameFiveCharStartPredicate, name, Surname), SimplePredicate: (twoGramFingerprint, address))\n",
      "INFO:dedupe.training:(PartialIndexTfidfNGramCanopyPredicate: (0.6, name, Surname), SimplePredicate: (twoGramFingerprint, street))\n",
      "INFO:dedupe.training:(PartialIndexTfidfTextCanopyPredicate: (0.8, name, CorporationName), SimplePredicate: (twoGramFingerprint, city))\n",
      "name : rex il ristorante\n",
      "category : italian\n",
      "address : 617 s. olive st.\n",
      "city : los angeles\n",
      "phone : 213/627-2300\n",
      "street : s. olive st.\n",
      "house_number : 617\n",
      "house : None\n",
      "\n",
      "name : rex il ristorante\n",
      "category : nuova cucina italian\n",
      "address : 617 s. olive st.\n",
      "city : los angeles\n",
      "phone : 213-627-2300\n",
      "street : s. olive st.\n",
      "house_number : 617\n",
      "house : None\n",
      "\n",
      "7/10 positive, 1/10 negative\n",
      "Do these records refer to the same thing?\n",
      "(y)es / (n)o / (u)nsure / (f)inished / (p)revious\n"
     ]
    },
    {
     "name": "stdout",
     "output_type": "stream",
     "text": [
      "y\n"
     ]
    },
    {
     "name": "stderr",
     "output_type": "stream",
     "text": [
      "INFO:dedupe.training:Final predicate set:\n",
      "INFO:dedupe.training:(PartialPredicate: (fingerprint, name, Surname), SimplePredicate: (commonIntegerPredicate, street))\n",
      "INFO:dedupe.training:(SimplePredicate: (wholeFieldPredicate, address), SimplePredicate: (wholeFieldPredicate, category))\n",
      "INFO:dedupe.training:(PartialPredicate: (sameFiveCharStartPredicate, name, Surname), SimplePredicate: (sameFiveCharStartPredicate, house))\n",
      "INFO:dedupe.training:(PartialIndexTfidfNGramCanopyPredicate: (0.6, name, Surname), SimplePredicate: (twoGramFingerprint, street))\n",
      "INFO:dedupe.training:(PartialIndexTfidfTextCanopyPredicate: (0.8, name, CorporationName), SimplePredicate: (twoGramFingerprint, city))\n",
      "name : matsuhisa\n",
      "category : asian\n",
      "address : 129 n. la cienega blvd.\n",
      "city : beverly hills\n",
      "phone : 310/659-9639\n",
      "street : n. la cienega blvd.\n",
      "house_number : 129\n",
      "house : None\n",
      "\n",
      "name : matsuhisa\n",
      "category : seafood\n",
      "address : 129 n. la cienega blvd.\n",
      "city : beverly hills\n",
      "phone : 310-659-9639\n",
      "street : n. la cienega blvd.\n",
      "house_number : 129\n",
      "house : None\n",
      "\n",
      "8/10 positive, 1/10 negative\n",
      "Do these records refer to the same thing?\n",
      "(y)es / (n)o / (u)nsure / (f)inished / (p)revious\n"
     ]
    },
    {
     "name": "stdout",
     "output_type": "stream",
     "text": [
      "y\n"
     ]
    },
    {
     "name": "stderr",
     "output_type": "stream",
     "text": [
      "INFO:dedupe.training:Final predicate set:\n",
      "INFO:dedupe.training:(PartialPredicate: (fingerprint, name, Surname), SimplePredicate: (commonIntegerPredicate, street))\n",
      "INFO:dedupe.training:(PartialPredicate: (wholeFieldPredicate, name, CorporationName), TfidfNGramCanopyPredicate: (0.8, city))\n",
      "INFO:dedupe.training:(SimplePredicate: (wholeFieldPredicate, address), SimplePredicate: (wholeFieldPredicate, category))\n",
      "INFO:dedupe.training:(PartialPredicate: (sameFiveCharStartPredicate, name, Surname), SimplePredicate: (sameFiveCharStartPredicate, house))\n",
      "INFO:dedupe.training:(PartialIndexTfidfNGramCanopyPredicate: (0.6, name, Surname), SimplePredicate: (twoGramFingerprint, street))\n",
      "name : island spice\n",
      "category : tel caribbean\n",
      "address : 402 w. 44th st.\n",
      "city : new york\n",
      "phone : 212/765-1737\n",
      "street : w. 44th st.\n",
      "house_number : 402\n",
      "house : None\n",
      "\n",
      "name : island spice\n",
      "category : caribbean\n",
      "address : 402 w. 44th st.\n",
      "city : new york city\n",
      "phone : 212-765-1737\n",
      "street : w. 44th st.\n",
      "house_number : 402\n",
      "house : None\n",
      "\n",
      "9/10 positive, 1/10 negative\n",
      "Do these records refer to the same thing?\n",
      "(y)es / (n)o / (u)nsure / (f)inished / (p)revious\n"
     ]
    },
    {
     "name": "stdout",
     "output_type": "stream",
     "text": [
      "y\n"
     ]
    },
    {
     "name": "stderr",
     "output_type": "stream",
     "text": [
      "name : 21 club\n",
      "category : american\n",
      "address : 21 w. 52nd st.\n",
      "city : new york\n",
      "phone : 212/582-7200\n",
      "street : w. 52nd st.\n",
      "house_number : 21\n",
      "house : None\n",
      "\n",
      "name : 21 club\n",
      "category : american (new)\n",
      "address : 21 w. 52nd st.\n",
      "city : new york city\n",
      "phone : 212-582-7200\n",
      "street : w. 52nd st.\n",
      "house_number : 21\n",
      "house : None\n",
      "\n",
      "10/10 positive, 1/10 negative\n",
      "Do these records refer to the same thing?\n",
      "(y)es / (n)o / (u)nsure / (f)inished / (p)revious\n"
     ]
    },
    {
     "name": "stdout",
     "output_type": "stream",
     "text": [
      "y\n"
     ]
    },
    {
     "name": "stderr",
     "output_type": "stream",
     "text": [
      "INFO:dedupe.training:Final predicate set:\n",
      "INFO:dedupe.training:(PartialPredicate: (fingerprint, name, Surname), SimplePredicate: (commonIntegerPredicate, street))\n",
      "INFO:dedupe.training:(PartialPredicate: (fingerprint, name, CorporationName), TfidfTextCanopyPredicate: (0.8, street))\n",
      "INFO:dedupe.training:(SimplePredicate: (wholeFieldPredicate, address), SimplePredicate: (wholeFieldPredicate, category))\n",
      "INFO:dedupe.training:(PartialPredicate: (sameFiveCharStartPredicate, name, Surname), SimplePredicate: (sameFiveCharStartPredicate, house))\n",
      "INFO:dedupe.training:(PartialIndexTfidfNGramCanopyPredicate: (0.6, name, Surname), SimplePredicate: (twoGramFingerprint, street))\n",
      "name : hedgerose heights inn\n",
      "category : international\n",
      "address : 490 e. paces ferry rd.\n",
      "city : atlanta\n",
      "phone : 404/233-7673\n",
      "street : e. paces ferry rd.\n",
      "house_number : 490\n",
      "house : None\n",
      "\n",
      "name : hedgerose heights inn the\n",
      "category : continental\n",
      "address : 490 e. paces ferry rd. ne\n",
      "city : atlanta\n",
      "phone : 404-233-7673\n",
      "street : e. paces ferry rd. ne\n",
      "house_number : 490\n",
      "house : None\n",
      "\n",
      "11/10 positive, 1/10 negative\n",
      "Do these records refer to the same thing?\n",
      "(y)es / (n)o / (u)nsure / (f)inished / (p)revious\n"
     ]
    },
    {
     "name": "stdout",
     "output_type": "stream",
     "text": [
      "y\n"
     ]
    },
    {
     "name": "stderr",
     "output_type": "stream",
     "text": [
      "name : steak house\n",
      "category : steak houses\n",
      "address : 2880 las vegas blvd. s\n",
      "city : las vegas\n",
      "phone : 702/734-0410\n",
      "street : las vegas blvd. s\n",
      "house_number : 2880\n",
      "house : None\n",
      "\n",
      "name : steak house the\n",
      "category : steakhouses\n",
      "address : 2880 las vegas blvd. s.\n",
      "city : las vegas\n",
      "phone : 702-734-0410\n",
      "street : las vegas blvd. s.\n",
      "house_number : 2880\n",
      "house : None\n",
      "\n",
      "12/10 positive, 1/10 negative\n",
      "Do these records refer to the same thing?\n",
      "(y)es / (n)o / (u)nsure / (f)inished / (p)revious\n"
     ]
    },
    {
     "name": "stdout",
     "output_type": "stream",
     "text": [
      "y\n"
     ]
    },
    {
     "name": "stderr",
     "output_type": "stream",
     "text": [
      "INFO:dedupe.training:Final predicate set:\n",
      "INFO:dedupe.training:(PartialPredicate: (fingerprint, name, Surname), SimplePredicate: (commonIntegerPredicate, street))\n",
      "INFO:dedupe.training:(PartialPredicate: (oneGramFingerprint, name, CorporationName), TfidfTextCanopyPredicate: (0.8, street))\n",
      "INFO:dedupe.training:(SimplePredicate: (wholeFieldPredicate, address), SimplePredicate: (wholeFieldPredicate, category))\n",
      "INFO:dedupe.training:(PartialPredicate: (sameFiveCharStartPredicate, name, Surname), SimplePredicate: (sameFiveCharStartPredicate, house))\n",
      "INFO:dedupe.training:(PartialIndexTfidfNGramCanopyPredicate: (0.6, name, Surname), SimplePredicate: (twoGramFingerprint, street))\n",
      "name : tillerman\n",
      "category : seafood\n",
      "address : 2245 e. flamingo rd.\n",
      "city : las vegas\n",
      "phone : 702/731-4036\n",
      "street : e. flamingo rd.\n",
      "house_number : 2245\n",
      "house : None\n",
      "\n",
      "name : tillerman the\n",
      "category : steakhouses\n",
      "address : 2245 e. flamingo rd.\n",
      "city : las vegas\n",
      "phone : 702-731-4036\n",
      "street : e. flamingo rd.\n",
      "house_number : 2245\n",
      "house : None\n",
      "\n",
      "13/10 positive, 1/10 negative\n",
      "Do these records refer to the same thing?\n",
      "(y)es / (n)o / (u)nsure / (f)inished / (p)revious\n"
     ]
    },
    {
     "name": "stdout",
     "output_type": "stream",
     "text": [
      "y\n"
     ]
    },
    {
     "name": "stderr",
     "output_type": "stream",
     "text": [
      "name : gramercy tavern\n",
      "category : american\n",
      "address : 42 e. 20th st. between park ave. s and broadway\n",
      "city : new york\n",
      "phone : 212/477-0777\n",
      "street : e. 20th st. between park ave. s and broadway\n",
      "house_number : 42\n",
      "house : None\n",
      "\n",
      "name : gramercy tavern\n",
      "category : american (new)\n",
      "address : 42 e. 20th st.\n",
      "city : new york city\n",
      "phone : 212-477-0777\n",
      "street : e. 20th st.\n",
      "house_number : 42\n",
      "house : None\n",
      "\n",
      "14/10 positive, 1/10 negative\n",
      "Do these records refer to the same thing?\n",
      "(y)es / (n)o / (u)nsure / (f)inished / (p)revious\n"
     ]
    },
    {
     "name": "stdout",
     "output_type": "stream",
     "text": [
      "y\n"
     ]
    },
    {
     "name": "stderr",
     "output_type": "stream",
     "text": [
      "INFO:dedupe.training:Final predicate set:\n",
      "INFO:dedupe.training:(LevenshteinCanopyPredicate: (4, address), PartialPredicate: (sameSevenCharStartPredicate, name, CorporationName))\n",
      "INFO:dedupe.training:(PartialPredicate: (fingerprint, name, Surname), SimplePredicate: (commonIntegerPredicate, street))\n",
      "INFO:dedupe.training:(SimplePredicate: (wholeFieldPredicate, address), SimplePredicate: (wholeFieldPredicate, category))\n",
      "INFO:dedupe.training:(PartialPredicate: (sameFiveCharStartPredicate, name, Surname), SimplePredicate: (sameFiveCharStartPredicate, house))\n",
      "INFO:dedupe.training:(PartialIndexTfidfNGramCanopyPredicate: (0.6, name, Surname), SimplePredicate: (twoGramFingerprint, street))\n",
      "name : heera of india\n",
      "category : asian\n",
      "address : 595 piedmont avenue rio shopping center mall\n",
      "city : atlanta\n",
      "phone : 404/876-4408\n",
      "street : piedmont avenue\n",
      "house_number : 595\n",
      "house : rio shopping center mall\n",
      "\n",
      "name : heera of india\n",
      "category : indian\n",
      "address : 595 piedmont avenue\n",
      "city : atlanta\n",
      "phone : 404-876-4408\n",
      "street : piedmont avenue\n",
      "house_number : 595\n",
      "house : None\n",
      "\n",
      "15/10 positive, 1/10 negative\n",
      "Do these records refer to the same thing?\n",
      "(y)es / (n)o / (u)nsure / (f)inished / (p)revious\n"
     ]
    },
    {
     "name": "stdout",
     "output_type": "stream",
     "text": [
      "y\n"
     ]
    },
    {
     "name": "stderr",
     "output_type": "stream",
     "text": [
      "INFO:dedupe.training:Final predicate set:\n",
      "INFO:dedupe.training:(PartialPredicate: (sameSevenCharStartPredicate, name, CorporationName), SimplePredicate: (commonThreeTokens, street))\n",
      "INFO:dedupe.training:(PartialPredicate: (fingerprint, name, Surname), SimplePredicate: (commonIntegerPredicate, street))\n",
      "INFO:dedupe.training:(SimplePredicate: (wholeFieldPredicate, address), SimplePredicate: (wholeFieldPredicate, category))\n",
      "INFO:dedupe.training:(PartialPredicate: (sameFiveCharStartPredicate, name, Surname), SimplePredicate: (sameFiveCharStartPredicate, house))\n",
      "INFO:dedupe.training:(PartialIndexTfidfNGramCanopyPredicate: (0.6, name, Surname), SimplePredicate: (twoGramFingerprint, street))\n",
      "INFO:dedupe.training:(PartialIndexTfidfTextCanopyPredicate: (0.8, name, CorporationName), SimplePredicate: (twoGramFingerprint, city))\n",
      "name : boulevard\n",
      "category : american\n",
      "address : 1 mission st.\n",
      "city : san francisco\n",
      "phone : 415/543-6084\n",
      "street : mission st.\n",
      "house_number : 1\n",
      "house : None\n",
      "\n",
      "name : boulevard\n",
      "category : american (new)\n",
      "address : 1 mission st.\n",
      "city : san francisco\n",
      "phone : 415-543-6084\n",
      "street : mission st.\n",
      "house_number : 1\n",
      "house : None\n",
      "\n",
      "16/10 positive, 1/10 negative\n",
      "Do these records refer to the same thing?\n",
      "(y)es / (n)o / (u)nsure / (f)inished / (p)revious\n"
     ]
    },
    {
     "name": "stdout",
     "output_type": "stream",
     "text": [
      "y\n"
     ]
    },
    {
     "name": "stderr",
     "output_type": "stream",
     "text": [
      "INFO:dedupe.training:Final predicate set:\n",
      "INFO:dedupe.training:(PartialIndexTfidfNGramCanopyPredicate: (0.8, address, StreetName), PartialPredicate: (sameSevenCharStartPredicate, name, CorporationName))\n",
      "INFO:dedupe.training:(PartialPredicate: (fingerprint, name, Surname), SimplePredicate: (commonIntegerPredicate, street))\n",
      "INFO:dedupe.training:(SimplePredicate: (wholeFieldPredicate, address), SimplePredicate: (wholeFieldPredicate, category))\n",
      "INFO:dedupe.training:(PartialPredicate: (sameFiveCharStartPredicate, name, Surname), SimplePredicate: (sameFiveCharStartPredicate, house))\n",
      "INFO:dedupe.training:(PartialIndexTfidfNGramCanopyPredicate: (0.6, name, Surname), SimplePredicate: (twoGramFingerprint, street))\n",
      "name : aqua\n",
      "category : seafood\n",
      "address : 252 california st.\n",
      "city : san francisco\n",
      "phone : 415/956-9662\n",
      "street : california st.\n",
      "house_number : 252\n",
      "house : None\n",
      "\n",
      "name : aqua\n",
      "category : american (new)\n",
      "address : 252 california st.\n",
      "city : san francisco\n",
      "phone : 415-956-9662\n",
      "street : california st.\n",
      "house_number : 252\n",
      "house : None\n",
      "\n",
      "17/10 positive, 1/10 negative\n",
      "Do these records refer to the same thing?\n",
      "(y)es / (n)o / (u)nsure / (f)inished / (p)revious\n"
     ]
    },
    {
     "name": "stdout",
     "output_type": "stream",
     "text": [
      "y\n"
     ]
    },
    {
     "name": "stderr",
     "output_type": "stream",
     "text": [
      "name : montrachet\n",
      "category : french\n",
      "address : 239 w. broadway between walker and white sts.\n",
      "city : new york\n",
      "phone : 212/ 219-2777\n",
      "street : w. broadway between walker and white sts.\n",
      "house_number : 239\n",
      "house : None\n",
      "\n",
      "name : montrachet\n",
      "category : french bistro\n",
      "address : 239 w. broadway\n",
      "city : new york city\n",
      "phone : 212-219-2777\n",
      "street : w. broadway\n",
      "house_number : 239\n",
      "house : None\n",
      "\n",
      "18/10 positive, 1/10 negative\n",
      "Do these records refer to the same thing?\n",
      "(y)es / (n)o / (u)nsure / (f)inished / (p)revious\n"
     ]
    },
    {
     "name": "stdout",
     "output_type": "stream",
     "text": [
      "y\n"
     ]
    },
    {
     "name": "stderr",
     "output_type": "stream",
     "text": [
      "INFO:dedupe.training:Final predicate set:\n",
      "INFO:dedupe.training:(PartialIndexTfidfNGramCanopyPredicate: (0.8, address, StreetName), PartialPredicate: (sameSevenCharStartPredicate, name, CorporationName))\n",
      "INFO:dedupe.training:(PartialIndexLevenshteinCanopyPredicate: (1, name, CorporationName), SimplePredicate: (wholeFieldPredicate, address))\n",
      "INFO:dedupe.training:(PartialIndexTfidfNGramCanopyPredicate: (0.6, name, Surname), SimplePredicate: (twoGramFingerprint, street))\n",
      "name : coyote cafe\n",
      "category : southwestern\n",
      "address : 3799 las vegas blvd. s\n",
      "city : las vegas\n",
      "phone : 702/891-7349\n",
      "street : las vegas blvd. s\n",
      "house_number : 3799\n",
      "house : None\n",
      "\n",
      "name : coyote cafe (las vegas)\n",
      "category : southwestern\n",
      "address : 3799 las vegas blvd. s.\n",
      "city : las vegas\n",
      "phone : 702-891-7349\n",
      "street : las vegas blvd. s.\n",
      "house_number : 3799\n",
      "house : None\n",
      "\n",
      "19/10 positive, 1/10 negative\n",
      "Do these records refer to the same thing?\n",
      "(y)es / (n)o / (u)nsure / (f)inished / (p)revious\n"
     ]
    },
    {
     "name": "stdout",
     "output_type": "stream",
     "text": [
      "y\n"
     ]
    },
    {
     "name": "stderr",
     "output_type": "stream",
     "text": [
      "INFO:dedupe.training:Final predicate set:\n",
      "INFO:dedupe.training:(PartialPredicate: (firstTokenPredicate, name, CorporationName), PartialPredicate: (sameFiveCharStartPredicate, address, StreetName))\n",
      "INFO:dedupe.training:(PartialIndexLevenshteinCanopyPredicate: (1, name, CorporationName), SimplePredicate: (wholeFieldPredicate, address))\n",
      "INFO:dedupe.training:(PartialIndexTfidfNGramCanopyPredicate: (0.6, name, Surname), SimplePredicate: (twoGramFingerprint, street))\n",
      "name : lespinasse\n",
      "category : american\n",
      "address : 2 e. 55th st.\n",
      "city : new york\n",
      "phone : 212/339-6719\n",
      "street : e. 55th st.\n",
      "house_number : 2\n",
      "house : None\n",
      "\n",
      "name : lespinasse (new york city)\n",
      "category : asian\n",
      "address : 2 e. 55th st.\n",
      "city : new york city\n",
      "phone : 212-339-6719\n",
      "street : e. 55th st.\n",
      "house_number : 2\n",
      "house : None\n",
      "\n",
      "20/10 positive, 1/10 negative\n",
      "Do these records refer to the same thing?\n",
      "(y)es / (n)o / (u)nsure / (f)inished / (p)revious\n"
     ]
    },
    {
     "name": "stdout",
     "output_type": "stream",
     "text": [
      "y\n"
     ]
    },
    {
     "name": "stderr",
     "output_type": "stream",
     "text": [
      "INFO:dedupe.training:Final predicate set:\n",
      "INFO:dedupe.training:(SimplePredicate: (firstTokenPredicate, name), TfidfTextCanopyPredicate: (0.8, street))\n",
      "INFO:dedupe.training:(PartialIndexLevenshteinCanopyPredicate: (2, name, CorporationName), PartialIndexTfidfTextCanopyPredicate: (0.2, name, CorporationName))\n",
      "INFO:dedupe.training:(PartialPredicate: (sameFiveCharStartPredicate, name, Surname), SimplePredicate: (sameFiveCharStartPredicate, house))\n",
      "INFO:dedupe.training:(PartialIndexTfidfTextCanopyPredicate: (0.8, name, CorporationName), PartialPredicate: (alphaNumericPredicate, address, StreetName))\n",
      "name : arnie morton\\s of chicago\n",
      "category : american\n",
      "address : 435 s. la cienega blv.\n",
      "city : los angeles\n",
      "phone : 310/246-1501\n",
      "street : s. la cienega blv.\n",
      "house_number : 435\n",
      "house : None\n",
      "\n",
      "name : arnie morton\\s of chicago\n",
      "category : steakhouses\n",
      "address : 435 s. la cienega blvd.\n",
      "city : los angeles\n",
      "phone : 310-246-1501\n",
      "street : s. la cienega blvd.\n",
      "house_number : 435\n",
      "house : None\n",
      "\n",
      "21/10 positive, 1/10 negative\n",
      "Do these records refer to the same thing?\n",
      "(y)es / (n)o / (u)nsure / (f)inished / (p)revious\n"
     ]
    },
    {
     "name": "stdout",
     "output_type": "stream",
     "text": [
      "y\n"
     ]
    },
    {
     "name": "stderr",
     "output_type": "stream",
     "text": [
      "name : brasserie le coze\n",
      "category : french\n",
      "address : 3393 peachtree road lenox square mall near neiman marcus\n",
      "city : atlanta\n",
      "phone : 404/266-1440\n",
      "street : peachtree road lenox square mall near neiman marcus\n",
      "house_number : 3393\n",
      "house : None\n",
      "\n",
      "name : brasserie le coze\n",
      "category : french bistro\n",
      "address : 3393 peachtree road\n",
      "city : atlanta\n",
      "phone : 404-266-1440\n",
      "street : peachtree road\n",
      "house_number : 3393\n",
      "house : None\n",
      "\n",
      "22/10 positive, 1/10 negative\n",
      "Do these records refer to the same thing?\n",
      "(y)es / (n)o / (u)nsure / (f)inished / (p)revious\n"
     ]
    },
    {
     "name": "stdout",
     "output_type": "stream",
     "text": [
      "y\n"
     ]
    },
    {
     "name": "stderr",
     "output_type": "stream",
     "text": [
      "INFO:dedupe.training:Final predicate set:\n",
      "INFO:dedupe.training:(SimplePredicate: (firstTokenPredicate, name), TfidfTextCanopyPredicate: (0.6, street))\n",
      "INFO:dedupe.training:(PartialIndexLevenshteinCanopyPredicate: (2, name, CorporationName), PartialIndexTfidfTextCanopyPredicate: (0.2, name, CorporationName))\n",
      "INFO:dedupe.training:(PartialPredicate: (sameFiveCharStartPredicate, name, Surname), SimplePredicate: (sameFiveCharStartPredicate, house))\n",
      "INFO:dedupe.training:(PartialIndexTfidfTextCanopyPredicate: (0.8, name, CorporationName), PartialPredicate: (alphaNumericPredicate, address, StreetName))\n",
      "name : la cote basque\n",
      "category : french\n",
      "address : 60 w. 55th st. between 5th and 6th ave.\n",
      "city : new york\n",
      "phone : 212/688-6525\n",
      "street : w. 55th st. between 5th and 6th ave.\n",
      "house_number : 60\n",
      "house : None\n",
      "\n",
      "name : la cote basque\n",
      "category : french (classic)\n",
      "address : 60 w. 55th st.\n",
      "city : new york city\n",
      "phone : 212-688-6525\n",
      "street : w. 55th st.\n",
      "house_number : 60\n",
      "house : None\n",
      "\n",
      "23/10 positive, 1/10 negative\n",
      "Do these records refer to the same thing?\n",
      "(y)es / (n)o / (u)nsure / (f)inished / (p)revious\n"
     ]
    },
    {
     "name": "stdout",
     "output_type": "stream",
     "text": [
      "y\n"
     ]
    },
    {
     "name": "stderr",
     "output_type": "stream",
     "text": [
      "INFO:dedupe.training:Final predicate set:\n",
      "INFO:dedupe.training:(SimplePredicate: (firstTokenPredicate, name), SimplePredicate: (sameSevenCharStartPredicate, address))\n",
      "INFO:dedupe.training:(PartialIndexTfidfTextCanopyPredicate: (0.8, name, CorporationName), SimplePredicate: (twoGramFingerprint, city))\n",
      "name : les celebrites\n",
      "category : french\n",
      "address : 160 central park s\n",
      "city : new york\n",
      "phone : 212/484-5113\n",
      "street : central park s\n",
      "house_number : 160\n",
      "house : None\n",
      "\n",
      "name : les celebrites\n",
      "category : french (classic)\n",
      "address : 155 w. 58th st.\n",
      "city : new york city\n",
      "phone : 212-484-5113\n",
      "street : w. 58th st.\n",
      "house_number : 155\n",
      "house : None\n",
      "\n",
      "24/10 positive, 1/10 negative\n",
      "Do these records refer to the same thing?\n",
      "(y)es / (n)o / (u)nsure / (f)inished / (p)revious\n"
     ]
    },
    {
     "name": "stdout",
     "output_type": "stream",
     "text": [
      "n\n"
     ]
    },
    {
     "name": "stderr",
     "output_type": "stream",
     "text": [
      "name : tavern on the green\n",
      "category : american\n",
      "address : in central park at 67th st.\n",
      "city : new york\n",
      "phone : 212/873-3200\n",
      "street : None\n",
      "house_number : None\n",
      "house : in central park at 67th st.\n",
      "\n",
      "name : tavern on the green\n",
      "category : american (new)\n",
      "address : central park west\n",
      "city : new york city\n",
      "phone : 212-873-3200\n",
      "street : None\n",
      "house_number : None\n",
      "house : central park west\n",
      "\n",
      "24/10 positive, 2/10 negative\n",
      "Do these records refer to the same thing?\n",
      "(y)es / (n)o / (u)nsure / (f)inished / (p)revious\n"
     ]
    },
    {
     "name": "stdout",
     "output_type": "stream",
     "text": [
      "y\n"
     ]
    },
    {
     "name": "stderr",
     "output_type": "stream",
     "text": [
      "name : dante\\s down the hatch buckhead\n",
      "category : continental\n",
      "address : 3380 peachtree road\n",
      "city : atlanta\n",
      "phone : 404/266-1600\n",
      "street : peachtree road\n",
      "house_number : 3380\n",
      "house : None\n",
      "\n",
      "name : dante\\s down the hatch\n",
      "category : continental\n",
      "address : underground underground mall underground atlanta\n",
      "city : atlanta\n",
      "phone : 404/577-1800\n",
      "street : None\n",
      "house_number : None\n",
      "house : underground underground mall underground\n",
      "\n",
      "25/10 positive, 2/10 negative\n",
      "Do these records refer to the same thing?\n",
      "(y)es / (n)o / (u)nsure / (f)inished / (p)revious\n"
     ]
    },
    {
     "name": "stdout",
     "output_type": "stream",
     "text": [
      "y\n"
     ]
    },
    {
     "name": "stderr",
     "output_type": "stream",
     "text": [
      "INFO:dedupe.training:Final predicate set:\n",
      "INFO:dedupe.training:(SimplePredicate: (firstTokenPredicate, name), SimplePredicate: (sameSevenCharStartPredicate, address))\n",
      "INFO:dedupe.training:(PartialPredicate: (sameFiveCharStartPredicate, name, CorporationName), TfidfNGramCanopyPredicate: (0.4, house))\n",
      "INFO:dedupe.training:(PartialIndexTfidfTextCanopyPredicate: (0.8, name, CorporationName), SimplePredicate: (twoGramFingerprint, city))\n",
      "name : cafe ritz-carlton buckhead\n",
      "category : ext 6108 international\n",
      "address : 3434 peachtree road\n",
      "city : atlanta\n",
      "phone : 404/237-2700\n",
      "street : peachtree road\n",
      "house_number : 3434\n",
      "house : None\n",
      "\n",
      "name : dining room ritz-carlton buckhead\n",
      "category : international\n",
      "address : 3434 peachtree road\n",
      "city : atlanta\n",
      "phone : 404/237-2700\n",
      "street : peachtree road\n",
      "house_number : 3434\n",
      "house : None\n",
      "\n",
      "26/10 positive, 2/10 negative\n",
      "Do these records refer to the same thing?\n",
      "(y)es / (n)o / (u)nsure / (f)inished / (p)revious\n"
     ]
    },
    {
     "name": "stdout",
     "output_type": "stream",
     "text": [
      "n\n"
     ]
    },
    {
     "name": "stderr",
     "output_type": "stream",
     "text": [
      "INFO:dedupe.training:Final predicate set:\n",
      "INFO:dedupe.training:(SimplePredicate: (commonTwoTokens, city), SimplePredicate: (wholeFieldPredicate, phone))\n",
      "INFO:dedupe.training:(PartialPredicate: (commonThreeTokens, name, CorporationName), SimplePredicate: (oneGramFingerprint, city))\n",
      "INFO:dedupe.training:(PartialIndexLevenshteinCanopyPredicate: (2, name, CorporationName), PartialIndexTfidfTextCanopyPredicate: (0.2, name, CorporationName))\n",
      "INFO:dedupe.training:(PartialIndexTfidfNGramCanopyPredicate: (0.6, name, Surname), SimplePredicate: (twoGramFingerprint, street))\n",
      "name : manhattan ocean club\n",
      "category : seafood\n",
      "address : 57 w. 58th st.\n",
      "city : new york\n",
      "phone : 212/ 371-7777\n",
      "street : w. 58th st.\n",
      "house_number : 57\n",
      "house : None\n",
      "\n",
      "name : manhattan ocean club\n",
      "category : seafood\n",
      "address : 57 w. 58th st.\n",
      "city : new york city\n",
      "phone : 212-371-7777\n",
      "street : w. 58th st.\n",
      "house_number : 57\n",
      "house : None\n",
      "\n",
      "26/10 positive, 3/10 negative\n",
      "Do these records refer to the same thing?\n",
      "(y)es / (n)o / (u)nsure / (f)inished / (p)revious\n"
     ]
    },
    {
     "name": "stdout",
     "output_type": "stream",
     "text": [
      "y\n"
     ]
    },
    {
     "name": "stderr",
     "output_type": "stream",
     "text": [
      "name : aureole\n",
      "category : american\n",
      "address : 34 e. 61st st.\n",
      "city : new york\n",
      "phone : 212/ 319-1660\n",
      "street : e. 61st st.\n",
      "house_number : 34\n",
      "house : None\n",
      "\n",
      "name : aureole\n",
      "category : american (new)\n",
      "address : 34 e. 61st st.\n",
      "city : new york city\n",
      "phone : 212-319-1660\n",
      "street : e. 61st st.\n",
      "house_number : 34\n",
      "house : None\n",
      "\n",
      "27/10 positive, 3/10 negative\n",
      "Do these records refer to the same thing?\n",
      "(y)es / (n)o / (u)nsure / (f)inished / (p)revious\n"
     ]
    },
    {
     "name": "stdout",
     "output_type": "stream",
     "text": [
      "y\n"
     ]
    },
    {
     "name": "stderr",
     "output_type": "stream",
     "text": [
      "INFO:dedupe.training:Final predicate set:\n",
      "INFO:dedupe.training:(SimplePredicate: (fingerprint, address), SimplePredicate: (firstTokenPredicate, name))\n",
      "INFO:dedupe.training:(PartialPredicate: (commonThreeTokens, name, CorporationName), SimplePredicate: (oneGramFingerprint, city))\n",
      "INFO:dedupe.training:(PartialIndexTfidfTextCanopyPredicate: (0.8, name, CorporationName), SimplePredicate: (sameFiveCharStartPredicate, street))\n",
      "INFO:dedupe.training:(PartialPredicate: (sameFiveCharStartPredicate, name, CorporationName), TfidfNGramCanopyPredicate: (0.4, house))\n",
      "INFO:dedupe.training:(PartialIndexTfidfNGramCanopyPredicate: (0.6, name, Surname), SimplePredicate: (twoGramFingerprint, street))\n",
      "name : mi cocina\n",
      "category : mexican\n",
      "address : 57 jane st. off hudson st.\n",
      "city : new york\n",
      "phone : 212/627-8273\n",
      "street : jane st. off hudson st.\n",
      "house_number : 57\n",
      "house : None\n",
      "\n",
      "name : mi cocina\n",
      "category : mexican\n",
      "address : 57 jane st.\n",
      "city : new york city\n",
      "phone : 212-627-8273\n",
      "street : jane st.\n",
      "house_number : 57\n",
      "house : None\n",
      "\n",
      "28/10 positive, 3/10 negative\n",
      "Do these records refer to the same thing?\n",
      "(y)es / (n)o / (u)nsure / (f)inished / (p)revious\n"
     ]
    },
    {
     "name": "stdout",
     "output_type": "stream",
     "text": [
      "y\n"
     ]
    },
    {
     "name": "stderr",
     "output_type": "stream",
     "text": [
      "name : la grotta at ravinia dunwoody rd.\n",
      "category : italian\n",
      "address : holiday inn crowne plaza at ravinia dunwoody\n",
      "city : atlanta\n",
      "phone : 770/395-9925\n",
      "street : None\n",
      "house_number : None\n",
      "house : holiday inn crowne plaza at ravinia dunwoody\n",
      "\n",
      "name : la grotta\n",
      "category : italian\n",
      "address : 2637 peachtree rd. ne\n",
      "city : atlanta\n",
      "phone : 404-231-1368\n",
      "street : peachtree rd. ne\n",
      "house_number : 2637\n",
      "house : None\n",
      "\n",
      "29/10 positive, 3/10 negative\n",
      "Do these records refer to the same thing?\n",
      "(y)es / (n)o / (u)nsure / (f)inished / (p)revious\n"
     ]
    },
    {
     "name": "stdout",
     "output_type": "stream",
     "text": [
      "n\n"
     ]
    },
    {
     "name": "stderr",
     "output_type": "stream",
     "text": [
      "INFO:dedupe.training:Final predicate set:\n",
      "INFO:dedupe.training:(SimplePredicate: (firstTokenPredicate, name), SimplePredicate: (sameSevenCharStartPredicate, address))\n",
      "INFO:dedupe.training:(PartialPredicate: (sameFiveCharStartPredicate, name, CorporationName), TfidfNGramCanopyPredicate: (0.4, house))\n",
      "INFO:dedupe.training:(PartialPredicate: (commonThreeTokens, name, CorporationName), SimplePredicate: (wholeFieldPredicate, category))\n",
      "INFO:dedupe.training:(PartialIndexTfidfTextCanopyPredicate: (0.8, name, CorporationName), SimplePredicate: (twoGramFingerprint, city))\n",
      "name : la grotta\n",
      "category : italian\n",
      "address : 2637 peachtree road peachtree house condominium\n",
      "city : atlanta\n",
      "phone : 404/231-1368\n",
      "street : peachtree road\n",
      "house_number : 2637\n",
      "house : peachtree house condominium\n",
      "\n",
      "name : la grotta at ravinia dunwoody rd.\n",
      "category : italian\n",
      "address : holiday inn crowne plaza at ravinia dunwoody\n",
      "city : atlanta\n",
      "phone : 770/395-9925\n",
      "street : None\n",
      "house_number : None\n",
      "house : holiday inn crowne plaza at ravinia dunwoody\n",
      "\n",
      "29/10 positive, 4/10 negative\n",
      "Do these records refer to the same thing?\n",
      "(y)es / (n)o / (u)nsure / (f)inished / (p)revious\n"
     ]
    },
    {
     "name": "stdout",
     "output_type": "stream",
     "text": [
      "n\n"
     ]
    },
    {
     "name": "stderr",
     "output_type": "stream",
     "text": [
      "name : pisces\n",
      "category : seafood\n",
      "address : 95 ave. a at 6th st.\n",
      "city : new york\n",
      "phone : 212/260-6660\n",
      "street : ave. a at 6th st.\n",
      "house_number : 95\n",
      "house : None\n",
      "\n",
      "name : pisces\n",
      "category : seafood\n",
      "address : 95 avenue a\n",
      "city : new york city\n",
      "phone : 212-260-6660\n",
      "street : avenue a\n",
      "house_number : 95\n",
      "house : None\n",
      "\n",
      "29/10 positive, 5/10 negative\n",
      "Do these records refer to the same thing?\n",
      "(y)es / (n)o / (u)nsure / (f)inished / (p)revious\n"
     ]
    },
    {
     "name": "stdout",
     "output_type": "stream",
     "text": [
      "y\n"
     ]
    },
    {
     "name": "stderr",
     "output_type": "stream",
     "text": [
      "name : philippe\\s the original\n",
      "category : american\n",
      "address : 1001 n. alameda st.\n",
      "city : los angeles\n",
      "phone : 213/628-3781\n",
      "street : n. alameda st.\n",
      "house_number : 1001\n",
      "house : None\n",
      "\n",
      "name : philippe the original\n",
      "category : cafeterias\n",
      "address : 1001 n. alameda st.\n",
      "city : chinatown\n",
      "phone : 213-628-3781\n",
      "street : n. alameda st.\n",
      "house_number : 1001\n",
      "house : None\n",
      "\n",
      "30/10 positive, 5/10 negative\n",
      "Do these records refer to the same thing?\n",
      "(y)es / (n)o / (u)nsure / (f)inished / (p)revious\n"
     ]
    },
    {
     "name": "stdout",
     "output_type": "stream",
     "text": [
      "y\n"
     ]
    },
    {
     "name": "stderr",
     "output_type": "stream",
     "text": [
      "INFO:dedupe.training:Final predicate set:\n",
      "INFO:dedupe.training:(SimplePredicate: (firstTokenPredicate, name), SimplePredicate: (sameFiveCharStartPredicate, address))\n",
      "INFO:dedupe.training:(PartialPredicate: (sameFiveCharStartPredicate, name, CorporationName), TfidfNGramCanopyPredicate: (0.4, house))\n",
      "INFO:dedupe.training:(PartialPredicate: (commonThreeTokens, name, CorporationName), SimplePredicate: (wholeFieldPredicate, category))\n",
      "INFO:dedupe.training:(PartialIndexTfidfTextCanopyPredicate: (0.8, name, CorporationName), SimplePredicate: (twoGramFingerprint, city))\n",
      "name : le montrachet\n",
      "category : continental\n",
      "address : 3000 w. paradise rd.\n",
      "city : las vegas\n",
      "phone : 702/732-5111\n",
      "street : w. paradise rd.\n",
      "house_number : 3000\n",
      "house : None\n",
      "\n",
      "name : le montrachet bistro\n",
      "category : french bistro\n",
      "address : 3000 paradise road\n",
      "city : las vegas\n",
      "phone : 702-732-5651\n",
      "street : paradise road\n",
      "house_number : 3000\n",
      "house : None\n",
      "\n",
      "31/10 positive, 5/10 negative\n",
      "Do these records refer to the same thing?\n",
      "(y)es / (n)o / (u)nsure / (f)inished / (p)revious\n"
     ]
    },
    {
     "name": "stdout",
     "output_type": "stream",
     "text": [
      "y\n"
     ]
    },
    {
     "name": "stderr",
     "output_type": "stream",
     "text": [
      "INFO:dedupe.training:Final predicate set:\n",
      "INFO:dedupe.training:(SimplePredicate: (sameFiveCharStartPredicate, address), SimplePredicate: (sameThreeCharStartPredicate, name))\n",
      "INFO:dedupe.training:(PartialPredicate: (sameFiveCharStartPredicate, name, CorporationName), TfidfNGramCanopyPredicate: (0.4, house))\n",
      "INFO:dedupe.training:(PartialPredicate: (commonThreeTokens, name, CorporationName), SimplePredicate: (wholeFieldPredicate, category))\n",
      "INFO:dedupe.training:(PartialIndexTfidfTextCanopyPredicate: (0.8, name, CorporationName), SimplePredicate: (twoGramFingerprint, city))\n",
      "name : mesa grill\n",
      "category : american\n",
      "address : 102 5th ave. between 15th and 16th sts.\n",
      "city : new york\n",
      "phone : 212/807-7400\n",
      "street : 5th ave. between 15th and 16th sts.\n",
      "house_number : 102\n",
      "house : None\n",
      "\n",
      "name : mesa grill\n",
      "category : southwestern\n",
      "address : 102 fifth ave.\n",
      "city : new york city\n",
      "phone : 212-807-7400\n",
      "street : fifth ave.\n",
      "house_number : 102\n",
      "house : None\n",
      "\n",
      "32/10 positive, 5/10 negative\n",
      "Do these records refer to the same thing?\n",
      "(y)es / (n)o / (u)nsure / (f)inished / (p)revious\n"
     ]
    },
    {
     "name": "stdout",
     "output_type": "stream",
     "text": [
      "y\n"
     ]
    },
    {
     "name": "stderr",
     "output_type": "stream",
     "text": [
      "INFO:dedupe.training:Final predicate set:\n",
      "INFO:dedupe.training:(LevenshteinCanopyPredicate: (2, phone), SimplePredicate: (sameThreeCharStartPredicate, name))\n",
      "INFO:dedupe.training:(PartialPredicate: (commonThreeTokens, name, CorporationName), SimplePredicate: (wholeFieldPredicate, category))\n",
      "name : second street grille\n",
      "category : seafood\n",
      "address : 200 e. fremont st.\n",
      "city : las vegas\n",
      "phone : 702/385-3232\n",
      "street : e. fremont st.\n",
      "house_number : 200\n",
      "house : None\n",
      "\n",
      "name : second street grill\n",
      "category : pacific rim\n",
      "address : 200 e. fremont st.\n",
      "city : las vegas\n",
      "phone : 702-385-6277\n",
      "street : e. fremont st.\n",
      "house_number : 200\n",
      "house : None\n",
      "\n",
      "33/10 positive, 5/10 negative\n",
      "Do these records refer to the same thing?\n",
      "(y)es / (n)o / (u)nsure / (f)inished / (p)revious\n"
     ]
    },
    {
     "name": "stdout",
     "output_type": "stream",
     "text": [
      "y\n"
     ]
    },
    {
     "name": "stderr",
     "output_type": "stream",
     "text": [
      "name : palace court\n",
      "category : continental\n",
      "address : 3570 las vegas blvd. s\n",
      "city : las vegas\n",
      "phone : 702/731-7547\n",
      "street : las vegas blvd. s\n",
      "house_number : 3570\n",
      "house : None\n",
      "\n",
      "name : palace court\n",
      "category : french (new)\n",
      "address : 3570 las vegas blvd. s.\n",
      "city : las vegas\n",
      "phone : 702-731-7110\n",
      "street : las vegas blvd. s.\n",
      "house_number : 3570\n",
      "house : None\n",
      "\n",
      "34/10 positive, 5/10 negative\n",
      "Do these records refer to the same thing?\n",
      "(y)es / (n)o / (u)nsure / (f)inished / (p)revious\n"
     ]
    },
    {
     "name": "stdout",
     "output_type": "stream",
     "text": [
      "y\n"
     ]
    },
    {
     "name": "stderr",
     "output_type": "stream",
     "text": [
      "INFO:dedupe.training:Final predicate set:\n",
      "INFO:dedupe.training:(LevenshteinCanopyPredicate: (3, phone), SimplePredicate: (sameThreeCharStartPredicate, name))\n",
      "INFO:dedupe.training:(PartialPredicate: (commonThreeTokens, name, CorporationName), SimplePredicate: (wholeFieldPredicate, category))\n",
      "name : virgil\\s\n",
      "category : american\n",
      "address : 152 w. 44th st.\n",
      "city : new york\n",
      "phone : 212/ 921-9494\n",
      "street : w. 44th st.\n",
      "house_number : 152\n",
      "house : None\n",
      "\n",
      "name : virgil\\s real bbq\n",
      "category : bbq\n",
      "address : 152 w. 44th st.\n",
      "city : new york city\n",
      "phone : 212-921-9494\n",
      "street : w. 44th st.\n",
      "house_number : 152\n",
      "house : None\n",
      "\n",
      "35/10 positive, 5/10 negative\n",
      "Do these records refer to the same thing?\n",
      "(y)es / (n)o / (u)nsure / (f)inished / (p)revious\n"
     ]
    },
    {
     "name": "stdout",
     "output_type": "stream",
     "text": [
      "y\n"
     ]
    },
    {
     "name": "stderr",
     "output_type": "stream",
     "text": [
      "INFO:dedupe.training:Final predicate set:\n",
      "INFO:dedupe.training:(SimplePredicate: (sameThreeCharStartPredicate, address), SimplePredicate: (sameThreeCharStartPredicate, name))\n",
      "INFO:dedupe.training:(PartialPredicate: (sameFiveCharStartPredicate, name, CorporationName), TfidfNGramCanopyPredicate: (0.4, house))\n",
      "INFO:dedupe.training:(PartialPredicate: (commonThreeTokens, name, CorporationName), SimplePredicate: (wholeFieldPredicate, category))\n",
      "INFO:dedupe.training:(PartialIndexTfidfTextCanopyPredicate: (0.8, name, CorporationName), SimplePredicate: (twoGramFingerprint, city))\n",
      "name : toulouse\n",
      "category : french\n",
      "address : b peachtree road\n",
      "city : atlanta\n",
      "phone : 404/351-9533\n",
      "street : b peachtree road\n",
      "house_number : None\n",
      "house : None\n",
      "\n",
      "name : toulouse\n",
      "category : french (new)\n",
      "address : 293-b peachtree rd.\n",
      "city : atlanta\n",
      "phone : 404-351-9533\n",
      "street : peachtree rd.\n",
      "house_number : 293-b\n",
      "house : None\n",
      "\n",
      "36/10 positive, 5/10 negative\n",
      "Do these records refer to the same thing?\n",
      "(y)es / (n)o / (u)nsure / (f)inished / (p)revious\n"
     ]
    },
    {
     "name": "stdout",
     "output_type": "stream",
     "text": [
      "y\n"
     ]
    },
    {
     "name": "stderr",
     "output_type": "stream",
     "text": [
      "name : the palm\n",
      "category : american\n",
      "address : 9001 santa monica boulevard\n",
      "city : los angeles\n",
      "phone : 310/550-8811\n",
      "street : santa monica boulevard\n",
      "house_number : 9001\n",
      "house : None\n",
      "\n",
      "name : palm the (los angeles)\n",
      "category : steakhouses\n",
      "address : 9001 santa monica boulevard\n",
      "city : w. hollywood\n",
      "phone : 310-550-8811\n",
      "street : santa monica boulevard\n",
      "house_number : 9001\n",
      "house : None\n",
      "\n",
      "37/10 positive, 5/10 negative\n",
      "Do these records refer to the same thing?\n",
      "(y)es / (n)o / (u)nsure / (f)inished / (p)revious\n"
     ]
    },
    {
     "name": "stdout",
     "output_type": "stream",
     "text": [
      "y\n"
     ]
    },
    {
     "name": "stderr",
     "output_type": "stream",
     "text": [
      "INFO:dedupe.training:Final predicate set:\n",
      "INFO:dedupe.training:(SimplePredicate: (sameThreeCharStartPredicate, name), TfidfTextCanopyPredicate: (0.4, phone))\n",
      "INFO:dedupe.training:(PartialPredicate: (commonThreeTokens, name, CorporationName), SimplePredicate: (wholeFieldPredicate, category))\n",
      "name : pacific dining car\n",
      "category : american\n",
      "address : 6th st.\n",
      "city : los angeles\n",
      "phone : 213/483-6000\n",
      "street : 6th st.\n",
      "house_number : None\n",
      "house : None\n",
      "\n",
      "name : pacifica\n",
      "category : asian\n",
      "address : 138 lafayette st. between canal and howard sts.\n",
      "city : new york\n",
      "phone : 212/941-4168\n",
      "street : lafayette st. between canal and howard sts.\n",
      "house_number : 138\n",
      "house : None\n",
      "\n",
      "38/10 positive, 5/10 negative\n",
      "Do these records refer to the same thing?\n",
      "(y)es / (n)o / (u)nsure / (f)inished / (p)revious\n"
     ]
    },
    {
     "name": "stdout",
     "output_type": "stream",
     "text": [
      "n\n"
     ]
    },
    {
     "name": "stderr",
     "output_type": "stream",
     "text": [
      "INFO:dedupe.training:Final predicate set:\n",
      "INFO:dedupe.training:(SimplePredicate: (sameThreeCharStartPredicate, name), TfidfTextCanopyPredicate: (0.4, phone))\n",
      "INFO:dedupe.training:(PartialPredicate: (commonThreeTokens, name, CorporationName), SimplePredicate: (wholeFieldPredicate, category))\n",
      "INFO:dedupe.training:(PartialIndexTfidfNGramCanopyPredicate: (0.4, name, CorporationName), PartialPredicate: (commonTwoTokens, address, StreetName))\n",
      "name : pacifica\n",
      "category : asian\n",
      "address : 138 lafayette st. between canal and howard sts.\n",
      "city : new york\n",
      "phone : 212/941-4168\n",
      "street : lafayette st. between canal and howard sts.\n",
      "house_number : 138\n",
      "house : None\n",
      "\n",
      "name : pacific pan pacific hotel\n",
      "category : french\n",
      "address : 500 post st.\n",
      "city : san francisco\n",
      "phone : 415/929-2087\n",
      "street : post st.\n",
      "house_number : 500\n",
      "house : None\n",
      "\n",
      "38/10 positive, 6/10 negative\n",
      "Do these records refer to the same thing?\n",
      "(y)es / (n)o / (u)nsure / (f)inished / (p)revious\n"
     ]
    },
    {
     "name": "stdout",
     "output_type": "stream",
     "text": [
      "n\n"
     ]
    },
    {
     "name": "stderr",
     "output_type": "stream",
     "text": [
      "name : bistro\n",
      "category : continental\n",
      "address : 3400 las vegas blvd. s\n",
      "city : las vegas\n",
      "phone : 702/791-7111\n",
      "street : las vegas blvd. s\n",
      "house_number : 3400\n",
      "house : None\n",
      "\n",
      "name : mikado\n",
      "category : asian\n",
      "address : 3400 las vegas blvd. s\n",
      "city : las vegas\n",
      "phone : 702/791-7111\n",
      "street : las vegas blvd. s\n",
      "house_number : 3400\n",
      "house : None\n",
      "\n",
      "38/10 positive, 7/10 negative\n",
      "Do these records refer to the same thing?\n",
      "(y)es / (n)o / (u)nsure / (f)inished / (p)revious\n"
     ]
    },
    {
     "name": "stdout",
     "output_type": "stream",
     "text": [
      "u\n"
     ]
    },
    {
     "name": "stderr",
     "output_type": "stream",
     "text": [
      "name : ritz-carlton cafe (buckhead)\n",
      "category : american (new)\n",
      "address : 3434 peachtree rd. ne\n",
      "city : atlanta\n",
      "phone : 404-237-2700\n",
      "street : peachtree rd. ne\n",
      "house_number : 3434\n",
      "house : None\n",
      "\n",
      "name : ritz-carlton cafe (atlanta)\n",
      "category : american (new)\n",
      "address : 181 peachtree st.\n",
      "city : atlanta\n",
      "phone : 404-659-0400\n",
      "street : peachtree st.\n",
      "house_number : 181\n",
      "house : None\n",
      "\n",
      "38/10 positive, 7/10 negative\n",
      "Do these records refer to the same thing?\n",
      "(y)es / (n)o / (u)nsure / (f)inished / (p)revious\n"
     ]
    },
    {
     "name": "stdout",
     "output_type": "stream",
     "text": [
      "n\n"
     ]
    },
    {
     "name": "stderr",
     "output_type": "stream",
     "text": [
      "name : restaurant ritz-carlton atlanta\n",
      "category : continental\n",
      "address : 181 peachtree st.\n",
      "city : atlanta\n",
      "phone : 404/659-0400\n",
      "street : peachtree st.\n",
      "house_number : 181\n",
      "house : None\n",
      "\n",
      "name : ritz-carlton cafe (atlanta)\n",
      "category : american (new)\n",
      "address : 181 peachtree st.\n",
      "city : atlanta\n",
      "phone : 404-659-0400\n",
      "street : peachtree st.\n",
      "house_number : 181\n",
      "house : None\n",
      "\n",
      "38/10 positive, 8/10 negative\n",
      "Do these records refer to the same thing?\n",
      "(y)es / (n)o / (u)nsure / (f)inished / (p)revious\n"
     ]
    },
    {
     "name": "stdout",
     "output_type": "stream",
     "text": [
      "y\n"
     ]
    },
    {
     "name": "stderr",
     "output_type": "stream",
     "text": [
      "name : ritz-carlton restaurant and dining room\n",
      "category : american\n",
      "address : 600 stockton st.\n",
      "city : san francisco\n",
      "phone : 415/296-7465\n",
      "street : stockton st.\n",
      "house_number : 600\n",
      "house : None\n",
      "\n",
      "name : ritz-carlton dining room (san francisco)\n",
      "category : french (new)\n",
      "address : 600 stockton st.\n",
      "city : san francisco\n",
      "phone : 415-296-7465\n",
      "street : stockton st.\n",
      "house_number : 600\n",
      "house : None\n",
      "\n",
      "39/10 positive, 8/10 negative\n",
      "Do these records refer to the same thing?\n",
      "(y)es / (n)o / (u)nsure / (f)inished / (p)revious\n"
     ]
    },
    {
     "name": "stdout",
     "output_type": "stream",
     "text": [
      "y\n"
     ]
    },
    {
     "name": "stderr",
     "output_type": "stream",
     "text": [
      "INFO:dedupe.training:Final predicate set:\n",
      "INFO:dedupe.training:(TfidfTextCanopyPredicate: (0.4, name), TfidfTextCanopyPredicate: (0.4, phone))\n",
      "INFO:dedupe.training:(PartialPredicate: (commonThreeTokens, name, CorporationName), SimplePredicate: (wholeFieldPredicate, category))\n",
      "name : palace court\n",
      "category : continental\n",
      "address : 3570 las vegas blvd. s\n",
      "city : las vegas\n",
      "phone : 702/731-7547\n",
      "street : las vegas blvd. s\n",
      "house_number : 3570\n",
      "house : None\n",
      "\n",
      "name : cafe roma\n",
      "category : coffee shops/diners\n",
      "address : 3570 las vegas blvd. s\n",
      "city : las vegas\n",
      "phone : 702/731-7547\n",
      "street : las vegas blvd. s\n",
      "house_number : 3570\n",
      "house : None\n",
      "\n",
      "40/10 positive, 8/10 negative\n",
      "Do these records refer to the same thing?\n",
      "(y)es / (n)o / (u)nsure / (f)inished / (p)revious\n"
     ]
    },
    {
     "name": "stdout",
     "output_type": "stream",
     "text": [
      "y\n"
     ]
    },
    {
     "name": "stderr",
     "output_type": "stream",
     "text": [
      "name : golden nugget hotel\n",
      "category : buffets\n",
      "address : 129 e. fremont st.\n",
      "city : las vegas\n",
      "phone : 702/385-7111\n",
      "street : e. fremont st.\n",
      "house_number : 129\n",
      "house : None\n",
      "\n",
      "name : lillie langtry\\s\n",
      "category : asian\n",
      "address : 129 e. fremont st.\n",
      "city : las vegas\n",
      "phone : 702/385-7111\n",
      "street : e. fremont st.\n",
      "house_number : 129\n",
      "house : None\n",
      "\n",
      "41/10 positive, 8/10 negative\n",
      "Do these records refer to the same thing?\n",
      "(y)es / (n)o / (u)nsure / (f)inished / (p)revious\n"
     ]
    },
    {
     "name": "stdout",
     "output_type": "stream",
     "text": [
      "u\n"
     ]
    },
    {
     "name": "stderr",
     "output_type": "stream",
     "text": [
      "INFO:dedupe.training:Final predicate set:\n",
      "INFO:dedupe.training:(TfidfTextCanopyPredicate: (0.4, name), TfidfTextCanopyPredicate: (0.4, phone))\n",
      "INFO:dedupe.training:(PartialPredicate: (commonThreeTokens, name, CorporationName), SimplePredicate: (wholeFieldPredicate, category))\n",
      "INFO:dedupe.training:(PartialPredicate: (commonTwoTokens, address, StreetName), SimplePredicate: (commonIntegerPredicate, phone))\n",
      "name : coyote cafe\n",
      "category : southwestern\n",
      "address : 3799 las vegas blvd. s\n",
      "city : las vegas\n",
      "phone : 702/891-7349\n",
      "street : las vegas blvd. s\n",
      "house_number : 3799\n",
      "house : None\n",
      "\n",
      "name : emeril\\s new orleans fish house\n",
      "category : seafood\n",
      "address : 3799 las vegas blvd. s.\n",
      "city : las vegas\n",
      "phone : 702-891-7374\n",
      "street : las vegas blvd. s.\n",
      "house_number : 3799\n",
      "house : None\n",
      "\n",
      "41/10 positive, 8/10 negative\n",
      "Do these records refer to the same thing?\n",
      "(y)es / (n)o / (u)nsure / (f)inished / (p)revious\n"
     ]
    },
    {
     "name": "stdout",
     "output_type": "stream",
     "text": [
      "n\n"
     ]
    },
    {
     "name": "stderr",
     "output_type": "stream",
     "text": [
      "name : golden nugget hotel\n",
      "category : buffets\n",
      "address : 129 e. fremont st.\n",
      "city : las vegas\n",
      "phone : 702/385-7111\n",
      "street : e. fremont st.\n",
      "house_number : 129\n",
      "house : None\n",
      "\n",
      "name : stefano\\s\n",
      "category : italian\n",
      "address : 129 fremont st.\n",
      "city : las vegas\n",
      "phone : 702-385-7111\n",
      "street : fremont st.\n",
      "house_number : 129\n",
      "house : None\n",
      "\n",
      "41/10 positive, 9/10 negative\n",
      "Do these records refer to the same thing?\n",
      "(y)es / (n)o / (u)nsure / (f)inished / (p)revious\n"
     ]
    },
    {
     "name": "stdout",
     "output_type": "stream",
     "text": [
      "u\n"
     ]
    },
    {
     "name": "stderr",
     "output_type": "stream",
     "text": [
      "name : palace court\n",
      "category : continental\n",
      "address : 3570 las vegas blvd. s\n",
      "city : las vegas\n",
      "phone : 702/731-7547\n",
      "street : las vegas blvd. s\n",
      "house_number : 3570\n",
      "house : None\n",
      "\n",
      "name : empress court\n",
      "category : asian\n",
      "address : 3570 las vegas blvd. s\n",
      "city : las vegas\n",
      "phone : 702/731-7888\n",
      "street : las vegas blvd. s\n",
      "house_number : 3570\n",
      "house : None\n",
      "\n",
      "41/10 positive, 9/10 negative\n",
      "Do these records refer to the same thing?\n",
      "(y)es / (n)o / (u)nsure / (f)inished / (p)revious\n"
     ]
    },
    {
     "name": "stdout",
     "output_type": "stream",
     "text": [
      "n\n"
     ]
    },
    {
     "name": "stderr",
     "output_type": "stream",
     "text": [
      "name : empress court\n",
      "category : asian\n",
      "address : 3570 las vegas blvd. s\n",
      "city : las vegas\n",
      "phone : 702/731-7888\n",
      "street : las vegas blvd. s\n",
      "house_number : 3570\n",
      "house : None\n",
      "\n",
      "name : palace court\n",
      "category : french (new)\n",
      "address : 3570 las vegas blvd. s.\n",
      "city : las vegas\n",
      "phone : 702-731-7110\n",
      "street : las vegas blvd. s.\n",
      "house_number : 3570\n",
      "house : None\n",
      "\n",
      "41/10 positive, 10/10 negative\n",
      "Do these records refer to the same thing?\n",
      "(y)es / (n)o / (u)nsure / (f)inished / (p)revious\n"
     ]
    },
    {
     "name": "stdout",
     "output_type": "stream",
     "text": [
      "f\n"
     ]
    },
    {
     "name": "stderr",
     "output_type": "stream",
     "text": [
      "Finished labeling\n"
     ]
    }
   ],
   "source": [
    "dedupe.consoleLabel(deduper)"
   ]
  },
  {
   "cell_type": "code",
   "execution_count": 20,
   "metadata": {},
   "outputs": [
    {
     "name": "stderr",
     "output_type": "stream",
     "text": [
      "INFO:rlr.crossvalidation:using cross validation to find optimum alpha...\n",
      "INFO:rlr.crossvalidation:optimum alpha: 0.100000, score 0.5545027521799167\n",
      "INFO:dedupe.training:Final predicate set:\n",
      "INFO:dedupe.training:(TfidfTextCanopyPredicate: (0.4, name), TfidfTextCanopyPredicate: (0.4, phone))\n"
     ]
    }
   ],
   "source": [
    "deduper.train()"
   ]
  },
  {
   "cell_type": "code",
   "execution_count": 33,
   "metadata": {},
   "outputs": [],
   "source": [
    "# use a saved training file\n",
    "# #with open(training_file, 'w') as tf:\n",
    "#    deduper.writeTraining(tf)"
   ]
  },
  {
   "cell_type": "code",
   "execution_count": 34,
   "metadata": {},
   "outputs": [],
   "source": [
    "# use saved settings file for duplication\n",
    "#with open(settings_file, 'wb') as sf:\n",
    "#    deduper.writeSettings(sf)"
   ]
  },
  {
   "cell_type": "markdown",
   "metadata": {},
   "source": [
    "## run dedupe based on prior settings file"
   ]
  },
  {
   "cell_type": "code",
   "execution_count": 35,
   "metadata": {},
   "outputs": [
    {
     "name": "stderr",
     "output_type": "stream",
     "text": [
      "INFO:dedupe.api:((TfidfTextCanopyPredicate: (0.4, name), TfidfTextCanopyPredicate: (0.4, phone)),)\n"
     ]
    }
   ],
   "source": [
    "deduper = None\n",
    "with open(settings_file, 'rb') as f:\n",
    "    deduper = dedupe.StaticDedupe(f)"
   ]
  },
  {
   "cell_type": "markdown",
   "metadata": {},
   "source": [
    "#### ------ "
   ]
  },
  {
   "cell_type": "code",
   "execution_count": 36,
   "metadata": {},
   "outputs": [
    {
     "name": "stderr",
     "output_type": "stream",
     "text": [
      "INFO:dedupe.api:Maximum expected recall and precision\n",
      "INFO:dedupe.api:recall: 0.986\n",
      "INFO:dedupe.api:precision: 0.967\n",
      "INFO:dedupe.api:With threshold: 0.544\n"
     ]
    }
   ],
   "source": [
    "threshold = deduper.threshold(data_dict, recall_weight=1)\n"
   ]
  },
  {
   "cell_type": "code",
   "execution_count": 37,
   "metadata": {},
   "outputs": [],
   "source": [
    "clustered_dupes = deduper.match(data_dict, 0)"
   ]
  },
  {
   "cell_type": "code",
   "execution_count": 38,
   "metadata": {},
   "outputs": [
    {
     "name": "stdout",
     "output_type": "stream",
     "text": [
      "# duplicate sets 112\n"
     ]
    }
   ],
   "source": [
    "print('# duplicate sets', len(clustered_dupes))"
   ]
  },
  {
   "cell_type": "code",
   "execution_count": 39,
   "metadata": {},
   "outputs": [],
   "source": [
    "cluster_membership = {}\n",
    "cluster_id = 0\n",
    "for (cluster_id, cluster) in enumerate(clustered_dupes):\n",
    "    id_set, scores = cluster\n",
    "    cluster_d = [data_dict[c] for c in id_set]\n",
    "    canonical_rep = dedupe.canonicalize(cluster_d)\n",
    "    for record_id, score in zip(id_set, scores):\n",
    "        cluster_membership[record_id] = {\n",
    "            \"cluster id\" : cluster_id,\n",
    "            \"canonical representation\" : canonical_rep,\n",
    "            \"confidence\": score\n",
    "        }"
   ]
  },
  {
   "cell_type": "code",
   "execution_count": 52,
   "metadata": {},
   "outputs": [],
   "source": [
    "singleton_id = cluster_id + 1\n",
    "with open(output_file, 'w') as f_output, open(fp) as f_input:\n",
    "    writer = csv.writer(f_output)\n",
    "    reader = csv.reader(f_input)\n",
    "\n",
    "    heading_row = next(reader)\n",
    "    heading_row.insert(0, 'confidence_score')\n",
    "    heading_row.insert(0, 'Cluster ID')\n",
    "    canonical_keys = canonical_rep.keys()\n",
    "    for key in canonical_keys:\n",
    "        heading_row.append('canonical_' + key)\n",
    "\n",
    "    writer.writerow(heading_row)\n",
    "\n",
    "    for row in reader:\n",
    "        row_id = int(row[0])\n",
    "        if row_id in cluster_membership:\n",
    "            cluster_id = cluster_membership[row_id][\"cluster id\"]\n",
    "            canonical_rep = cluster_membership[row_id][\"canonical representation\"]\n",
    "            row.insert(0, cluster_membership[row_id]['confidence'])\n",
    "            row.insert(0, cluster_id)\n",
    "            for key in canonical_keys:\n",
    "                row.append(canonical_rep[key].encode('utf8'))\n",
    "        else:\n",
    "            row.insert(0, None)\n",
    "            row.insert(0, singleton_id)\n",
    "            singleton_id += 1\n",
    "            for key in canonical_keys:\n",
    "                row.append(None)\n",
    "        writer.writerow(row)"
   ]
  },
  {
   "cell_type": "markdown",
   "metadata": {},
   "source": [
    "# Predictions"
   ]
  },
  {
   "cell_type": "code",
   "execution_count": 54,
   "metadata": {},
   "outputs": [],
   "source": [
    "df = pd.read_csv(output_file)"
   ]
  },
  {
   "cell_type": "code",
   "execution_count": 55,
   "metadata": {},
   "outputs": [
    {
     "data": {
      "text/plain": [
       "Index(['Cluster ID', 'confidence_score', 'Id', 'source', 'name', 'category',\n",
       "       'phone', 'city', 'address', 'street', 'house_number', 'house',\n",
       "       'canonical_Id', 'canonical_source', 'canonical_name',\n",
       "       'canonical_category', 'canonical_phone', 'canonical_city',\n",
       "       'canonical_address', 'canonical_street', 'canonical_house_number',\n",
       "       'canonical_house'],\n",
       "      dtype='object')"
      ]
     },
     "execution_count": 55,
     "metadata": {},
     "output_type": "execute_result"
    }
   ],
   "source": [
    "df.columns"
   ]
  },
  {
   "cell_type": "code",
   "execution_count": 3,
   "metadata": {},
   "outputs": [],
   "source": [
    "import pandas as pd"
   ]
  },
  {
   "cell_type": "code",
   "execution_count": null,
   "metadata": {
    "scrolled": true
   },
   "outputs": [],
   "source": [
    "df = pd.read_csv(output_file)\n",
    "df.sort_values(['Cluster ID'], inplace=True)\n",
    "relevant_data = df[['Cluster ID', 'confidence_score', 'source', 'Id']]\n",
    "\n",
    "\n",
    "predictions = []\n",
    "\n",
    "cluster_ids = relevant_data['Cluster ID'].value_counts()\n",
    "for cluster_id in cluster_ids[cluster_ids>1].index:\n",
    "    \n",
    "    fodors_ids = relevant_data[\n",
    "        (relevant_data['Cluster ID'] == cluster_id) & \n",
    "        (relevant_data['source'] == 'fodors')\n",
    "    ].Id.values\n",
    "    zagats_ids = relevant_data[\n",
    "        (relevant_data['Cluster ID'] == cluster_id) & \n",
    "        (relevant_data['source'] == 'zagats')\n",
    "    ].Id.values\n",
    "    \n",
    "    match_interim = list(product(fodors_ids, zagats_ids))\n",
    "    predictions.append(match_interim)\n",
    "    \n",
    "m = []\n",
    "for cluster in predictions: \n",
    "    for combo in cluster: \n",
    "        m.append([combo[0], combo[1]])\n",
    "        \n",
    "predictions = pd.DataFrame(m, columns=['fodors_id', 'zagats_id'])\n",
    "\n",
    "predictions['f-z'] = predictions.apply(lambda row: f\"{row['fodors_id']}-{row['zagats_id']}\", axis=1)\n",
    "\n",
    "\n",
    "predictions.head(10)"
   ]
  },
  {
   "cell_type": "code",
   "execution_count": 57,
   "metadata": {
    "scrolled": true
   },
   "outputs": [],
   "source": [
    "results = pd.read_csv('matches_fodors_zagats.csv')\n",
    "results['f-z'] = results.apply(lambda row: f\"{row['fodors_id']}-{row['zagats_id']}\", axis=1)\n"
   ]
  },
  {
   "cell_type": "code",
   "execution_count": 58,
   "metadata": {},
   "outputs": [],
   "source": [
    "res_set = set(results['f-z'].values.tolist())\n",
    "pred_set = set(predictions['f-z'].values.tolist())"
   ]
  },
  {
   "cell_type": "code",
   "execution_count": 59,
   "metadata": {},
   "outputs": [
    {
     "name": "stdout",
     "output_type": "stream",
     "text": [
      "tp: 111 fp: 4 fn: 1\n"
     ]
    }
   ],
   "source": [
    "tp = len(res_set & pred_set)\n",
    "fn = len(res_set-pred_set)\n",
    "fp = len(pred_set-res_set)\n",
    "\n",
    "print(f'tp: {tp} fp: {fp} fn: {fn}')\n"
   ]
  }
 ],
 "metadata": {
  "kernelspec": {
   "display_name": "base",
   "language": "python",
   "name": "base"
  },
  "language_info": {
   "codemirror_mode": {
    "name": "ipython",
    "version": 3
   },
   "file_extension": ".py",
   "mimetype": "text/x-python",
   "name": "python",
   "nbconvert_exporter": "python",
   "pygments_lexer": "ipython3",
   "version": "3.7.0"
  }
 },
 "nbformat": 4,
 "nbformat_minor": 2
}
